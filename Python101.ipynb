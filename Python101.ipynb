{
  "nbformat": 4,
  "nbformat_minor": 0,
  "metadata": {
    "colab": {
      "name": "Python101.ipynb",
      "provenance": [],
      "collapsed_sections": [],
      "toc_visible": true,
      "authorship_tag": "ABX9TyNnZpMx75z4+xnsBs1UMCtu",
      "include_colab_link": true
    },
    "kernelspec": {
      "name": "python3",
      "display_name": "Python 3"
    }
  },
  "cells": [
    {
      "cell_type": "markdown",
      "metadata": {
        "id": "view-in-github",
        "colab_type": "text"
      },
      "source": [
        "<a href=\"https://colab.research.google.com/github/nualpair/multivariate/blob/main/Python101.ipynb\" target=\"_parent\"><img src=\"https://colab.research.google.com/assets/colab-badge.svg\" alt=\"Open In Colab\"/></a>"
      ]
    },
    {
      "cell_type": "markdown",
      "metadata": {
        "id": "FjJHruB6LiV5"
      },
      "source": [
        "ตัวแปร variable"
      ]
    },
    {
      "cell_type": "markdown",
      "metadata": {
        "id": "mG0mAdiRMsJN"
      },
      "source": [
        "หลักการตั้งชื่อตัวแปร\r\n",
        "\r\n",
        "1. ตั้งให้สื่อ\r\n",
        "2. ภาษาอังกฤษ\r\n",
        "3. ใช้ตัวเลขได้แต่ห้ามขึ้นต้นด้วยตัวเลข\r\n",
        "4. ห้ามเว้นวรรค\r\n",
        "5. ตัวเล็กกับตัวใหญ่ไม่เหมือนกัน"
      ]
    },
    {
      "cell_type": "markdown",
      "metadata": {
        "id": "UbC7B6yuNL8G"
      },
      "source": [
        "มี output 2 mode : ออกหน้าจอกับเข้าไปเก็บในตัวแปร"
      ]
    },
    {
      "cell_type": "code",
      "metadata": {
        "colab": {
          "base_uri": "https://localhost:8080/"
        },
        "id": "Cs7AAXABNeI2",
        "outputId": "6195bef0-1dbc-4210-9983-314b428887c2"
      },
      "source": [
        "3.14159"
      ],
      "execution_count": null,
      "outputs": [
        {
          "output_type": "execute_result",
          "data": {
            "text/plain": [
              "3.14159"
            ]
          },
          "metadata": {
            "tags": []
          },
          "execution_count": 13
        }
      ]
    },
    {
      "cell_type": "markdown",
      "metadata": {
        "id": "W2lvdXNWNyEO"
      },
      "source": [
        "Pi = 3.14159"
      ]
    },
    {
      "cell_type": "code",
      "metadata": {
        "colab": {
          "base_uri": "https://localhost:8080/"
        },
        "id": "zgPLXXU0N2mo",
        "outputId": "40fde26c-c8da-4757-b7db-f8f7a5cf8061"
      },
      "source": [
        "Pi"
      ],
      "execution_count": null,
      "outputs": [
        {
          "output_type": "execute_result",
          "data": {
            "text/plain": [
              "3.14159"
            ]
          },
          "metadata": {
            "tags": []
          },
          "execution_count": 14
        }
      ]
    },
    {
      "cell_type": "code",
      "metadata": {
        "colab": {
          "base_uri": "https://localhost:8080/"
        },
        "id": "mDVR5KxAN_Tf",
        "outputId": "f6670fc8-6caf-4838-f84d-106034f755a2"
      },
      "source": [
        "a = 1234567\r\n",
        "print (a) #ใช้คำสั่งprintแสดงผลของตัวแปร"
      ],
      "execution_count": null,
      "outputs": [
        {
          "output_type": "stream",
          "text": [
            "1234567\n"
          ],
          "name": "stdout"
        }
      ]
    },
    {
      "cell_type": "markdown",
      "metadata": {
        "id": "Ju4inULYOSp5"
      },
      "source": [
        "ตัวอย่าง print"
      ]
    },
    {
      "cell_type": "code",
      "metadata": {
        "colab": {
          "base_uri": "https://localhost:8080/"
        },
        "id": "MrWNeE16OWtC",
        "outputId": "df941250-7f28-4d76-905c-05bdf6ef1701"
      },
      "source": [
        "b = 1\r\n",
        "print (b)"
      ],
      "execution_count": null,
      "outputs": [
        {
          "output_type": "stream",
          "text": [
            "1\n"
          ],
          "name": "stdout"
        }
      ]
    },
    {
      "cell_type": "markdown",
      "metadata": {
        "id": "4xACORYHOjez"
      },
      "source": [
        "#ชนิดของตัวแปร\r\n"
      ]
    },
    {
      "cell_type": "markdown",
      "metadata": {
        "id": "GPD9V8WbOsfd"
      },
      "source": [
        "-จำนวนเต็ม (integer,int)"
      ]
    },
    {
      "cell_type": "code",
      "metadata": {
        "colab": {
          "base_uri": "https://localhost:8080/"
        },
        "id": "JSkITceYOx8u",
        "outputId": "25a14cc8-418f-4453-cad4-b90f17a331de"
      },
      "source": [
        "aaa=1092\r\n",
        "print(aaa)"
      ],
      "execution_count": null,
      "outputs": [
        {
          "output_type": "stream",
          "text": [
            "1092\n"
          ],
          "name": "stdout"
        }
      ]
    },
    {
      "cell_type": "markdown",
      "metadata": {
        "id": "eCRIV0HGO5pF"
      },
      "source": [
        "-จำนวนจริง (float)"
      ]
    },
    {
      "cell_type": "code",
      "metadata": {
        "colab": {
          "base_uri": "https://localhost:8080/"
        },
        "id": "b-dOuP7PO-K5",
        "outputId": "642e3094-2821-477a-f599-0c6941980e23"
      },
      "source": [
        "bbb=11.0 #มีทศนิยมได้\r\n",
        "print (bbb)"
      ],
      "execution_count": null,
      "outputs": [
        {
          "output_type": "stream",
          "text": [
            "11.0\n"
          ],
          "name": "stdout"
        }
      ]
    },
    {
      "cell_type": "markdown",
      "metadata": {
        "id": "lHdHvqR3PesX"
      },
      "source": [
        "-ตัวอักษร-ข้อความ (character และ text,sring)"
      ]
    },
    {
      "cell_type": "code",
      "metadata": {
        "colab": {
          "base_uri": "https://localhost:8080/"
        },
        "id": "dZAy6XYEPobP",
        "outputId": "63d6edd9-391a-4ccd-a4ed-517b00d138d9"
      },
      "source": [
        "ccc='1234' #เราใช้single quote ' หรือ doble quote \" ล้อมรอบตัวอักษรเพื่อระบุว่าเป็น character-string\r\n",
        "print(ccc)"
      ],
      "execution_count": null,
      "outputs": [
        {
          "output_type": "stream",
          "text": [
            "1234\n"
          ],
          "name": "stdout"
        }
      ]
    },
    {
      "cell_type": "code",
      "metadata": {
        "colab": {
          "base_uri": "https://localhost:8080/"
        },
        "id": "CAvMtNuyQEMP",
        "outputId": "6393c6d2-6577-49e2-e0ea-b98a12b819a3"
      },
      "source": [
        "aaa+bbb #float+int=float \r\n",
        "#ทศนิยมบวกจำนวนเต็มได้ทศนิยม"
      ],
      "execution_count": null,
      "outputs": [
        {
          "output_type": "execute_result",
          "data": {
            "text/plain": [
              "1103.0"
            ]
          },
          "metadata": {
            "tags": []
          },
          "execution_count": 64
        }
      ]
    },
    {
      "cell_type": "code",
      "metadata": {
        "colab": {
          "base_uri": "https://localhost:8080/"
        },
        "id": "V8Fdd-dgRCXu",
        "outputId": "1d39211b-bf7a-4b15-c84e-68fce105557b"
      },
      "source": [
        "ddd='นวลแพร'\r\n",
        "print(ddd)"
      ],
      "execution_count": null,
      "outputs": [
        {
          "output_type": "stream",
          "text": [
            "นวลแพร\n"
          ],
          "name": "stdout"
        }
      ]
    },
    {
      "cell_type": "markdown",
      "metadata": {
        "id": "H2tNj_v3SbQs"
      },
      "source": [
        "#การเปลี่ยนแปลชนิดของตัวแปร variable casting"
      ]
    },
    {
      "cell_type": "code",
      "metadata": {
        "colab": {
          "base_uri": "https://localhost:8080/"
        },
        "id": "pjKeer6JSjBb",
        "outputId": "fe7636d6-8a05-477e-f42b-41437be52d51"
      },
      "source": [
        "bbb+int(ccc)\r\n",
        " #ทศนิยมบวกจำนวนเต็มได้ทศนิยม"
      ],
      "execution_count": null,
      "outputs": [
        {
          "output_type": "execute_result",
          "data": {
            "text/plain": [
              "1245.0"
            ]
          },
          "metadata": {
            "tags": []
          },
          "execution_count": 69
        }
      ]
    },
    {
      "cell_type": "code",
      "metadata": {
        "colab": {
          "base_uri": "https://localhost:8080/"
        },
        "id": "4X-g1jF-SmJN",
        "outputId": "d2341edc-5a87-49d6-845b-17752ed5b205"
      },
      "source": [
        "aaa+float(ccc) \r\n",
        "#ใช้คำสั่งแปลงcccให้เป็นfloat ผลที่ออกมาจึงเป็น float"
      ],
      "execution_count": null,
      "outputs": [
        {
          "output_type": "execute_result",
          "data": {
            "text/plain": [
              "2326.0"
            ]
          },
          "metadata": {
            "tags": []
          },
          "execution_count": 70
        }
      ]
    },
    {
      "cell_type": "code",
      "metadata": {
        "colab": {
          "base_uri": "https://localhost:8080/",
          "height": 38
        },
        "id": "M0ogiDAvSp_p",
        "outputId": "c32a6be2-ae65-46a1-f4b6-d5e89ffc6758"
      },
      "source": [
        "str(ddd) #ตัวอักษรข้อความ"
      ],
      "execution_count": null,
      "outputs": [
        {
          "output_type": "execute_result",
          "data": {
            "application/vnd.google.colaboratory.intrinsic+json": {
              "type": "string"
            },
            "text/plain": [
              "'นวลแพร'"
            ]
          },
          "metadata": {
            "tags": []
          },
          "execution_count": 65
        }
      ]
    },
    {
      "cell_type": "markdown",
      "metadata": {
        "id": "q5ufvdSqSv-q"
      },
      "source": [
        "#การดำเนินการ operation(operators+,-,*,/,%)"
      ]
    },
    {
      "cell_type": "code",
      "metadata": {
        "colab": {
          "base_uri": "https://localhost:8080/"
        },
        "id": "m4_WkksfS-yA",
        "outputId": "b43ec2a8-9f69-4bb6-f815-2347c503cd72"
      },
      "source": [
        "a+b"
      ],
      "execution_count": null,
      "outputs": [
        {
          "output_type": "execute_result",
          "data": {
            "text/plain": [
              "1234568"
            ]
          },
          "metadata": {
            "tags": []
          },
          "execution_count": 28
        }
      ]
    },
    {
      "cell_type": "code",
      "metadata": {
        "colab": {
          "base_uri": "https://localhost:8080/"
        },
        "id": "wQuYCL8KTAqZ",
        "outputId": "e9830ade-d130-4737-8b65-61f8ff502733"
      },
      "source": [
        "aaa+bbb"
      ],
      "execution_count": null,
      "outputs": [
        {
          "output_type": "execute_result",
          "data": {
            "text/plain": [
              "1103.0"
            ]
          },
          "metadata": {
            "tags": []
          },
          "execution_count": 29
        }
      ]
    },
    {
      "cell_type": "code",
      "metadata": {
        "colab": {
          "base_uri": "https://localhost:8080/"
        },
        "id": "BXgZE06WTF5n",
        "outputId": "706f5ab6-b8c8-4c3c-926b-e0e49ba5354f"
      },
      "source": [
        "aaa-bbb"
      ],
      "execution_count": null,
      "outputs": [
        {
          "output_type": "execute_result",
          "data": {
            "text/plain": [
              "1081.0"
            ]
          },
          "metadata": {
            "tags": []
          },
          "execution_count": 30
        }
      ]
    },
    {
      "cell_type": "code",
      "metadata": {
        "colab": {
          "base_uri": "https://localhost:8080/"
        },
        "id": "4LvfdDgiTKvN",
        "outputId": "52d04107-eb52-4715-c9f0-68e04cdee478"
      },
      "source": [
        "ab=aaa*bbb\r\n",
        "print(ab)"
      ],
      "execution_count": null,
      "outputs": [
        {
          "output_type": "stream",
          "text": [
            "12012.0\n"
          ],
          "name": "stdout"
        }
      ]
    },
    {
      "cell_type": "code",
      "metadata": {
        "colab": {
          "base_uri": "https://localhost:8080/"
        },
        "id": "adwK8l0bTZYf",
        "outputId": "37bc9aab-cc45-4b8a-c6c6-6eff6f86fba8"
      },
      "source": [
        "ab+int(ccc)"
      ],
      "execution_count": null,
      "outputs": [
        {
          "output_type": "execute_result",
          "data": {
            "text/plain": [
              "13246.0"
            ]
          },
          "metadata": {
            "tags": []
          },
          "execution_count": 32
        }
      ]
    },
    {
      "cell_type": "markdown",
      "metadata": {
        "id": "TlPMUthVTqEz"
      },
      "source": [
        "#%คือเครื่องหมายmodulo"
      ]
    },
    {
      "cell_type": "code",
      "metadata": {
        "colab": {
          "base_uri": "https://localhost:8080/"
        },
        "id": "UNANzcbNTtnt",
        "outputId": "48be4241-0ebd-450f-ca58-79f6c5ad3f73"
      },
      "source": [
        "5%3 #เอาตัวเศษ"
      ],
      "execution_count": null,
      "outputs": [
        {
          "output_type": "execute_result",
          "data": {
            "text/plain": [
              "2"
            ]
          },
          "metadata": {
            "tags": []
          },
          "execution_count": 60
        }
      ]
    },
    {
      "cell_type": "code",
      "metadata": {
        "colab": {
          "base_uri": "https://localhost:8080/"
        },
        "id": "0upYzg_kTvky",
        "outputId": "5afe2c11-c90f-4f07-d312-12af21cc7e54"
      },
      "source": [
        "7%3 #เอาตัวเศษ7หาร3เศษ1"
      ],
      "execution_count": null,
      "outputs": [
        {
          "output_type": "execute_result",
          "data": {
            "text/plain": [
              "1"
            ]
          },
          "metadata": {
            "tags": []
          },
          "execution_count": 61
        }
      ]
    },
    {
      "cell_type": "markdown",
      "metadata": {
        "id": "2jFcioJHT7pH"
      },
      "source": [
        "#คำสั่งprint แบบพิเศษ (การ format string)"
      ]
    },
    {
      "cell_type": "code",
      "metadata": {
        "colab": {
          "base_uri": "https://localhost:8080/"
        },
        "id": "Qv-t7GMkUDpy",
        "outputId": "84f10414-2b73-4f90-9e77-715c938262fe"
      },
      "source": [
        "print ('ตัวแปร') #สิ่งที่อยู่ข้างหลังวงเล็บคือตัวแปรและ string"
      ],
      "execution_count": null,
      "outputs": [
        {
          "output_type": "stream",
          "text": [
            "ตัวแปร\n"
          ],
          "name": "stdout"
        }
      ]
    },
    {
      "cell_type": "code",
      "metadata": {
        "colab": {
          "base_uri": "https://localhost:8080/"
        },
        "id": "DAZLGsHrWUvM",
        "outputId": "f8a84803-d5d8-4c43-e6c0-1913f933d6ea"
      },
      "source": [
        "print (f'% คือการหารเอาเศษ เช่น 7%3 = {7%3} \\\r\n",
        "แต่ \\n/ คือการหารปกติ เช่น 7/3 = {7/3} \\\r\n",
        "และ \\n// คือการหารเอาส่วน เช่น 7/3 = {7/3} \\\r\n",
        "หรือ \\n ใช้ int() เพื่อหารเอาส่วน เช่น int(7/3) = {int(7/3)}') \r\n",
        "#\\n คือการขึ้นบรรทัดใหม่ \\\\ใช้ในการตัดcodeแต่comจะไม่เห็น"
      ],
      "execution_count": null,
      "outputs": [
        {
          "output_type": "stream",
          "text": [
            "% คือการหารเอาเศษ เช่น 7%3 = 1 แต่ \n",
            "/ คือการหารปกติ เช่น 7/3 = 2.3333333333333335 และ \n",
            "// คือการหารเอาส่วน เช่น 7/3 = 2.3333333333333335 หรือ \n",
            " ใช้ int() เพื่อหารเอาส่วน เช่น int(7/3) = 2\n"
          ],
          "name": "stdout"
        }
      ]
    },
    {
      "cell_type": "markdown",
      "metadata": {
        "id": "zVHXHN0SYMJd"
      },
      "source": [
        "##DATA STRUCTURE (โครงสร้างข้อมูล)"
      ]
    },
    {
      "cell_type": "markdown",
      "metadata": {
        "id": "prPsDQXwYVsg"
      },
      "source": [
        "#List คือการเอาตัวแปรหลายๆตัวมาเรียงกัน\r\n",
        "list สามารถสร้างได้ 2 แบบ"
      ]
    },
    {
      "cell_type": "code",
      "metadata": {
        "colab": {
          "base_uri": "https://localhost:8080/"
        },
        "id": "EsncnOrGYxAJ",
        "outputId": "304cb565-d422-41d3-821b-0c6485f97138"
      },
      "source": [
        "[111,'c','งง',aaa]"
      ],
      "execution_count": null,
      "outputs": [
        {
          "output_type": "execute_result",
          "data": {
            "text/plain": [
              "[111, 'c', 'งง', 1092]"
            ]
          },
          "metadata": {
            "tags": []
          },
          "execution_count": 44
        }
      ]
    },
    {
      "cell_type": "markdown",
      "metadata": {
        "id": "QaHEfJGRYfdO"
      },
      "source": [
        "#แบบที่ 1 > square brackets"
      ]
    },
    {
      "cell_type": "code",
      "metadata": {
        "colab": {
          "base_uri": "https://localhost:8080/"
        },
        "id": "squ4Zbj2YsfK",
        "outputId": "6cbe831b-0ee2-4e70-e096-741872f41dea"
      },
      "source": [
        "list_a =[]\r\n",
        "print (list_a)"
      ],
      "execution_count": null,
      "outputs": [
        {
          "output_type": "stream",
          "text": [
            "[]\n"
          ],
          "name": "stdout"
        }
      ]
    },
    {
      "cell_type": "code",
      "metadata": {
        "colab": {
          "base_uri": "https://localhost:8080/"
        },
        "id": "A7UPizwOZEX_",
        "outputId": "1c14bbbb-47c9-4d24-ed00-5636463727e7"
      },
      "source": [
        "list_b = [1,5,'v']\r\n",
        "print (list_b)"
      ],
      "execution_count": null,
      "outputs": [
        {
          "output_type": "stream",
          "text": [
            "[1, 5, 'v']\n"
          ],
          "name": "stdout"
        }
      ]
    },
    {
      "cell_type": "markdown",
      "metadata": {
        "id": "snHYR4veZa3P"
      },
      "source": [
        "#ลำดับที่อยู่ใน list มีความสำคัญ (ลำดับใน list เริ่มจาก 0,1,2,...)"
      ]
    },
    {
      "cell_type": "code",
      "metadata": {
        "colab": {
          "base_uri": "https://localhost:8080/"
        },
        "id": "GLDxwiqiZtf1",
        "outputId": "d1148591-979f-4223-e674-80ced642a454"
      },
      "source": [
        "list_b[1] #ตัวแรกคือลำดับ0\r\n"
      ],
      "execution_count": null,
      "outputs": [
        {
          "output_type": "execute_result",
          "data": {
            "text/plain": [
              "5"
            ]
          },
          "metadata": {
            "tags": []
          },
          "execution_count": 66
        }
      ]
    },
    {
      "cell_type": "code",
      "metadata": {
        "colab": {
          "base_uri": "https://localhost:8080/",
          "height": 38
        },
        "id": "Oh0CVK4fZxwi",
        "outputId": "3b5a2381-05d0-43a7-db0b-852f1b654a4a"
      },
      "source": [
        "list_b[2]"
      ],
      "execution_count": null,
      "outputs": [
        {
          "output_type": "execute_result",
          "data": {
            "application/vnd.google.colaboratory.intrinsic+json": {
              "type": "string"
            },
            "text/plain": [
              "'v'"
            ]
          },
          "metadata": {
            "tags": []
          },
          "execution_count": 49
        }
      ]
    },
    {
      "cell_type": "markdown",
      "metadata": {
        "id": "QrmmNQ_0bQ7k"
      },
      "source": [
        "#แบบที่2"
      ]
    },
    {
      "cell_type": "code",
      "metadata": {
        "colab": {
          "base_uri": "https://localhost:8080/"
        },
        "id": "Rb-4lrO_bSbX",
        "outputId": "024bcad6-0372-4b23-e139-0d61f2b9e6c1"
      },
      "source": [
        "list_c = list()\r\n",
        "print(list_c)"
      ],
      "execution_count": null,
      "outputs": [
        {
          "output_type": "stream",
          "text": [
            "[]\n"
          ],
          "name": "stdout"
        }
      ]
    },
    {
      "cell_type": "markdown",
      "metadata": {
        "id": "wXPi8l5Tbldz"
      },
      "source": [
        "#append() เพิ่มสมาชิกใน list"
      ]
    },
    {
      "cell_type": "code",
      "metadata": {
        "colab": {
          "base_uri": "https://localhost:8080/"
        },
        "id": "_0soSsihbqll",
        "outputId": "c17bfc6b-c482-4085-e925-c018f37bc2b7"
      },
      "source": [
        "list_b.append('u')\r\n",
        "print(list_b)"
      ],
      "execution_count": null,
      "outputs": [
        {
          "output_type": "stream",
          "text": [
            "[1, 5, 'v', 'u']\n"
          ],
          "name": "stdout"
        }
      ]
    },
    {
      "cell_type": "markdown",
      "metadata": {
        "id": "Xya1e-mldG3w"
      },
      "source": [
        "ตัวที่อยู่ในวงเล็บหลังจากตัวแปร list เรียกว่า index ใช้สำหรับชี้ข้อมูลใน list\r\n",
        "(ชี้จากข้างหน้า,ชี้จากข้างหลัง)\r\n",
        "0 คือสมาชิกตัวแรก,-1 คือสมาชิกตัวสุดท้าย"
      ]
    },
    {
      "cell_type": "code",
      "metadata": {
        "colab": {
          "base_uri": "https://localhost:8080/",
          "height": 38
        },
        "id": "Wq__Z3fAdZQP",
        "outputId": "70c0e472-dff4-4356-b6e7-02eb7fafebee"
      },
      "source": [
        "list_b[-1]"
      ],
      "execution_count": null,
      "outputs": [
        {
          "output_type": "execute_result",
          "data": {
            "application/vnd.google.colaboratory.intrinsic+json": {
              "type": "string"
            },
            "text/plain": [
              "'u'"
            ]
          },
          "metadata": {
            "tags": []
          },
          "execution_count": 52
        }
      ]
    },
    {
      "cell_type": "markdown",
      "metadata": {
        "id": "9-eav9JIdeV3"
      },
      "source": [
        "##String>list of characters"
      ]
    },
    {
      "cell_type": "code",
      "metadata": {
        "colab": {
          "base_uri": "https://localhost:8080/"
        },
        "id": "YP33NpbBdkJ_",
        "outputId": "fa75c652-fef8-414d-e6eb-c5a3cf3abd41"
      },
      "source": [
        "t = 'python is easy'\r\n",
        "print (t)"
      ],
      "execution_count": null,
      "outputs": [
        {
          "output_type": "stream",
          "text": [
            "python is easy\n"
          ],
          "name": "stdout"
        }
      ]
    },
    {
      "cell_type": "code",
      "metadata": {
        "colab": {
          "base_uri": "https://localhost:8080/",
          "height": 38
        },
        "id": "ojlh5RfWd0Dj",
        "outputId": "9e8c52f2-6735-4901-bfa6-296f4436687f"
      },
      "source": [
        "t[1] #ตัวที่สองเพราะ0เท่ากับตัวแรก"
      ],
      "execution_count": null,
      "outputs": [
        {
          "output_type": "execute_result",
          "data": {
            "application/vnd.google.colaboratory.intrinsic+json": {
              "type": "string"
            },
            "text/plain": [
              "'y'"
            ]
          },
          "metadata": {
            "tags": []
          },
          "execution_count": 57
        }
      ]
    },
    {
      "cell_type": "code",
      "metadata": {
        "colab": {
          "base_uri": "https://localhost:8080/",
          "height": 38
        },
        "id": "cIX270X8d2rB",
        "outputId": "c58a81ba-bcdf-4eb2-f382-41994859eddf"
      },
      "source": [
        "t[-4] #จากตัวสุดท้ายมา 4"
      ],
      "execution_count": null,
      "outputs": [
        {
          "output_type": "execute_result",
          "data": {
            "application/vnd.google.colaboratory.intrinsic+json": {
              "type": "string"
            },
            "text/plain": [
              "'e'"
            ]
          },
          "metadata": {
            "tags": []
          },
          "execution_count": 56
        }
      ]
    },
    {
      "cell_type": "code",
      "metadata": {
        "colab": {
          "base_uri": "https://localhost:8080/",
          "height": 38
        },
        "id": "foBzkJFPd5La",
        "outputId": "ddf937b1-db94-4be6-9614-00d9005874e3"
      },
      "source": [
        "t[6] #เว้นวรรค"
      ],
      "execution_count": null,
      "outputs": [
        {
          "output_type": "execute_result",
          "data": {
            "application/vnd.google.colaboratory.intrinsic+json": {
              "type": "string"
            },
            "text/plain": [
              "' '"
            ]
          },
          "metadata": {
            "tags": []
          },
          "execution_count": 59
        }
      ]
    },
    {
      "cell_type": "markdown",
      "metadata": {
        "id": "U5twalV6f5zG"
      },
      "source": [
        "จบ 5 มกราคม 2564 \r\n",
        "โดยเรียนรู้การหาร การกำหนดตัวแปร การใช้โค้ดจำนวนเต็ม ทศนิยม หารหาเศษ หารหาส่วน การเว้นวรรค การนับลำดับตัวอักษร"
      ]
    },
    {
      "cell_type": "code",
      "metadata": {
        "id": "oRhCb8Z3gLPp"
      },
      "source": [
        ""
      ],
      "execution_count": null,
      "outputs": []
    }
  ]
}