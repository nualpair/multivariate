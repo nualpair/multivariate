{
  "nbformat": 4,
  "nbformat_minor": 0,
  "metadata": {
    "colab": {
      "name": "Python101.ipynb",
      "provenance": [],
      "collapsed_sections": [],
      "include_colab_link": true
    },
    "kernelspec": {
      "name": "python3",
      "display_name": "Python 3"
    }
  },
  "cells": [
    {
      "cell_type": "markdown",
      "metadata": {
        "id": "view-in-github",
        "colab_type": "text"
      },
      "source": [
        "<a href=\"https://colab.research.google.com/github/nualpair/multivariate/blob/main/Python101.ipynb\" target=\"_parent\"><img src=\"https://colab.research.google.com/assets/colab-badge.svg\" alt=\"Open In Colab\"/></a>"
      ]
    },
    {
      "cell_type": "markdown",
      "metadata": {
        "id": "FjJHruB6LiV5"
      },
      "source": [
        "ตัวแปร variable"
      ]
    },
    {
      "cell_type": "markdown",
      "metadata": {
        "id": "mG0mAdiRMsJN"
      },
      "source": [
        "หลักการตั้งชื่อตัวแปร\r\n",
        "\r\n",
        "1. ตั้งให้สื่อ\r\n",
        "2. ภาษาอังกฤษ\r\n",
        "3. ใช้ตัวเลขได้แต่ห้ามขึ้นต้นด้วยตัวเลข\r\n",
        "4. ห้ามเว้นวรรค\r\n",
        "5. ตัวเล็กกับตัวใหญ่ไม่เหมือนกัน"
      ]
    },
    {
      "cell_type": "markdown",
      "metadata": {
        "id": "UbC7B6yuNL8G"
      },
      "source": [
        "มี output 2 mode : ออกหน้าจอกับเข้าไปเก็บในตัวแปร"
      ]
    },
    {
      "cell_type": "code",
      "metadata": {
        "colab": {
          "base_uri": "https://localhost:8080/"
        },
        "id": "Cs7AAXABNeI2",
        "outputId": "e7af5e7c-b202-4dba-9d8d-3df7629c8d51"
      },
      "source": [
        "3.14159"
      ],
      "execution_count": null,
      "outputs": [
        {
          "output_type": "execute_result",
          "data": {
            "text/plain": [
              "3.14159"
            ]
          },
          "metadata": {
            "tags": []
          },
          "execution_count": 13
        }
      ]
    },
    {
      "cell_type": "markdown",
      "metadata": {
        "id": "W2lvdXNWNyEO"
      },
      "source": [
        "Pi = 3.14159"
      ]
    },
    {
      "cell_type": "code",
      "metadata": {
        "colab": {
          "base_uri": "https://localhost:8080/",
          "height": 225
        },
        "id": "zgPLXXU0N2mo",
        "outputId": "2c671e32-d4f6-46cc-e36d-b98c9e6b1a1d"
      },
      "source": [
        "Pi"
      ],
      "execution_count": null,
      "outputs": [
        {
          "output_type": "error",
          "ename": "NameError",
          "evalue": "ignored",
          "traceback": [
            "\u001b[0;31m---------------------------------------------------------------------------\u001b[0m",
            "\u001b[0;31mNameError\u001b[0m                                 Traceback (most recent call last)",
            "\u001b[0;32m<ipython-input-15-a66fe636e94b>\u001b[0m in \u001b[0;36m<module>\u001b[0;34m()\u001b[0m\n\u001b[0;32m----> 1\u001b[0;31m \u001b[0mPi\u001b[0m\u001b[0;34m\u001b[0m\u001b[0;34m\u001b[0m\u001b[0m\n\u001b[0m",
            "\u001b[0;31mNameError\u001b[0m: name 'Pi' is not defined"
          ]
        }
      ]
    },
    {
      "cell_type": "code",
      "metadata": {
        "colab": {
          "base_uri": "https://localhost:8080/"
        },
        "id": "mDVR5KxAN_Tf",
        "outputId": "f0de4883-caf8-41ca-b47d-0967696c5205"
      },
      "source": [
        "a = 1234567\r\n",
        "print (a) #ใช้คำสั่งprintแสดงผลของตัวแปร"
      ],
      "execution_count": null,
      "outputs": [
        {
          "output_type": "stream",
          "text": [
            "1234567\n"
          ],
          "name": "stdout"
        }
      ]
    },
    {
      "cell_type": "markdown",
      "metadata": {
        "id": "Ju4inULYOSp5"
      },
      "source": [
        "ตัวอย่าง print"
      ]
    },
    {
      "cell_type": "code",
      "metadata": {
        "colab": {
          "base_uri": "https://localhost:8080/"
        },
        "id": "MrWNeE16OWtC",
        "outputId": "5d313d11-7686-4962-c2ca-2ee306e38149"
      },
      "source": [
        "b = 1\r\n",
        "print (b)"
      ],
      "execution_count": null,
      "outputs": [
        {
          "output_type": "stream",
          "text": [
            "1\n"
          ],
          "name": "stdout"
        }
      ]
    },
    {
      "cell_type": "markdown",
      "metadata": {
        "id": "4xACORYHOjez"
      },
      "source": [
        "#ชนิดของตัวแปร\r\n"
      ]
    },
    {
      "cell_type": "markdown",
      "metadata": {
        "id": "GPD9V8WbOsfd"
      },
      "source": [
        "-จำนวนเต็ม (integer,int)"
      ]
    },
    {
      "cell_type": "code",
      "metadata": {
        "id": "JSkITceYOx8u"
      },
      "source": [
        "aaa=1092\r\n",
        "print(aaa)"
      ],
      "execution_count": null,
      "outputs": []
    },
    {
      "cell_type": "markdown",
      "metadata": {
        "id": "eCRIV0HGO5pF"
      },
      "source": [
        "-จำนวนจริง (float)"
      ]
    },
    {
      "cell_type": "code",
      "metadata": {
        "id": "b-dOuP7PO-K5"
      },
      "source": [
        "bbb=11.0 #มีทศนิยมได้\r\n",
        "print (bbb)"
      ],
      "execution_count": null,
      "outputs": []
    },
    {
      "cell_type": "markdown",
      "metadata": {
        "id": "lHdHvqR3PesX"
      },
      "source": [
        "-ตัวอักษร-ข้อความ (character และ text,sring)"
      ]
    },
    {
      "cell_type": "code",
      "metadata": {
        "id": "dZAy6XYEPobP"
      },
      "source": [
        "ccc='1234' #เราใช้single quote ' หรือ doble quote \" ล้อมรอบตัวอักษรเพื่อระบุว่าเป็น character-string\r\n",
        "print(ccc)"
      ],
      "execution_count": null,
      "outputs": []
    },
    {
      "cell_type": "code",
      "metadata": {
        "id": "CAvMtNuyQEMP"
      },
      "source": [
        "aaa+bbb #float+int=float \r\n",
        "#ทศนิยมบวกจำนวนเต็มได้ทศนิยม"
      ],
      "execution_count": null,
      "outputs": []
    },
    {
      "cell_type": "code",
      "metadata": {
        "id": "V8Fdd-dgRCXu"
      },
      "source": [
        "ddd='นวลแพร'\r\n",
        "print(ddd)"
      ],
      "execution_count": null,
      "outputs": []
    },
    {
      "cell_type": "markdown",
      "metadata": {
        "id": "H2tNj_v3SbQs"
      },
      "source": [
        "#การเปลี่ยนแปลชนิดของตัวแปร variable casting"
      ]
    },
    {
      "cell_type": "code",
      "metadata": {
        "id": "pjKeer6JSjBb"
      },
      "source": [
        "bbb+int(ccc)\r\n",
        " #ทศนิยมบวกจำนวนเต็มได้ทศนิยม"
      ],
      "execution_count": null,
      "outputs": []
    },
    {
      "cell_type": "code",
      "metadata": {
        "id": "4X-g1jF-SmJN"
      },
      "source": [
        "aaa+float(ccc) \r\n",
        "#ใช้คำสั่งแปลงcccให้เป็นfloat ผลที่ออกมาจึงเป็น float"
      ],
      "execution_count": null,
      "outputs": []
    },
    {
      "cell_type": "code",
      "metadata": {
        "id": "M0ogiDAvSp_p"
      },
      "source": [
        "str(ddd) #ตัวอักษรข้อความ"
      ],
      "execution_count": null,
      "outputs": []
    },
    {
      "cell_type": "markdown",
      "metadata": {
        "id": "q5ufvdSqSv-q"
      },
      "source": [
        "#การดำเนินการ operation(operators+,-,*,/,%)"
      ]
    },
    {
      "cell_type": "code",
      "metadata": {
        "id": "m4_WkksfS-yA"
      },
      "source": [
        "a+b"
      ],
      "execution_count": null,
      "outputs": []
    },
    {
      "cell_type": "code",
      "metadata": {
        "id": "wQuYCL8KTAqZ"
      },
      "source": [
        "aaa+bbb"
      ],
      "execution_count": null,
      "outputs": []
    },
    {
      "cell_type": "code",
      "metadata": {
        "id": "BXgZE06WTF5n"
      },
      "source": [
        "aaa-bbb"
      ],
      "execution_count": null,
      "outputs": []
    },
    {
      "cell_type": "code",
      "metadata": {
        "id": "4LvfdDgiTKvN"
      },
      "source": [
        "ab=aaa*bbb\r\n",
        "print(ab)"
      ],
      "execution_count": null,
      "outputs": []
    },
    {
      "cell_type": "code",
      "metadata": {
        "id": "adwK8l0bTZYf"
      },
      "source": [
        "ab+int(ccc)"
      ],
      "execution_count": null,
      "outputs": []
    },
    {
      "cell_type": "markdown",
      "metadata": {
        "id": "TlPMUthVTqEz"
      },
      "source": [
        "#%คือเครื่องหมายmodulo"
      ]
    },
    {
      "cell_type": "code",
      "metadata": {
        "id": "UNANzcbNTtnt"
      },
      "source": [
        "5%3 #เอาตัวเศษ"
      ],
      "execution_count": null,
      "outputs": []
    },
    {
      "cell_type": "code",
      "metadata": {
        "id": "0upYzg_kTvky"
      },
      "source": [
        "7%3 #เอาตัวเศษ7หาร3เศษ1"
      ],
      "execution_count": null,
      "outputs": []
    },
    {
      "cell_type": "markdown",
      "metadata": {
        "id": "2jFcioJHT7pH"
      },
      "source": [
        "#คำสั่งprint แบบพิเศษ (การ format string)"
      ]
    },
    {
      "cell_type": "code",
      "metadata": {
        "id": "Qv-t7GMkUDpy"
      },
      "source": [
        "print ('ตัวแปร') #สิ่งที่อยู่ข้างหลังวงเล็บคือตัวแปรและ string"
      ],
      "execution_count": null,
      "outputs": []
    },
    {
      "cell_type": "code",
      "metadata": {
        "id": "DAZLGsHrWUvM"
      },
      "source": [
        "print (f'% คือการหารเอาเศษ เช่น 7%3 = {7%3} \\\r\n",
        "แต่ \\n/ คือการหารปกติ เช่น 7/3 = {7/3} \\\r\n",
        "และ \\n// คือการหารเอาส่วน เช่น 7/3 = {7/3} \\\r\n",
        "หรือ \\n ใช้ int() เพื่อหารเอาส่วน เช่น int(7/3) = {int(7/3)}') \r\n",
        "#\\n คือการขึ้นบรรทัดใหม่ \\\\ใช้ในการตัดcodeแต่comจะไม่เห็น"
      ],
      "execution_count": null,
      "outputs": []
    },
    {
      "cell_type": "markdown",
      "metadata": {
        "id": "zVHXHN0SYMJd"
      },
      "source": [
        "##DATA STRUCTURE (โครงสร้างข้อมูล)"
      ]
    },
    {
      "cell_type": "markdown",
      "metadata": {
        "id": "prPsDQXwYVsg"
      },
      "source": [
        "#List คือการเอาตัวแปรหลายๆตัวมาเรียงกัน\r\n",
        "list สามารถสร้างได้ 2 แบบ"
      ]
    },
    {
      "cell_type": "code",
      "metadata": {
        "id": "EsncnOrGYxAJ"
      },
      "source": [
        "[111,'c','งง',aaa]"
      ],
      "execution_count": null,
      "outputs": []
    },
    {
      "cell_type": "markdown",
      "metadata": {
        "id": "QaHEfJGRYfdO"
      },
      "source": [
        "#แบบที่ 1 > square brackets"
      ]
    },
    {
      "cell_type": "code",
      "metadata": {
        "colab": {
          "base_uri": "https://localhost:8080/"
        },
        "id": "squ4Zbj2YsfK",
        "outputId": "6d94b53b-6d83-4ed7-9c85-b03342eed86c"
      },
      "source": [
        "list_a =[]\r\n",
        "print (list_a)"
      ],
      "execution_count": null,
      "outputs": [
        {
          "output_type": "stream",
          "text": [
            "[]\n"
          ],
          "name": "stdout"
        }
      ]
    },
    {
      "cell_type": "code",
      "metadata": {
        "colab": {
          "base_uri": "https://localhost:8080/"
        },
        "id": "A7UPizwOZEX_",
        "outputId": "bf410707-c2b8-4a0e-a238-35b1493cad5d"
      },
      "source": [
        "list_b = [1,5,'v']\r\n",
        "print (list_b)"
      ],
      "execution_count": null,
      "outputs": [
        {
          "output_type": "stream",
          "text": [
            "[1, 5, 'v']\n"
          ],
          "name": "stdout"
        }
      ]
    },
    {
      "cell_type": "markdown",
      "metadata": {
        "id": "snHYR4veZa3P"
      },
      "source": [
        "#ลำดับที่อยู่ใน list มีความสำคัญ (ลำดับใน list เริ่มจาก 0,1,2,...)"
      ]
    },
    {
      "cell_type": "code",
      "metadata": {
        "id": "GLDxwiqiZtf1"
      },
      "source": [
        "list_b[1] #ตัวแรกคือลำดับ0\r\n"
      ],
      "execution_count": null,
      "outputs": []
    },
    {
      "cell_type": "code",
      "metadata": {
        "id": "Oh0CVK4fZxwi"
      },
      "source": [
        "list_b[2]"
      ],
      "execution_count": null,
      "outputs": []
    },
    {
      "cell_type": "markdown",
      "metadata": {
        "id": "QrmmNQ_0bQ7k"
      },
      "source": [
        "#แบบที่2"
      ]
    },
    {
      "cell_type": "code",
      "metadata": {
        "id": "Rb-4lrO_bSbX"
      },
      "source": [
        "list_c = list()\r\n",
        "print(list_c)"
      ],
      "execution_count": null,
      "outputs": []
    },
    {
      "cell_type": "markdown",
      "metadata": {
        "id": "wXPi8l5Tbldz"
      },
      "source": [
        "#append() เพิ่มสมาชิกใน list"
      ]
    },
    {
      "cell_type": "code",
      "metadata": {
        "id": "_0soSsihbqll"
      },
      "source": [
        "list_b.append('u')\r\n",
        "print(list_b)"
      ],
      "execution_count": null,
      "outputs": []
    },
    {
      "cell_type": "markdown",
      "metadata": {
        "id": "Xya1e-mldG3w"
      },
      "source": [
        "ตัวที่อยู่ในวงเล็บหลังจากตัวแปร list เรียกว่า index ใช้สำหรับชี้ข้อมูลใน list\r\n",
        "(ชี้จากข้างหน้า,ชี้จากข้างหลัง)\r\n",
        "0 คือสมาชิกตัวแรก,-1 คือสมาชิกตัวสุดท้าย"
      ]
    },
    {
      "cell_type": "code",
      "metadata": {
        "id": "Wq__Z3fAdZQP"
      },
      "source": [
        "list_b[-1]"
      ],
      "execution_count": null,
      "outputs": []
    },
    {
      "cell_type": "markdown",
      "metadata": {
        "id": "9-eav9JIdeV3"
      },
      "source": [
        "##String>list of characters"
      ]
    },
    {
      "cell_type": "code",
      "metadata": {
        "id": "YP33NpbBdkJ_"
      },
      "source": [
        "t = 'python is easy'\r\n",
        "print (t)"
      ],
      "execution_count": null,
      "outputs": []
    },
    {
      "cell_type": "code",
      "metadata": {
        "id": "ojlh5RfWd0Dj"
      },
      "source": [
        "t[1] #ตัวที่สองเพราะ0เท่ากับตัวแรก"
      ],
      "execution_count": null,
      "outputs": []
    },
    {
      "cell_type": "code",
      "metadata": {
        "id": "cIX270X8d2rB"
      },
      "source": [
        "t[-4] #จากตัวสุดท้ายมา 4"
      ],
      "execution_count": null,
      "outputs": []
    },
    {
      "cell_type": "code",
      "metadata": {
        "id": "foBzkJFPd5La"
      },
      "source": [
        "t[6] #เว้นวรรค"
      ],
      "execution_count": null,
      "outputs": []
    },
    {
      "cell_type": "markdown",
      "metadata": {
        "id": "U5twalV6f5zG"
      },
      "source": [
        "จบ 5 มกราคม 2564 \r\n",
        "โดยเรียนรู้การหาร การกำหนดตัวแปร การใช้โค้ดจำนวนเต็ม ทศนิยม หารหาเศษ หารหาส่วน การเว้นวรรค การนับลำดับตัวอักษร"
      ]
    },
    {
      "cell_type": "markdown",
      "metadata": {
        "id": "hGFM8qMejNV7"
      },
      "source": [
        "#คาบ 3 11 มค 2021"
      ]
    },
    {
      "cell_type": "code",
      "metadata": {
        "colab": {
          "base_uri": "https://localhost:8080/"
        },
        "id": "u_jc_goOkA1d",
        "outputId": "9a2a945b-1b57-44af-a465-2cf63b8f7105"
      },
      "source": [
        "len(t)"
      ],
      "execution_count": null,
      "outputs": [
        {
          "output_type": "execute_result",
          "data": {
            "text/plain": [
              "14"
            ]
          },
          "metadata": {
            "tags": []
          },
          "execution_count": 19
        }
      ]
    },
    {
      "cell_type": "code",
      "metadata": {
        "colab": {
          "base_uri": "https://localhost:8080/"
        },
        "id": "3DorYLW6k8d2",
        "outputId": "b36899d3-1553-4aaa-847e-81e0daea396c"
      },
      "source": [
        "list_b"
      ],
      "execution_count": null,
      "outputs": [
        {
          "output_type": "execute_result",
          "data": {
            "text/plain": [
              "[1, 5, 'v']"
            ]
          },
          "metadata": {
            "tags": []
          },
          "execution_count": 20
        }
      ]
    },
    {
      "cell_type": "code",
      "metadata": {
        "colab": {
          "base_uri": "https://localhost:8080/"
        },
        "id": "cQZOyWumkJw2",
        "outputId": "1fe603e1-e468-4174-c7b8-b878d66e6738"
      },
      "source": [
        "len(list_b) #lenคือคำสั่งตรวจสอบความยาวของ list (จำนวนสมาชิก)"
      ],
      "execution_count": null,
      "outputs": [
        {
          "output_type": "execute_result",
          "data": {
            "text/plain": [
              "3"
            ]
          },
          "metadata": {
            "tags": []
          },
          "execution_count": 21
        }
      ]
    },
    {
      "cell_type": "markdown",
      "metadata": {
        "id": "2vPSCce7le3x"
      },
      "source": [
        "#List slicing สามารถทำได้โดยใช้ colon :"
      ]
    },
    {
      "cell_type": "code",
      "metadata": {
        "colab": {
          "base_uri": "https://localhost:8080/"
        },
        "id": "dX5Jr8JKlnNy",
        "outputId": "d4f340ef-f9df-444d-aeef-42ff3c5144d4"
      },
      "source": [
        "print (t)\r\n",
        "print(t[7:9])\r\n",
        "print (len(t[7:9]))"
      ],
      "execution_count": null,
      "outputs": [
        {
          "output_type": "stream",
          "text": [
            "python is easy\n",
            "is\n",
            "2\n"
          ],
          "name": "stdout"
        }
      ]
    },
    {
      "cell_type": "code",
      "metadata": {
        "colab": {
          "base_uri": "https://localhost:8080/",
          "height": 38
        },
        "id": "PO33b02onkVX",
        "outputId": "de6c12e5-53c4-4b9a-82f4-7fc7a14ff626"
      },
      "source": [
        "t[0:14:2] #เริ่มตัว 0 โดยหยิบทุกๆ 2 ตัวจนครบ 14 ตัว"
      ],
      "execution_count": null,
      "outputs": [
        {
          "output_type": "execute_result",
          "data": {
            "application/vnd.google.colaboratory.intrinsic+json": {
              "type": "string"
            },
            "text/plain": [
              "'pto ses'"
            ]
          },
          "metadata": {
            "tags": []
          },
          "execution_count": 31
        }
      ]
    },
    {
      "cell_type": "code",
      "metadata": {
        "id": "gdg__OJyoSCD"
      },
      "source": [
        "z=[1,2,3,4,5,6,7,8,9,10]"
      ],
      "execution_count": null,
      "outputs": []
    },
    {
      "cell_type": "markdown",
      "metadata": {
        "id": "Ei1zL7OhoYil"
      },
      "source": [
        "###quiz\r\n",
        "ให้ใช้ list slicing เลือกมาเฉพาะเลขคู่"
      ]
    },
    {
      "cell_type": "code",
      "metadata": {
        "colab": {
          "base_uri": "https://localhost:8080/"
        },
        "id": "WcnTgFskohkx",
        "outputId": "59eaa1b3-bfac-4caa-d5d0-f31883671104"
      },
      "source": [
        "z[1:10:2]"
      ],
      "execution_count": null,
      "outputs": [
        {
          "output_type": "execute_result",
          "data": {
            "text/plain": [
              "[2, 4, 6, 8, 10]"
            ]
          },
          "metadata": {
            "tags": []
          },
          "execution_count": 30
        }
      ]
    },
    {
      "cell_type": "markdown",
      "metadata": {
        "id": "s_UrOIkamAJM"
      },
      "source": [
        "ถ้าเว้นว่างหน้า : หมายความว่า เริ่มตั้งแต่ตัวแรก (0) \\\r\n",
        "ถ้าเว้นว่างหลัง : หมายความว่า ไปจนถึงตัวสุดท้าย (len(list))"
      ]
    },
    {
      "cell_type": "code",
      "metadata": {
        "colab": {
          "base_uri": "https://localhost:8080/"
        },
        "id": "3m9lLc-KmMac",
        "outputId": "1934f14c-1357-4a0f-cd82-cb63366d61f9"
      },
      "source": [
        "print (t)\r\n",
        "print (t[:6])\r\n",
        "print (t[10:])\r\n",
        "print (t[-4:])\r\n",
        "print (t[:])\r\n"
      ],
      "execution_count": null,
      "outputs": [
        {
          "output_type": "stream",
          "text": [
            "python is easy\n",
            "python\n",
            "easy\n",
            "easy\n",
            "python is easy\n"
          ],
          "name": "stdout"
        }
      ]
    },
    {
      "cell_type": "code",
      "metadata": {
        "colab": {
          "base_uri": "https://localhost:8080/"
        },
        "id": "bMtvJjN3m5Ay",
        "outputId": "c6f5bebc-1b73-4922-f0ac-ec04fd9cec57"
      },
      "source": [
        "print (z[::2])"
      ],
      "execution_count": null,
      "outputs": [
        {
          "output_type": "stream",
          "text": [
            "[1, 3, 5, 7, 9]\n"
          ],
          "name": "stdout"
        }
      ]
    },
    {
      "cell_type": "markdown",
      "metadata": {
        "id": "GrrrMF6Pp-Td"
      },
      "source": [
        "#เราสามารถเอา list มาต่อกันได้ด้วย+"
      ]
    },
    {
      "cell_type": "code",
      "metadata": {
        "colab": {
          "base_uri": "https://localhost:8080/",
          "height": 38
        },
        "id": "klsApDtzqDdO",
        "outputId": "ed0bdff7-543f-4036-af6b-702ac27826ce"
      },
      "source": [
        "t+'??'"
      ],
      "execution_count": null,
      "outputs": [
        {
          "output_type": "execute_result",
          "data": {
            "application/vnd.google.colaboratory.intrinsic+json": {
              "type": "string"
            },
            "text/plain": [
              "'python is easy??'"
            ]
          },
          "metadata": {
            "tags": []
          },
          "execution_count": 33
        }
      ]
    },
    {
      "cell_type": "code",
      "metadata": {
        "colab": {
          "base_uri": "https://localhost:8080/",
          "height": 243
        },
        "id": "uGJ2VMBxsBTP",
        "outputId": "daba1386-d14d-4416-eb0c-7d48061e9cd8"
      },
      "source": [
        "t+list_b #ไม่สามารถเอาlistปกติมาต่อกับ string ได้"
      ],
      "execution_count": null,
      "outputs": [
        {
          "output_type": "error",
          "ename": "TypeError",
          "evalue": "ignored",
          "traceback": [
            "\u001b[0;31m---------------------------------------------------------------------------\u001b[0m",
            "\u001b[0;31mTypeError\u001b[0m                                 Traceback (most recent call last)",
            "\u001b[0;32m<ipython-input-34-533283d19197>\u001b[0m in \u001b[0;36m<module>\u001b[0;34m()\u001b[0m\n\u001b[0;32m----> 1\u001b[0;31m \u001b[0mt\u001b[0m\u001b[0;34m+\u001b[0m\u001b[0mlist_b\u001b[0m \u001b[0;31m#ไม่สามารถเอาlistปกติมาต่อกับ string ได้\u001b[0m\u001b[0;34m\u001b[0m\u001b[0;34m\u001b[0m\u001b[0m\n\u001b[0m",
            "\u001b[0;31mTypeError\u001b[0m: must be str, not list"
          ]
        }
      ]
    },
    {
      "cell_type": "code",
      "metadata": {
        "colab": {
          "base_uri": "https://localhost:8080/"
        },
        "id": "2PHX52GesKEK",
        "outputId": "7b0d6e4c-f07e-49ee-ce77-20559c14dd75"
      },
      "source": [
        "print (list_a)\r\n",
        "print (list_b)\r\n",
        "print (list_a+list_b) #คือเอาสมาชิกมารวมกัน"
      ],
      "execution_count": null,
      "outputs": [
        {
          "output_type": "stream",
          "text": [
            "[]\n",
            "[1, 5, 'v', []]\n",
            "[1, 5, 'v', []]\n"
          ],
          "name": "stdout"
        }
      ]
    },
    {
      "cell_type": "code",
      "metadata": {
        "colab": {
          "base_uri": "https://localhost:8080/"
        },
        "id": "mskYf5Z8sTPV",
        "outputId": "f91581cb-01bd-4d8c-b285-1b33b19bed7b"
      },
      "source": [
        "list_b.append(list_a)\r\n",
        "print (list_b)"
      ],
      "execution_count": null,
      "outputs": [
        {
          "output_type": "stream",
          "text": [
            "[1, 5, 'v', []]\n"
          ],
          "name": "stdout"
        }
      ]
    },
    {
      "cell_type": "markdown",
      "metadata": {
        "id": "u5o45iodtwdl"
      },
      "source": [
        "##การแบ่งstring ตามสัญลักษณ์ที่กำหนด -> split string"
      ]
    },
    {
      "cell_type": "code",
      "metadata": {
        "colab": {
          "base_uri": "https://localhost:8080/",
          "height": 38
        },
        "id": "DbhqY_Mvt5mD",
        "outputId": "69a88184-eb5b-4c5e-895b-b4f70a7753f3"
      },
      "source": [
        "t"
      ],
      "execution_count": null,
      "outputs": [
        {
          "output_type": "execute_result",
          "data": {
            "application/vnd.google.colaboratory.intrinsic+json": {
              "type": "string"
            },
            "text/plain": [
              "'python is easy'"
            ]
          },
          "metadata": {
            "tags": []
          },
          "execution_count": 41
        }
      ]
    },
    {
      "cell_type": "code",
      "metadata": {
        "colab": {
          "base_uri": "https://localhost:8080/"
        },
        "id": "rKzKQREct7Nb",
        "outputId": "65562b9b-9a30-4cda-a742-44653eaaefb3"
      },
      "source": [
        "t.split(' ')"
      ],
      "execution_count": null,
      "outputs": [
        {
          "output_type": "execute_result",
          "data": {
            "text/plain": [
              "['python', 'is', 'easy']"
            ]
          },
          "metadata": {
            "tags": []
          },
          "execution_count": 42
        }
      ]
    },
    {
      "cell_type": "code",
      "metadata": {
        "id": "wPwca17Gt_cl"
      },
      "source": [
        "time = '12:30:15'"
      ],
      "execution_count": null,
      "outputs": []
    },
    {
      "cell_type": "code",
      "metadata": {
        "colab": {
          "base_uri": "https://localhost:8080/"
        },
        "id": "9_AJiBlBuQSl",
        "outputId": "7e7f9c44-b31e-4339-e1ff-044d6da26c15"
      },
      "source": [
        "time.split(':')"
      ],
      "execution_count": null,
      "outputs": [
        {
          "output_type": "execute_result",
          "data": {
            "text/plain": [
              "['12', '30', '15']"
            ]
          },
          "metadata": {
            "tags": []
          },
          "execution_count": 45
        }
      ]
    },
    {
      "cell_type": "code",
      "metadata": {
        "colab": {
          "base_uri": "https://localhost:8080/"
        },
        "id": "NLL720uTuufH",
        "outputId": "8bed01da-2bd0-40b6-8625-0e4b11465447"
      },
      "source": [
        "t_sp = t.split(' ')\r\n",
        "print (t_sp)"
      ],
      "execution_count": null,
      "outputs": [
        {
          "output_type": "stream",
          "text": [
            "['python', 'is', 'easy']\n"
          ],
          "name": "stdout"
        }
      ]
    },
    {
      "cell_type": "code",
      "metadata": {
        "colab": {
          "base_uri": "https://localhost:8080/"
        },
        "id": "z80eAso3vCYb",
        "outputId": "db5248f9-4ba9-4b4a-818f-917481818d2e"
      },
      "source": [
        "##วิธีรวมกลับ\r\n",
        "print (':'.join(t_sp))"
      ],
      "execution_count": null,
      "outputs": [
        {
          "output_type": "stream",
          "text": [
            "python:is:easy\n"
          ],
          "name": "stdout"
        }
      ]
    },
    {
      "cell_type": "markdown",
      "metadata": {
        "id": "A94jR4YLvY6Y"
      },
      "source": [
        "##HW คำนวณเวลาเป็นวินาทีของเวลาต่อไปนี้โดยใช้คำสั่ง split() ช่วย (print ออกมาสวยงาม)\r\n",
        "12:30:15\r\n",
        "\r\n",
        "13:41:07\r\n",
        "\r\n",
        "12:53:15\r\n",
        "\r\n",
        "00:59:25\r\n",
        "\r\n",
        "11:11:11\r\n",
        "\r\n",
        "16:06:09\r\n",
        "\r\n",
        "21:12:30\r\n",
        "\r\n",
        "10:06:15\r\n",
        "\r\n",
        "ตัวอย่าง > 00:01:10 = 70 วินาที \\\r\n",
        "ตัวอย่าง > 01:00:01 = 3,601 วินาที\r\n"
      ]
    },
    {
      "cell_type": "code",
      "metadata": {
        "id": "gJgiTKCDO6k1",
        "colab": {
          "base_uri": "https://localhost:8080/"
        },
        "outputId": "f36a0728-0a12-407b-91e4-79c00056f6ef"
      },
      "source": [
        "q1 = '12:30:15'\r\n",
        "q1_sp = q1.split(':')\r\n",
        "print(q1_sp)\r\n",
        "ans1= int(q1_sp[0])*3600+int (q1_sp[1])*60+int (q1_sp[2])\r\n",
        "print(ans1)"
      ],
      "execution_count": null,
      "outputs": [
        {
          "output_type": "stream",
          "text": [
            "['12', '30', '15']\n",
            "45015\n"
          ],
          "name": "stdout"
        }
      ]
    },
    {
      "cell_type": "code",
      "metadata": {
        "id": "wp2D-z1vRi-3",
        "outputId": "f3560650-5103-42a6-d9f6-f9a3f2cb0c6d",
        "colab": {
          "base_uri": "https://localhost:8080/"
        }
      },
      "source": [
        "q2='13:41:07'\r\n",
        "q2_sp = q2.split(':')\r\n",
        "print(q2_sp)\r\n",
        "ans2= int(q2_sp[0])*3600+int (q2_sp[1])*60+int (q2_sp[2])\r\n",
        "print(ans2)"
      ],
      "execution_count": 11,
      "outputs": [
        {
          "output_type": "stream",
          "text": [
            "['13', '41', '07']\n",
            "49267\n"
          ],
          "name": "stdout"
        }
      ]
    },
    {
      "cell_type": "code",
      "metadata": {
        "id": "hQ8REjJFjFxU",
        "outputId": "c8739e84-155f-4fd8-a55b-427a1ec2e703",
        "colab": {
          "base_uri": "https://localhost:8080/"
        }
      },
      "source": [
        "q3='12:53:15'\r\n",
        "q3_sp = q3.split(':')\r\n",
        "print(q3_sp)\r\n",
        "ans3= int(q3_sp[0])*3600+int (q3_sp[1])*60+int (q3_sp[2])\r\n",
        "print(ans3)"
      ],
      "execution_count": 20,
      "outputs": [
        {
          "output_type": "stream",
          "text": [
            "['12', '53', '15']\n",
            "46395\n"
          ],
          "name": "stdout"
        }
      ]
    },
    {
      "cell_type": "code",
      "metadata": {
        "id": "6NrI3EfpjMEU",
        "outputId": "16160c44-df40-4402-b32e-9de8b99dbdc8",
        "colab": {
          "base_uri": "https://localhost:8080/"
        }
      },
      "source": [
        "q4='00:59:25'\r\n",
        "q4_sp = q4.split(':')\r\n",
        "print(q4_sp)\r\n",
        "ans4= int(q4_sp[0])*3600+int (q4_sp[1])*60+int (q4_sp[2])\r\n",
        "print(ans4)"
      ],
      "execution_count": 21,
      "outputs": [
        {
          "output_type": "stream",
          "text": [
            "['00', '59', '25']\n",
            "3565\n"
          ],
          "name": "stdout"
        }
      ]
    },
    {
      "cell_type": "code",
      "metadata": {
        "id": "-FAepdNsjPcV",
        "outputId": "f780dd21-5ead-4cfe-e440-93f472f94bf5",
        "colab": {
          "base_uri": "https://localhost:8080/"
        }
      },
      "source": [
        "q5='11:11:11'\r\n",
        "q5_sp = q5.split(':')\r\n",
        "print(q5_sp)\r\n",
        "ans5= int(q5_sp[0])*3600+int (q5_sp[1])*60+int (q5_sp[2])\r\n",
        "print(ans5)"
      ],
      "execution_count": 22,
      "outputs": [
        {
          "output_type": "stream",
          "text": [
            "['11', '11', '11']\n",
            "40271\n"
          ],
          "name": "stdout"
        }
      ]
    },
    {
      "cell_type": "code",
      "metadata": {
        "id": "DJ4WIpYOjQ7Q",
        "outputId": "45b41fef-badb-41f2-c1e8-4fc50548444c",
        "colab": {
          "base_uri": "https://localhost:8080/"
        }
      },
      "source": [
        "q6='16:06:09'\r\n",
        "q6_sp = q6.split(':')\r\n",
        "print(q6_sp)\r\n",
        "ans6= int(q6_sp[0])*3600+int (q6_sp[1])*60+int (q6_sp[2])\r\n",
        "print(ans6)"
      ],
      "execution_count": 23,
      "outputs": [
        {
          "output_type": "stream",
          "text": [
            "['16', '06', '09']\n",
            "57969\n"
          ],
          "name": "stdout"
        }
      ]
    },
    {
      "cell_type": "code",
      "metadata": {
        "id": "UzIRuuV2jRyC",
        "outputId": "c4a7dafa-a928-473d-f083-38a3c317fccf",
        "colab": {
          "base_uri": "https://localhost:8080/"
        }
      },
      "source": [
        "q7='21:12:30'\r\n",
        "q7_sp = q7.split(':')\r\n",
        "print(q7_sp)\r\n",
        "ans7= int(q7_sp[0])*3600+int (q7_sp[1])*60+int (q7_sp[2])\r\n",
        "print(ans7)"
      ],
      "execution_count": 24,
      "outputs": [
        {
          "output_type": "stream",
          "text": [
            "['21', '12', '30']\n",
            "76350\n"
          ],
          "name": "stdout"
        }
      ]
    },
    {
      "cell_type": "code",
      "metadata": {
        "id": "QsUnhJJojSac",
        "outputId": "be5c939d-298a-4fd6-ea4d-5f1064ee750c",
        "colab": {
          "base_uri": "https://localhost:8080/"
        }
      },
      "source": [
        "q8='10:06:15'\r\n",
        "q8_sp = q8.split(':')\r\n",
        "print(q8_sp)\r\n",
        "ans8= int(q8_sp[0])*3600+int (q8_sp[1])*60+int (q8_sp[2])\r\n",
        "print(ans8)"
      ],
      "execution_count": 25,
      "outputs": [
        {
          "output_type": "stream",
          "text": [
            "['10', '06', '15']\n",
            "36375\n"
          ],
          "name": "stdout"
        }
      ]
    }
  ]
}