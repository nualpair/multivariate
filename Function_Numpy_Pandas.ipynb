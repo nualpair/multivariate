{
  "nbformat": 4,
  "nbformat_minor": 0,
  "metadata": {
    "colab": {
      "name": "Function_Numpy_Pandas.ipynb",
      "provenance": [],
      "authorship_tag": "ABX9TyPzbICefBEUq3C6zN0hHVzS",
      "include_colab_link": true
    },
    "kernelspec": {
      "name": "python3",
      "display_name": "Python 3"
    }
  },
  "cells": [
    {
      "cell_type": "markdown",
      "metadata": {
        "id": "view-in-github",
        "colab_type": "text"
      },
      "source": [
        "<a href=\"https://colab.research.google.com/github/nualpair/multivariate/blob/main/Function_Numpy_Pandas.ipynb\" target=\"_parent\"><img src=\"https://colab.research.google.com/assets/colab-badge.svg\" alt=\"Open In Colab\"/></a>"
      ]
    },
    {
      "cell_type": "markdown",
      "metadata": {
        "id": "2kF61Q2jSS4m"
      },
      "source": [
        "#function"
      ]
    },
    {
      "cell_type": "markdown",
      "metadata": {
        "id": "owLa-Ft9hMeC"
      },
      "source": [
        "\r\n",
        "\r\n",
        "```python\r\n",
        "def function_name(Input_):\r\n",
        "  do_something with_Input_to produce_output_\r\n",
        "  return_output_\r\n",
        "```\r\n",
        "\r\n"
      ]
    },
    {
      "cell_type": "markdown",
      "metadata": {
        "id": "rsKmF7IsS99N"
      },
      "source": [
        "function มีส่วนสำคัญ 4 ส่วน\r\n",
        "\r\n",
        "\r\n",
        "1.บอก python ว่าเราจะเขียนฟังก์ชันชื่ออะไร def function_name(): (ขาดไม่ได้)\r\n",
        "\r\n",
        "\r\n",
        "2.กำหนดตัวแปรที่จะเป็น input *input* (ขาดได้)\r\n",
        "\r\n",
        "\r\n",
        "3.ส่วนประมวลผล do_something with *input* to get *output* (ขาดไม่ได้)\r\n",
        "\r\n",
        "\r\n",
        "4.ส่วน output return output (ขาดได้)\r\n",
        "\r\n",
        "เราใช้ เว้นวรรค(indent) เพื่อบอกขอบเขตของ code"
      ]
    },
    {
      "cell_type": "markdown",
      "metadata": {
        "id": "kFKCHAVzWNLZ"
      },
      "source": [
        "###สร้างฟังก์ชั่น"
      ]
    },
    {
      "cell_type": "code",
      "metadata": {
        "colab": {
          "base_uri": "https://localhost:8080/"
        },
        "id": "z9PEy87lU0Fs",
        "outputId": "445ecff6-8828-4277-b901-5bf73e14c8af"
      },
      "source": [
        "def print_name(name,surname,ID): #inputสามารถมีกี่ตัวหรือไม่มีก็ได้\r\n",
        "  st = f'ชื่อ {name} นามสกุล {surname} ID {ID}'\r\n",
        "  return st\r\n",
        "print ('outside function')"
      ],
      "execution_count": 15,
      "outputs": [
        {
          "output_type": "stream",
          "text": [
            "outside function\n"
          ],
          "name": "stdout"
        }
      ]
    },
    {
      "cell_type": "markdown",
      "metadata": {
        "id": "BH28_Bt3WzJ-"
      },
      "source": [
        "###เรียกใช้ฟังก์ชั่น"
      ]
    },
    {
      "cell_type": "code",
      "metadata": {
        "colab": {
          "base_uri": "https://localhost:8080/",
          "height": 38
        },
        "id": "2qJvATqrVL66",
        "outputId": "de606a8f-d52b-4f63-eac2-9eb8259a6e8a"
      },
      "source": [
        "print_name('กิตติมา','อุปสุข','623021040-9')"
      ],
      "execution_count": 16,
      "outputs": [
        {
          "output_type": "execute_result",
          "data": {
            "application/vnd.google.colaboratory.intrinsic+json": {
              "type": "string"
            },
            "text/plain": [
              "'ชื่อ กิตติมา นามสกุล อุปสุข ID 623021040-9'"
            ]
          },
          "metadata": {
            "tags": []
          },
          "execution_count": 16
        }
      ]
    },
    {
      "cell_type": "code",
      "metadata": {
        "colab": {
          "base_uri": "https://localhost:8080/"
        },
        "id": "DkZPDFxHWwpz",
        "outputId": "3b2dd1d2-b3bd-469f-f92b-f61d2ad0daa2"
      },
      "source": [
        "output_string = print_name('กิตติมา','อุปสุข','623021040-9')\r\n",
        "print(output_string)"
      ],
      "execution_count": 17,
      "outputs": [
        {
          "output_type": "stream",
          "text": [
            "ชื่อ กิตติมา นามสกุล อุปสุข ID 623021040-9\n"
          ],
          "name": "stdout"
        }
      ]
    },
    {
      "cell_type": "code",
      "metadata": {
        "id": "wxcJDPBBXc5G"
      },
      "source": [
        "def print_name2(surname,ID,name) :\r\n",
        "  st = f'ชื่อ {name} นามสกุล {surname} ID {ID}'\r\n",
        "  print(st)"
      ],
      "execution_count": 18,
      "outputs": []
    },
    {
      "cell_type": "markdown",
      "metadata": {
        "id": "iZ_N2-E0YgXV"
      },
      "source": [
        "##ฟังก์ชั่นที่ไม่จำเป็นต้องมี output"
      ]
    },
    {
      "cell_type": "code",
      "metadata": {
        "colab": {
          "base_uri": "https://localhost:8080/"
        },
        "id": "ThbzuQVsXxyD",
        "outputId": "fb0ed145-2349-4353-d063-2d94a5dee054"
      },
      "source": [
        "op2 = print_name2('กิตติมา','อุปสุข','623021040-9')"
      ],
      "execution_count": 19,
      "outputs": [
        {
          "output_type": "stream",
          "text": [
            "ชื่อ 623021040-9 นามสกุล กิตติมา ID อุปสุข\n"
          ],
          "name": "stdout"
        }
      ]
    },
    {
      "cell_type": "code",
      "metadata": {
        "colab": {
          "base_uri": "https://localhost:8080/"
        },
        "id": "JYQ1Y2IHYBqx",
        "outputId": "75d3599d-e8ea-4688-cc0a-e0951ce45191"
      },
      "source": [
        "print(op2)"
      ],
      "execution_count": 20,
      "outputs": [
        {
          "output_type": "stream",
          "text": [
            "None\n"
          ],
          "name": "stdout"
        }
      ]
    },
    {
      "cell_type": "markdown",
      "metadata": {
        "id": "5fYFP1WtY_hH"
      },
      "source": [
        "##ฟังก์ชั่นไม่จำเป็นต้องมี input"
      ]
    },
    {
      "cell_type": "code",
      "metadata": {
        "id": "fK33pvKgZEA8"
      },
      "source": [
        "def Pi():\r\n",
        "  return 3.14159265359"
      ],
      "execution_count": 21,
      "outputs": []
    },
    {
      "cell_type": "code",
      "metadata": {
        "colab": {
          "base_uri": "https://localhost:8080/"
        },
        "id": "v1gJn4I8ZPOr",
        "outputId": "9eca8d7d-0f63-48fd-b307-7a51e459d8e0"
      },
      "source": [
        "#คำนวณพื้นที่วงกลมที่มีขนาดเส้นผ่านศุนย์กลางเท่ากับ3\r\n",
        "Pi()*(1.5**2)"
      ],
      "execution_count": 22,
      "outputs": [
        {
          "output_type": "execute_result",
          "data": {
            "text/plain": [
              "7.0685834705775"
            ]
          },
          "metadata": {
            "tags": []
          },
          "execution_count": 22
        }
      ]
    },
    {
      "cell_type": "code",
      "metadata": {
        "id": "B3y9zQ5rZaCJ"
      },
      "source": [
        "def print_my_name():\r\n",
        "  print('นวลแพร')"
      ],
      "execution_count": 23,
      "outputs": []
    },
    {
      "cell_type": "code",
      "metadata": {
        "colab": {
          "base_uri": "https://localhost:8080/"
        },
        "id": "oegjIcEvZ40g",
        "outputId": "af7f7126-1ec6-4a08-cb4d-2fbd82c63a3d"
      },
      "source": [
        "print_my_name()"
      ],
      "execution_count": 24,
      "outputs": [
        {
          "output_type": "stream",
          "text": [
            "นวลแพร\n"
          ],
          "name": "stdout"
        }
      ]
    },
    {
      "cell_type": "markdown",
      "metadata": {
        "id": "aj8ixDfDaDXl"
      },
      "source": [
        "##input ของ function ใน python มีสองแบบ\r\n",
        "\r\n",
        "1.input ที่จำเป็นต้องใส่ (มีค่า default)\r\n",
        "\r\n",
        "2.input ที่ไม่จำเป็นต้องใส่"
      ]
    },
    {
      "cell_type": "code",
      "metadata": {
        "id": "AY8CtdqRanxx"
      },
      "source": [
        "def print_2lines_default(name,surname,ID,grade='f'):\r\n",
        "  st = f'ชื่อ {name} นามสกุล {surname} รหัส {ID}'\r\n",
        "  print(st)\r\n",
        "  st2=f'เกรดวิชา Multivariate >>> {grade}'\r\n",
        "  print(st2)"
      ],
      "execution_count": 25,
      "outputs": []
    },
    {
      "cell_type": "code",
      "metadata": {
        "colab": {
          "base_uri": "https://localhost:8080/"
        },
        "id": "MRBk5kmObM9C",
        "outputId": "df64ead2-cb3d-4086-e17f-a4a1d9fade08"
      },
      "source": [
        "print_2lines_default('นวลแพร','พนาวัฒนวงศ์','623020525-0')"
      ],
      "execution_count": 26,
      "outputs": [
        {
          "output_type": "stream",
          "text": [
            "ชื่อ นวลแพร นามสกุล พนาวัฒนวงศ์ รหัส 623020525-0\n",
            "เกรดวิชา Multivariate >>> f\n"
          ],
          "name": "stdout"
        }
      ]
    },
    {
      "cell_type": "code",
      "metadata": {
        "colab": {
          "base_uri": "https://localhost:8080/"
        },
        "id": "joF14lygbjLz",
        "outputId": "11e64be2-7920-4684-a3eb-8e344176176f"
      },
      "source": [
        "print_2lines_default('นวลแพร','พนาวัฒนวงศ์','623020525-0','A')"
      ],
      "execution_count": 27,
      "outputs": [
        {
          "output_type": "stream",
          "text": [
            "ชื่อ นวลแพร นามสกุล พนาวัฒนวงศ์ รหัส 623020525-0\n",
            "เกรดวิชา Multivariate >>> A\n"
          ],
          "name": "stdout"
        }
      ]
    },
    {
      "cell_type": "markdown",
      "metadata": {
        "id": "oxP9lOfbfDvo"
      },
      "source": [
        "##HW03 ให้เขียน function คำนวณจำนวนวินาทีจากเวลาต่อไปนี้\r\n",
        "\r\n",
        "'14-15-31'\r\n",
        "\r\n",
        "'13-00-01'\r\n",
        "\r\n",
        "'05-49-44'\r\n",
        "\r\n",
        "'00-00-16'\r\n",
        "\r\n",
        "และ print ให้สวยงาม\r\n",
        "\r\n"
      ]
    },
    {
      "cell_type": "code",
      "metadata": {
        "id": "iI9hbE9L70fV"
      },
      "source": [
        "def time(t):\r\n",
        "  j3=  int (t.split('-')[0])*3600\r\n",
        "  k3= int (t.split('-')[1])*60\r\n",
        "  n3 = int (t.split('-')[2])\r\n",
        "  tt = j3+k3+n3\r\n",
        "  print(\"แปลงเป็นวินาทีได้เท่ากับ\",tt,\" วินาที\")"
      ],
      "execution_count": 28,
      "outputs": []
    },
    {
      "cell_type": "code",
      "metadata": {
        "id": "nLQkoBAp71Ld",
        "colab": {
          "base_uri": "https://localhost:8080/"
        },
        "outputId": "518231f5-9a8d-4116-caa3-70848a230212"
      },
      "source": [
        "time('14-15-31') "
      ],
      "execution_count": 29,
      "outputs": [
        {
          "output_type": "stream",
          "text": [
            "แปลงเป็นวินาทีได้เท่ากับ 51331  วินาที\n"
          ],
          "name": "stdout"
        }
      ]
    },
    {
      "cell_type": "code",
      "metadata": {
        "id": "8QO-wlmQ721k",
        "colab": {
          "base_uri": "https://localhost:8080/"
        },
        "outputId": "d0907643-032d-4a72-b9ea-a973b8897a5f"
      },
      "source": [
        "time('13-00-01') "
      ],
      "execution_count": 30,
      "outputs": [
        {
          "output_type": "stream",
          "text": [
            "แปลงเป็นวินาทีได้เท่ากับ 46801  วินาที\n"
          ],
          "name": "stdout"
        }
      ]
    },
    {
      "cell_type": "code",
      "metadata": {
        "id": "QZkbJrsS74CG",
        "colab": {
          "base_uri": "https://localhost:8080/"
        },
        "outputId": "b58b51a9-24f7-4909-d4d8-5246d480eae7"
      },
      "source": [
        "time('05-49-44') "
      ],
      "execution_count": 31,
      "outputs": [
        {
          "output_type": "stream",
          "text": [
            "แปลงเป็นวินาทีได้เท่ากับ 20984  วินาที\n"
          ],
          "name": "stdout"
        }
      ]
    },
    {
      "cell_type": "code",
      "metadata": {
        "id": "QAUSz4r479jr",
        "colab": {
          "base_uri": "https://localhost:8080/"
        },
        "outputId": "7b32f864-a4ab-4cea-fc07-0e6c40aa073e"
      },
      "source": [
        "time('00-00-16') "
      ],
      "execution_count": 32,
      "outputs": [
        {
          "output_type": "stream",
          "text": [
            "แปลงเป็นวินาทีได้เท่ากับ 16  วินาที\n"
          ],
          "name": "stdout"
        }
      ]
    },
    {
      "cell_type": "markdown",
      "metadata": {
        "id": "LA_QYSEYSzWF"
      },
      "source": [
        "Numply -> package สำหรับการจัดการกับ array ที่เป็นตัวเลข (Matrix)\r\n",
        "\r\n",
        "Num+py -> Number-Numeracal + python\r\n",
        "\r\n",
        "ขั้นตอนการใช้ package\r\n",
        "\r\n",
        "1.```import``` ```ชื่อpackage``` #เรียกใช้package\r\n",
        "\r\n",
        "2.```ชื่อpackage```.```ชื่อฟังก์ชัน``` #เรียกใช่ฟังก์ชั่น"
      ]
    },
    {
      "cell_type": "code",
      "metadata": {
        "id": "dwI67qa2TtVF"
      },
      "source": [
        "import numpy"
      ],
      "execution_count": 52,
      "outputs": []
    },
    {
      "cell_type": "markdown",
      "metadata": {
        "id": "us0DF8gYUIXj"
      },
      "source": [
        "สร้าง array (numpy array)"
      ]
    },
    {
      "cell_type": "code",
      "metadata": {
        "id": "9H7HzLEwTvtQ",
        "outputId": "54d35ed9-61e4-43ce-c5b9-292fb48f372b",
        "colab": {
          "base_uri": "https://localhost:8080/"
        }
      },
      "source": [
        "mat_ex1 = numpy.array([[5.2,3.0,4.5],[9.1,0.1,0.3]])\r\n",
        "print(mat_ex1)"
      ],
      "execution_count": 54,
      "outputs": [
        {
          "output_type": "stream",
          "text": [
            "[[5.2 3.  4.5]\n",
            " [9.1 0.1 0.3]]\n"
          ],
          "name": "stdout"
        }
      ]
    },
    {
      "cell_type": "markdown",
      "metadata": {
        "id": "rc1RdwgfV37H"
      },
      "source": [
        "ชี้ค่าใน numpy array"
      ]
    },
    {
      "cell_type": "code",
      "metadata": {
        "id": "DRp_8z1eUodZ",
        "outputId": "6671f132-c551-4592-e7b9-1ade82b7727b",
        "colab": {
          "base_uri": "https://localhost:8080/"
        }
      },
      "source": [
        "mat_ex1[1,1] #[แถว,หลัก]"
      ],
      "execution_count": 55,
      "outputs": [
        {
          "output_type": "execute_result",
          "data": {
            "text/plain": [
              "0.1"
            ]
          },
          "metadata": {
            "tags": []
          },
          "execution_count": 55
        }
      ]
    },
    {
      "cell_type": "markdown",
      "metadata": {
        "id": "aAVFqxT0WEir"
      },
      "source": [
        "ถ้าไม่มี numpy array"
      ]
    },
    {
      "cell_type": "code",
      "metadata": {
        "id": "UOU8etJ3WIYZ"
      },
      "source": [
        "list_ex1 = [[5.2,3.0,4.5],[9.1,0.1,0.3]]\r\n",
        "print (list_ex1)"
      ],
      "execution_count": null,
      "outputs": []
    },
    {
      "cell_type": "code",
      "metadata": {
        "id": "Jufy3UdXWrbC"
      },
      "source": [
        "list_ex1[1][1]"
      ],
      "execution_count": null,
      "outputs": []
    },
    {
      "cell_type": "code",
      "metadata": {
        "id": "dfqTz3nbW13T"
      },
      "source": [
        "print (list_ex1)\r\n",
        "a = list_ex1[1]\r\n",
        "print (a)\r\n",
        "print (a[1])"
      ],
      "execution_count": null,
      "outputs": []
    },
    {
      "cell_type": "markdown",
      "metadata": {
        "id": "eycmqTjKX_7Z"
      },
      "source": [
        "Matrix Operation\r\n",
        "\r\n",
        "data 2 แบบ -> matrix (2D array) , scalar (ตัวเลขค่าคงที่)"
      ]
    },
    {
      "cell_type": "code",
      "metadata": {
        "id": "tXsPBnCwXqPf",
        "outputId": "ffc4868d-038b-441a-f665-7aef7c401bf8",
        "colab": {
          "base_uri": "https://localhost:8080/"
        }
      },
      "source": [
        "mat_ex1 = numpy.array ([[5.2,3.0,4.5],[9.1,0.1,0.3]])\r\n",
        "print (mat_ex1)\r\n",
        "mat_ex2 = numpy.array ([[2,3.7,5.9],[91,1.5,7.3]])\r\n",
        "print (mat_ex2)"
      ],
      "execution_count": 56,
      "outputs": [
        {
          "output_type": "stream",
          "text": [
            "[[5.2 3.  4.5]\n",
            " [9.1 0.1 0.3]]\n",
            "[[ 2.   3.7  5.9]\n",
            " [91.   1.5  7.3]]\n"
          ],
          "name": "stdout"
        }
      ]
    },
    {
      "cell_type": "markdown",
      "metadata": {
        "id": "ikCaCa5JZKm6"
      },
      "source": [
        "บวกกับลบ matrix เอาตัวเลขตำแหน่งเดียวกันมาบวกหรือลบกัน"
      ]
    },
    {
      "cell_type": "markdown",
      "metadata": {
        "id": "PnfxSnYpbYCm"
      },
      "source": [
        "ตรวจสอบขนาดของ matrix"
      ]
    },
    {
      "cell_type": "code",
      "metadata": {
        "id": "IyzvuP58Y6nF"
      },
      "source": [
        "mat_ex3.shap"
      ],
      "execution_count": null,
      "outputs": []
    }
  ]
}