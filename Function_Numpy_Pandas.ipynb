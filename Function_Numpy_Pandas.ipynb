{
  "nbformat": 4,
  "nbformat_minor": 0,
  "metadata": {
    "colab": {
      "name": "Function_Numpy_Pandas.ipynb",
      "provenance": [],
      "authorship_tag": "ABX9TyML5Q+a6tuyrFszi/OfHjgQ",
      "include_colab_link": true
    },
    "kernelspec": {
      "name": "python3",
      "display_name": "Python 3"
    }
  },
  "cells": [
    {
      "cell_type": "markdown",
      "metadata": {
        "id": "view-in-github",
        "colab_type": "text"
      },
      "source": [
        "<a href=\"https://colab.research.google.com/github/nualpair/multivariate/blob/main/Function_Numpy_Pandas.ipynb\" target=\"_parent\"><img src=\"https://colab.research.google.com/assets/colab-badge.svg\" alt=\"Open In Colab\"/></a>"
      ]
    },
    {
      "cell_type": "markdown",
      "metadata": {
        "id": "2kF61Q2jSS4m"
      },
      "source": [
        "#function"
      ]
    },
    {
      "cell_type": "markdown",
      "metadata": {
        "id": "owLa-Ft9hMeC"
      },
      "source": [
        "\r\n",
        "\r\n",
        "```python\r\n",
        "def function_name(Input_):\r\n",
        "  do_something with_Input_to produce_output_\r\n",
        "  return_output_\r\n",
        "```\r\n",
        "\r\n"
      ]
    },
    {
      "cell_type": "markdown",
      "metadata": {
        "id": "rsKmF7IsS99N"
      },
      "source": [
        "function มีส่วนสำคัญ 4 ส่วน\r\n",
        "\r\n",
        "\r\n",
        "1.บอก python ว่าเราจะเขียนฟังก์ชันชื่ออะไร def function_name(): (ขาดไม่ได้)\r\n",
        "\r\n",
        "\r\n",
        "2.กำหนดตัวแปรที่จะเป็น input *input* (ขาดได้)\r\n",
        "\r\n",
        "\r\n",
        "3.ส่วนประมวลผล do_something with *input* to get *output* (ขาดไม่ได้)\r\n",
        "\r\n",
        "\r\n",
        "4.ส่วน output return output (ขาดได้)\r\n",
        "\r\n",
        "เราใช้ เว้นวรรค(indent) เพื่อบอกขอบเขตของ code"
      ]
    },
    {
      "cell_type": "markdown",
      "metadata": {
        "id": "kFKCHAVzWNLZ"
      },
      "source": [
        "###สร้างฟังก์ชั่น"
      ]
    },
    {
      "cell_type": "code",
      "metadata": {
        "colab": {
          "base_uri": "https://localhost:8080/"
        },
        "id": "z9PEy87lU0Fs",
        "outputId": "54753d7b-05e4-4959-b58d-82b6b74d82a2"
      },
      "source": [
        "def print_name(name,surname,ID): #inputสามารถมีกี่ตัวหรือไม่มีก็ได้\r\n",
        "  st = f'ชื่อ {name} นามสกุล {surname} ID {ID}'\r\n",
        "  return st\r\n",
        "print ('outside function')"
      ],
      "execution_count": null,
      "outputs": [
        {
          "output_type": "stream",
          "text": [
            "outside function\n"
          ],
          "name": "stdout"
        }
      ]
    },
    {
      "cell_type": "markdown",
      "metadata": {
        "id": "BH28_Bt3WzJ-"
      },
      "source": [
        "###เรียกใช้ฟังก์ชั่น"
      ]
    },
    {
      "cell_type": "code",
      "metadata": {
        "colab": {
          "base_uri": "https://localhost:8080/",
          "height": 38
        },
        "id": "2qJvATqrVL66",
        "outputId": "e79878cc-d4b3-4fe4-d79b-84fb3524670d"
      },
      "source": [
        "print_name('กิตติมา','อุปสุข','623021040-9')"
      ],
      "execution_count": null,
      "outputs": [
        {
          "output_type": "execute_result",
          "data": {
            "application/vnd.google.colaboratory.intrinsic+json": {
              "type": "string"
            },
            "text/plain": [
              "'ชื่อ กิตติมา นามสกุล อุปสุข ID 623021040-9'"
            ]
          },
          "metadata": {
            "tags": []
          },
          "execution_count": 3
        }
      ]
    },
    {
      "cell_type": "code",
      "metadata": {
        "colab": {
          "base_uri": "https://localhost:8080/"
        },
        "id": "DkZPDFxHWwpz",
        "outputId": "9489cd24-bf55-4057-88dd-7385c620043f"
      },
      "source": [
        "output_string = print_name('กิตติมา','อุปสุข','623021040-9')\r\n",
        "print(output_string)"
      ],
      "execution_count": null,
      "outputs": [
        {
          "output_type": "stream",
          "text": [
            "ชื่อ กิตติมา นามสกุล อุปสุข ID 623021040-9\n"
          ],
          "name": "stdout"
        }
      ]
    },
    {
      "cell_type": "code",
      "metadata": {
        "id": "wxcJDPBBXc5G"
      },
      "source": [
        "def print_name2(surname,ID,name) :\r\n",
        "  st = f'ชื่อ {name} นามสกุล {surname} ID {ID}'\r\n",
        "  print(st)"
      ],
      "execution_count": null,
      "outputs": []
    },
    {
      "cell_type": "markdown",
      "metadata": {
        "id": "iZ_N2-E0YgXV"
      },
      "source": [
        "##ฟังก์ชั่นที่ไม่จำเป็นต้องมี output"
      ]
    },
    {
      "cell_type": "code",
      "metadata": {
        "colab": {
          "base_uri": "https://localhost:8080/"
        },
        "id": "ThbzuQVsXxyD",
        "outputId": "c9a07eac-2357-4b4e-edd8-195bfb69c8bf"
      },
      "source": [
        "op2 = print_name2('กิตติมา','อุปสุข','623021040-9')"
      ],
      "execution_count": null,
      "outputs": [
        {
          "output_type": "stream",
          "text": [
            "ชื่อ 623021040-9 นามสกุล กิตติมา ID อุปสุข\n"
          ],
          "name": "stdout"
        }
      ]
    },
    {
      "cell_type": "code",
      "metadata": {
        "colab": {
          "base_uri": "https://localhost:8080/"
        },
        "id": "JYQ1Y2IHYBqx",
        "outputId": "a98f7c37-6bb5-40d8-ba09-52dcec2fec3a"
      },
      "source": [
        "print(op2)"
      ],
      "execution_count": null,
      "outputs": [
        {
          "output_type": "stream",
          "text": [
            "None\n"
          ],
          "name": "stdout"
        }
      ]
    },
    {
      "cell_type": "markdown",
      "metadata": {
        "id": "5fYFP1WtY_hH"
      },
      "source": [
        "##ฟังก์ชั่นไม่จำเป็นต้องมี input"
      ]
    },
    {
      "cell_type": "code",
      "metadata": {
        "id": "fK33pvKgZEA8"
      },
      "source": [
        "def Pi():\r\n",
        "  return 3.14159265359"
      ],
      "execution_count": null,
      "outputs": []
    },
    {
      "cell_type": "code",
      "metadata": {
        "colab": {
          "base_uri": "https://localhost:8080/"
        },
        "id": "v1gJn4I8ZPOr",
        "outputId": "4a07529a-7ea8-4782-8324-c5a09655a0ff"
      },
      "source": [
        "#คำนวณพื้นที่วงกลมที่มีขนาดเส้นผ่านศุนย์กลางเท่ากับ3\r\n",
        "Pi()*(1.5**2)"
      ],
      "execution_count": null,
      "outputs": [
        {
          "output_type": "execute_result",
          "data": {
            "text/plain": [
              "7.0685834705775"
            ]
          },
          "metadata": {
            "tags": []
          },
          "execution_count": 13
        }
      ]
    },
    {
      "cell_type": "code",
      "metadata": {
        "id": "B3y9zQ5rZaCJ"
      },
      "source": [
        "def print_my_name():\r\n",
        "  print('นวลแพร')"
      ],
      "execution_count": null,
      "outputs": []
    },
    {
      "cell_type": "code",
      "metadata": {
        "colab": {
          "base_uri": "https://localhost:8080/"
        },
        "id": "oegjIcEvZ40g",
        "outputId": "1db31fd2-7754-4a0d-df17-6bd9fce09fcb"
      },
      "source": [
        "print_my_name()"
      ],
      "execution_count": null,
      "outputs": [
        {
          "output_type": "stream",
          "text": [
            "นวลแพร\n"
          ],
          "name": "stdout"
        }
      ]
    },
    {
      "cell_type": "markdown",
      "metadata": {
        "id": "aj8ixDfDaDXl"
      },
      "source": [
        "##input ของ function ใน python มีสองแบบ\r\n",
        "\r\n",
        "1.input ที่จำเป็นต้องใส่ (มีค่า default)\r\n",
        "\r\n",
        "2.input ที่ไม่จำเป็นต้องใส่"
      ]
    },
    {
      "cell_type": "code",
      "metadata": {
        "id": "AY8CtdqRanxx"
      },
      "source": [
        "def print_2lines_default(name,surname,ID,grade='f'):\r\n",
        "  st = f'ชื่อ {name} นามสกุล {surname} รหัส {ID}'\r\n",
        "  print(st)\r\n",
        "  st2=f'เกรดวิชา Multivariate >>> {grade}'\r\n",
        "  print(st2)"
      ],
      "execution_count": null,
      "outputs": []
    },
    {
      "cell_type": "code",
      "metadata": {
        "colab": {
          "base_uri": "https://localhost:8080/"
        },
        "id": "MRBk5kmObM9C",
        "outputId": "1ff09bf7-bbed-4b00-8f36-a6f753b54ada"
      },
      "source": [
        "print_2lines_default('นวลแพร','พนาวัฒนวงศ์','623020525-0')"
      ],
      "execution_count": null,
      "outputs": [
        {
          "output_type": "stream",
          "text": [
            "ชื่อ นวลแพร นามสกุล พนาวัฒนวงศ์ รหัส 623020525-0\n",
            "เกรดวิชา Multivariate >>> f\n"
          ],
          "name": "stdout"
        }
      ]
    },
    {
      "cell_type": "code",
      "metadata": {
        "colab": {
          "base_uri": "https://localhost:8080/"
        },
        "id": "joF14lygbjLz",
        "outputId": "2bf0f982-10b0-42a7-879c-a6d7ae0d61df"
      },
      "source": [
        "print_2lines_default('นวลแพร','พนาวัฒนวงศ์','623020525-0','A')"
      ],
      "execution_count": null,
      "outputs": [
        {
          "output_type": "stream",
          "text": [
            "ชื่อ นวลแพร นามสกุล พนาวัฒนวงศ์ รหัส 623020525-0\n",
            "เกรดวิชา Multivariate >>> A\n"
          ],
          "name": "stdout"
        }
      ]
    },
    {
      "cell_type": "markdown",
      "metadata": {
        "id": "oxP9lOfbfDvo"
      },
      "source": [
        "##HW03 ให้เขียน function คำนวณจำนวนวินาทีจากเวลาต่อไปนี้\r\n",
        "\r\n",
        "'14-15-31'\r\n",
        "\r\n",
        "'13-00-01'\r\n",
        "\r\n",
        "'05-49-44'\r\n",
        "\r\n",
        "'00-00-16'\r\n",
        "\r\n",
        "และ print ให้สวยงาม\r\n",
        "\r\n"
      ]
    },
    {
      "cell_type": "code",
      "metadata": {
        "id": "iI9hbE9L70fV"
      },
      "source": [
        "def time(t):\r\n",
        "  j3=  int (t.split('-')[0])*3600\r\n",
        "  k3= int (t.split('-')[1])*60\r\n",
        "  n3 = int (t.split('-')[2])\r\n",
        "  tt = j3+k3+n3\r\n",
        "  print(\"แปลงเป็นวินาทีได้เท่ากับ\",tt,\" วินาที\")"
      ],
      "execution_count": 1,
      "outputs": []
    },
    {
      "cell_type": "code",
      "metadata": {
        "id": "nLQkoBAp71Ld",
        "outputId": "846ae5d5-192a-4e3f-cb8d-bcd6a45faba9",
        "colab": {
          "base_uri": "https://localhost:8080/"
        }
      },
      "source": [
        "time('14-15-31') "
      ],
      "execution_count": 2,
      "outputs": [
        {
          "output_type": "stream",
          "text": [
            "แปลงเป็นวินาทีได้เท่ากับ 51331  วินาที\n"
          ],
          "name": "stdout"
        }
      ]
    },
    {
      "cell_type": "code",
      "metadata": {
        "id": "8QO-wlmQ721k",
        "outputId": "940ea41a-312a-489e-a602-fbf1c772d746",
        "colab": {
          "base_uri": "https://localhost:8080/"
        }
      },
      "source": [
        "time('13-00-01') "
      ],
      "execution_count": 3,
      "outputs": [
        {
          "output_type": "stream",
          "text": [
            "แปลงเป็นวินาทีได้เท่ากับ 46801  วินาที\n"
          ],
          "name": "stdout"
        }
      ]
    },
    {
      "cell_type": "code",
      "metadata": {
        "id": "QZkbJrsS74CG",
        "outputId": "14ca12f9-60fb-4028-e023-f3d8e2b2e7c8",
        "colab": {
          "base_uri": "https://localhost:8080/"
        }
      },
      "source": [
        "time('05-49-44') "
      ],
      "execution_count": 4,
      "outputs": [
        {
          "output_type": "stream",
          "text": [
            "แปลงเป็นวินาทีได้เท่ากับ 20984  วินาที\n"
          ],
          "name": "stdout"
        }
      ]
    },
    {
      "cell_type": "code",
      "metadata": {
        "id": "QAUSz4r479jr",
        "outputId": "860fa698-a5a3-4569-b532-86f48dd1b137",
        "colab": {
          "base_uri": "https://localhost:8080/"
        }
      },
      "source": [
        "time('00-00-16') "
      ],
      "execution_count": 5,
      "outputs": [
        {
          "output_type": "stream",
          "text": [
            "แปลงเป็นวินาทีได้เท่ากับ 16  วินาที\n"
          ],
          "name": "stdout"
        }
      ]
    }
  ]
}