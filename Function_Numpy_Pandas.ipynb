{
  "nbformat": 4,
  "nbformat_minor": 0,
  "metadata": {
    "colab": {
      "name": "Function_Numpy_Pandas.ipynb",
      "provenance": [],
      "include_colab_link": true
    },
    "kernelspec": {
      "name": "python3",
      "display_name": "Python 3"
    }
  },
  "cells": [
    {
      "cell_type": "markdown",
      "metadata": {
        "id": "view-in-github",
        "colab_type": "text"
      },
      "source": [
        "<a href=\"https://colab.research.google.com/github/nualpair/multivariate/blob/main/Function_Numpy_Pandas.ipynb\" target=\"_parent\"><img src=\"https://colab.research.google.com/assets/colab-badge.svg\" alt=\"Open In Colab\"/></a>"
      ]
    },
    {
      "cell_type": "markdown",
      "metadata": {
        "id": "2kF61Q2jSS4m"
      },
      "source": [
        "#function"
      ]
    },
    {
      "cell_type": "markdown",
      "metadata": {
        "id": "owLa-Ft9hMeC"
      },
      "source": [
        "\r\n",
        "\r\n",
        "```python\r\n",
        "def function_name(Input_):\r\n",
        "  do_something with_Input_to produce_output_\r\n",
        "  return_output_\r\n",
        "```\r\n",
        "\r\n"
      ]
    },
    {
      "cell_type": "markdown",
      "metadata": {
        "id": "rsKmF7IsS99N"
      },
      "source": [
        "function มีส่วนสำคัญ 4 ส่วน\r\n",
        "\r\n",
        "\r\n",
        "1.บอก python ว่าเราจะเขียนฟังก์ชันชื่ออะไร def function_name(): (ขาดไม่ได้)\r\n",
        "\r\n",
        "\r\n",
        "2.กำหนดตัวแปรที่จะเป็น input *input* (ขาดได้)\r\n",
        "\r\n",
        "\r\n",
        "3.ส่วนประมวลผล do_something with *input* to get *output* (ขาดไม่ได้)\r\n",
        "\r\n",
        "\r\n",
        "4.ส่วน output return output (ขาดได้)\r\n",
        "\r\n",
        "เราใช้ เว้นวรรค(indent) เพื่อบอกขอบเขตของ code"
      ]
    },
    {
      "cell_type": "markdown",
      "metadata": {
        "id": "kFKCHAVzWNLZ"
      },
      "source": [
        "###สร้างฟังก์ชั่น"
      ]
    },
    {
      "cell_type": "code",
      "metadata": {
        "colab": {
          "base_uri": "https://localhost:8080/"
        },
        "id": "z9PEy87lU0Fs",
        "outputId": "59778ba7-375f-487d-8edb-a015be4b991a"
      },
      "source": [
        "def print_name(name,surname,ID): #inputสามารถมีกี่ตัวหรือไม่มีก็ได้\r\n",
        "  st = f'ชื่อ {name} นามสกุล {surname} ID {ID}'\r\n",
        "  return st\r\n",
        "print ('outside function')"
      ],
      "execution_count": null,
      "outputs": [
        {
          "output_type": "stream",
          "text": [
            "outside function\n"
          ],
          "name": "stdout"
        }
      ]
    },
    {
      "cell_type": "markdown",
      "metadata": {
        "id": "BH28_Bt3WzJ-"
      },
      "source": [
        "###เรียกใช้ฟังก์ชั่น"
      ]
    },
    {
      "cell_type": "code",
      "metadata": {
        "colab": {
          "base_uri": "https://localhost:8080/",
          "height": 35
        },
        "id": "2qJvATqrVL66",
        "outputId": "a8ad11cd-0960-4653-8283-e20f090dbbbf"
      },
      "source": [
        "print_name('กิตติมา','อุปสุข','623021040-9')"
      ],
      "execution_count": null,
      "outputs": [
        {
          "output_type": "execute_result",
          "data": {
            "application/vnd.google.colaboratory.intrinsic+json": {
              "type": "string"
            },
            "text/plain": [
              "'ชื่อ กิตติมา นามสกุล อุปสุข ID 623021040-9'"
            ]
          },
          "metadata": {
            "tags": []
          },
          "execution_count": 2
        }
      ]
    },
    {
      "cell_type": "code",
      "metadata": {
        "colab": {
          "base_uri": "https://localhost:8080/"
        },
        "id": "DkZPDFxHWwpz",
        "outputId": "15fdf8f4-9bb6-4cb6-d57e-0e0db4b6dff8"
      },
      "source": [
        "output_string = print_name('กิตติมา','อุปสุข','623021040-9')\r\n",
        "print(output_string)"
      ],
      "execution_count": null,
      "outputs": [
        {
          "output_type": "stream",
          "text": [
            "ชื่อ กิตติมา นามสกุล อุปสุข ID 623021040-9\n"
          ],
          "name": "stdout"
        }
      ]
    },
    {
      "cell_type": "code",
      "metadata": {
        "id": "wxcJDPBBXc5G"
      },
      "source": [
        "def print_name2(surname,ID,name) :\r\n",
        "  st = f'ชื่อ {name} นามสกุล {surname} ID {ID}'\r\n",
        "  print(st)"
      ],
      "execution_count": null,
      "outputs": []
    },
    {
      "cell_type": "markdown",
      "metadata": {
        "id": "iZ_N2-E0YgXV"
      },
      "source": [
        "##ฟังก์ชั่นที่ไม่จำเป็นต้องมี output"
      ]
    },
    {
      "cell_type": "code",
      "metadata": {
        "colab": {
          "base_uri": "https://localhost:8080/"
        },
        "id": "ThbzuQVsXxyD",
        "outputId": "e447f3ee-b0b1-4c53-eb9c-787d93622144"
      },
      "source": [
        "op2 = print_name2('กิตติมา','อุปสุข','623021040-9')"
      ],
      "execution_count": null,
      "outputs": [
        {
          "output_type": "stream",
          "text": [
            "ชื่อ 623021040-9 นามสกุล กิตติมา ID อุปสุข\n"
          ],
          "name": "stdout"
        }
      ]
    },
    {
      "cell_type": "code",
      "metadata": {
        "colab": {
          "base_uri": "https://localhost:8080/"
        },
        "id": "JYQ1Y2IHYBqx",
        "outputId": "8bbe7461-6f85-4ab0-dbc8-2eccec1ab105"
      },
      "source": [
        "print(op2)"
      ],
      "execution_count": null,
      "outputs": [
        {
          "output_type": "stream",
          "text": [
            "None\n"
          ],
          "name": "stdout"
        }
      ]
    },
    {
      "cell_type": "markdown",
      "metadata": {
        "id": "5fYFP1WtY_hH"
      },
      "source": [
        "##ฟังก์ชั่นไม่จำเป็นต้องมี input"
      ]
    },
    {
      "cell_type": "code",
      "metadata": {
        "id": "fK33pvKgZEA8"
      },
      "source": [
        "def Pi():\r\n",
        "  return 3.14159265359"
      ],
      "execution_count": null,
      "outputs": []
    },
    {
      "cell_type": "code",
      "metadata": {
        "colab": {
          "base_uri": "https://localhost:8080/"
        },
        "id": "v1gJn4I8ZPOr",
        "outputId": "25f1ec20-8083-4897-9307-9d6b10f5b7f3"
      },
      "source": [
        "#คำนวณพื้นที่วงกลมที่มีขนาดเส้นผ่านศุนย์กลางเท่ากับ3\r\n",
        "Pi()*(1.5**2)"
      ],
      "execution_count": null,
      "outputs": [
        {
          "output_type": "execute_result",
          "data": {
            "text/plain": [
              "7.0685834705775"
            ]
          },
          "metadata": {
            "tags": []
          },
          "execution_count": 8
        }
      ]
    },
    {
      "cell_type": "code",
      "metadata": {
        "id": "B3y9zQ5rZaCJ"
      },
      "source": [
        "def print_my_name():\r\n",
        "  print('นวลแพร')"
      ],
      "execution_count": null,
      "outputs": []
    },
    {
      "cell_type": "code",
      "metadata": {
        "colab": {
          "base_uri": "https://localhost:8080/"
        },
        "id": "oegjIcEvZ40g",
        "outputId": "38c78c50-1167-4c94-98f1-05ea38f34d38"
      },
      "source": [
        "print_my_name()"
      ],
      "execution_count": null,
      "outputs": [
        {
          "output_type": "stream",
          "text": [
            "นวลแพร\n"
          ],
          "name": "stdout"
        }
      ]
    },
    {
      "cell_type": "markdown",
      "metadata": {
        "id": "aj8ixDfDaDXl"
      },
      "source": [
        "##input ของ function ใน python มีสองแบบ\r\n",
        "\r\n",
        "1.input ที่จำเป็นต้องใส่ (มีค่า default)\r\n",
        "\r\n",
        "2.input ที่ไม่จำเป็นต้องใส่"
      ]
    },
    {
      "cell_type": "code",
      "metadata": {
        "id": "AY8CtdqRanxx"
      },
      "source": [
        "def print_2lines_default(name,surname,ID,grade='f'):\r\n",
        "  st = f'ชื่อ {name} นามสกุล {surname} รหัส {ID}'\r\n",
        "  print(st)\r\n",
        "  st2=f'เกรดวิชา Multivariate >>> {grade}'\r\n",
        "  print(st2)"
      ],
      "execution_count": null,
      "outputs": []
    },
    {
      "cell_type": "code",
      "metadata": {
        "colab": {
          "base_uri": "https://localhost:8080/"
        },
        "id": "MRBk5kmObM9C",
        "outputId": "dd3514d3-8408-4993-dbe0-646ca5c962b9"
      },
      "source": [
        "print_2lines_default('นวลแพร','พนาวัฒนวงศ์','623020525-0')"
      ],
      "execution_count": null,
      "outputs": [
        {
          "output_type": "stream",
          "text": [
            "ชื่อ นวลแพร นามสกุล พนาวัฒนวงศ์ รหัส 623020525-0\n",
            "เกรดวิชา Multivariate >>> f\n"
          ],
          "name": "stdout"
        }
      ]
    },
    {
      "cell_type": "code",
      "metadata": {
        "colab": {
          "base_uri": "https://localhost:8080/"
        },
        "id": "joF14lygbjLz",
        "outputId": "af033e1c-4016-456d-a9d4-d82aa5ee0838"
      },
      "source": [
        "print_2lines_default('นวลแพร','พนาวัฒนวงศ์','623020525-0','A')"
      ],
      "execution_count": null,
      "outputs": [
        {
          "output_type": "stream",
          "text": [
            "ชื่อ นวลแพร นามสกุล พนาวัฒนวงศ์ รหัส 623020525-0\n",
            "เกรดวิชา Multivariate >>> A\n"
          ],
          "name": "stdout"
        }
      ]
    },
    {
      "cell_type": "markdown",
      "metadata": {
        "id": "oxP9lOfbfDvo"
      },
      "source": [
        "##HW03 ให้เขียน function คำนวณจำนวนวินาทีจากเวลาต่อไปนี้\r\n",
        "\r\n",
        "'14-15-31'\r\n",
        "\r\n",
        "'13-00-01'\r\n",
        "\r\n",
        "'05-49-44'\r\n",
        "\r\n",
        "'00-00-16'\r\n",
        "\r\n",
        "และ print ให้สวยงาม\r\n",
        "\r\n"
      ]
    },
    {
      "cell_type": "code",
      "metadata": {
        "id": "iI9hbE9L70fV"
      },
      "source": [
        "def time(t):\r\n",
        "  j3=  int (t.split('-')[0])*3600\r\n",
        "  k3= int (t.split('-')[1])*60\r\n",
        "  n3 = int (t.split('-')[2])\r\n",
        "  tt = j3+k3+n3\r\n",
        "  print(\"แปลงเป็นวินาทีได้เท่ากับ\",tt,\" วินาที\")"
      ],
      "execution_count": null,
      "outputs": []
    },
    {
      "cell_type": "code",
      "metadata": {
        "id": "nLQkoBAp71Ld",
        "colab": {
          "base_uri": "https://localhost:8080/"
        },
        "outputId": "9d3c13bc-cc90-4b61-9b72-ba646f293c02"
      },
      "source": [
        "time('14-15-31') "
      ],
      "execution_count": null,
      "outputs": [
        {
          "output_type": "stream",
          "text": [
            "แปลงเป็นวินาทีได้เท่ากับ 51331  วินาที\n"
          ],
          "name": "stdout"
        }
      ]
    },
    {
      "cell_type": "code",
      "metadata": {
        "id": "8QO-wlmQ721k",
        "colab": {
          "base_uri": "https://localhost:8080/"
        },
        "outputId": "d8382ce6-fedc-43fd-a488-12d996f5e671"
      },
      "source": [
        "time('13-00-01') "
      ],
      "execution_count": null,
      "outputs": [
        {
          "output_type": "stream",
          "text": [
            "แปลงเป็นวินาทีได้เท่ากับ 46801  วินาที\n"
          ],
          "name": "stdout"
        }
      ]
    },
    {
      "cell_type": "code",
      "metadata": {
        "id": "QZkbJrsS74CG",
        "colab": {
          "base_uri": "https://localhost:8080/"
        },
        "outputId": "f28b63b0-b0b5-4eb2-bede-97cea4f0332f"
      },
      "source": [
        "time('05-49-44') "
      ],
      "execution_count": null,
      "outputs": [
        {
          "output_type": "stream",
          "text": [
            "แปลงเป็นวินาทีได้เท่ากับ 20984  วินาที\n"
          ],
          "name": "stdout"
        }
      ]
    },
    {
      "cell_type": "code",
      "metadata": {
        "id": "QAUSz4r479jr",
        "colab": {
          "base_uri": "https://localhost:8080/"
        },
        "outputId": "1ef0a8be-f36f-493c-bf9e-5e4fcb3ceb3b"
      },
      "source": [
        "time('00-00-16') "
      ],
      "execution_count": null,
      "outputs": [
        {
          "output_type": "stream",
          "text": [
            "แปลงเป็นวินาทีได้เท่ากับ 16  วินาที\n"
          ],
          "name": "stdout"
        }
      ]
    },
    {
      "cell_type": "markdown",
      "metadata": {
        "id": "LA_QYSEYSzWF"
      },
      "source": [
        "Numply -> package สำหรับการจัดการกับ array ที่เป็นตัวเลข (Matrix)\r\n",
        "\r\n",
        "Num+py -> Number-Numeracal + python\r\n",
        "\r\n",
        "ขั้นตอนการใช้ package\r\n",
        "\r\n",
        "1.```import``` ```ชื่อpackage``` #เรียกใช้package\r\n",
        "\r\n",
        "2.```ชื่อpackage```.```ชื่อฟังก์ชัน``` #เรียกใช่ฟังก์ชั่น"
      ]
    },
    {
      "cell_type": "code",
      "metadata": {
        "id": "dwI67qa2TtVF"
      },
      "source": [
        "import numpy"
      ],
      "execution_count": null,
      "outputs": []
    },
    {
      "cell_type": "markdown",
      "metadata": {
        "id": "us0DF8gYUIXj"
      },
      "source": [
        "สร้าง array (numpy array)"
      ]
    },
    {
      "cell_type": "code",
      "metadata": {
        "id": "9H7HzLEwTvtQ",
        "colab": {
          "base_uri": "https://localhost:8080/"
        },
        "outputId": "74561f35-232b-41e3-af4d-eb306dd09e7f"
      },
      "source": [
        "mat_ex1 = numpy.array([[5.2,3.0,4.5],[9.1,0.1,0.3]])\r\n",
        "print(mat_ex1)"
      ],
      "execution_count": null,
      "outputs": [
        {
          "output_type": "stream",
          "text": [
            "[[5.2 3.  4.5]\n",
            " [9.1 0.1 0.3]]\n"
          ],
          "name": "stdout"
        }
      ]
    },
    {
      "cell_type": "markdown",
      "metadata": {
        "id": "rc1RdwgfV37H"
      },
      "source": [
        "ชี้ค่าใน numpy array"
      ]
    },
    {
      "cell_type": "code",
      "metadata": {
        "id": "DRp_8z1eUodZ",
        "colab": {
          "base_uri": "https://localhost:8080/"
        },
        "outputId": "40782824-a088-45bb-8dda-ed125169ffc2"
      },
      "source": [
        "mat_ex1[1,1] #[แถว,หลัก]"
      ],
      "execution_count": null,
      "outputs": [
        {
          "output_type": "execute_result",
          "data": {
            "text/plain": [
              "0.1"
            ]
          },
          "metadata": {
            "tags": []
          },
          "execution_count": 21
        }
      ]
    },
    {
      "cell_type": "markdown",
      "metadata": {
        "id": "aAVFqxT0WEir"
      },
      "source": [
        "ถ้าไม่มี numpy array"
      ]
    },
    {
      "cell_type": "code",
      "metadata": {
        "id": "UOU8etJ3WIYZ",
        "colab": {
          "base_uri": "https://localhost:8080/"
        },
        "outputId": "6ce430f9-d301-44ce-a9a6-711381e4d044"
      },
      "source": [
        "list_ex1 = [[5.2,3.0,4.5],[9.1,0.1,0.3]]\r\n",
        "print (list_ex1)"
      ],
      "execution_count": null,
      "outputs": [
        {
          "output_type": "stream",
          "text": [
            "[[5.2, 3.0, 4.5], [9.1, 0.1, 0.3]]\n"
          ],
          "name": "stdout"
        }
      ]
    },
    {
      "cell_type": "code",
      "metadata": {
        "id": "Jufy3UdXWrbC",
        "colab": {
          "base_uri": "https://localhost:8080/"
        },
        "outputId": "700688b2-80a0-4926-b234-198550495e29"
      },
      "source": [
        "list_ex1[1][1]"
      ],
      "execution_count": null,
      "outputs": [
        {
          "output_type": "execute_result",
          "data": {
            "text/plain": [
              "0.1"
            ]
          },
          "metadata": {
            "tags": []
          },
          "execution_count": 23
        }
      ]
    },
    {
      "cell_type": "code",
      "metadata": {
        "id": "dfqTz3nbW13T",
        "colab": {
          "base_uri": "https://localhost:8080/"
        },
        "outputId": "2f6307bd-7edb-47e2-c82e-efac7d1a24d2"
      },
      "source": [
        "print (list_ex1)\r\n",
        "a = list_ex1[1]\r\n",
        "print (a)\r\n",
        "print (a[1])"
      ],
      "execution_count": null,
      "outputs": [
        {
          "output_type": "stream",
          "text": [
            "[[5.2, 3.0, 4.5], [9.1, 0.1, 0.3]]\n",
            "[9.1, 0.1, 0.3]\n",
            "0.1\n"
          ],
          "name": "stdout"
        }
      ]
    },
    {
      "cell_type": "markdown",
      "metadata": {
        "id": "eycmqTjKX_7Z"
      },
      "source": [
        "Matrix Operation\r\n",
        "\r\n",
        "data 2 แบบ -> matrix (2D array) , scalar (ตัวเลขค่าคงที่)"
      ]
    },
    {
      "cell_type": "code",
      "metadata": {
        "id": "tXsPBnCwXqPf",
        "colab": {
          "base_uri": "https://localhost:8080/"
        },
        "outputId": "f3220742-d4f6-4236-b7be-371cccadd88a"
      },
      "source": [
        "mat_ex1 = numpy.array ([[5.2,3.0,4.5],[9.1,0.1,0.3]])\r\n",
        "print (mat_ex1)\r\n",
        "mat_ex2 = numpy.array ([[2,3.7,5.9],[91,1.5,7.3]])\r\n",
        "print (mat_ex2)"
      ],
      "execution_count": null,
      "outputs": [
        {
          "output_type": "stream",
          "text": [
            "[[5.2 3.  4.5]\n",
            " [9.1 0.1 0.3]]\n",
            "[[ 2.   3.7  5.9]\n",
            " [91.   1.5  7.3]]\n"
          ],
          "name": "stdout"
        }
      ]
    },
    {
      "cell_type": "markdown",
      "metadata": {
        "id": "ikCaCa5JZKm6"
      },
      "source": [
        "###บวกกับลบ matrix เอาตัวเลขตำแหน่งเดียวกันมาบวกหรือลบกัน"
      ]
    },
    {
      "cell_type": "code",
      "metadata": {
        "id": "tujFRk9Mk528",
        "colab": {
          "base_uri": "https://localhost:8080/"
        },
        "outputId": "a4531ee8-53d6-4401-ec83-168ec7bb84ae"
      },
      "source": [
        "mat_ex0 = numpy.array([[1,2],[3,4]])\r\n",
        "print(mat_ex0)"
      ],
      "execution_count": null,
      "outputs": [
        {
          "output_type": "stream",
          "text": [
            "[[1 2]\n",
            " [3 4]]\n"
          ],
          "name": "stdout"
        }
      ]
    },
    {
      "cell_type": "code",
      "metadata": {
        "id": "xffiEu96lA3z",
        "colab": {
          "base_uri": "https://localhost:8080/"
        },
        "outputId": "d0dbfbf9-11cc-4b10-c024-02c6b9c698be"
      },
      "source": [
        "mat_ex3 = mat_ex1 + mat_ex2 \r\n",
        "print(mat_ex3)\r\n",
        "mat_ex4 = mat_ex1 + mat_ex2\r\n",
        "print(mat_ex4)"
      ],
      "execution_count": null,
      "outputs": [
        {
          "output_type": "stream",
          "text": [
            "[[  7.2   6.7  10.4]\n",
            " [100.1   1.6   7.6]]\n",
            "[[  7.2   6.7  10.4]\n",
            " [100.1   1.6   7.6]]\n"
          ],
          "name": "stdout"
        }
      ]
    },
    {
      "cell_type": "markdown",
      "metadata": {
        "id": "PnfxSnYpbYCm"
      },
      "source": [
        "ตรวจสอบขนาดของ matrix"
      ]
    },
    {
      "cell_type": "code",
      "metadata": {
        "id": "smyqcrSnlARR",
        "colab": {
          "base_uri": "https://localhost:8080/"
        },
        "outputId": "8f860bb7-b202-4d1d-a0da-4db708aa43e4"
      },
      "source": [
        "\r\n",
        "mat_ex2.shape"
      ],
      "execution_count": null,
      "outputs": [
        {
          "output_type": "execute_result",
          "data": {
            "text/plain": [
              "(2, 3)"
            ]
          },
          "metadata": {
            "tags": []
          },
          "execution_count": 29
        }
      ]
    },
    {
      "cell_type": "code",
      "metadata": {
        "id": "IyzvuP58Y6nF",
        "colab": {
          "base_uri": "https://localhost:8080/"
        },
        "outputId": "c0391ea8-926c-498f-8893-e59a0524208e"
      },
      "source": [
        "\r\n",
        "mat_ex3.shape[0]"
      ],
      "execution_count": null,
      "outputs": [
        {
          "output_type": "execute_result",
          "data": {
            "text/plain": [
              "2"
            ]
          },
          "metadata": {
            "tags": []
          },
          "execution_count": 32
        }
      ]
    },
    {
      "cell_type": "markdown",
      "metadata": {
        "id": "UlCDr3N1l2p9"
      },
      "source": [
        "##**การคูณ matrix**"
      ]
    },
    {
      "cell_type": "code",
      "metadata": {
        "id": "rYrU3GGJl5IM",
        "colab": {
          "base_uri": "https://localhost:8080/"
        },
        "outputId": "babe3f53-683e-4da6-f936-5e28b112e7c7"
      },
      "source": [
        "print(mat_ex1)\r\n",
        "print(mat_ex1.shape)\r\n",
        "print(mat_ex2)\r\n",
        "print(mat_ex2.shape)"
      ],
      "execution_count": null,
      "outputs": [
        {
          "output_type": "stream",
          "text": [
            "[[5.2 3.  4.5]\n",
            " [9.1 0.1 0.3]]\n",
            "(2, 3)\n",
            "[[ 2.   3.7  5.9]\n",
            " [91.   1.5  7.3]]\n",
            "(2, 3)\n"
          ],
          "name": "stdout"
        }
      ]
    },
    {
      "cell_type": "code",
      "metadata": {
        "id": "PKp7fpyql7NW",
        "colab": {
          "base_uri": "https://localhost:8080/"
        },
        "outputId": "4cd7ad03-4231-48a0-c08b-31b927bedd84"
      },
      "source": [
        "mat_ex1*mat_ex2"
      ],
      "execution_count": null,
      "outputs": [
        {
          "output_type": "execute_result",
          "data": {
            "text/plain": [
              "array([[1.040e+01, 1.110e+01, 2.655e+01],\n",
              "       [8.281e+02, 1.500e-01, 2.190e+00]])"
            ]
          },
          "metadata": {
            "tags": []
          },
          "execution_count": 34
        }
      ]
    },
    {
      "cell_type": "markdown",
      "metadata": {
        "id": "tL8Pl0eal-VO"
      },
      "source": [
        "##**การคูณ matrix (แถวคูณหลัก)**\r\n",
        "\r\n",
        "(หลักของ matrix ตัวข้างหน้า ต้องเท่ากับแถวของ matrix ตัวข้างหลัง)\r\n",
        "\r\n",
        "dot product (AAA,x),(x,ZZZ) = (AAA,ZZZ)"
      ]
    },
    {
      "cell_type": "code",
      "metadata": {
        "id": "4n9nCNtml9Ls",
        "colab": {
          "base_uri": "https://localhost:8080/"
        },
        "outputId": "cb236e96-3695-4528-df61-537f51dbbb67"
      },
      "source": [
        "print(mat_ex1)\r\n",
        "print(mat_ex1.shape)\r\n",
        "print(mat_ex2)\r\n",
        "print(mat_ex2.shape)"
      ],
      "execution_count": null,
      "outputs": [
        {
          "output_type": "stream",
          "text": [
            "[[5.2 3.  4.5]\n",
            " [9.1 0.1 0.3]]\n",
            "(2, 3)\n",
            "[[ 2.   3.7  5.9]\n",
            " [91.   1.5  7.3]]\n",
            "(2, 3)\n"
          ],
          "name": "stdout"
        }
      ]
    },
    {
      "cell_type": "markdown",
      "metadata": {
        "id": "ZQ9XwhFWmISc"
      },
      "source": [
        "##**Transpose กลับแถวเป็นหลัก กลับหลักเป็นแถว**\r\n",
        "\r\n",
        "\r\n",
        "matrix.T"
      ]
    },
    {
      "cell_type": "code",
      "metadata": {
        "id": "pCrjjnRFmGEL",
        "colab": {
          "base_uri": "https://localhost:8080/"
        },
        "outputId": "38cf1216-9d7f-4412-8b1f-b8e899a2e7b8"
      },
      "source": [
        "print(mat_ex2)\r\n",
        "print(mat_ex2.shape)"
      ],
      "execution_count": null,
      "outputs": [
        {
          "output_type": "stream",
          "text": [
            "[[ 2.   3.7  5.9]\n",
            " [91.   1.5  7.3]]\n",
            "(2, 3)\n"
          ],
          "name": "stdout"
        }
      ]
    },
    {
      "cell_type": "code",
      "metadata": {
        "id": "BiirDhammNDi",
        "colab": {
          "base_uri": "https://localhost:8080/"
        },
        "outputId": "708dd063-1ba5-4730-d211-2706287d6b33"
      },
      "source": [
        "print(mat_ex2.T)\r\n",
        "print(mat_ex2.T.shape)"
      ],
      "execution_count": null,
      "outputs": [
        {
          "output_type": "stream",
          "text": [
            "[[ 2.  91. ]\n",
            " [ 3.7  1.5]\n",
            " [ 5.9  7.3]]\n",
            "(3, 2)\n"
          ],
          "name": "stdout"
        }
      ]
    },
    {
      "cell_type": "code",
      "metadata": {
        "id": "uogGon4TmQyf",
        "colab": {
          "base_uri": "https://localhost:8080/"
        },
        "outputId": "3a1be93a-f662-4958-daf5-e1681a85e0bd"
      },
      "source": [
        "numpy.dot(mat_ex1,mat_ex2.T) #(2,3).(3,2)"
      ],
      "execution_count": null,
      "outputs": [
        {
          "output_type": "execute_result",
          "data": {
            "text/plain": [
              "array([[ 48.05, 510.55],\n",
              "       [ 20.34, 830.44]])"
            ]
          },
          "metadata": {
            "tags": []
          },
          "execution_count": 38
        }
      ]
    },
    {
      "cell_type": "code",
      "metadata": {
        "id": "U8j9oGBfmR_V",
        "colab": {
          "base_uri": "https://localhost:8080/"
        },
        "outputId": "7d89703c-8784-4570-8ded-59c26e532e99"
      },
      "source": [
        "numpy.dot (mat_ex1.T ,mat_ex2) #(3,2).(2,3)=(3,3)"
      ],
      "execution_count": null,
      "outputs": [
        {
          "output_type": "execute_result",
          "data": {
            "text/plain": [
              "array([[838.5 ,  32.89,  97.11],\n",
              "       [ 15.1 ,  11.25,  18.43],\n",
              "       [ 36.3 ,  17.1 ,  28.74]])"
            ]
          },
          "metadata": {
            "tags": []
          },
          "execution_count": 39
        }
      ]
    },
    {
      "cell_type": "markdown",
      "metadata": {
        "id": "a1W57SgImXil"
      },
      "source": [
        "#**HW4 อธิบายการหา Determinant และ Inverse matrix (รูปและอธิบาย)**\r\n",
        "#**Determinant**\r\n",
        "\r\n",
        "\r\n",
        "เป็นค่าที่ได้จากการคำนวณจากเมตริกซ์ที่ กำหนดให้ A เป็น nxn เมตริกซ์ ดีเทอร์มิแนนท์ของเมตริกซ์ A เขียน แทนด้วย det(A) หรือ |A} ดังนี้"
      ]
    },
    {
      "cell_type": "markdown",
      "metadata": {
        "id": "KT7A1uqOmeU6"
      },
      "source": [
        "![determinant.png](data:image/png;base64,iVBORw0KGgoAAAANSUhEUgAAAmUAAACtCAYAAADxqwjXAAAgAElEQVR4Aeydd3gU1ffGd5NQFFCaKIqAoiB2ESugoAKKDRsIdkS/glgAkQ7SpUkRlN57SwiBQHrvve8mpCf09ODvv/f33Jm9u7OzM7OzLY37x3nO7J3Z2eIKH95zzns1Zf9dRIuJmxdxqd6+KK+/iLKbjfBdNNp7zkPZf7da2Pfft/RmHkpv5t5yIfx9kM9fUq9HcZ2Oy674Psj9S2p1xiiu1XGvR16TRFG9DkU39SiUinodCuuzXRIFdVlwReTXZsJVcbEmA66JdFysSVMVedWpIJFblcKFvioF+mp7Iwn6mkToaxKcHjlVcciujJWJGGRX2hdZldHIsDuikFEZKRtpN8IhF6nXw2BvpFwPQ8oNPpKvh4JE0rUQlRGMpGtBXCReDQSJhCsBZiFej7/sDz78EH+Vj7grF0Ai9vJ5sxCvx1zyha0RXX4OJKLKzpri0llEXTqLyHIfLiLKzoBGeKk35CKs1AshpacQUnZSNkLLT4EEvSa49ATEEVRyHCQCi45xoWkxQEbgstEAx76/7LnvvtHe860GZOTz2vffiUEZD6UMypwLZ64CMnJf1wAZAT0GZWohjUEZgzIGZY0GOPb9Zc+grKHB0L7/TgzKGJQxpYwqbwzKGJTJKWdMKaOKGM0MyhiU2aAGNTQQNYXXY1BmS9mRlS/5cqgrgIzckylltpQyWflSWM6UK12SdXtLl+R5rHzpYyxdkhKmXOmSrLPypZrSE4MyBmWKfXLmUMYrYEQFsha3Xj+ZFLy11PKlq6BL7r7OgDHXlSepIiaXmVLWEEpZekUU0isizHrKyGMSFLzkwMwxKOP7yIS9ZIlXgyEM2mMmXOOP+X4y0lcm7h2jvWXidWFPGe0Zo1ncU0YeC3vNaD8Z7ROjj4WZnqOZ9pJFlvqABuknc1VPGVXMaB8Z7R+TyqynTDQQwBr9m4KS5dr3UP5/+SBBe8uswxiFNQZlUpDm7LXGavSXgydnrdMBBHo/BmW2KGT0WtcpZbrqeNAgTf/mjf/2NfkTcHOkp0wOyiiQEfBqKlCWcCUINBxp9KcwJpUpoAnPkTUCYBS4KIzRdeE5ek1ThjIKaqzR3wBnDMpcC0TCUlhjHTMoa9pwyaBMbhozFWe2fYNPv/gQY4zxAcZ88QHG/7DIhU39UmpZy1PKKJCRzKDMdqWMAhnJDMqkJzHVKGUMyphSdstZYjAoY1BGVSthpgqWqzJ9LXp/25WyVHhv+QqffPY+PqIx/n18NP59jP1uIYMyB20yGJSZLDRSDDYYtpQvGZRJgxgtXZLMoEwEXGq8y5hSxpQy+XJm04YZZ5cRG+t+TCmTU8os11lPmfP8yhiUMShrCj1lTCkTgRuDMgZlDMoaFz4ZlFnCl5yqxqCMQRnrKWupPWXExb6phZpJS6lrnDF92QjfBQFCe8P+/3YtH8LEvWusfNm40GVNgSNQxrn4Eyd/QxQRJ39DFLrI0Z+WFV2VheVLAllhecmYtTUEv28JsdsWg0EZg7KWBGVxl3kXf2Ejv/D41mr0J9sLNbWQAi41a45CWSN8D0aFzo7XduS5ZfW3HpTRqUsKa+bKWNMGFmtA01zOc2oY2U5JIritlAQQRmCsUBhkKyWpLZbImh3bLLkKwqTuG5abgr+9o/C/lYEYM9vPGHJKmLV1x6CMNOvbG+q2WCJbMTWVbZaE5UmpY9rcbz51Sbddcmz6Mr0yGnaFjCWG0vQltcLgvMao55iNWdhLJmd9IV437ynjDWTF1hfUEoPm+Cv+IBF32Y8LAl1CCCPHFMSEWbhOpy3pZCV9LJ66pBOXwkztMEi21RIjrOQ0SISWeFrdZon2ldnUU2avQuPK59m9B6UDUEb6zlz5mZTubb/a5ch7zkPZzVsRzKQ/c3OBmub+Puk+llKZAzA56LK2rgLKim7mgIRQuZICKGesXazNRFB2EtZ5RmLiCh7ECJDN3h5qBLJ/z0U1klKmfoJS7T6XUteJoYzbA7MmFbkyobwvpv2WGEIQowAmv9clhTGa7YeyTApkVdFItzUqpX3KKJSRLPQto+tiA1i6j6XaLAVlFMLEmfqUmUMZ7/Zvfs58u6X4K35GAOOByxexl30d2vuSghsFMwpqJAthTPJYwaeM7oEpNJK1BcrkHP1p/5hU1qhpgm/Iawi8NBaUNeTnpK/VWJ+3nChlDMqME6jNHXaay/uXgjG61lKgLCIvBROWBXDwNWlNIP45G4WIiylIKkvFt8sC8OO6IO6cT3ICgzIBoDEoE8Bbs4WyMCRdCzWazfLAxqDMFsWMQZmo4Z/CUkNlBmXSyhUtMTZUbi5Q09zfJwUwqdxSoCz1Uhp2+scgKj+Fgy6izGXdyMTkv4Lw419BOBUbz0FZyuVUBmUMyqRVNAZlFuVLWt4Uq2JEHROvMaXMiWDTWJDSUBAmfp3G+rxMKTOHweYOO83l/UvBGF1rKVAmLn/mVmdhxr8h+HZ5AJLK0rD9Qgx3bK1vTOm84z1l6nvDpEqTatZY+dLQT2Zr6ZJcz6DMCFoUuBiUORG0xCCi9LixIEXpPbnyXGN9XgZlDMoaA+QogEnllghlpLds0b4wfPGHPyLzU0CAbeHeMCzYHWq3SkZgjUGZ+ulL1lMWhobrKWPlS1qqJJn1lDnY6O9K+JK7N4MyczhqqHKl+HUaA1BuxdeUgjG6xk1bWmvolzvfxBr9CXwReFp3KhLj5vnBPzOZAzKy/t2fgdhyPppBmaB0SZr/WU8Z6ymLvyoeAjhvVMyYUsaUMsiBlDPXGZQ1DJTdigDUFD8zBTCpzPmRES8yO6KwzjRVSacrxbkhpy8JfO0OjOV6x07FJnBARiAt7Uoqt3Y2xXqTv2NqmNS+lXTNddOXtGQpzNzUZVUKGmr6UqiMkWMycUnXmtv0JZ2wJFk4YSnckNxohXEtFCk0bpirY2SqkoaUakbPiScsxY/pVKUwm09fyitl8Zf9QULoScaXJvnpS2vQpXRePHUpOWVZdtY4iSm0xIgs9wEJ4aSl1HF4qTdIuGr6MrDoGEiwRv9Ggk8KdgzKGJQ1RXhy1XuSgjFnrBU1MSg7aWjm3x0YY6aInU1N4KAsTUWTf0uBMgpoudXydhjOVMrEANbcoYzAmBjIrEFZakU4SFAAo9BFMlmTOy+GMPFjIYxJHSddsw3KeNAiHmUmnzLaQ0ZBizbyOwJltPGfwhqFsojSM1ZhjAKaM6GM+paRTG0xGJQ1MowxKGsYGKNlSldBBruvbaa7zgAwqXs0JSjzy0jCp/P8sN4z0gzIiFIWcTEZq49FWKyTc+JgUJYiKGmq9yljUBYqC10Myni1jEGZDQDUWMoRhaSGzo31eW+1Rn8GT7bBk6u+LymgcsZaU4Ey4kdGmvoX7Q8DafIXg5YtjxmUMSijZUumlCkraVRVEytiVBkTrzMoY1Am25/GoKxhFDNXQQa7r22wpwhggj0v6d6XanNRbeP3lFFz2N//DYG+KtPYR2YLiAmvZVDGoIxBmS9Y+dIGgHKFqtRYkOKKz6Lmno31eZlSZhtMMPhyzvdlDcpKanWwJ4oJlNVlG7dQEjf5k8eubPTPup5hNIclx6TRn05gCkHLlmMGZQzKGJQxKJNVdNQAhjOuaSxIccZ7t+cejfV5GZQ5BzIYrNn2PboSyooaCcqIKvbbPyZzWApkDMpSjZuSk2Z/1ugvsLywZihrMI9lUHYLQhmBAqmwBzCEz5G6p9o1R/a+VPsaTem6xvm8t9belwyebIMnV31fQigjZrGcN5khqy1VSl3HlS8bAcqkzGEZlJnDmPn0ZQpya5KRW2OZ9dXJ0FcnQTbXqDOMZY3+jdnoL78huZQlBpu+lJi+LCMbgEsEgRYhZNlyTJ4rdU/Va/9dRJk9cdOwmbmjr9/Qz7fns5LnkA3FSZDNxe2J/xqmn4tOQDZMpr8d/rOV3swDH00DSlwFO03mvvW5KBXHTdN3XyzwICvkDF91oNmaPxnn+F+ng3RW7ikTgpKzjkkp0mQOm+SUkqWwvNmUypcUrKxlM08y6k1myPqqZOhrEqHn4EoiVydCX50AvVxuBCjLqoxBpkJkVEZDLtIrbVDGRMpZWmUUZ4NB7TBsbfSnVhg0iy0xxOti6wu5x1I2GOZrQUi8atqAnIKYefZD/GXziL18wWgS2xQsMYR+ZBZWGMVeCC32QkjxKYSUnoLQwV/umFpgUPsLYaZWGAGFR0FCw6k0FGaE2VEoE97L1mN7IYU+z9bXa+zr6fu2ORugisKZrblZQhmFLulc/n/5IEGhnkGZCYgaBNzqc1EmCA7QhFB2U48iOVd+K+sF9TrIR8NDGTWH9YxL4HrZKOwJwcqR48aEsvzadJCge1xagzF6XhnK1Nta8OCmThkTX+tMpYyDsqoYZMqEHJCRdWdDmRDQhMdqzGMphIkzhTU5CBOvmwNYMMwf80BmHcp4E1khqElBGYUzmpV8yug14ilMOnVJM53GFE9fUgNZaiLbuFAmBwIObFnEKWUEdOTuzdad9N20RKXL2mdS/l0xKGtgCBMAFwd9AiAjcNZSocxkDhtrHC5gUJbKu/aLFDIKavoqBmXpIkVM7rGUUiYEMeFxS4CyuMt+FkoZBS2aGZQxKHMSOClDhGPgag1gWuJ55e+TQRmDMqnJSwpMzshCc1hyP/p69N6OqGPC5zKljCllQviSO2ZQRrZp4vfIZEqZTImTKWXK4OAYiAnv3RKhy9pnEn5+y2MGZQzKKCQJMwUmR7PYHJZBmXlTP1XFpDJTytT3mDGlzLQROQUuppQxpYwpZU2y58wSxISQy6CMQZkQxuixozBGni9lDsugjEGZXF8Z6ykL4DYgF/aOyR2z8uUxrsmfb/SX6+9iUMagjEEZXN0cv803Fjv941FSr3f5a7n6s7TknjI5c1gGZQzKGJTRhn/7G/0ZlDEoawbApawI8eqQtVJfSzwv/72YJi2pDYYwN7KCJG6INzw+FJqAMbP9sPlMTIsAMwKXQkd+zlOsTgfqT8bZXliZsiyUOS8/eUmmMi2nL52hjpF7KJnDCl+D9oOJe8Houq1ZfB/nPTZNVdLpSnG2ZfpSqlQptebK8mVOVRzkIrsyFvZGU52+pH1kwpxyLRTGuBEG8aSl1GM105fmE5YUwKSy66CM9opZy+IpSzptKV5n05dyahxbdxAOWyJ0WftMLQvKiLp0MiYJY2f7Ye2JKBTXNW/FrDGhzBXbKFkzh70VoYwCnJwNBl0X51xiDmv0KbOviV9sf0EfywEZWbcXyMjzmhOUUUBLua4OyAikSUGZeK0lQxkHZ+U+iLp01hhCWwzqUSa0yCAeZa71KZMDI1a+dBCY5OFB2APl2LE1gGmJ5+W/1+aolNGS4tmkFIyb54dlhyJQWNt8wawlQRlRtqTMYYUgJjymSphY0aLrtmbxfZz32DGljEGZybdMrnTpap8yCmBSmUHZOVCFjGY5pYxBmRwAsnU7AbAlQpe1z9QyoYzAWUBGKj5b4I8Fu8JRUNM8wawlQRk1hz0Vl2B06xdCmPiYQpcYnui6rVl8H+c9ZlCmVj1jSlmIyCBWqmxJ15pf+ZJBGYMvO+FLDkSsAUxLPC/3XVw0bKck7CMTHjfNnjKqlNEcpkvDl4v8MWtrKPIqdc2u+b+lQBk1h90TFKsKyAigUegSwxNdtzWL7+O8xwzKGJTxJU5xqZI4+IvXWPnSG6x8yeBNJby1ROiy9plaNpQROIvJz8DXSwIwbVMI9DeymxWYtQQoE5vDihUxuccUusTwRNdtzeL7OO8xgzIGZQzKaLM/6SG7dXrK7N1T0lEou2Ve1xrAtMTzLR/KCJglFGdi4opA/LQ+GFlXmg+YESjjJi5rdcZcVKcDDbL5uKv2vnRGo7+UOawchInXKXSJ4Ymu25rF93HeYwZlDMoYlDkFyspOumBDcjkAcrTRv/4iyuwNufdkbZ3CWLN63ZYITo3zmWgJsKXk1PIs/LAqiAtyXHIz16ZojO+BQBkFMJoL63QwRr0O9lleKG1Gbm6JIYYltY/lzGGlnq8EWGJ4krtWfF3DPbYOZbSZn2azScqaVOTVpIGuEfsLPRfJXM6tToVU6J00fUk3HBdm69OXMciutD1c2VPGufZXRkG4/yVdS62IhNy2SmRdqsGfrjna6E83Iadly4QrQaBB14SZnku4EgiyGbktG5LHXfIDHxeMWyVRB39r9hdS58UN/eob/X0QWX6Gi4gyb5AILz1tFmElXiARWuzJRUjxKVVAFlJ2EsGlJ7gIKjkOcQQWHQMJYhzrMvPYS/UXQbZasjfK7N3M/Kb9r+nQ1lAOvW4eym42DsSUNZo5rLzapTyNqvw9NQaEuPI1CYRlXM3GlHXBnGoWX5KJ4v9y1YWML5or3y+5d7GMx5gciAnXlX3IeCgTXi885p5bl6W6/0sMWkrmsORa8c4AcqBly3rDQVgGzF/LdigzwllNKnIJlNWmGYM81lenQFeVzGXyWCr0Nc6xxKAwpgRiwnO8KmY7kBGIawwoI0CWciOiyUKZPLRZh7KEKwEgQZ39hVCmtI2SFIBJrdkOZWcQdYmULwmQeXMRUXYa4ggvJUDmaREEuNREk4AyAmb2hKNwZM9rUoh0BAbtf10GZcogJgS4Ww/KCITlVGRz/WWkzyy6IINBmQT4OQJl1Bx24vIAJJenSYIdg7I0EDDLY1CGzCrnWGJQVUyslDEoM99cXAq+5NYYlNkJXkoAw6BMGTwaT91y5vsSgpYtx8rvwdUqUEPfnyhlVBnLrdJxE5lkMjNUn2Zcp+ctMlPKJOFKrJAJzWGj8lNkn8OgjEGZEMbosSM+ZQzK/A2lS1LCvACmlLm4fKkEXkrnGJQpgweDMvnvp6GhydWvJ4QyAl0Xa/VYsDuc8zLzy0xVBjMGZbKARcGMlBrVmsMyKGNQRkFMmBmUBRv7zdT0lLHyZSP2lCmBl9I5BmXy0NEygIx8PlvUMeG1yt+NqyGpoe8vhjICZgV1eiw9GMG5//skpciDGYMyq1BmizksgzIGZUIYo8cMyhiUsZ4ypb/QHZ0YdWDAQAk0lc6V17OeMvWQxqCMgFlhvR5rTkRh7Fw/nIhJkgYzBmWKUGarOSyDMgZlFMSEmUEZgzIGZQzK0PwVM6H6pf6Y39uyeTjzO0NVk1LKaO8Y8fradCYGY2b74WBYgiWYuRDKOIPYej2kcpGC5QWZllQzYal0jXDiUnhsS6M/NYfd4BWpCG7CMqfw2JYJS6VrzScixROSrnysPH1JrS6kMmd1ITFdKZy+JMfSkeSUDcnVTl+avMjsm7xsqOlL2ltGMm3yl5q+pJYX1rKUJQZ16RdnOklJs9Dqgh6bLC/INkrBEF9rOm99+lI8dRlbfgE07O0po839JFMLDKMHWakPyDFdp9l03v7py9AS+y0xqA2GMLvcEkNJHVI6x8qXympQ8wcy+8uXDMpMjf8EzgiY7fCP58CMZPKYQluxC6GsuE4HueD8yCSmIylAKQGXmnP0PuKsFsqoOezi/WEgTf4UtpSyElg5cq4lQRm1wJCGMQpproUyMaw1JygjMCYEMgJl6RV8UL8yazBmdr4iHKkV4Ui5YW4SS6CMQpVUpiCmlOnz6DXNEcoonEWVETsM65YYxCKD2GIIrTGcDWUU0DSypSMHSoFK0GXtHIMyBmVyv0kGZeZQRgGMKGVEMSPKmRHMGJRZAJfRHHZLCIgNhhKICc85Al5Kz2VQlgB9je0hhi/qSSZeZ1DGoIwqYiYIOytSzRiUWfUuY1DGoIxBGV+iVSpfUiCjmfSWjZ3tx/WakZ4zppSZG8kazWHXBYEcC6HL2rESWDlyjkGZ7UBGIE4MXwzKwiwd/plSxpUtGZQ5wbesaUFZLrL0FxCU6KsYIRmxKLTzszfXRn99QSCCrX0vKRHIldw1QH0fmRDQmFImrZRRMPNJTsK4eRcw619fXIg7i8CEc5IRnBGDiw4oaXKlS7LeFMuXRBWbuuE8vl58HidDvXEhXjr8E4ORKbErgCPgpfRcBmUMymg/GStf2u9TZk9PmUk5Y0pZM1PKMvDX6Duh0WgU495HpyC4Ks/qZ5Mq3TZPKMvCsV8fgruV76Vju/extyJXYjCBQZmaQQBblDIezNIw57MX8dEMbwz6eBHc3FtJ/m7vffRHBFTroeY9SF3TnKCM9I39sS8E42Z5oWPX3pLfB/3/u2P7d7HzmmVZUwmsHDnHoIxBGYOyxmn0Z1Bmg4rUtJQyHsp6D5uLwFR/hMpEeHYCimz4jEI4a55Qloe8omCEpfohVCa8Fr2ILu0ZlElBjdo1e6Bszeg78eh7f+KzBRfwy7oL8Is7j5CUC2YRlh2H/FtAKSPARM1hfaIuIDDpLAJk4vjC59GFQRm/lVJ1qnGzcfEEptz0JWv0j4bYHiO9Mtpss3HhdkrkmAIZnbpkjf68WmbrhuQtTinjS0J5EOey+jyU1zV8lNXlobTe8v2I35/kYwfes/TrpmPt+3ei76i1yLup8J7I69r52mV1LdHiQYeEzUPRlUDZDSlFRuG7VPieS+pzJW0YpKwZWsJacb2ea9wnzfvqIhWr378DD49ag6CL6SB7ZU7bFALd9Synfm9FtTmgUWg4prmgNkfR9iK/LgeOhNyEJnfP2kwIlatdAbxlyKnYeLN14TX8cTqi/n4VXdq9ix1XMyyudZWilVedjsaJNFnoIhCWW5UiG/oqOknJbz6urzbPZFNyXVUStzm5ZU6ErtrUE0Z7w2zNtIfM1MgfC3IsXs+qiAEf0ciqsC8yKyxhSwhf6RVRkIu0iigz8BJCmBDEhDCWfD0cNMRTlynXQqE6RFOXdGKSZDo1KZVNk5RBAqd+82P6PHpt/OVA8MFvNi694TjZSskU1AYjpuw8aIhhTAhbSscm1eussY8souQMhEF7yywz2Yic34ycbkJOpyzFmW5IHlp8CiRCik+CbjRuLQeV8E7+dMKS2l9IZQ1RpqRCqOY05HFTVMr6vv0X8pT80Wjf1E2DEaytmT6/CeTCS5FIvSJVcrRlAEGPxM3DeCizsXwpCdtGUGuJAOvMz5TG/SOCQFnezVwkFGdi4opA/LQ+GFlXstWXK+tzUSaI0nrz91hsgESxLYWax3JQRdeV7mEJcxlIyY1AOgd62WbN+7aZw2Yg+u9X0bUJKmUUICkYmiCON3Mlm4S7MqhSZgK1JOTWkkiUDHumKdU8h4AbhS65TOGOnjdBW+P4lAnhTeo47UYk5CMCSlBG7C+UzoutMIRQpnRMgUsp0+fTa8zhzB/Ui0wpU0CjcEayNZ8yOWiLKj+LqEt8RJb7gERE2Rlj0DX5dW9ElnvDHihTMo4VgpoYygicidcooGkaErjUvFazhrImAFW2+pjlpWzFvJmf48N3XsCjD3RCB/ensTg1R6IPjEGZ2rJj411nDmXkfaSVZ+GHVUFckGNV700AZATOmg6UpeH80VmY/P37eH1If/To0hr3D5iGkKps5NeZoMxWc9iCOgZlcmDHoCwGQgd/8bEUbKldkwcyAmsMymIu+UIYDMrs7JFSA15K1zAoswV+HL+2pCoNuTdicHjq4/DQaNC97yT41zClTBW8ONCX5Zr7W0IZeR2ikk1ZF8ypZonFmdbBrMlCWRayryQhvWAfvn6yLTQaDwyadgJ6gVJmjzksgzJ5tY1BGYMyqojRzJQyU/mSKWWKJcSLKHPA8FYaBvlGf9Xly2aolPHKWhZOTO0Ld40bBk7cjwKHPwcrX7oGuszLiJavIQ1l5Dr9jWyuv4z0mcXkZyiDWZOFMr4fLa/yML7u1xpumh6YfCbF0KOWDaM57L+2mcMyKGNQRrZUkoqsSgZlFMZoZlDGoAxCryrFYwZldpUdS+p8MXXgbdBquuLbI6l23cO8bMqgzBKYrAGVM87LQxl5P3mVOszcEoovF/kjTJcmD2ZNHMqyEn7FY6016HjH+9h1hZQuc5B5PQOT/wrCj3/Zbg7LoIxBmRSQObr3pbUyJitf+hn3vWQ9ZcfAespE5dlbWSnLz5mH527Ton2b4dhS6mjpkpRUGZQ1RSgj7ym/WocFu8Lx2QJ/BGSmSoNZk4ayTASsfBGtNRr0fWslUupyoKvKxm//hODb5QFIKksza/i35tbPn2c9ZaynjCllRAGjaphSZkoZU8qYUuZwOVGp90yP2M3DcJtGgweHLERSHYOyxgEq1ytl9HMV1uqx9GAExs3zw7mkFEswa0QoU7L+KCC9Y7VhWDScGDq3xburQpBbm41F+8LxxR/+iMxPsQPIyHZMDMoYlDEoY1B2mpvAFFth0MdSlhisp6wZ95QVXwuG5/F12HzoGOI5mwg99IW+8DrvjdQ6JWhy7bnS/+Kx9oMu0GhaYfjCCyj+Lw95Bd44cHAtNh0+gIhynR3lTKaUUQBq2KxcvhS+l+I6PdYej8LYuX44FZNkBmbE463wUiBOHVmLTQcPI/ZqDorrspGTfxanznkhsUbH+aYp2VfInaPWF3KZbNNUJBPEC+1i8Sq80UmL1tqnsCAuHetOhWPc3AtY8vdmbDt7Fqk15nte2quUUSsKRzO1snBWVmuJQRv0nZXVWmJQqww1NhdK14jtLajNhVw22V/wnmXmj6WBS65kKVzPqlT2KVMqUVL/MuE1ZI2ULVOvR3AhV8Lkz5vvaSn0KCOWGOIQnrfVEkNJGZM7Z26FQbzKAhTtMKgNhjA3hCUGscegthhiqwz+MQ9jzrDEENpgCI/F9heKlhiNYRCr9JrSJq4qzUbtNHAl70f6dVWaxypM4ZXUxeHkuo/wWPe78cy7n2LCdyPwyttzcGLnKNyh1eDBYYuRXCtlsOoM5cT6PYqubca73dzhoX0Yv4WEYP/8obj3NtO2Uu26Po/ZvnE2bnBtv3ksbxBLTGKlQu9UE9SWYDBr/hlSscZgHptbb/27ItslbfKOxpjZfjgUmsB9t8W1sTjx14d47J678cw7Y/DNxMPv7uUAACAASURBVOEYMmoWjm1/i/+9Dv0D8dU5KKzXKZrEykGXpdeYuZksNaWVyoU12Ug5+B46ajXo/tD3WHriKPfee/d/1bB9kgceeGkSjhWlWRjAKsNVutGnjJrHOh+inG0Ua78BrAmw5E1i5a7RVyVBX5MIOaASQhkFK3syhS9zuJICLn7NZBRLDWOF2T7jWGI4m6lgDkuhSy5T4BKep0CWci0cJCiciTN/3gazWIGxbPK1UCRf50NcaqSAJV6ngGVLpqaxcZcCwIe/mUGsEL7IsRDALI/PQ87yghrHUnsM+piaxkaW8d5kQh+y8FJvCEMIY8Jj/hovUDVMnKk6RrLRNLboJEJolJ0EUcsogFH4Emcp01jxmn/BEZBgPmWG3jJX9JSV1ARg3Zf90KnL85jrG82pUKTfKnLDR3jy0Y7QalrjzSUBhnXXKmLmjfim18r2Hoe73TW4855RmPTNE+g36ANMWTQXC+a8j8c6unF/2d11/xfwvG5LWZMpZUJVquGO1Stl9D0RqNvpF8/Bzc7zF4y/19k+ESis1aGkNhth6z7Ek/3J77UVRi7yQ369i5SyOh2U9tUsqk3Gjm96wE3jhue+Wsy95xE/rMTvf87Ej2MfQwct+ceEOwZO3IVsiY3F5VWzDMRsMjePVYY4850DlK51FtxZ3idd0TTWWQqZ+D651cmK5rF5dUkgQeBMDtzUrFOQo3BmLSvDW8tQysTKmNzjlOthsKaUWYM2Cm9KmQIchTN7lDITuLnOPJZAGFXKxFlKKaOKGclCSKOARuGMy+WnEFp+igMzIZxRSKOZQhoFMUWlTMkzrDHOScORyg2sm9D0ZenNKGyd8BDateqLX3zizUqAer+vcJ+7Bq20/TEnJsvsnBw8uWY9C0d/5jcWb9XhEXzzjw/0xv41PZKPf4x73DVw1z6AaYEZNrxPBmUUeho22w5l9P0dCA7hIGfAa7/hp9MxKOGAjECZDtm+Xxp/r7Oj0lHkSiir1aFYJgoq9uOrh1qjW69n8PFMX/yyPRRFNTlcFFRFY9MXBNg06Nb7K3jesNxYnEGZ/J6WYviSe8ygTH05kypkzipfykGYeJ1BmbmjP4My0VSjrWDXMqBMh4jtI9HFrRVennIIeUbQ4RUqnedYdNFq0K3n1/CuskWBMilczoC0kjpPTH6cmHC2xqvTTyBf9D6Lb6zHyI5auGnuwnfH0hmUKZSpKdw0brYXynIQvm0kHntyJD6ZdQErT0RxoEPBLOvEGMPv9St43chxOZTR1xVnfdhkPH7vA/hgmje+WReKwupsFNfkcFFESpt73sLtGg063fkB9l5jUCYHVo6sMyhjUEbVM6aU8SoZU8qUmv2biFJWWLIZo+/3wJ2dRmF7gbhRXoeQFc/BQ+OGpz/fYQFCzoAttffIT56OJ1pr0KHNG/jH4n3mobhyPUbeoYW75kFMD2JKWeMCl/X+wNKb9kFZQfFmvN+D/70uCUzkpjKXHYhAQVUOSmqzELiM/70+9dk25JImfBcrZWIY4x9n4dj8V/DuT4fx1pSTiL+WZQQyAmYEytL3vMVNEd/9wDc4zZQyxU3H7QUzBmUMyhiU8ZYYLitfEmWqqQVx5lc0iZUDs5uOfRbL17XH0T8H5xcNQGuNO16cdNgCukrrgzF/aAdoNR3x5Z4kG9Qn56pkZf/pEL7mZc7v6eGRfyJdpJIRsMtP+x1Pt9bijjZvYcdlWxQ9Vr5sHICzB8qy4fsH/3t9YdIhXLyZC7/0FIxf4I8Fu8OQdyMA817lf6+f747nJiNJkz+xrpCbsFRalxsA4NZJT5lM6TLrcgDG/bIDb07cgY83hBvLlrR8WVSTAd/FA+Ch0aLfu2uQwXrKGJRV0sEA1lNGG/tpdk1PmfJm5Kb+MT+JgYBbsaeMbEp+DFyfWfFR3jy26DA0ZfUX0eRCDrqsrROYI2HXZ5KCnnT8NfpO9H17rUUJUk6NKqk5ge/6t4aHpg9+k1CXdOGT8HArDdp5DMPfhWIVTeo9uGaN9Lwtf7Mj5/f0/tpwlFhAmR4J24bjdo0W/d9bjyyL80rgLA9lpTfJJK0a1YddY/v3ZIKy3Ju53MRssZVcWH0cE/u35tTQaUHp3HOK6vUIzknlvL+mr9mPvre3RTuPoVifn8VNXRIokwMvJegSTmxKW1/koKguG4W12SiqNeXcyixM33gcH/50EF3uHIlV2ekoqMlCIbG/MOT86jAsH9WJ+8fOuF2RNvmV5demI+rvV9Gl3bug05dKzfvm5zJAni8Xcv5fpvUMWDbxW1/jrTFs6xEzm6isTkWuHaGvToG+Ogn66kTJnFtDBgGSuXO66gToqhKhqzJk8pyaBFVBG/1pbsxG//TKaNgV3ORmBDIqI42RXsFvNE77wNJuhEMqyHmuN8yOTIGLZAphVN2iWbxOS5EkJ16lEYjEq4FIuGIeZI1fD0DCFbENhh/iLl+QjNhL5yEXdLJSTVaavqSN/MIJS3pMzwkzORdefpqLsLLT4MMLYWV8hJZ6gUZIiSdIBBefMgYpXdpVviw+ikAujhjyYQQU8aHhIIbCTFPJ1uDL2nm7PocU/NgOZReTpuLx1hp0uuMD7Of8yEz3Lak7j7lDyV8cGvR6aQ7inWLUarq/HChKrRdf+gsjO2nRRjsQyzNzLBS70puhWPxGR3ho+2B6oGU/Wfn/5UMuyv7LReLmYejabjT2VZD3ZwI4BmWuhE0RlP2Xi2IroU+cym1ZRH6veyv03PVUBQvL9cXY307g9S834MEh8xFVKw9jFNKsQZkQxrhJSzNlzABlBMwMkV+bhUX7wvDZXG/c07U37n/uN0RUZqKgNsss9NkL8NIdWtz94DfwvG5LP1kWB1QtEcoo+NFSpRmU1aQi147goYxAl3Tk1qSABDmvq0oyDwJzKqFMfB2BMyUwc9X0ZSYFsqpopNsalVEgEGYXlN0wTVDSSUq12VEoS7oWBBJi+CIARkK8Hn+ZKmQGILtiUr3iBMfU8kIqq4Exeo0aKBODl7DZP+rSWeM0Jgdll7wRfskbYeWnuQgt84JUhJR6gkRwySljOAZlBMgOW4RG+BfmrX0sBTe2Q1n2kffRXqNB976T4F9jKvmV/pcKz0Uj8MDdHtBoPDBsztlGtcLIPPohOmk1uO+JXxFaa3qfFOCyA7/FA608MODzrciUMLeVAzKyzqDMleCldG/boSxT8Hu9UCOEsmQc/2ME+vXthXenHMIHs84j5UqWrEKmFsqIMayZ7YVgyrO41gBl9dkorM/m1K51npFcj9sfE4ZAq/HA0NleyLMoTSbgwE8Po7VbD0w4GoGLFueVDWVbqlLmOigj0CUdFPTIeV0VATNBcFCmXi0TghmDMvWQ1qhQJoAwIZCRYykYo2sUuNTkFgVlJYcRKAoNr1yoNGflSk8t9Vqpv+xMf8nlqSy5ZewciTYaDTp3/ggHrvKmsCU3U3Bu42i8Pe1XfNjLA+7a3vjVLx352eswd8MZFKq8t+3lLKnPRNYysHvi/XDTeGDw9JMWr1986SC+e7od7n/iB3iVSxvbKgF86U09EohS1v597L1BXs/0m+FNYa0bm5qborLr1X0fJvNYfb2e6/tS2raInEsV/F73XTX0itUnwXvDaIya+gtG9/LAnXcOwLjFgfh+xRn89pc3chWMY5XMYck2ScSV38wY1jA9SZv1C4kCZoCq3YGxnE3H8agD+KSHB29wHJxsYQybcH4iHrmtHYb8ugepteo9xGgZksBL5MZX0KXdO9hxhfh/WS8fmq5x1C/MPlPZ3Ko0mClfVZZGsGKFTF+ZDGPIQJUcbNF1AlmZRUdwMCgI2ULgMhwLr8upTIJZkFImKWlWx6uK7OKDOBB4AdkGlUxJDXOVeWwGceAnUWlHVERypUmiltEgpUquNGkwe6VlTHFOMZi/CgFL7TEtTZJMy5XC8iRfogzmztF1k9cYX5qUL0/6c2qZsGxp6hWzH7woaKnJRtPYUh9ElvogovQMaIlSKlMTWXqOqGj0mJwTK2RUERNnqpAFFZ8EDbrNktiPjPqS0Uz9yeim47RUGVB8COJgSpmxtOYcpSw39Ds84EFMLNvgsdG/YM32hZj80VN45fMNiEibiQGttbhN8zKWxmzD5A+/xJ68hu8rK6nzwS/P3gY3TQ9M8TEvTebmbMePQ7vjgee+x5GL0u9NCFnSx4aeMla+bOD+OdM/IrieMiulS1LazAn9Dr0Nv9dHR/+MVdsX4IcPn8KQz9cjOPV3PMP9Xl/CvKAd+HTaUXyxNBCxxRmyipm18qVapexUbAIHZHuD4pAT9zNXYu16zzgcMStNJiP45A94oXtXDP11C+KqTUBHwU5NZkqZ+lJmQvgcvDN0FJaHRUmqZc5UynKuHcG80c/i47UHkczKl0ZDWGtlTCG8UUCjcEazeJ3CGckOlS+ZUmZ096egRrIYzoz9ZCKVjKhmDMqcDGUl9UFY/dH98NDwWxW5temBd2btRnJtLmi/mUajRff+H+PflEyLXi5aPnR1zsvZjqkf9kPXLg/htc+/wS9zf8BXY57Hg/c9ik/mb0dcpWVJk74naRAzqWFEKWM9ZXIqpSvXbYeyovogrBT/XmfuQlyNDjkJv3IwxP9eP8L62FRM3RSCr5cEIDI/XRLMnAFlfpnJ+HSeH9Z7RXJlzML6VASf+hkjHuuMu/sOxpgpP+DnGZ/hncG90OuJkZh13A85NpYshbDGoEwdlCVFzcTQJ4dhZWycJJARlcyZUEbKlzmX9uKnVx7A238eRGpVnGxfmZKKJtzL0tZj1lNGmvz5XjKaFXvKGJQxKFMqo9l2zjlKGQGX0vponD26HKu2/INzuSZ/r9L6BJw7vBRr9x9DggL0UPhxfdYjR3cM27cvwuI1i7H5pCeSVGynxKDMlWDlyL1thzKilhXVR8H76HL8uWUzfHIzjHYXBXVx8D68BKv2HUFMBd/kr6vMwe9bQvHFIn8E69IswMxRKIu6yE99Lt4fjvw6Mu3J95dxPWY18QgJ/Bur183BH+v/xJ6wIBu3U5JW0poLlGXmecM/J4Err6qZvnRmT1lW8WaM6dsD43f6I0eh9OlsKCNglpE6F6/c2xvfHPZFlgyYMSgz9ZwllXniVNRJxNg5fdnUlbLwrF04HHsckWVnQUqZwr0vhQ3+9JiWKunjJtXo3zyVsiz4rpuM9fFkQtA0xef8Y+dBmethSuq9un7NvKdNqIyJj+V7yszv4QiAsOdafpfqoUyp14w27ctlfXUO5u8O47zMLmSmmoGZI1CWWpqOb5cF4PctIdBX2TZBKVS+1B7TnjJHoIzvLUtT3IeSwpF0Vu5f0xWdxo6NP+CDoQ/iTg8PvPLbCehqMmANyki/mbinzKwHzTB5SXvAxJnCFcn66iBs/LwXHhg8E0E3pBv8xc83a/CvSkZazFx8PW870hU2M5fvNYuG56JncFf3t/CPPlpSLWvKUEb7yUimPWW0h0xsh0HXhVslqSlXJl09g2PHZuDb8c+iVyd3dHv0Sxy/FCJriUHLmDTbUr6kihnNZtOXNiplahr7yTWRF3dj86avMXpEH3Ru44Z+ny5CqJ1QZtZTVqa+p4z2mNHeMpIdnr4UQBntLWvy5cuskCl4ot0ALE0n/U0NC2VkYnL5yA7oM2ypap+ylgRk5f93ESToZxJCgNJ/C1K+jF39Ejq2HYFt1wk8CaGNwZTwe3TmMRkoWTaiPR4ctgTWesocgTICaxdrdVhyMIKbjDyTlGwGZnIwx72mzPSl7loWfvwrCFPWBSHreoax2V8tYKm5jqpu9FohlIWvfAEd2w7H5qvEd0z9sIAroSyvJhonds3FkuXv4cHWpB3CNigzgzDxIIAIyoQQJSxDEihLCZiAPq3vwuf7w2TLlhTKhPehxzlVUdjxv97oeMcIbC6Q9ylTsrzILFyBN7t54JkJm5AooZY1dSij8EWhi2SyRoFNfN5WKAvxW4CZf03Cm/1aQ0P2fxVBGe0hEzb/UyAzz9Z7yiiMiXP8FX+IJy7lHts0dXnZG/t3TcHM5e/h0TvcoNHYBmUEwog6JlbIiIIWbgeUUTgLKXUMyoJKjiKo9Ihx+rJZQFnx5X34+tG2aK95A/9eJkpQQ0NZHMbf54YunT5jUEbKsoIpUaX/FqU3c3BhfHe4a+7H76UMyoTfmyuPS27G8r/XjuNdDmUEvPLrdFh9PApj5/rheEySVTCTg7J8UhL9NxQTlwcipSzNJUBGQEweylJxdtw93ODL1KKmA2V0wjO38ii+5/aodQ6U6SsDsH3bRkRVERWMV74oQJEshDJ9lS8WjOiMzp1HY/cl6yqZ8D70OCP/Twy/yw1aze0YteoMcmS8ypSgLLsqBBs+vwe3tXkWfyRFWahltzqUkeb+pGuB2D2tL9fP3KKg7JIviFoWXX4QU1+5nUGZ0l++rjxXWh+Lrd88wP3AunQegyOVjQFlqVjxZgf0eW2ZUS2iqtGtkB1Syta8jE63jcR2ppSZwaxroSwFyw2/1xLi5K8wfemoUkbVMFKu/Ns7mpuUPBiWoAhmUlBWWJODxfvC8eUf/oi5mAahJQZVtJyV5aEsHRGrXkTH24fj3yaklBmhrMoH0164zWlKWUb8VAx66Sf4V1iHstSQ7/FQKy36vv8nUrhSpjKYURAz5QT4rnwRbQ2DT90f+x5nb0irZUpQRs7F7H0Td2jdMXDydqSJ1DIGZTyUHV/4ZIuFspjLnpg3qj2DMleCl/y9cxG59130uJ2XYrv3I0asDQ9lZf+ZzGNvBQgTf0ZHoEzOp8yVUMLubeopaygoI3BGwGy7XxwHZjv842TBTAxlxK9s/akorgQalJECYh7bWFBmr6O/K8uXFMryqs5jxstEIXBcKdNXBmL9+B647yk1UBaP3ZMf4PwM31zmC50dUJZ97SAmPt4WWq2WK6u5aXvgf97hks7+1qAsLet3PNdWi053f4C9l2LN1DIGZTyUnVr8TIuGsoXv3NHyocy830fY+9N4x/mZyzD8ybcwcdwDcNdo0Pul+UisFZfBnP3+pHqdTH/J3Yp/4VNIo59daGCq9LspqdchftNQzjx2z3Vi/JorCGYEK/wenXtsMo8ttmIey+1fSfawlAilZn2lc/tC4jkw23QmGsREVnwt91oC89g9ATzInY5NBDWPLahR389lS+8XuZYqbvR5FHocMY+11nBPm+3ls3Xz2NzK85gxiELZceRUp8OaeazRJFZoGFsZC5+Nr6Obuwb3PjUFfjdMrvtCk1eicpESZvb1nfisTyu4ae7D/07HcGsmBUzg1C8wkRXehxzHHP8Id7v3wMfT38Jd7qQvTot+o5cjTsJAVhmsYpFxdQvGP9gKbtq7MeFEKITXN2XzWNIvRnvJUgymsSTTvjKp88nXQiH0G1M6pv1iiVcDcGqJCcqOlfMGseY9Y8EQNvVbHls3jzU19tPtlfgcd9lP0bWf9pGRTBv81ZjFGq+55AkKZX0//QMhKs1jSe8Ynbykk5jUUDas9LRxSyXaKyZs5Fc+PglHzGMDi/l+MtpL5l90ECSaXKN/SY0v5rz2GL49HIrN4+7i/nXV7731yHNpP5mpmZ2CCJ+ZUmZvoz9TyqQg39Vrpn9EcEqZwmbkZNNxuSis18uqXbRsKZePRSdi7Gw/rDkRhXzRxuVCpcwzNpEDuH2B8Sg27n+Zw+9n6YDnGAUvqaxUvmwqSlleZRAOb/kRY94fhOeffxqD3xmDWYe245eXlcqXyYgNX43p37+JV155GgNefglvT5iCzeFh0Bka/PXX/LB74au4hxsY0OCOXm9g+vr5WLJhPlZ5eiNLAFa0pyw9/Ac83EqDNpqBWJKdxHmQ8T1o0vteive7zKm8gCVvd8Z9T/8In0t78c2jbbg/z9u2eR7L0mMt1DJrSll2pS/mDCNwalnCFAKa5XEMbPUno9c7w6eMTl0K4YsCGX/OBwe2fY8xH76Mgc/3xxPPP4NXP/4Ev+/bi0iZPTCTbwThvO8cfP/lq3hx0GN4ZsgQjJ27BJvmPn3LKGUhZV7wPDUF4z4ciGeeexyDP/4Yc0/vQ3i5jxHCKIzRRn//qMX4dcobGDzkMTw+8AkM+eQjzDq1C8HllnBGIU0+N6tGf3vtGdLhNf95DPl2JzLrorD4Db5+PHDifuT/Z+89HXnerQ1lpvIy/x1SxYzPSkqlDgmbeaVs7w3pbZrM7+VqWLlV7m+CMvL9cmBmUCmLxblOB+quL5XloIuWK8UqmPCxd2ISZ/669GAELtbkmKtxdTr4Z6Rw5zd4RXHvgXv9Wh23/ZIUTDljTUopo4pZ41pikG2a+MjJ34LvXr4Ldz04AvOOHkdo+insXP0h+ne8DW3b0unL49DVEHUtjbO8yK0Mxf75g/HI0+9j0bEj8E85jE1/DEev2zRwb90TYzd5IrsqBQlBizFlxrcYN/RuuGk0uK378/h8+kRMmj4RU7ceQaYFlCUjZP1gtNZo0LH9u9hxhTeGJVCmq06CrppsmSSRyVZKVQnQVSUiLf4XPHlbB4zeeA7ZVXHwXfG8obfMA0N+P4QsUcO/EpQR0MqqDMPGz++BVqPBfc/9gsAbsQK1TB68sipjoBzRyKqUjgyyIbmtG5Ebrue2ZroRzk1ZiqcrjcpZ+V78/lZ3tGndCx+v3QSf9GM4euxHDO3dClpNewyeuQVxIjBLvn4aG6Y9jS7teuKdhX/iSNIRHD3+C959sgPaGlp+GqLRX6yYEaVMbtpSvE5VM6qYSWWjQlZ+DuSY9JRRpezhsTOxbuYAdPZwR5u2Htxvgkydat27YvjiDQgSgVnU5ZPYtWooet7TF5+sXIb9cbuw/9hEvHSvO7TuHTFk9iqcL/VCaKkXQko8VYYylFEXf5Kltllq4OlL+0Ao3f97PPvkBHheyUVJ3Rn8/Exbro/iNRWbd5deC8Tpc3tx+Owem+LYeR+kSmy43XyUMldOpErfmy9dKoEOg7LGgU4BlNXnolQhSozqlE6gVJmOHYEyUqY8n57C+Zgt2BOG3GoTmEXlp+GLP/yx5EAEV940DhwQdY7sqekilcwEYFLl0XSoUcou1sYhMGAn9nnvMMbe09ux9/Q25fDeCd/cZEUvs9xrRzF1UCd06PQK1iQnCa5NQejON9FFK4QyHsjyqhNxdu0Q9Lj/Q+zOTzL6kuVVJ+D0gqc5oGrd9hnMj0ownEvCuT/48ta9hp4yoR+Z+XE8dnxH9sfVoNuDX8PzBoWyZKv7VxLDV11NFPb//BC6dB+NPeXxnCqWmb8Er3cllgYadL1/LA5d4dfpxuPWoSwch6b35Vpa7uw4ClvLo1UpYATIMqvkgwevAPhc2IjtnuaxzXMjtnkpxOnN8NRFSIKbFJRROONVsxD4rHkRt2k0uPeFn+B/NcxQ5gzBhY1DuPU7Or2Ff0pNxrDJN/yxf+EAdHDrhFF/HULijTBjmTM2Yx6G3cN/vw0JZcK9L8XwJfdYCsrEa/JQpkW7e+/HwI8m4p+Yk4gsP4WTnt/j1Qd5JdbNvQe+PHrMpJZdOo3Dfw1CZ/euGL2NV9K4Mma5F7b++hD3e/Jw74PJF04gvNQLYSWeqiLUik9Zs4eywtIdGP/k05gVmMpNOhbX7MG4+z2g0bTGh+vjrE4/5kb+iIe5PfzIH17qo4Pbm9h+TW5LoeaglEmDk0nlcv55BmVKQNqY58yhrKw+F3JBoEwuSDnRUSgjgBWcw7vzz9oaCl1lNpLLM/Dt8gDM3BKKvBp+83MjlN1s+lCWV3EU3z3G/8Fvy58xxAri0+3RAtASm80m4+zy53G7xgMv/3oIuhrz8/rrWzGmJ/mzkDT6E6WMhzJd0RqMurs1XplB+sxSBVCWivSoH/EoV6p0x8AfdiOLO68eyvS1wfhjOKlUaHDfgF8QVMFvxaSvUQdl2SWr8U73Nhj02wGjIqarCce2iT050NNqOmPc7gCzEqY1KMuujMS5Zc9y5bk2mmewMDXSaVCWdnUXvnmMHyyz9b/tR9sC7YKylOtBODSzP/d5er02E2HXKZSFIfr8Z+jpQUrHz2JBVrBx38u4mCl4uoMW3R7+HEeu8LBG+80Sr/lhw9f38SDdAD5lVClrDCjrNXwqzpSYO/oHhX2PZ+7kobTHqz/iNOk5K/dBaNpveKWrG7r2/xT7i/k12lvmu/MN3KnVQKvphI92HWVQRvu3Sm9GYtP4fhgx38tYpiy+/hdGdNCC/M874aD5ptn0eWa5LhP6y0nIumRbZF9OQ5FsaZRBmRTcMShrTPBSeu2mBWUEzCIupuGrJQH4dWMwJq0JxJR1wcipyOa2chICGTlu6kpZfm0asi/FIKUk2hjJxVFILo5QjpJIZFSYg5bQ3V9/fSffwK65Dz+cibeAt9yqc4LpSxOUxe4ciQ5aD/Qd+Sm+/mG8WXzxzYu41/CP1J4vzUR0JYE29VCmqzyByQNIpUKDXkPmIJaazaqCsjgEbBiMzre9iBUZ5r1jaZH/Q79W/D+aew+dibAqkz2GdSiLQeiGwWil0cDd7QH87BfuNCjLqIxAYok/ogr9zCKy0A+RRUrhj7jr0iVO60pZGBJzt2LZkl+xOfqCcRggMX8/1s16AZ3dNGitfRJzkngoIyrZP98RqHXDk1+vR7yhrEmhjPiUNeT0ZeNBmYx57KWTWP0lD6W3tXkJS3QEwLxxfPmzaKNxQ//PliDEUNakUBZRuh//bJiAKauXwrPIi0EZD1U6hG9/C08Nno3QKpNilZ89BwNba+GufQDTAk37R5qBmCxM2Vc+tbw3gzIGZUoQ1NTOmUOZUvnS1FxvKlnStSInKWUEskiQkuW4eX5cH1nExVRJIGseUGZZ+nTcEiMN6QFfo7eHBq01T+OPVMsyZ16VL34XTF/ySlkCDv5MSi+3Y/DkhVi9dalZrNqyBDTWHT2BFBuVMl3FHnz5MK8c9R62EMk2QFlO5WFMHnA7Hh2zIVz32gAAIABJREFUGokWfWNnMOe1OznYa+XeHzOjoo1qmRooi93+OleW5ScwQ5wIZdEgZUxxpDu5p8y8fGlSxkiPWWT8akyb8AIefvgxjPz0WW5atbX2CcxO5KEs6co/GN+X/Ddxx9CFh5EkAWWegulL4TZLdELTXkf/uEt7Mf/bwRgy4kVTDH8RQ7h4AUOGG2LECxhiFq9gqtcZi14zcamS9JSJ1+TLlzJQVu4D3y1D0U6jgYe2D34M8kLkpZNY8lFnaMlwyM8bECaGsjJvRJSd5oKULln58r885KUuwMtdPNDx3ofQt78pHn6oK9cU2kYzAEszyL6XzgItW+7DoIxBWVMDL6X3I4Aywe4LUv1txeLtjgSPC+ucU74kQEasMcjm4p8t9MPEFYH4YVUQksszJcGs6StlroGy2H+GcqBBphyXZqmFsjhsGHcXtJo2+HBjmFnpkthviLdY4i051CtlOTd2YvwDrTh4euD1PzjjWG4fTBVKWYLPWNznrsUd3XvjoUcetIied/MKHIGLARO3IN0AbmqgLG7XG1yvlVbbFV8eahlQllywB4u+H4Dud/fFJ0vW4XxpGGKCvkGfVkQpM0FZYv5svHQb8XvzwOtLjzcwlB3A0l9G4s2PXreMD1/DmzQ+eg1vCuKtj9/EbJ+Gg7LA0x/gPg+ipPbG/3y9EFl2AFOH8rsAPDlxFUIZlCkDUEmVN2a88SJmnI9F7vU0s0jePQq3azRor3kd/142KWhycFZalYCE7CBEZdkWMdkxClsoMShjUKYEQU3tXNOCsoK6HKzz5M1hA7JSkHY5kytfEjiLK86wALOmD2XJSNJdQEjaeWMEp/oiOPWccqT5Iq481aIsyZcwUxC85mWuJOeh7YcZYYkW10krZXHYyEGZOwZOoj1jpr4yR6FMV7Ebnz9kUMpenY9ElUpZTtUFrPzgLvQZMRfB5eFIuWQZSSU78PWj/L3v6Pgm/iniG/7VQdlwDsrctN3wzXHnQVl6ZSjCM0/CN/mEWZxLPoFzKQqRegqhZfaXLxOyVmLsUx3Q/q5BWBzuZyxhSkFZXMavGNiGQJk7Xpy6AwkNqJSJ97kkj5tc+bLcB4FnPkYPDw1aaR/FtNjTiLx0GL+9RqBMg/uG/oSzzQHKlExA7T9n/S8rsnnyiVmDMHr5GeRb/Kteh8i/BnF/UHXp9AkOV1i3VdBHTrav0d99JLZdlbu/+r/kpNSIhllTsqZwzTneDFbJBDbHYB77HvZc18G5BqlKr3urnzOZx1r7zombvlwU1FoavwotL4j6pRQExkjsDuTNYT3jErnHZC3zWiam/h2Cr5cEIJJsqyQwryXnlackLZUqtdebjGIzYHmchsiNr6BLu3ew4wqxp5C6JgO5N47Y3eg/dnuUhZpFDWUTdo7k1R/N7Ri9LhB6UdN+buU5gXnsMa6pP7cqHoen9uMmx+7qOR7HLiWbqWPUPFZ34xy2bN+GJM6vLBFnjdOXvHks7ztmuXVSTsVh/O9JXtHq+fJMRFYa9sisTkJOVbyZm74QplJTpmNgh3sx4VQIdBIGsfxaDHxXvsBVQrSadnh7jTeyq+MF9hZCqwv+mDeHjUbM1tc4VdFd2xOTzoUgqyLaamRWWJYlhWXK9IoopF7ZaQRFmxv9twaA6x+rjDLLqRWRRsiiFhjCnHzVC8s+6AatpjWGLTyERIGxbHTg10albFZCEDdhmVC8AEPv4HdG6PXaDARd5Q1maWmyoc1jaYN/bPkF8HHeWIKkpUi5TC0whCVK8VpUGd/IT3O0CvNYv70jucb9O7u/hU35ZxBRfhIrPrubs8xoe9tzmJ/sBdJPRs1jw0tP8yXL/PVYtGktgko8EVp8SlWEFCubx1IbDJIDCo9y4V9wBFwUHkIDm8cqK2Rl/+mRdPorvDZ6JeJqpVSwHJye+Sj3B073vmSLJalrzF+j9EYUQuPOwC/WtgiID0F2vfm9TGrcrauUKQO5NehmlhgNA+Ti/w6mf0SU3NRbKFHixnq5x5xiRewpFEJpOpPc1zMuiTOH3Rscb/Y+CHjlVGRxE5jEGiMoJ8UIbAV12Q5ZYsibw1qDOWVLDBOkxSMq8SR8IoVxAj6Rx5Uj6iTCiyzLkrTZPytxKp40mLr2emE6Ag1DARTahFA2eNoRA5SlIOHIaHTmJsfaYeiMfUgxGMUKVbK4M19gxMStyDBAmc9C3lzUmiWGvtoPc7myjwb3Pm3akon3J0uQBK6c6igc+u0R9HjyB/hWmBr4qeWFMGcWrsDIu/hJuXuf+B/O3UiQBT0CfbwhbBSC1vGqYmvNE5iTEOG0nrL0ymAExe3HifB9ZnE8fB8UI+IALhSYW2IQQCNAlnIjwsyjTNhPRo6TSpdgRCcyzHYnPt1javQn4CZUymbRnrJr+zF5ID/927rNU5gdHcRNZQob/Y09Zf2/wLHLZOulEC7Erv7yj4OQeJV39afqGFXErGc/xF/lg1phiKFMvE5BTE1PmRyURRqmLCMvncbuGY/AXeOGx79Zbmjq98bpDYO4qhtRGJ+auAL+5T4cmPHN/t6IKD+FA8sHYdTirZxPmS2WGNYc/YNLT4AEtccwglrx0aYFZbkpi/H6I8OxSa+T6RXLxNYveLrt+cIsxNdZhzITSMkBlj3rDMqk4UwMA+LHDMqaApQpgZPSOSUYo+eUnu+flcqbw56ONgMyAmsEykjoq7Ixf3cY52V2IT3ZsN7UoUxKQSPKmvxkpZpzpDw5/41OXIlFq7kDr8/Zh1SD7QUBM33xDnzWj2/wfm7yXs7egoCX7tIufNWP/0ta69YVw6atR7BRMUtAhN90DO39OGaExBtUtERcWP4c7/je+yucvMZ7j2XkByOlire8MHmVxWHzV905haFbry9x4hpVyohprDSUZRSsxKh72+Gtld7IETX4C4GMHOtqwvD3F/z93TT3YsKxYBVQFgnvP57i3n/71q/h71Ln+ZQJlTPhsbVGf6qQCQ1m1UPZIrx+J1+OfHbSZsQZLDFSrnlj+6wB6KAlZbj++C0qCMk3+C2TTq9+iWtkJ9tV9XjxWxwoMG3HlHjdB5u/f5ATM7r2Gov9ZbcWlEUUrMW4R1rj9i4vYXHCaaNPWbhuIUZx9loauLl3w4g/1sK35AwPZiX78c+fw9DnvsFYmnLK5kb/FgFluVlrMfrhtuj14jwkysBWyY3DmMD9IaRB94e+h28lgzJ56HS+DxnpI5OGMVoOFUOY+LEylJXUheHA8vF4591RmLhsFxKq5crH4vuyx8qwZ1LKionFhJ1BwUspy907qiBd2hzWoNxRKCM5rzobSw6Ec5OZZBeApq+UuQbKCLhlxM7EiwZjVVLS6//WV5j37wqsWj0Bw5/th153u3PQdu/A/+F46mn4pUchtyoJMae/Qr/2Jl/G1h174vGXBuDJR7uhnfvtGDxtl5mCFr93FNprNXBz64bXZ8zH0uXjMPyDGQgw+JCZoCwJfit4gLuz3TvYfkUZynJqArFzcl+01nbDhJPSG46bg1ksziziVTtSLrzn8a9wpNh8k3FhWZR39A/Hrkm9OR+uex6dCJ9r8i7+dJskktWYxwpBTHjsSihLvnoIv7zcjvvv6tbqHgz9aRoWr/8eHwx6CM+Ofp5rWCeQPujnaZjyzcdYHhuEpMt7MHVYF4ODvRad+gzGN0tnY9k/P+PLd/rj4Qc7c99Pq1aPY8q5QzgVfQyR10Igr4yJ98dsDkqZBnf0fBULA4+DU8mIUlZ2CH9N7ocOdzyCiUcOirZa8obn7rfQow39/8QNHe59EI8//zB6dr8dHu5dMWrdVoTYMX3ZrKGsIONfTJs4DA915P9wcfPojmETF+B0iUktKyo4hD8XTMB7z93F/WuIr+23QZ9Xx+DXJX8juMHhjCll0nBmDY6UoSwvaToeN5RriDnwoKlHcdGir9Daa7DzloDWuFCWfCkT3y4PlDWHFSplFM4u1mRj9fFIjJ3rh+PRCU28fOk6KCNglhAyB2890sG4ZQz586/93S9g6on9mD6I7H3pjk69n8UHv8zG7rhIg/qVhPAzU/Dqg3wzM+2Hcmt9N96YtglRFSlmvWY5JVvx1eM8CJBrO/ceiTVx8dy+liYg41WzNP8vcb+HBm01z3F7X/JbLImVslhEnv8NY97sg/Zu/F96He4bgA8mT8K/sSa7CyGQZaStw7Qfh6N/Z/7vAv49a9G5z8v4bNZKnL8RZ6GacVBWFYgV73WERuOGR8evRUpl84YyUqYMPTsBT3Tky7jke2jV/mGM+3sPwgtX4O3u/PfTqn1ffL37GOfen3IjDEmF2/Dbhw/idm6XB/4713rchaHT/sQuQ89gqw734fkPx2HuoX2IaClQVn4OwXFLMenTx9Htdi3c296NZz8cjQm/fYp3X+mJPi+9i0VBx40KGd33kuSoy944tvsjPHU3MWGmcKZBmy59MWbD3wgs43vLbLXEaNZQJq/02FNWbKjnMChzBZSV3ExGoNcKLPt7PbYtGIRej01BIFPLYAlZtoJn40FZVkU2Jv8VpGgOKwVlBM7ya7Pxt3cU14N2IDTObjBzfU+Za6GMgFleZQh8Tq3AklWz8eee3QgtS0FudQRO7pmHTed9kW4YAhD2jZFj/bUgnDm5HEtW/Y5Fm//CSU5JMwcy+pzs4lPY/u9cLNu5EyGX+BKmGMjIY93VvzH6Hne4aXvghzNxkIayeIv+MiGA2XIsVMbExwTKMq8fxKQBbaDVdMDHWy6o6idrykoZbfqPTfsXK9f+gtkbluFoRgA3HJByPQQhESuwcO1C7Ev1Nzr6EygjQTYkD4hYg2Vrf8GsdX9gT6Iv1zsW7L8Q87b/Dd9i8RCAWBGTe9yElTLDHpik8T8sexe27JmO35d8j+krZ2Bj4AGj3YUQxugx3ZA84uJu/LvrF0xb/D/M2fonTugd8yljUNbgXmUMyiiUXSyPQupVAgmkhGkNFpSVMtPzdQhf8zL6DJ6PhFpWwjR9L9a+X7nzjQNluTU6zPg3lPMhS7kk7UFGgEwOyiiYbfeL5cBsu1+MXWAmhLKc0lDEX8pQOc2pttHf9VAm7EGjjf5SmQKW3dlgcSEFY8a12khsGE82AG+FN5dfQA63GblYKWs4KMsoXYrhnbRo1+YVrNWr6ydrDlBG4UyYU66b9rukICaXTY3+fFM/ae4Xr7WI8qUAygiYGUuXtNHfYHdBQUyYKZTRNaOjv4PmsQzKGhjKSv9LxfKRHdBn2FKUNPBrq1cWXdNTpk/8F3N+/xyjRz2P/r064g6PF7EqR6caymJXv4iObUdg2w152Coo24nP+vfChIPRKLYKenIgwtYJzJHvj9jMLB3RHg8OW2J3PxnpFVPqJaPnaE9Zfr0Oi/dH4ItF/oguTOdelwKYVKZlS+mcjf0hPJht8o7igErtBuWZCX9j1oxxeH/Uc3iE/F5bPY/lmWmqoSx85Qvo2HY4Nl+1BDnT9OWtBWV5tWlI9PoE97hr0W/0aiQ3MpQlXiD7QZL3shQxKkuXDMpa0PTlrQNlDVUKbH6vU/pfHMbf54YunT5TMJht7M8lD2VU5ZLOyjBTXJECfUU0dnzHT/Pc//R0hNfIA5a5ypONC+O7w11zP34vlXpONhLDV+CzVwfi83Ve0DMgk1Yf63NhsVWS4LsizfwUfDiYuhmDT8nvteN45NjZ5K8ayohdRm0O1p/izWEDs1JQVKdDETddmWWX0kUB7FhUPMbO9sOa4xG4WJup6l551+KRfi0UWybwv9cez/yKoEpLwJL2NUvB2XH3wE3TA1OLCMilm4VQvWrIYyWFTE9KllYit5qUPmVChVJGypXZNw7hf0+1Ree7PsTuS0lQssSgvmS0ZEkfi0uR9jwmm5GfnPs42rj1wiSfYNWlSx7KoqHYsE+2UlKKKmlzWDJxSacv6cQltcIgdhhSlhhCNUzp2JpSRpUwkqVsL8RrCVeCIAw55Yy/JgDUDkNoEqvGEsOa5YXSeWqPQb3LqD8ZzeJ1W5QysUJGfcrCSk8jtMyLi5BST5AILjllFiElnpAK7jqD5YXY+oJaYNBMrTCoX1lA0WF5Swzzv0yV/6K+1a4tuRnLQ1nH8cgT/GXo/O+BTjU6N/Mmr7mQzmqMVjNw9Beyv54HXpnuhYJ6Nc8h12QZoWxGiaV57MWsTZi9YBXO5KUzY1ml77ROj1JBlNSZf/9FQuNVsqVRfbQRyrIVPMao2iWXrRnDFtblcPC1J4A3h/WKTURxbQ4XRbXZKKi15gtm/fzpxARuKnPJgTDkVlmHK17NSsaBn/pwv9fB08nG3VLKltRaMnzG3c1DWaGl874UHDX0Gi1TGk1hK5Ohq1IOOWNYtevk/jmVCQjeORJd3Lvhq4NhyKmyXr4UwxjvMWZpCGvLesa1g/jhmbboM2IOQq5bN4wVmspmVkQhjYTI3NUZjzmDWGISa/AlIyCWfD3cGNSbjAJYisAgVuk4+ZrJ6kIIYPSYQhfJFLCkoIuuxV8OhDDoujjz1/gb3frFIEYNY6XzBaN5rBiwCFCp8iIrPwcKYWbQVepjsR5BbC1olBksLqxkI4yVnEZYyWmElnhxICaEsaDikxCGGNLoY+6akuNGDzIKYDRTEJMzjyVgFlB8CP5FB7nwKzwAEhr1ZbLGVoQa/vUbTimTV7uktjlSuyatkFHwsw7gxbVn8cuzt8Fd2xvT/NOl1RxJWLWmlFl/beeDbzN8zfpclAmCU80E3zdVymgpsaABlDJiLEsUMQJiY2b7YV9QPMhG5iWGIHBWWOuYUkYVs/PpiZyP2fzdodBXKStmRAHLq/LClAFtud/rz+eTVJYuCSA2TaVMqMpRCDTCGVHJqpXD2BumQhWTupbcn4BZ9g1PzHy1E/oMm4uQyiToaxKNm4hTVUwqi+HMHoWMPif29Bjc3+5R/BYcZpNKRpSyTKqCKSheQp8xW46FYEcBjapkJKdX8CGGMwppcrkpKWXqVTM/48bj1DSWwhkFsmaplBkUNKqk0SyllFHFTGgYSyCNApoqpYxBmTzs3epQdjFzNp5to0XXbp/iuIqtrkwgxaDM9F04AIMCICNw1lSgLCAzhVOxNnpFgdvY3EVQRuAsKDuJ8z2buTUE2RUZsqVMAmXZab9jQBstunQbg0PXrKtrplImgzIlKCNglhY/Gy9364EvDwYgp4GhLOvGEfw66G4MnbMHqTb0khEgY1DGT1mKFTGqrokzf515+ZJBGV/WpDBGM4OyRmi0v7WhTIfIDa+grUaLx8dsRq5AobEOHAzKrH9HKmCtCUJZVEEabw67PxyFpGRZp3OZUkYVs4i8FG6vzKmbgpF5LV0SzEgfWMi6wWij0eLRTzYg06YSKoMya1Cmq0pEyOEx6Nd7BDamxTaYUpZdFYJDcwbi6Xfn4oJKs1gKYzQzpSzYrJ+MgJcYxuhjBmUSPWVMKZNXrhpa1XM2lBVfD8NZn03YuH01tnl5IdlohtsUypdpiI3cgc071+FwTCwK62Kw8t3OII7S47bH21C6JLDBoKwlQFnelWB4eW/Eum0r8Y/nKfgXZODb5QGcOezFKgOQNQCUETiLKUzBxOUBmLIuCKmX0lBQl4jI8K3YuHMN9kdHQl8dhuVvd+J+r2O3RdpQumTlSykgI2u0fGnqXYvHhb0fY+BLn2G33jqYOVq+zK4MwMHlr+Gl92bCp5z0pKkzixVfx6CMQZlDjf4MyloelBWVnMSKH4egd+e78OTwd/HFT99g3Jt90PPhsdiTS3Y0aEwo0yE5bBHGPH8vej87Ep9PGos3nuyDt5b9ihFd3NDO41VsuJjDoMwmpVCFCqbmfo2klOUWHcfSyYPRq/NdeOKNd/DZlK/xyVuP490pR/HNqiDkXM/iFTICZA0EZQTMEktT8cPqQExcchofDnkcvZ8dgXGTPsFrT/TByCU/4Y0ubrjdYwjW5qq1wqADB0wpkwIzSyhL5va9jA6ajfn7VexvWc17mNG+MFtzet46zFu+FVEVdENyBmXUq4w2/DfE9CUrX7Lypcwm5Q0Pa8SnbMWbHdDntWV2WmLokRL0O17t2RY9n/8a2+KTDJ9Nj7iTn6KnR2u8vybSbihTbuSnDf1ymYBDKs5tehu9b++E4bMOIL2Wh4mCsk149z5+O4peL81BvM3GrjrErnkZnW4bie0KPmVOUZPUwE1zvcZGKCu8mYylb7ZHn9eWWrXEkJ68zEZ8wG94hfu9foV/Y+M5zzJ9dRZ+Wr4H7085hPdWhnKN/hyMNTCUFdQl4PD6j/DOdzvw8Wxf+BekcoqYrng93r6X/732fHEmIqoobKnLpKE+fOWL6Hj7G/jniuX0pbDh3pnHtHlfLtOmfqnM2WE42OgvCV1WJjpJGdPWRn+1ipnyNKZ9QEZUM1cqZbS5X5iFjf5yjfxy63Qi05bpSzqJSUuQUtlaT5npfKCZHYYtlhhxl/2M05dSjf7Cpn/xMbW7EGY6hSmXzaYzFYxjqUpGMjWNNU5hlp42Tl+a9YoJbDHoOs10+jK45CSEjf3iYzqFKdfoT6cvyQSmcAqTTV8q9qqZHP3zFK+TBsa0wCl4qqM7ej/3K3yvmjZVL67ejo+6k+1L7seUM+mNBGWZ8P/7DXRzb4Xnv92BDAOQEVAqqQvCrEFkLz0PvDHPF0U2Q41aR38nKUo2v79m8ro2Q1kqVr1/Bx4etcYuKEv0/xFPdnRHr+d+xpkrOs4IlpjDLtx3Cp9M90Snrs9hsndqI0FZCnw3vI673FvhhYnb8fPfwVyfWVheMi5Wn8eMl/nf62tzvZFrUz9ZJghoRW58BV3avYMdzQTKOFCzc6qSqmKuhjLxRCaBMyW1rKVAmRHQbkRwWybJARhZF09lOgJlauCMApv4WiGUJV4NBAmqkIltMeQeS0EZhTOSxSAmfCyEMaljOTAj65FlPpL7XQphjB6rgTIKXzTL+5g5F8oonDEoU4Qt+6GssHgzPujVCre3G4Q16Tlm6l/pf8k4f2geVhw5h1zu9e0rXzqilGUF/4jH2rmhe7+J8L5qbvBaVHMIXz/UGh7afpgdnmlj6ZIAD4Myp6iADQhl+sK/8T73e30Zf6ZmckBG1LR1ntHcpOX2bauw7MhZZBPDWqqQ0ezC6Uva7J8aOAmPtnPDPf0m4NSVLG4Sc+aWEG7owD/9EL7kfq99MSM02cZ+MgZlpp4xZd8z/jr1ShmDMgZlDMp4HzMpSwyxUmaEMqf85dFSlYqbpr0EbTGPJdvdHJjEm1i+/PNRXLT6/ciVGJXXpU1h5cxiTetFVd74ZWB7uGm749sjcRYGrrlxP6N/aw269fwKXhWW5q8lSoan3LkcxG8aiq7t38Oe6/Y839wk1frrtdDrBcaxxERWzjzWVIpMMShlq2HNPNbcIDYReyYRJ3wPvPTTYeQQV/56HXYH8uawnvFJxq2XiE8ZmbosEkZNDooNUVSTjYIadWVDkyWF8vV5FScxZWA7uGnvwTeHo7jpS/JcXWUG5u0Kxfh55/DMQ8/grvs/x/Fr6VDeFsnSPJaUDyM2voLO7d7G9sspkCsnOntdqiwpXKNGsbLZSvmSKGFKQSArpzLJxkjg+spoSdKWTFQyJTUsqyIG8mGbYazQPDbDheaxwlKlxfH1cFDlSy5TFY2eT74aAhJJJK7JB1W8pLJJ9TJ38Reu0+fRNZOxrMkOgypi0kaxfhCvx166YLcapqSEcWoY2d9SJiJK1RnHEpXMWLYUmMeaypHmTv50nSpm9LHJWPaErHGssGQpZx7rX2gyjqUGsiQzpcwFSllh0Uq83kmL1tqnsTjZXCWTniBtSKVMj6RD76OLVoP7HvsZQdXmKhkByv0/9IGbxg3PfLFLBVBKlQKZUuaUf+w0kFKmL1yBYYbf68LETA7ATsUlceawe4PjzfbR5LZ1ogoZzS5VyjIQd/Bd7vd672M/wr8qC2Tjcaqg5VbF4cfpS/DxzLN4+bv9yLaxdEngjpUv1Shk9BqmlAnNZY2lSoOrv9ljVr406zETlivFx1IlS+GaErSx8qUixEj3VkmDSHO41r7yZerut3C7RoN7+nwP3xpTL5n899BwUFZSH4U/3+nM94vNt+wXy0uehYEdtNBqOuPrA0l2lC5Z+dIpQEbU1QaCsoRdbxp+rxPhXfX/7Z1pkFxXdcdHFg5QYTWkKuWELSwGihQJkKRSkASHkLCYwiyFDSQswYlZTAAH2zgSXmRssONNNsbGpmxsS7IsWbslzarZe9ae7pmeGc30aEazjyRrpns2Od9O6tzXp9/t2/fet3TPfj6cOved+96b0UxXzU//e+7/9kF5Txyu3loODx1qygEyPDlguaFsaL4W7vzMG8Xn9RNbj8Dg4skcKOuN3gAfed1m+MinbhAQuSfSysuXPnvNuKfMfKalDF62cQ6EqWDGUMZQljmGKdDypRkU1gI0LfX3GAbKemHf9ZfB5pISePvf3wZdC36+x+WDspHzj8Dn/mgzXFTyJ/CDI7lHJ43Ol8HtV74VXnNRCbz2lZ+Ex8ZyVTT/sMFKmf+flU5pzNTIxV/KY7gRIxPyYeTOUUthGv0T8Dx9Xv/uFjg2mDGH3dkA2ORPRzhRNkEZHrXkRB+cLtIxS6iGnTq3Ha54M35eL4XvHu4QQEZK2eDsUfj559+S+bx+An7yfKMAs2drWgKB2cZVykj96oD+tN/wd8SS2k+G19zoX5fX+M+N/sfFkqesiunGrJRtKDXMBk1hoKwHdnz3bXBRSQm85cM3QvO8Tinrh+aDv4RneryXNu3N/JY/6IY+tsGen8GH/mATXFzyftjSLDfxd8LBW/8FPnP1x+CSTSXwZ5dvg1hgKwz6fhjKCMoIoEx5dDEJ1riQBDzjkoJADLPo78o5eDy3p4zmddntQ0vA7699q/i8vuOjW+Bbd1XBjY/VwsBsX/b9w4u90HDgTngq0ePUFvoADyVXA/vMhvFA8oXinH2J7+lL3ADMDl5VAAAgAElEQVR/iZ/XTe+Dn0Vi2XcPzbfB3ls+CZ+66qPi8/qOj98KLalueLysWYDZE2XNnmDm9p51Bt59KfeX2Wwy5PuCjuX+Mu3YpyJGuy0piz6zuQ7on8XDxaPQn24HtLpwszxW59qzbv5B+slcIGuBvrQ+VNPXsNdyPxmOsacsgedfhjj70jnbshES6Ug2ulKNgNE502CP6fo8CKMeMlPO9pZpDiS39ZjhHPWJRc+hY7+/aD+LuyzxsPLKbATedTlF/WXugeTU4K8uU6rXBGCRyaNgC7FEibssTSEsMY5A46QTDROHQQ61Xj9+CDDqxt0DydXeMewhw1qQ3ZeyDYY8XgdKWTjlqPgmrN1w/5Wvh/d89n449fIgTP7fkDZyv24SKn/xYXhFSQlc/IoPwM21XTmWF+OLMTj6m6vhyu/9Bjp8qGj0x71YWZxn+QebRNP0tS/EM8uTPVD12yvhk998EB685i1wUcnF8M+3V8DQmb2w9ad3QeNcUMWMoYx+Xwhjoy+bQwdMOTWEL0O4YNWfacT3D2Xu1+iF0js+BK961WvgU//5NHz9zio4OY19W/0iTs+3waFHvgKf/+6voXUuU8ONALqYR5Ws2FB2o4AybPK/Zg8tTcag9NHPwSe+cS/c++/4eX0F/NOtx6BvYhfcfP022H6iRYDZw4cbRdM/bSggWKTrIFCGxzhhEIDJgEU1XZbvCzrWglg6Dtl6aChzTGBtUKVTutQaPW+zucid08MYQVpYCFOfIyjrmY4ARgKjIChrgEQawcyJrhTCWD2gkStmvNYFzpngy6suH0hORrEqlKn1XChzbC3I3sKUgwIYNv+rz7gN/2XWA8kRyFRYy4GyqaMQMQRZWujzEYhMOdE4eRgwGiYO5YRarx8/CBgIZWbo8oaymol9gEEeZTKIyWOGsqI55IeBskEY6toCf/26TVBSUgKvetMH4av/sw0e3vEA/O/d34cvfuy98I/XPgJtc6jQIXzalDrcfUnqU3HyyOwz8K9vv1h8b29+92fh5t/8Am789ofhL/7xZ3D87DG4/iOvhk0lr4VP334f/PjLV8Cd9QRuQb4+Qxn93lY/lPVDT3QLXPHNe+GK63bCG9/6Mbjq5lvhwWfuhV/96rtw5ccug4//50MQSbvKmRbIspBWXCg7lXoKvpb5vL7pXZ+GG399G/z3Nz8EH7z8BjgyeQh+lPm8/stt98APv/QZ2FbbJhQy7C276uZy+N+9DXBqzjmcnKGsE1AtS84xlPlVzRyljKGMdmIylMlnYzpAxlBWNODyo8blQlmuImZ7/iRU//4rcNnrNwv4QTjDePUlfw7ffvggJHP+DcsLZeMX+qDmd5+DP3ml8z1t2vQ6+Kur74Cqs0kYXSiF6//q1eJ7fcOl/wDbKoOeeUngxlC2VqAMrTFuf7YWvr7lCHzg7e9QPq8fgG8+tA96MqpZVj3LAphOMSsulJ1eSEDVE5/N+bx++Kpb4fhkN5yaPQI/ynxeX3/p38GtZZGcJctD0XbhsXbHjjoYSHdLS5+OBceGVcoYynwvZTKUVYAMZAxlDGU5S3/+ocgGTEHmwkKZ8zVOjx2DZ3//C9h2zy3wwI7d0HKO1DH5e1huKENw6oNo06Nw38N3wzONERjOqnH9kGj5Ddz3+BNQPR70vEsCMswMZWsBylDxeuBARIBLZW8cBkYOw++fvB1uvXsr3PvsTmg446pjBGSYl1Mpc9StBDRHHoF7HroTnqyvgWTW9iIBHU0Pwd2PPQrlI/rzLo93ReFrt5TDz5+qhWS6R4DZhl++ZChjKAvp2s9QtgxQRn88Vle2m6bam9+L+WwC7vv86+E9n7kPTl0o5nvld8kwkz9em8apbB5Lvzds4peb89WxHXAcE9f83jGnhyzXALYPhhZicLc4Zuke6LWqWY7ClTWHbY16gFauIjY0fxLM0ZujVhEAFSO7yla+AaxtrrI3Kpz/b/ptDfROu+ayp2YT4ETc0zyW+sWoLyzb15W2m83K9wUdG01jUzEQcx7msCbj2P7ZDuhL2488on4xW6Z+MZshbO6c/fxK6gUrNFMvWff5RsDowkAD2VTwcCwvcvvGqJ8Me7qor0z0j2EPmRTi8PCXaj0NZKm5X87y2ZfUS+b2jFWLpn61TkawTvO+awJLPWC6TCqY2xdGTfvmrD7TMlkGTpQae8aod4wa/emadlV6eY3R8Uj67PSRyb1k1DNGmXrM6Lpu7ABg1I65h43nm8PuA2r2x4b//PkX8nrJqHdMzZXDzwNGxendTqBx7Noyj5WVpJUcS0qZB5SFV/FWQinLh7/iQjkrZfTzXK09Zftbo6IZXpjDKsuTsiqmG9tBstjLl+5OzkLArn4gJs7K/Mmvq6H7nKOquSDnvftyXTX6s1LGShkrZdzo79XQnju/kiAmf+2lhzJH9VtqSFru9zOUrWYoq5DNYQ1AZgevXOUs997iQlkhICY/iwDWdDoO19xVCdc9cALiU3HpOCZvKCOljDIpZpippsvyfbZxUBVN3O9j96VOLUOlrH/W8Q0zKWHqTkvdNT1LiplXdlQzu1qm7qT0e61T10gx89p9SQqa3PxPNZNSRmqZl1LmtcvSNB8/Xwvm3ZVeShnaYeTuvlRVMpqnOqlfQTKpa65S5r370qSUCcVM2Xmp32mpO3zce/elH6XMZIlBdcqkmFWP5e+6VBUy2oFJdVLMxLmXI88BnXcp5xU7Zmny/9BiwhR66wmTJQXVw6tVMojJYwnKcprz5XsKGzOULTcwLu/X81LK1OVM+dpkhWGuS+axBtiKnM6Yw+5oEDYa8tejsXff2NJBGRrDkjks9pPJYFXImFSx9rE4XHtPlQgcO/XgUKYDMF3NBmLyHEGZvGSJNfkeeTww6+ykxN2UttC69hcJynSgZgOz5YYyArXumSarJQYBmAplCGR4nqW8JKmOxRLldJ1Yxswbn883izVBmFovFMo6XjoBGCp8EYSp9SAwRvcWG8qazhwDDLLFWCkoI/jyygLOxp0lTBW+CMLUOkNZwSDFUEaKT7DMShn9vFYTlMUmu+E7d1XBTb91zGEJwtS8nqEMIQxVsh/cfwK+88tKaDodg8E5hjJSvSjrgMtPjaFMAjSGMuMB5WpPGSplDGW7hHK2YkpZ7nKl2ldVmPpUPMWMoYzgIlhmKKOf12qBst7pXgEi1z1QnTWHVWGMrtc7lCGYJc52wk8eroZv3VEBdQPtgR39daqYriarW7YxK2WFLWuSKqbLrJSha39u4z8rZfmN/l7KmDq/7pSytQRlb7/8ZiiLHoMT0ePaqOlpgdMhVbm1unyZHKqEE+3HoMoQL9zyN/Cm13wenp4OehrA8i4vEjwtVV4JKHvb5TfB0bYjUN72oojjzUfguvtK4VvbymB/7RGoSEQgudhv3BW6HqEsMXAMSlsOwnEpDjcegB/edwy+fksZbN/6RXjTH14Bvztr7xHTgZetZgMxeY6hjKFMXsLk5cujwMuXHs7ydohSlS77tfcfQNkyIti4eCoZqnWOUkbmr6Z86fuvg6qsQ38wlW9tQlkP7PnRu8Sh66afCdbf8IcMZSsBZbm/k03wt1/YAl+4fj+87s1vE+awl77v+1CW7ttAUBaHHT98p/bzetHmi+GjX74dvnTDYXjH+7/HUDbbJg4O97NUqbuHly95+bL1rHsGJjX2q5mXL58D0ew/6ixZrnij/9qBsgHoG6yE2s4Ka9T3tW84pWxg+ATUxsugxhJ1iUYYyBrTri8FzPsz7Px7lxfK+iAxWAZV8VKoih0XcdtTx+HqLWXwTLlzjfXq3uYNp5T1DJZCRfSINkrbDsNNjx6Dq7eUw562VutuSpsqppuT1TDbmJUyVspYKeNGf4SzEr9/XIp5HxlrmvMAjC2GC0d5CqaureQzzr8zCeafBc+t5Z+Nl3ksLhWawmQa66u+0Ade5rDGr7vQZzGHtRnH4lxhOybN51MGM4yl3ZaUXaNYMoyVcxck03G4e08dXLWlHHY3NBt3PdrASjdHsOWVaddl/0wHUGDN9Bx+vzq7C7XWn45BX6ojN9LRopjH0qYAOeeaxbaAfN070wy6nq9i1Mj+QpfREoN2WOqyY3vRmHMP7byMnXcOHs/bWZnZcUm2Fdoc0jgWTWRjL9WA2Rz2BKBRLJnJkmls25kqoPDqGaMeM3UnJe2o9JPJCqN5ohQoTAeOkzJGOWsaO/4iNGZC3XWpN4o9Avl1b/PYPNPY0f1QO7ofakb3Z01hXasLf7UTo/vAuLsyYxZLuzBp16VP89hgy23FXR5cH197bS5BbkzlKsx/LrzUrtGXB8AU2DxvtrAobM4GZ2QO+0xNm/br558GgCcCUBTXa4xAi/LS2F7goeMJY+hULLWGUPXQoYaMqW5TURUz/FoEbTmg5WFpYbS7mO0U75P/Dfh+fDcBnjlHITmH0e4ZBFy2ZUl5Toaw/HF4Naw31Qw9aXN0p5rAFIlUk9UsVgY1AjS0wsCIYU470ZlugGykGqArhfdklitNOy0zDv90nxbeJE8ymicgM2UCMn12rTAIzkxZhTOCNFO2wVrLVJlxtyUtX5qgLTJ5NM8KQ4UvU4+Zc98hIC8yNROQ6bJw9h/fB3WGqB17AUxRM+bt6G+ENvQoM/uUrQ8wWklYZChb34C31qCsXDaHNUChC2AEYnLemFBGgPN4WUSA2eOlkTzwoXvCZIaytQtlMRnIcMxQBiqgMZTtBVLGKDOUhdwBWSjQMZQxlK0WpUw2hx3CpVGGMqGeBYWop6ubBJihcoYwFfR53f0MZQxlpIR5ZZNCRnW9QuY4/UfPsVImq2U6hYxqrJStEDQVCl1ezzOUMZStBijrkMxhk7N9RiBDUGOlrMsTtPZEmkWPGfaaDaQLBzOGMoYyLxijeYIvU2Yoc49b4uXLdQpWXuBlm2coYyhbaSiTzWFxjP1mJpWMocwbyEjpOtjeCl/dWg537KiFZKowMGMoYygj6PLKJhijOkMZQxnYoGSjzzGUMZStJJShKnbDo7VwzV1VEJvqFkDGUJbb9E+QFSYf62yDr91SDlufrIG+mfBgxlDGUOYFYzRP8GXKDGUMZQxlFoWQoYyhbKWgbHChD7Y9Ww/fuL0CmoYTWSBjKCselCHIVfW2wb/dVgE3PlYNPefxIHP/ahvdy1DGUEbQ5ZVNMEZ1hjKGsjUBZQ4crYRH2fqGkjA2EuvpGa/dl3RmpC7blhBxzmZr4WfugQMRsbxW0RvPe5fta69UT9nQfA8sRTh+ZMFBiYDJT8YzMvGszB8/fAK6zjpgRqDlJ5MVhmxVYbS88LLKyFhi+LPAiCk2GcEtMfxaY+TbYMheZYVAmdnywmSFQXUvSwyywZCzaokRS9VDbKbODbLCoFwkSwyCLjkTgJEfGWWq52e30T+o5YXOCkPdZalek19Zy2Sp1RKDPMp0GS0xVMuLQiwxqJHfK+sa/U0WGFSvGd0LGNUje6F63LHFUHdZ0u5LNZNfmbDDMFlirBzIFB+ewhrOFv4cG7yuZYNXr+99KQ1g7XAk21Tkj7PmsG0deUDmBXSD8yfBHIUZwNqgi8xci50dc1jHu8sPIIW9JzLUDtfcVQk/eKAKYpNmc1cCMDkTjJE5LGbV7DXINQGZ/D5/43bon8VwjlQKktGTzAZejkEsmsTqoim0eWzPTAQSIaNrxm4eSwCmy8KnLFUPHTN10DFd64bqLWYyilVMZmXYwjEpZlTPB6xqYRSLIEbGsJQJzvKzewA5QZYKUrZr9RkXusoAx/Qs1ck4tnniuBXKyDBWlxsnXtSYwuqMYnW1w1mPMoIwAVtjzqHj9vH+rEeZCl0EX2q9emQPYJwY3uNpHpuFsIyZLF1XDD8HFcO7oGJkZ16UrKd+sJUDTFbK1pMypv5bVqNS5mUOa1PJcM4Og0vnU2YDtkLmlkMpIzWtfawDrr2nSkTbaDRrCusFegRoBGeYQytlcw6AEpjJ7/Qe+1fKVINZBDjZLFYd24DtZGrtKGWkmsVnGoVh7FIpZaqpLMGZnAnUVPiien4uTClT1TWCMMpmaCsFMofVZZ1CRjWdUqYqZ+brI9A46bj6kxUGwZl3PgD1E/tFkIEsQRhltU6wFkYpI+WscmT3xjCPZShjOFSBqhjXqw3KyBx2+6Em6w5LG5gxlBW21BmfisF1D1QJ1QzVMy8gw3mGMoYyUsYoM5QdAwQzhjL3YHJWyi4UYxmVYagY8LNa37GaoEw2h8Umfxt42eYYygqDMlTNsK8M+8uwz6w26Q1mDGUMZQRjlBnKGMrwEHI5GMoYymC1wtBq+b5WC5Sp5rBeOywZygoHL1qyNOXul2Jw02PVYmdmZW+bVTFjKGMoIxijzFDGUCYDGY5LJi4MgjEsNhCrsReNly9ZsVsKkFsNUKYzh2Uoc3dyLmdPmQxouCx5cjouPMzQy+xYZ6sRzJYGymhnZRSSqQ5IpijLY6pJ2cdh5Go/GV5v+J6y6TqIZYKASuSQuy/pHQRpci8ZjalnjHvKXBuM3P6y9dZTtjgIE6ZYESg7BRMvm2Mp/ujyO9c/zAmwujAAo4YYWewHWwyjQ74ldHYYWLM9g3NeuyRx3mQOa4My8d4FbNjXx9BCL9ji9EIvhIlCmvWH5rvFOZVD87keY3Q9OJcAcyydKmbrFxvAXrHZTuibiQvXf3T/P9DWImo05+Y4DMzGIZl2w2+jv3ZXZjoKyXQ7JDGn2iCZapeyPFbn2kAHXFRTm/fla6eRP7ziFbbZvzfVBMLaIlR2d252zTQCRud0JnBsCWz0j8/UAcKTgLHzdRA3RKcCZnF1h6blWgUwAjE5e0GZO+/uvlSb9qlJ35zLofWsEy1nygCjeQqtLpxomSqF1jNlInCM0Tx53I0zpdBsiIjoHcP+sfxo1Fhi5IJXPpC5lhlOkz82+wdt9K8bPwC14/tF1IztA4zq0RdyQq2fGNkL2Rjbm92BibYY1MhvytndlyPPQQXG6K68KJlcHARTCAVt2cHMDGQIawxQ6x+gluJ37KV2ecGT13xYKPN6Lx4qvu3Zhqw5rG1JUp5zoCwcWIWBMXpmaaFs6cBLVr/UsSeUZTzF+mfjgOdkXrWlHHY3NuftrGwcaof/+FUldJ7zt+vy1HwXYCC45UNZLANkbZBMhwiLUiZDmDpeKSjrIRhLN0EiaKQkKJtuhC4EsvMNEMeYbhBQ1pWKQKcSsVQEBJQpEKbCl+m62FAmAxqOVZCzQRnBGWYzkFVA2xkEsjIRtIOyecq1usCabd4EZFjXwRjV/EBZZOooYBCsFQ3KJvdD7eR+qJnYJ4K8xyirdfIkC5IJ0nKgbPQ5qBjblRclU4uDoAsENYYyBqClAKSVeOdahbIHDzYJc9jKk52BmvoZyooHcH6hjODpoUP18JWby+Hp6qYcMIufjcFVN5fDC835wKZTzKxQNudAWXd0O2y7/0Eonw4IZgxl/qAs1SiUMRN42eoMZbmqGQGYLjOUuXBWMrlwCnQxsXAKxheLsTMx6DvsIORl9MnzbGSr+wx4GcCeXuiDQsKkeBXyzoqemPjjfiCEOazYXblE7vk2NawwU1hcnjTDlA2OlnKOesF0WSxF4pKkEr8taxS/u8dKG6E/HcvO//cjJ+COnbXZa/U5+ZpADWv4jpyY7YD+VBu0P/lJuGTzx+HB8RboT7X6D4txrM1rzDGFDW8C2zsT7tluNID1MIFFtUsbuGQpKWRCJXupHmIY5+uzapmzVInLlU50zDRCbKYBYiZjWI967KWarJpFqpYpkwrmql0nsqaxppr6DJnKtp2xq2HkN6bPuGTp+I2RQkZeYpixZptvmjoOpmicOAqmaPBhHqsqZPXjh8GJQ3nLlnbDWNdUtnYsXyFTFTBSzKhOqleQnFXITu+GitO7oXx4F5SP7ILy0Z15wUrZBTsEroSqw1+z+L+TtaqUNQwmAilktITJSpkZ7mzgp5uzAZ/oFzMcifR0TZMAs+2H6gWEIWQ9Xh6Bb2yrgP50PEdFIwCTsx+lLJqBsu0TrcGWMVkpY6XsDC5XqsHLlwRhlHn50tLkzz1lxYeVjQKAaxXKCLKCZoaylYcyBKznI82ixwx7zRDE6gfbBahV9LYxlAVw+F+xnjJevsw5Ool7yl7Iaewn9cwrk6qWVcxEkz/3lPEmgQ2sCjKULU/Tv21p03vOa/dl8UBLp4iZamGVMlK9DrS3iL7AbTtqoS8VF83+D7/YwFDGUObr7EtaplQzLYVS3V3mzN99yY3+B0F35JLYfbleGv2XzhOM1aCNol4t578T+8xMOyT9WFeYesaWvI62GoYQapjBVgN7ymhH5HJkb+ByPcVM966k15gNvGxzuHwp94HhuPt8DOJn3cPGEc6OdbUC+phtfbIGfrm7ThzRRNCmZvV9pp4ytMNYT8uXtn6z7pmMJUbQnZfpJqfPLNNTJveWee2+7Eg5PWVogWFr6DfN6Rr9CaQoq/5kBFh+Mr2D7iUoc3rL1GVJf9etZ8qzPWNq7xj1mMl1HFNd5Iwdhq6vTNvgn+0zy7e8oB4yyrbdl6oVhtpTRkCm1uWeMnWZMszyJSlilElBo2ubUkb9ZaF7yhjKGB6XE6oK/VoIZV4AZYM225zXe73mTe82wRjVV+qoJIS84cWTIgj4TKAVpF4olJ1eyFXaTMqXWrdBF82pz9A1zqsQdc/eOrFE+f37q+Du5+uEPUbTSBQqT7YJaxPcmYnROhYVahn1jsn2FzlN/ekY9M0chSfu/wn89PYfObHtv+CGbf8FP/7qe+HVm98NX/j5D8U11iju3H8IBmbb8yI5274qfcqWE8qELQZaY2Q8ysQGAQS4TKA9BkJZxzRaZ4SFMsffTHicZTzKCKQorwUoIwjLAzCp6R9tMsS8AmUqiBGsUd1t/F9eKKsd3Q8YNaOODQYBmS0TpBFoYVZrBF+U6V66JiirHHkOKsd2Q+W4u4TJULaBl/IKBZy1+DxDWXGXL1cjlJHJLGaCJj+ZwMuWTe/RQVnXuQ44EG2G7Qfr4fpHToilS4Swb/+iAq69p1IAGV4/erzRN5SdfOkp+N7fvxve9d4/y4l3/ulrYfOm18AfX5Zbf9d73wmf+OkTeUCGkMZQlvEqYyjLa/TXKWUMZbn+ZQRaDGUMUdwTV8BngKFs40CZDFAyaMl1eSzfE3QsHPoVOwxVOeudiQM29j9RHoGtT9Vkoeyauyp9Q5mqnPVn3Pxty5c6lYyhTLLHYChjKGOlzI9nGS8LrkUlarV/zwxlGwPKbLAlz8njoCAm3+8HynQ9Y/VD7bCnyTGR9bN8yVBW3J4yXr7U95ixUmZezlSXKpdMKdMZx2LNyzx2bHEAlibY/BQBgqO4P4PRhX5Pc1iv3i/TfCEGsfis8b2GJn5q8B+cPwnm6IUg/VxB71V7yQozje0GfP7UbMJ4mLcMQqYxgpY8p5q9ynPyWL0vyHVSNXXVXKvKmXotQxvOIYD1pTo8ot3TPNZ0/FJ/uk0cLI6Hi+tipcxje6YjYIrEdHjzWNE3dr5BHK2ExrEU1OhPRy3JxyyhgWx0pgGi59FkthbiIQKf8+oZo94ytVmfmvZtWX2GzGNbpypBbwxb7llvmcKzLt1jldSxbCRLZrJ4D/WbmXvGHONYtZesYfxFcOIIuMcm6cfU8E/3yeaxaiM/9YxRpgZ/uq4Z2QcY1SMvZPvCCLpMmZYtqT8Ms1rL9owNPw84pnupjsaxIobxzEunn4x6ycpGdgBG6LMvudGfFb3Vro7J3x8rZetfKSP1i4BLhius0bya6X5Tlt+jjk2O/jJ4ydCVP47DqfnObOB8chbd+zs8Ag8jb7PuvlzLy5c9M00gR6LIuy99KWUz3Ogv95MReMmgRvPc6O8cTE4QRtkIbbZG/4nFU2AKO3gxlMh/9Hm8uj8PfqCMdjXm5cV+o5plUrkC1UNYXqBaNrRw0hLFhTBVSVOVMnU+zHWhuy8JtgiuZICimlcWDv2znYDLkhQCvNJxMGaPnrJ8EOsUvWTJuTgk5/Bwcgx0+I+BU+uA/tkoYN9Yf7rdmL2gTDT0U2O/lHXqmFyzKWUnA3iL+b23N9UMGCqECRsMgjE8kNxih6E9Xilz7BIqZV3TDXnRiYeRU+A9qUbozIQ4amm6AWLT9WL3Je7A1EctoPWFLkglw6wqYqRyqXVZGaN7vDI9Q0pZGEsMV1lzj1ki4JIhTB3TPQRspJSRohaZPApyZOsTRyGCdhjjL2biSPagcVLE5IzqGF2TUubmw57HLJmUNNx9aVLGTHUCLTkThJEiRpnqlKkudl+O4g5MVMx2iigf2QEYJeOLA2CMAhqrGVJWN6RstN/PqAF88gBMd1+hUKZ7p4/aSrnyL5XlhReoFQvKCM7k7AVj1NdFACUrXV5jeiZoRiBLzkWN9hQyKOnGybl2iD71z3DJ5sth+1Sb8T14nxz4rr50qzGWEsr6NFAngCzdDN2pJhEJBDApyKbCL5SRzQUuSzpRD13T5pB9xrTgNe1aW6C9hRwyeNnGKnwRaKl1AizMdI9XpmdkKIueqwIMMo1Vj1NS6zKUoepFyhfBlgxjMojJY7ynafKor4hMvAgYjeNH3Jg022K4AKZb2lxeKCNYCwNlWTgb2Q0OmO2CipGdIsqHdwBGyUb748z/3o0JiwxlwZSzpbC8YChzFDKCt2JAmQxbfsdrAsokVWw5oUwGNBwLSFNAjKHMObBcBjKCN4Yyp5eMFDGCMDVXMpRtTBBhAHV/7wxlDGVWtWy+C8i8FaHJSx2T5wmygmaGsmbAJU6tUsZQxkqZpJyxUsbLluwJts4+AwxlDGUMZc4yJitluUuZqjomX7NSphyjJLn4s1LmNPfjMiYpYaSQUaa6mlkpW2eAwQqYq4D5/VkwlDGUMZQxlOl6y2QIU8cMZQxl1EOmZu4pY7Bi9a6AzwBDGUMZQxlDGUOZYxrLjf7u2ZcqbPm9XjIoY3t383sAAAZYSURBVJPS4pqU8s9zdf48RzyMWMmQVZsX+jyNZ60GsiG/tjhwfL5nSU1gTc33quVFMcxhvd5RqHmsDbpkewzteC5jU5Gxt8h30EfvMH3I/WVBxv2zaH3RrjVw9VpixN2TeE+YwGdtOyx7Z5rBHE1gOzjca+7kTP7zaIWBOy8TMxERXTMRkC0uyNRVrqlj2nGJmXZdxtD4VYT9QHGbMaxsAKvbXUm7J70y7aCknZKU1bq8g5Lu8cr0jGMai8axlXm7Lt3dlY6BLO3GpHrLZBk44Tbx045LsrGgTHU14zztqvTKtOuyYewwZGNCt7PSqblGsYchf3wITJYXZBZrM4+V4SrIWF6SpOXKrDlsxiSW6mquGH4OKtBAdmSn2HGJuy7LTj8rgndfFqC++F064/uCLzfqfmYIvOjMHyaGF/rBZn+hhTEJprx8x0YuJEEXtq+JcwK8FvoM+SQQHC1nNoFaMep2MAt2kLhseeE1tgIb+pJloKzY2Q5pHVZLDL+7KXX32SwvvOZswObXe8x0H1liELyhg3/3tANjCGUCzhRPMj+7L2Uoyx83QGKmAbpTjdnAa1TN1OVK7fVMPXTO1GetMHRwpqv5BTUCMzXT81T3gjOaD+JTZoMytWcMr9Eqo+1cucg66wzb7ksvUItMHQUMsx+ZHtocSDuYBTMCNF3OgzOPsy9l1YyATYYxtabCl+lahjKyxKDMUMZQtmaWRRnKgi1BhgW5YsCX6R0MZXFpZydDGUNZtXGX5WqFMoIxzDK4efmUMZS5dhkMZQxeawa8dAoZ1RjKGMq8FDHTPCtlZrNYVTljpUxZ7mSlLAe+CMrygeyY1TiWoYyhbF2ACAEJ5wFxSHuYpUt8hpcv/QOdSeUqRp2VMlbKhDdZpreMlbK1pZTREqYKZI5KxlBmWq5U66yUsVK2LgCVlTL/YBV26RKfKwZ8md7BUMZQxlBWI87CpF4xU16Ny5cyjOFYbvZ3NgKYj1lipYyVsnUBIqyQuZsEGMoYykzLk151Xr7k5Utu9HfsMGjnJeagjf4ylAUBMtwAwFDGUMZQts4UQoSykcxSpC7rarhsSXXbTkjefekCn0nlKkZ9fSplcRiYi8HAXH5OzsYgOdsBxqwcFq7bSRmmpvaJBbleyp4y2pWJuy+7Z5oAly8TvPtS2+y/2pUygjKyyrDtvGQoc4EMlzJ5+XKdwclaVs/GLgzAqCV0thLZ2mISvKwpjPMIc4vmKBTKTMAn3rvgAo+6rDiEy4WWUO8v1nUxAEv3Dge6usBLuSr2/CkvSwu0vTCE3bbCWW40W2UgiHXAwDxGzMlzMWF14XiQtUNyFiOqzysAZQ50OedOEiQtR+5NOX5kWduLmYw3WSoCiWw0QUJniZGKQNd0ozE6pxvBHA1ZOwv5MHExpkPHDVlndWGqqRCFy5JqjWwrKJuWLqPnTkD0XJUI1eiVlC6qq7ntTCXQPZRJETNl2aesGZclDdE0dRzyYhJ7yfT9ZJ7q2MSLroIW0BLD9StzfcrIBoOsL0yZ/MtqNJYYsg2GPFbtL9AaQ62pvWOma4Sy8uFdUI4+ZUqUoPrAwT+D5foMjKLaZfD0wroNnHDOC56M8xvQAFYHTVSzK1bdEHZ+KQ1g7UuQcq9WsLHJFFaum8HNAbCB+WgGzKJZIOtLtwGGY/BKJrFqpvniZpva5RjD5pu4knfYUuWejDksAphq/up1LbzHzjdAZ4iICwPZWjDBlK1OUOUnE2ARcGFWa2T0Slm+N3dc5dsAlsBLlwnCXOgik1h9bp4szYcuCcQiaBBrDLefjGCMTGJ95cwB5HT4uAtdjmGsWq8bOwROuB5lBGEEXV5ZhjICMAItNZM/mQxaak01jzVdI5CVDe+EspEdecE+ZayiLesyr1DKXh6AUUNYgQ2hLWxYVDIvEBTzIb+ul1JWLOUr6HsIzoqdV61SZlHSzMDlwp1ZKXPUsVMLHUCBgIZLjuS2H2b5sdBnbMuVK6WU9aACpqhgiXQT+AkBbRalzK6iWZSy6TqzijZdFwjkCNwIxDCrtVzwcqFNfsYZh1fKZOWMQI3gzCu3TJUZVTJUz/JUMgnYmqaOQXMmaCmT4MxX9lDKVFNZF9oOQcOEE36Vsiy8je2H2kknaib2AQbBmZoJ0gjEClLKRp6D8pFdUD66My/+H7Kwa77MtV9mAAAAAElFTkSuQmCC)"
      ]
    },
    {
      "cell_type": "markdown",
      "metadata": {
        "id": "-vkQb0AUmiB2"
      },
      "source": [
        "![de2.png](data:image/png;base64,iVBORw0KGgoAAAANSUhEUgAAAY4AAADFCAYAAABD7BVnAAAgAElEQVR4Aey9B5hcx3Xn28/r3e/5vfVbp/WugyzbsrwKVqZEUZYoSiQlUsw5iDmDJJhJECACSRCRAEEEIueccxzknHPG5Jxz9+Tp3/v+t7oxPYMJ3TOdBqj6vpm+serU/95b/6pzqs5xYZNFwCJgEbAIWARCQMAVwrX2UouARcAiYBGwCGCJw74EFgGLgEXAIhASApY4QoLLXmwRsAhYBCwCljjsO2ARsAhYBCwCISFgiSMkuOzFFgGLgEXAImCJw74DFgGLgEXAIhASApY4QoLLXmwRsAh0hEDN4cO4Z8/BPW9+0H+VM2bSkJ/fUdZROV85dVrQcquOldOmQ0NjVGTzFxKqjM6zmDOXqs1b/Fl06dcSR5fgszdbBCwCLRFQo1bkcoX0V+hyUXfpUsusYrIvWUKRX9d76+ujKmuoMvrrU/bu+2GR0xJHWGC0mVgELAJ+BDzLl1Ny/0OUPvF00H8lt91BXWqqP4uY/pb86jdBy606ltx0c9SJo+SXN4Uko/MsHn6MitFjwoKtJY6wwGgzsQhYBCwC1w4CljiunWdta2oRsAhYBMKCgCWOsMBoM7EIWAQsAtcOApY4rp1nbWtqEbAIWATCgoAljrDAaDOxCFgELALXDgKWOK6dZ21rahGwCFgEwoKAJY6wwGgzsQhYBPwI1Jw7QcXaBZQvmUrV0b3+w3H721BaTMWyGVSuX0zFmgVxI2fNhVOUL55C+dLpVB3b78hVdXgPjZ7KmMtoiSPmj8AKYBHofgg0Vnko6nUfxQNfoPizlyge3IOSLz+kZGxfCp75a3L/wUV9YT5qlOMllYzuQ/EnzxqZJbf+Pn2eitXzqNy8wpE51xXlJrGxkaIP7mku08AXKOr/JJ59W2koLaIuN5O8X7ooHtqTqkO7wBvdVeqtPb8oo9SaCPaYRcAi0B0QqDqyh8KXvkthz19SMrbfZZG9NdU0lJdS8KSLguf/iZrEs04jd/mCGG00VlZQ8Mz/oPCtmyl45i9prK4ykni9lyXSsZrzJ8m/00VtRvLl45HcqD5zjIIX/w+Fb9xI8aBXmmSSXD7ZvA0NeOvqKJv+uXONyKNizfxIihVS3pY4QoLLXmwRsAj4EVCjW5uaSPmiSZROHuw/TNmMkQ6RXD4QhxsNxYXUpidR+tUAZ9Th2ZMQN1LWJl/As38bxUNeo6GizJGr6vBuqk8cjBsZLXHEzaOwglgEug8C7i2rcG9bS+W6hTR63JcFr8/PQecu9+4vn4mPDY2O3FvX4N6ymoq1Cx2hPHs2U5eREnMBay6cxr1jHZUbllBz6cxledw7N8QVaUgwSxyXH4/dsAhYBDpCQD3h0gmfUnPxDPV52Vdcrka4+tThK47Hw4HyBeMdg72MzlJjKYlISka8E1PxNPopHdcPz4HtjtosUBiRsAgl3pIljnh7IlYei0AcIiAde8EjLqpPHbmsPmkppq6pXLfosp6+5flY7atBLnjURX1BbrPRkeSROshbXxcr0Sh85UeUzRlDo7sCGhuukKPoo0fiDk8JaYnjikdlD1gELAJCQCqohrISCt/5PRXLpncIioy+8WIrkLFexm7N8Ko+2foISI11yZiPOqxXWC/wemkoKaJi1VwKnvqTNrMWmZUvnUZDSWGb18TyhCWOWKJvy7YIxCECarSqTx6ictNySqcMCUpC3SO1SqyTpv9qVKRGV2tJ2kvRnqWk2VtVh3ZSNm04ddkZ7YlGbVqiM/Gg3YtieNISRwzBt0VbBOINATX+Wgjn2bsF6d67U9JCOcmvUU+0Ayu1h1Nt6iUqVszCsf+cPd7epd3mnCWObvOorKAWgcggoJlQxZ+ahXw1SefRfndKWsBXMuJdpxcvFVW8JK3DKProMdzb18XFrK1w4mKJow00GxsbqamraeNs/B+uq6+jtq6WhlYMbvEkvTBuaLjSKBhPMl6Vsvjei4IXvuG4tdDCM29dbbeoqtRi3oZ65NpEBvu6zFS0YC4ukm8RX8no3k2LIAMWHMaFjGEQwhJHGyCeTjnNk189yfHE42TmZ7ZxVfweHrViFK9NfY05W+aQmpOKiCQe03MTnmPGphmk56WTmJUYjyJeVTKpwVVDK/1+Ud/Hu1XdZMyuy0pzFhvKxYln96a4kl/GePeuTRT1+2PcrmMJF2CWODpAcuvRrSzcvpBtx7ex6fAmKjxm/ncHt8XN6YKSAmZtnsXGQxvZeWJn3MgVKEhReRGzN89m/rb5JBxJ4NilY4Gn7XaYENDqY/eujY6+XVNTu1NSg+zetoaK5TPjZ3ThA7Dm/CnHflGxcja1See7E6ydltUSR5DQHTx30GnQ1LipN9/dUlJWEofOH2LY0mGcSDwRt+KfSj7FrpO7GLp0KBl57c88idtKxJlgWkBWNm0YVScOIkNtd0oii/L5X1F9+qjjNDGeZJctqHTqUDwHdlB9lRi9g8XXEkewSPmu04ijsKyQP/vkz1i7f22Id8f+csm++chmXANcuKuaXEXEXrImCbxeL8XlxczdMteRs+mM3QoFAa2KluNBuazQ2oHulNRzL3jKRc2ls3HlYdePYcETLrPOQt5/G2PvrdYvV7R+LXF0AemzqWdx9XVxIf0C5e7yLuQUm1v7zetHjyk9HPWbDOnxmn4y5CeMXjXawTjejf2xxlAGbmdh2+dvUfLF+7EWJ6TyG6vcxsvuoy4q42BNSDPhGxtprCynfNFkCh6zzaZFoNnb0bmd5XuWM2rlKM6knOH4peN4qj2dyygGd9U31NN/Xn/WHljrTASIgQhBFVlYWsiA+QPYfnx7XKvagqpMhC6SusS9Yz2l4/rjrY3fjkDL6vtdm2s1daCX3ZbXxWpfqj4t3JMn3fr87mUbihRmljjCiOyafWvYeHgjq/auYsH29lethrHYsGSlWU3rD65n+e7lLN65mPNp8WnkEzlLzsU7FjtEHZbKd+NMalMuOgv2tMpbpKEZU90pVW5YTOXmlbi3r3V69PEke23SBSrXL3Jw1dRfm5oQsMTRhEXYtvKK85Ax+vWpr6NZWd0pJWcnO9NiZQeRGquyKvZhKlvDT+rBbce28cGsDxycW7vmaj6mXrqCAGmWlOOeIi2pW1XXc3AHxUNed4z18TbDSz66igdpum8CtckXuxWu0RLWEkcEka6ureboxaOOHSQjv3vNENICSK39kHroxUkvRhClzmfd6G101IJSt9064lbGrh7b+cy60Z3Fw3o6YVq1EK41j6rxXBW5Yne87J485Lg0jzdZRcYKf6tV39ei0TvY52GJI1ikunjdzISZvDrlVXKKcrqdIV0G6dtG3sbqfavJLIjfxZAFpQXcPvJ29pzaQ3cj6o5er7qcTMd1ReE7t5lGraMb4ui8jPWauloy/E2zSj2OZJMoDrbb1uBg21AfZ9LFpziWOKL8XCasneDYQPac3uOoWqJcfJeKS8xMZNL6SY6B+mTSyS7lFcmbtV5l8obJ7D6121EZRrKsSOctw6ziSSg8a7dTmzQ2OmscFG2vfMGESEMVcv7yVnsZ2262viXkyob5BkscYQY0mOy0luLg+T2cTDnIV2u+Yt+ZfcHcFjfXaOaYZjeNWT3GcRUSN4K1EETEodX+mspbVmliN7e4JG53FRRJAX48+7c7i9/iVtA2BJPBW6u8q47tp76ooI2rYnNYLs0dbA9sRzFEbAodAUscoWMWljsOH4IBfaGoPMchjuuHXo+M6t0laZFebnEui3Ys4roh18Wt2FqfkleS50yXll+seEorVsCYVswyhT2uQx5f6wvyup2eXb34wtduoDb5Qly6ZS989TonTodjkPdeewv3wvX+W+IIF5Ih5jNvHrhaoC811o3Db6SmtsbxbBtiljG9/M5Rd/KDwT9w7CDxuo5FxnQt2Fy2axlVNVUxtzW9+yHceDNQX+EYisvmjqOwx49j+hxDLdwsOKx0IgUqPKtmecVV0sK96irKZn9J4Rs3xpVo3VmYFk1Xd65K95J9wYIricNfg7dnvM3SXUs5l3au27kcl8zvzXzPmU2WkpPir1Jc/V7KvESfuX34aO5HnE8/T05hbOJPLP0slYm/OIZ7al9nllS8qXTafWgKO5B4zkQJHNefsukj2r08FiflrkR+pBSrI15DsMYCl3CUaYkjHCh2Io/2iEPZSQ2kxXhr9q9xevHx7JiwtervOL7DmQSwcu9KsguzW7skLo4JY80WW7FnRdRGIFKTVO9Yye5XV7GlZ/da56OHpsbYvXW1QxqaXhtvSYThRDLcvAJ5rrUp/AhY4gg/pkHl2BFx+DNRr10+sXae3MkHsz8gvyTffyruf6Ua0kpvNcrvz4pfv0lSWwljTZn+dOGnEcVV/qMqNy6D9DO881oDN98X0eLCmnlN4llnZFR9+giKPRFvSdH/SkZ9gGffVjQbzabIIWCJI3LYtptzsMThz8S/2E2zsL476Fv+w93iVwZqNc73fnmvY6SOV6H9dg/ZQVbtWxVWMeUavPCtW/BWV+GtNZEl+/aD++4NazERyUx2jIKHXbi3rqHRE5+eBIp63Ufp1GE0VnniLl5HRB5KjDO1xBGjBxAqcbQU03Xnd3DdPAeXK5+hQxsdQ/vMmS2vir99BW1yvf89vvvcbkf2v7ihgAEfGXtPRhwtrpevLhn7NWKSg8XAVFQEP/oRPPAADPwU/vMG6NEj8AqzLZVU1dF9FL78/VZjSXz0UZiJo94L6yrglhx4KBc+LwVXFhyqulK4Do6I3OqLCyidPIjiYW90cHUYTlc1wugS+EM2vFoA7xWBKwfy21qQ53UwrdywhMKXvhsGAWwWoSBgiSMUtMJ4bVeIY/8+09AO/yqLqZtG8VCf7Xz7j8fQ7M14TzU1MG4U3PzqQWZuGcfg+TNwPXCAqXMLiMfotusOrGPKhikokFdhWR7JiQb70aOhuhpmzDD7pwJU6XI0WH3iEGVzRjvrGNp6JmEnjmkl4MqAczVQ5AVXOvTOgdLQpp1WHd3rzI4qm/kF8tsU8VTZCH3z4XtZUNYIx6rBlQozi6HWe0XxslvIW61mStVlxOcEjCuEvsoOWOKI0QPtLHFkZcJ/fBdefhnkOTs7Ex546xT/+do2Fu6YybSNU6/oIceoiq0Wu2aNaWgTfOGi16zx4rp9G/2nrGb6pkmt3hMPB+VQcfOxNTw9fBauu6dRWwWVFdCrl6mPZGx0l1O+eLITOEl69o5SWInjiBrbZJhRDGprj9aAKwlmF3ckxuXzGh1VLJuB5+BO6jKi5GVXnLakDFwpsMtHUnPLTV2ONictkUT5kqmODcMu3Lv82GKyYYkjJrBDZ4nD38NdtMgIvnWLabi+/AJyilOdGUwzE6bzwpT7Y1Sz9ovV2pXbb4e0NHPd72+BX18PO/dUkFeSxQez3mfqxsntZxKjszv3VOJypdF/eBbvzH2YV0ZtwvVv0ONjKB72NuXzxlKfmwl1xobRkZhhJY47s+D/pIEIROlzjT5SYVvHaqr6/GyKPriXquMHqMuJsr6wuhFcaXBPNuT61FI/yoGbsyCx7jKERR/cTeWWldGX77IEdiMQAUscgWhEcbszxOF2Q9++hiiqqkD7n31m9vPywOsb1dc3eJk2BVy9XczdOof6hjrnnMhl8OAoVrJFUcnJRlaRn5J/f9hQUH2UJHtSZg6u11zsO3OQuvoaFJxw8GfwX1wgFZEcl0Y7qczZs438SSlQ4/ZwduEhsu79MZl3uKj2NEWArK1rehZ6JlLP6a+hobnUYSOOYjW+KfBhNqjtzW2AW9PhoQyo9EKgpkrYNYLXcebXSMGD/0D53BgS9RmNjBJhkW9kdLbO1GVUHt7qekqnDKLo4ycMcLWBFZF3Qi/oWAtcm6Ns9yKBgCWOSKAaRJ6dIY70dHjiCdN4VVbCrl1w3XVmXz341asNmZw+Db/5NXz4DuSXptNz+kt8OfcArp+mMHxIEMJF6JING4ysc+dCSQmMGGH2vxoH23dAbi5kZsJanzrr+YE7+XDuyyxen8jI8XlMndRU9wiJ2Ga2ZeXw4afwqCufmtRkTl/Xg9WPbnMmJbh6ruC1KQNIz09h7aYS55jqp3TuHIwda+Tu+1Hz7MNGHMdqjWqnf66xEcyTqicFXsuDkzVwqsY0skXgvSWL2olHqVi+gOLnnoJ3K+GrGPrxWlxpiGNFKZQCn1VQ+y9b8dyyiOJnn6KxotyQ4WkRTBac8UXXLGiAV2VAT4f3C5uTY3OY7V4EELDEEQFQg8myM8RRXw9ffWUaIc3ika8j/whELkwCe+KvvQo9ezZJcixxH3/z8mKeGbiZzUfXU1wevO67KZeubRUXG9n/8i/MSEnEJ9XVo4+CjMv+EVNhoTl+2mdwXr5nMZuOrmDamvV885fl+Gazdk2YEO+uK69g7wfrWfIXK1nuWsCs5TBeozqNgr6A8jJYvHMun0xbjeuGdXiqGhxbg0ZVShMmwJ13Ni80bMQhzdhd2Ubl07sYEqrg5+nwkxzY7RvKVYNn5Abc35xGxWdTqE/JBU2mkJpoYlFzwaK5l10Prkz4QxE1t+/EPXgFFX/9JTVv7IZLPkHyGmCLCCYVLvjqk+AxhDhTM8dSQDPKbIoaApY4ogZ184I6QxzKQY2qerFJSUa9ox76mTNmpBFYQo9XmhOHzv3uN/D6oCOcSz/lOCf8eMHHgbdEZVtynz0LBQXg8RjZNVoSKfpTfr5pkI8FOC71VFcxaOJxXA/M54sVw1m6a4n/8oj/yp1Gxeq5NCQeJ+28h5PnDPaSU9hreq4/HThaguv6E3w2fyILd8xzDh87AvfeDW+95b/K/IaNOJRdeh2cqYKsOqjywqVqSDJxx2sunKR0ymdUnz1CrWsXrPb12nWfZmHFkjikntyTSamrB54tW6hOPAlnGyCjvrkKKkOjqvQm4tCIQ2mvx0zbtcRh8IjSf0scUQK6ZTGdJY6W+bS1rxFJ4IhD1/36Rhg+1NwhR4QVngr+9OM/Zd4208C1lVe0j/uJ4/jxppKzs2HbFnXi3UycUUJaXqLjsDCSrljc29Yix30NpcVBL3zbt9eQXlpmOel5qfzrwH/F9c7XeODFXL79V5CY2FSnsBJHU7aXtxrrqil4zDge1KpqJ6l3v9K3rQMxJo6Cl75F2cJxNHjK8Ta2Y6xIk6oqrYk4JLsGGdNL4YxvQoCpof0fBQQscUQB5NaKiBRxSN2jv8cfh6efbipZx77xDVBj1TKl5qTi6udCcTZiocJqKU9Kiml8d+82Z2T7uP56eONNuOVm2BjggFXxNlz9XY4rFhFhV5Ma2Nqk8xQ87kI+j0JN+/cb2TVVV6nW16Yt2TMR17u/Y+feMmrqjLqlX7hXjjc2Oq7MZRco+fxtSkb1ulJ89dpXtSCOSQFDpivvCO8Rr9fxpFuxYpZDykFnni7iSIeLASSxxw073GZkMqPrzz5oWeyFWOKI0UsQKeKQyic1FebMARmh1VPXbB6piKZPB03j1Qys1lLCkQRGrhjJ8cTjTojb1q6J9DHNrtq7FyZOhM2bjezLl8PkyTB1KowbB+VNE5gui6N443O2zOHYpWNUVoXuFkOeaavPHqds3jgUhKgzSTOnJKvsHhcuGFXcb38NCxdCehpMnghj1w10nFeeTTvKK6/W88A9nSnpynucaHYHd1I2YySlU4YgNyHNkjrzebInpBjVVI0XKrRIMBU+zgftRyEpMJVWo4c07VczwQ64jezbfc/2gAf+JRsezjNGc61bsSlqCFjiiBrUzQuKFHE0L6Vze+sPrmftgbWOHWT25tmdyyQGd7mr3Ww8tJGVe1Yya/Os4CRobKRi5Wzc29Y4C/eCu6n1qzTTTUb+HTuMSkqEfegQaOS0Z4+Zkqs75ahy6/FNPPjxEh4dsL71zII8qtGRgj55dm9C5NFmkg1JdpAdZXDcA+WNZtruzjI47IaKFlNd28yocyeqju+nYs18h5xDzqHaC+erjexnfSMOEYdk31UG28paXWEecjn2hqARsMQRNFThvTCeiUM1VSOsGOPpeem8Me0N5B69u6SC0gLSctN4fuLzbDwcoNcKqIBn7xaKh/akdPJg5CKksbKVYUzA9ZHY7DssC9cdZ3hn1nOEaqtRcKLij5/BvWsTtWlJkRAvLHkqBG7xJ88i4rDuQcICaVxkYokjRo8h3okjEJa6+jon4JG8xl5Iv0BjY2R7p4Fld2W7tr6Wk0kncQ1wkZKX7hhT63MyKHryv1Bz9hje+rorVTpdKTDEe7Wu4567dFMdCYcTHGO/7DRt4uubryzCKxnd24SVjcfwp773o+CPLseFiVlsGCI49vK4RsASR4weT3cijkCIFFvj2QnPklWQRUmFb5Vb4AXxuN3QwNgvHif302coWjCe1LICquPAo6Izq6pFPA7FA/l82ecOvorFUudrhOuy0nBvX0dR7wfwBi7YiSO8vfX11GWnO6q/og/j0+VNHMHVrUWxxBGjx9ddicMPlzzGikS2Ht1KtX/qkP9knPx6GxqQSkrR4KpWznWkKq12M23jNGTH2Xxkc0wlbWs6ruKCTN88i5m7l5J3YCvV+7dTvXYhDenxFzzJD2DV4d24d2+ifOk06ou6T7Axv/z2NzQELHGEhlfYru7uxCEgyirLOHT+kDObacyqMWw5uiVs+HQ1I8VpUCNWffIQDSVXTjfNyMvg8IXDjF45ml0nd3W1uE7d3xZxOJkV5OGZP4Hqw7spP3GA4esncC7jQqfKieRNMsjL/bpsGLWp/qXekSzR5h0PCHSOOOQ47UCN8YMTD7XohjJcDcThh10qKxmktQ7kGwO/gdaFxCpVnzlKwQvfpDY10Vm415EcmuGkWBtaqBft2OhtEUfBc/9oVqoXFziLcjRRtqCkAMUG+frAr6OIirFOjVVuCp7/Op49CXaEEeuHEYPyQyeO7VVmPrXmg28Mcr68vFi2syi0w3o/mNvhJd3tgquJOFpiP3/bfGdRnlQu+ot0UrhQRavTKm+ppjqbpH67bsh1aFV9NNRvIo7bH5C0jc7K9LI5Yyjs8ZMOxX9z+pt8MOsDZ+abJi5EK8m2IsIoHvwqJWP7RqtYW04cIhA6cagS92fB3RmQHuBgqK3KKYLX9HLICeLa1vKYXAr/nApJnby/tTzj4NjVTBx+eHvN7sWC7Qs4nXw6Ir3kRnclNRfPOMF9FG0vXOnD2R+yZOcSR+56x/14uHJuns9b/WD6w6epO76DktF9aNAII8gkYus9pzcbDm3gVFJA+MEg7w/1MkXdc29fS8mXvZER3KZrG4HQiSOtHv4lFT4MYhTg8cKkEhheDFrEE2pSCMzr0+G/BReQJtTsY3l9V4lDE2u2bYN1a+HsGbMth3vxluTCZPW+1azat8pZMX3g3AFHRK2kXr8etm4FuYHXKvGyIL17a1RRmbAC99bVjuFbaxrCnaTCcuTea+Q+evFosyJ27oS1a+HYUbPSXavdQ0n1KWfZ/dIyNty/hoYuNPxJWUms2b+G5XuWc/DiIZA5Z0s1rK+AC7WwuRJyOj8qURhZg/Ua6jJ90bdCqWgo1ybVwboy2FEJJ6uN7O7uMfU7lGpeDdcGRxxq8yeUwucFMEC+sVNhcsBXnloPY4phfEmT75gD1fCOXD2nwN1ZIL/7oXBHUQNMr4CfZ5k8FkR/gVYkH3BXiEOxrhWyVKoOrUgeOsS4uUhIiKTEXcs7syDTWQNy6MIBRqx+iwd7pLNtsyGPe+6GRx4GOTdsL9VcOEXJ529Rc+6E408qGrN3tABSa1f2nNrDOzPeJCUrl3mz4K67QH6p5BpFLkbGj29P8qZzDRVlFA9/k7ojW1n6wTl+46iqms53dutS5iX2HdlHn/G9ePeuJ6nZWAxPlsJ/ZsH50G0iWqxXMvwtqk8cjPwCQ7ULRzzws2xIqITVlXBbDjyVB6Vd0XF3Fk17X0cIdEwcGjX8Kgv6FoBcGX+Wa4LGnPP1YvbK5pFuDOUH5TNfKizfuUfkHzsd9ntMIJmOpAk8v9UNp6phpEJgJkMkHLGNK4GehfB2O3/PFXRezRZYnxbbXSEOkcbXvmZcesvNxUsvmYBOLYqIy135yXK5qnE9MYdvDXGhmBtqeDe1vsDbqYNGFAWPuHDv2EAkRhfBAOX1eqmpq2bKxkm43vgbtm818U/GjjHyKxpjR6noo0edlepeJ6BIIx/2g3vv7eiuIM/LueW/ZVDZM4na/GreXfAB7/Z41nTogszCf1nBwy4q1i7AWxPgUNB/MhK/aXKZngYDfQGZ9slVeiLsvLo6i5GALlZ5tk8cUmU+nws/SofsBqNuUnhKkYHSiWrzwD8sNFG6Xs+HPuol+IaXGpm8lQP5IfYaEmuNXURlLJdzsyQYnts1A7uRuPn/heXwVja8387fy1mGMJvf2eW9zhLH+nWmoRr5hRHh8CH413+Gd9/pskgRz0ALn5960sif7POS4Xr+D7henMKK9bl4nbinPjFqq/EW51I2ZbBZJR1x6TouQH6ovv8NuOsmeHvuL+k9ZTZ/fC2HG29q/f2WI7/6glwqNy2nsOevriigrVlVV1wYzIFPpQlIhh2+WBtL66hxnePGEbey4fCGdmeMyegtOcsXTKCoz8PBlBa+a+Rc8RF1RtMh09fhVEdO+6ejRFzhq801k1P7xLFeI4gUGOVbIXy8Gr6ZDu8UmUZ8mB5wEkiNNK8MXs6HDN/DvyRPnIkw68o59B2i+2ohTCmFU1Uwscx8EC9kQ1brH2iH+cXhBZ0ljs8/Nw2v7AJKivynHrui6fmTIu0dPQonT0JFgLfplGS4eNF/VfR/NTqSrHInrtCqcgKo/fueLWR6wji2nd7B/ktH4cxRMhds48CdE6lzG/uF5BZJyvOvz/NG1CuwzkfaCtGrdOB4Dq6HvuKP/bdy9NKhy/I0ZqdQe3If5YsmU7F4It6c1hfuhZU41El7PBMy641K+JVcuC4d0uBc9nnGrx3PrrO7OZt57rKc2jxpkUgAACAASURBVKg6uRfPgc2OV2DFHYl6KlQ7kQSDCoyjRQWhUl3ezYUia9+I+vMIssC2iUOzoUYXmMY/0TeLYonCNCbBniqQ0eq/ZsLXM2CDG464oTigYR+rBj8FNgUxhg8UdrsbviyBE1VwyAOHpApLgv/MNKEiA6/t6rb8+YscN7Tzt7rCxHHualkt7u8MceTkGLWUGlulrCx44AHT+MruceSIUZ8sWwqKAKjrNm0y7r0vXYL77oX+/VsIEsVdGZQlk1yPK61aZfanTIOsAljz4SDWP+BixMMuXn7iD/zsxSI8bsjKhPffhZ/+BG76tYm+F0WxnaJEwEOHGnnl1r22Fl7tYfZ3HD7L7wYcYtvOuTRumM3O13exq59h8ooqWLnaEHxgRENlGjbikNpY39pg34SVA1XwP1LhtRzzTWaY7/LQhB1sfWkxk/YtIilhEXUbF1LVYz21k45EG86m8tb7NAqbfDZTJ156EiwugYu1UO5rU3Z5YEGJaQ/EJzqstkLHjtqRSROg0dlqmziy6uGlHNNoS5bcevhlpnlBRSqDZXtIh19kNxmwRChSXyk9nwO3p8PeGthVbYjGnGn7v3pLsou07Gjoo5AOVLrPcKZeCnavvFPb+Us2YSzDWS7QGeLQSEJR/dT4qtGVQfbFF82+Ym2oN64/9c6lnr71VhPDQqKrofvJj40hPcxVCTo7RfST7L17w8xZMGOm2R/zTAY5z9xM1fFj7JpfQH5lHrsO5/O/esznjlE3sXM7aM2b3JPrfo1cop0UJ2TsWFP+ooVmu//HZn/oZLh49+vsf+R5+r68BNcbLv75ZtPZ2rvbxD8RSfz8Z82lDhtxpGvolgyPZcKCCphSDj9IgztzYXklFDdCiRe+qqd2UBLHHnUx5mkX//CcC75TCuMDhqXNRYz8ntoM1yX4JB+mlcHUclOX1wpgo9u4S0+sg/dL4D61R+ngaYRTtdCrBH4n1XkGNIQy8yby1braS2ibOGQUHy7jdhL0LoEvy2CoRiCZ8GYRFDbAk9JNpsDscphfCTN9Ki23F36bDjekw+xKON9BkBU9cy0S7J0HiwJmXymOsM6JNPRhrC0N3cgep0+wM8Shqmj66r33GHWPgjMpuNFvf2PikLes6q9/DVsC1sNpf8iQlldFb18qpj794Q8PwuoltZw9UUfJa39O1sSZFLXwlyij+eOPQZUbfjn8x8zY/BX7DtTw/AteHNty9MS+XJJipT/7DDzwGCQmwbK51STcvZzi51w01DU4sTd0sQz9rjd786vPv8+MTTOAGkaM8DqjpsuZhXPEoUzHlMKtWTCzDJLr4e1ceLcACvUJNeDdWU7Rew9R1nsQ/KHIxOQA/vUNFxOXjUeehDsTACuwPp3aVif0/UL4fRYkuEEkcX0mTCgxgaaU6VZfh/GUogBmQGUD7PBNwd4v4lHQekscncK/kze1TRzK8HQNjCmEGSXGwL3bDSMKm2YZaX74+GIYLj1Di27g/FIYV2SGmx0JpyAySytgWB5ML4NDvlFLch3MqYAv8mBUPowugoUVVwV5dJY4OoLSf172jZW+EBr+GT+KOR5L4nBkyzgLuYlUJyygbORrfnGb/Wp0tGIFSDXnX9uRnpPPjZ/15GTqLpKyY+yzqSCFunNHqBj7Bg0ZVxqNFH1xzJemSvIi3GvOG/zt4/u4/7VLNPhMgDobthFHM/Sa79SmXnAiGhZ/0dOc0JTnHoVGg6AjrgJynz3Be4t7oQWbckMvP15xmXa6YWBx8+9/bQUMb9HriEvhry6h2ieOq6uucVWbSBKHbB+vvmqi0GltR2KiqfpvboJhw2IDg3xIaeWxFpNVbljsuAhpS5L162DKFDOKmuMLQLhqJaxYCkOnHOf54UvZeHits76irTwicbwuJ9OJFFiZsBzPwZ2tFpGRAWvWmFN+3LV3OvUQrueXMWzOWlJyzJQy2Ztkd4pEqjqyx+C9YUnzMK2LyyCn1mgMVLB68FOaGl7FcJfXYy0q1CLIuEmydawoh+pGUIdSqaAeVpVDoxc0E9OmqCFgiSNqUDcvKFLEkZYG991ndO+yBwwcaGJ0p8iU4zLG9I4W2jWXtGt79XlZjl8jud2uuXS2w8y0Glty/sVfmF8ZlOfPN9t/9n+b3wvn4UzqCTYf3cygxYPoN69fh/l26QKv13EJ4t6yut3wrBrZjRwJCxeYVeWKNa765Pps1r/6OSTmnHTC2w5f8RF3PVzFw2GKOe6vX23KRQdvZ+FeS2+1ayvhkxLY4oG5FT41cCZMbj7zUW5WTiWfYumupfSZ08efdWx/NbtyUrmZiDPHp93QBJyZFbDODUtDnIQT29p0+9ItccToEUaKOOSKRDOA/H+abaUk9Y+OybAcLVdDWkgm1+aNbjVSwemg1fj6ZdfsJcUxksyBx/xZqYErrSh1nBLePOJmZ8ppuB9n6ZQhFPV/kkaPG69AbCNpavHLLxtiE/HpT4Tx25vg9tvh7bdBM9uU5JjQU13JyxM+5KFRr7eRY4iHvV6Et9aMNFa2YuzWzMfLk0CSYWUZHNXCuyT4Y3aT+jmgWPnDksPHXwz7BZPXTw44E+XNIb5FwI78SaAFgx8GTmxJgjzrPyuaT8USRzTRDigrUsQRUETUNxU4SbEvyhdPoeC5r0W9/LziPP7u079j35l9XVKz1BcV4DmwnYJn/zcN5QGudcJcowF9RTB13DHmf7J2/1rHNX0oRWjhnvAunTrUiT8eyr2hXptTlONgK19jcqFv07WNgCWOGD3/q404qk8fxbN/G2XTP6e+MC9GqJpi957ey8jlIzly4QjyNRVsqk1PdgI/lc0YSfXpyK9tkHH8oQeNdOfSzjFi+Qj2n93vBMeSUb29VHX8AJ7dCZRNG05jZfRcc+w+tZsvVnzhYBu3RvT2gLPnwoKAJY6wwBh6JlcLcchuUbF8Jp59Wx0X56EjEbk7Eo4ksOHgBqZvmk65u+3GVSumy5dNx71rI5792yMnUIucW5tVpdHS9uPbnaBNkrtlPBNFNKxYMcsh6do0n9+WFvlGY1fYKvzu3K1znVC80SjTlhE/CFjiiNGz6O7EIZ1/UZ9H8OzZTF1m7CL+dfT4pKfXqEMuN16a9JIT5jbwnuKPn3HsMHVZ6XijHFmvNeLwyybCSM/P4IuVoxi4Zowzw6Hs0xepProvbvAWtinZKWh09PaMt5m3dZ5ffPt7lSNgiSNGD7g7Eofj1dXrpfizlykd5/Nd4rdUxwjHYItt8DrL4EjPy8D1voutPf8vsn7ve/1jVIf2iMNfL00AyHvx3zj81rdZtXclkQws5S+zM78NjQ1OyGBXXxcnEk84EwA6k4+9p3sgYIkjRs+pOxGHYjNUHd1H8dDXKf70BWQE726poTAP1aP2zDFqxvRn7dxBvDy/L6m5aTEz9rZJHI0NjqyV6xZRPOCpy1CfTDrFMxOe5UzKGbIK27eBXL4pBhtaC/LshGdJiyG2Maj2NVWkJY4YPe7uQBzSoUsVVbFmnhPQJ0ZQdanYhvJSx4isaaoVa+aj9SSBac6WOc6CNzV2lZ4W3g8CL4zAdmvE4Szc27WRipWzqc/PbrVU2RYU2lZ2hrhapNdC2lmbZ13G1i3fMTZdNQhY4ojRo4xn4mj0VDoBh9y7N1F98nCMEOp6saWTPqNy/SJnhlR7QYnc1W4UGnbetnnOjKFVe1d1vfAgcnCIwzerSpMMSqcMRbOltIivo9TQ0ODMbNIq70GLBnV0eczOy/+VsJURfezqsTGTwxYcXgQscYQXz6Bzi1fiKB74AqXjP6ahrBStE+iOqXL9YgqecqEwrSLBYFOFp4KisiLOp5/HNcDF2dSOV7oHm3dr173dH77lqqPiHRfubWtpKG2+gru1e1oe89R4KKss46ExD3HdsJ+y7cS2lpfExb6w1ejo24O+zQ8H/9DBOC4Es0J0CgFLHJ2Cres3dZU45Dr95z+HW26G0V+alcoz5Ii1E0nqnMrNK52Vx85S7U7kEcot4qNZs+CGG+Cpp+ATn3vy9OCXXFxRnBbqKSa5QsyGa5qq/DW5+rkoKS8hUNWiFe0/+xnc/FsY+Kn51arxYJMI2esuJ+/TXuR86HM+GOzNHVx3ZMc+XB+6SPnWXsrHZoErHw7HX7wKjeqEbWllqcFWi/LHl8ENWfBCPvRWRENFD7Urwjt45DE5bYkjJrB3Lh6HX9TDhw1RKBKdXHH06QN/+7cgB3uhpNqUS47tonTCJ9QmnQ/l1k5fW1MDI0bAf3GBfGadP2/qMm5c5wI0abFhzflTzsJD9471nZarvRuHLxvuTOM9m3aCYyc9/I0LRo4AuXPxxxRRrJFgUvWZY7h3bsQzawA9HqjihvuDuSvIa+Yo0Fo2nIN5WxYw/tG+nHwpgZKUwiAziP5lQ5YOYe62eZyYvJuqm5NBA0RFGpV7kWnFoNCyNsUdApY4YvRIOjviyM2BH/4AXnzBRPYTWdx9N9wbgpfVutwsKtYuQA2tjLHRTBs3GKLY4Gvj5fpdfp0CQ98GI4/8RsnYLRWP/iKd3NUVfLVsHf/eYyWuOxciDZhcQvX50Mjf0Yxe2S6kQnPv3IBWqCv1Dad33BOKVZEMU4tNILRTXhpcl1g7cQmrj6yN6zUW5RtzWHfrVFZ+No/Fu5fAEkU0TDNRRSP9YG3+nULAEkenYOv6TZ0lDql41NDKA6vStm1mX+qqYFLxZy9SuWkZtfKcKg+CUU6S/dZbQF58le66A356HfhjqAcjTtnsLymbNcpRSTW6g7dhBJN3e9co5rnrO3n0HpbEwCVv8d7Mt/n7uy/wTuthRZys5Iq9ZPArVB/fT11685Xerc2qaq/8ds/dnw3/mtaklhopx4CpsL2OkupSkrOTGbBgAPO3z283m6iflJt0uXa/u4C8E5kkFiTx6kfPsePdlRC/60qjDlO8FWiJI0ZPpDPEofCliuGgxlcqKu0PH272s1vM3FSIAv8g37NzPUWvfY+i3g/glWvchtjojWXDkOyKtSHO0mhJ+4MGNVdT6Vwgp/nrUX1oBwWPumgoLoz6Km/BNm+ekffSRRyvsdNm1uF6cAWuPi7qnQhNXl/UYyNxwWMuKlbMpKGmrlXnwGEjjlKvicT5fpaCDUJBI9yRAfelN0XRUxzC2hpSslJwFuklnYjRm9+i2Avy0JsI84rNieRGalxnOfT4SlyfuMguzL78HjdtBOThfzkCDtnNyCNgiSPyGLdaQmeIQ730xx83jZdsBXv3wn/8h9kXcSxbZshi9354yZXLANdZUu66G/eZ006Y5l6fQq/erYoTlYPr1hlZVXe5T/eT3sSJsGMHqA4yPCuW+o03w433QFlqPqsHXuLiDXez9u1D5JZGRdQrCiktNRH7RHRyl66wvQrZq325jHpq8gc80Hciw+7JZ61rLidcjzl5XEyGYT5y/3hA82zDRhxHfGqqT3KhygvzFLc7BXrmwZkaOFFtbAWL3fBkHjxWzqaRK7in/x1kfXCG9IFHqayL0ToLRfSUa/fVpVDZCP1kFE+B+RWwF6ZM/Iq3e/Ugp+cZ0ly7qX08E2RIL26AHnKtng59iox6rjm8di+CCFjiiCC47WXdGeKoq4exY01j9dqrsGQJ9HVcc8Os2aD13Fkn80hdvBP2zmX5z9YxZyVU10JyCvzPv4ahQ9uTKrLnCguN7F//mplJJbJQw/vww+A3LivkrVLuhSKmunay78UFeDYvY9kmc+2FGEWN1QhonS/I1P33wsyZZuQk+QePhZz1RzkzZifsnM7kz7fh+u5+px4pxpzBhAnw+9+buvn/h404NGnqNs2gSoMPi2GjB36eDj/JMbG51Su/WAuK761Ieq5M2F0N2TD9iWHMHDKWNYfWOs4V/bJF7TfTZ8/4dhYMLIFtiiGeDE/lwxlf/JNTtUzaN42ZC6ey8eYZbD+wBfZ54Xg9TJVKLsXGHI/aAzMFWeKIMuD+4jpDHLo3L880spqNpF67IvsdOw0VCnY0dxRVO1ZRsHUv69Y0Oo3yxo3+EuGmm2Ifc/zcOVBUP8UTl/xHj5rQtoFLRirnfcGZYcuZ+fN9JF0wa0nUy//+95vC4DbVKnpbin9+6pSR3+3BGf3sHnOSi73GUHNiL9WJFzl5Hp54P5WfvXCQ2dvGsuvEfs6fhccfhLffai5r2IhD2SbVwlG3CXLk9sKZKvMXOCupoAG+LIJ/yYJkX6OsKa9TK8irLODA2QNM3TiVtQciP9ngMhIitbPVRnYFY6poNEbx5BoI1Kgme+GjUlLu3M+BMwcYM+xzDqYfBq1PdeVa4rgMaHQ2LHFEB+crSukscVyREeBe8hUlQ16iobgAb5Xb0bMXF5spupqqW+RbV/brG2NPHK3J7z9WsWoOxX3uh7JCDm6pcIhv7Tpz9tAhE0LWf22sf4Vz8Rs/oubgZhqLfLFh9SzcMHmSGR1t3J7LgXN7cb1+F65nf80//j2kBRh8w0ocwQBSr166evSZMMMXZ1yG6YlNCw8VpEkLH68bch3nUs8Fk2t0rqlqhDVSa2XC9lpyK/LYc2EvP+79bQoTm/CPjjC2FEscMXoHukocWhFddWy/s+AtMHCS/A/6w8XKXvDkEyAVkdJNv46tqqo1qFWP6rPHTT2y06ipgzqfD8W5c43dpqQEvvTNGtuwAao8reUUnWNy8Fj82UtN3oEDitVkBf+03AcegNOnmofp/dbHjzJs2SBfjI0G+veD+0KYRh1QVOibUlP5Rx8HKmCUzxgt4pjURByBGa/Zt8YxpCuWiVyoxyxVe5tGH+PyYaVvJp0WNu6vZ/SSL7nzk9scGWuj7Bo/ZpjEuGBLHDF6AJ0ljvq8LGoSz1EyqtcVDvtUlSOH4T9vANkK9Ld1q6mgxwN/4oJ33jHxx2NUbafYxopyJ+iTfDKVjOmDZ0/CZXE+6gP9+poZVzL2JybCdT+BZ5+BH34fFi2CWDjnla8r4V6+eDLe+itdsWjW1a23wpw5RvbRo0Hqt1t+A8uXm2MTtcixtpz3Zr7H7tNbeOXjMzx83+WqR3ZjTjnclw8ZdbC5Ai7JYC41TyoMzIcrq3RZnoELBzJj0wwUpbBlYKnLF0Vy48UiGFpsZNciR5HgsSr4Tg48kQ83FMLBet6d/x7Ldy93RkyNgdPyIinbNZq3JY4YPfiQiMPrpXLjMtxb1+DeutpxD9KW2AUFZm3Hli0g9Y56wGpoNWNp82az0E49+Filyo1LffVYg7ZbJpHdpk2G8GTXOHPG7CckwPr1xsbT8p5I7wtzB/eE5cg9S2tJ7dSePQZjYa/p0iKT3bubjmlE4k+Xss5xZ5+V/J8eKzmb5psR4D8ZiV/ZQBLKYKsbEmtNDz6zHjaWwp4KKGt/TY98TalRlhuWVftWoRCyUUtHqppklx1EaYcbNpVCQimsKzFkAs70XTl+XL1vdWyM/VEDJbYFWeKIEf7BEodWR5dNH0Ft8kVqLp6mPS+vMapKUMXKF1bpxM8c1yZah9EdkmKQaGQnz7VabR/uNOAjuPmFsxw4v5MB8wfQa3YvvH5dV7gLC1N+WlchG8jhC4f5YNYHXMzo2JNvmIoOKZuUnBTHK2//ef3pM6eP47wypAzsxe0iYImjXXgid1L6e03lbCvJp5Ec9in4UGMslfptCRjkcfnAchwPJp1H4Wa7Q6ovLnBkrjqyNyTvuqHW7YMP4A/OFN1GJya67AhPj3+aQYvj1016YB3ljl6jEC0ojFfVkOwzUq99ufJLbhx+Y6D4drsLCLTTdHUhV3trhwjIYO1fu+C/WGqQ+rxsCl/9mRNAyX+8u/3KnblGFYWvXd+uWi2e6iVyFmEUD3mVsjljoiKa1IeantwyqbH78ZAfs+3YNnIDZmy1vC6e9p+f+Dwjl490XKfHs4H6B4N/wILtC8grzov70V08Pd+WsljiaIlIDPYb3RXODCk5HpTxtbumxuoqqo7to3LDEseXVLeoh9dL1dG9jg1D/q/iKR27dIwxq8aw78w+EjMT40m0VmUR4alnr2iKe05H13lmqwK1cTA9L53Rq0az48QOjl8K0q1xG3ldq4ctccT4yZcvmuQYvj0HdnRrlVTFyjmO91fPwR1o1lR3SPJUW7FqLlUHd1JfEL9rAWSIVmM8af0kCsvi3z6UlJXErpO7nMWEh84fittX4WTSSbYd38aUDVO4lHkpbuWMR8EsccToqciledEH9ziqqYZS35z6GMnSlWJFeKpHXVYaDSXx36iprjJ2F71/tzPZIJ4JI/C51NXXkVWQxbSN0xw7iEYi8Z4y8jKckcedo+6M69joGfkZzmyxO764g/oYOQCN92fZUj5LHC0RieC+t7bGcQUuY7FmSHXXpFgYcheuelSfjN8eZSC+irqnxYaS2b1tTeCpbrWtWVf6KywtdIzSGo3U1GlBRnyn8WvG873B32PIkiGIBBu97U//jVVtXpn8Cv3m9XMIJCZrVmJV8RDLtcQRImChXi69v6bSanZUyZiPHHVOqHnEy/UyeisIUemkQZQvmx4vYrUrh4N/WhJSCZaO69/utd3x5P6z++kxpYcTwzunMCfuqyA7yMuTX2brsa1xO5VXs8V6TuvJuzPfRao2Te21qTkCljia4xHWPfVs3dvXOQvdKlbPC2ve0c7MibS3dQ1OPeJ8rYEfGz/+WgujCQhXc1q5ZyVa+Lb+4HpKKmK4wjNIkM+knGHhjoVsOLSB0ynxO/qWkX/JziVsOLiBtFxf9LEg63g1X2aJIwJP13NgO6WTPqPmwinqI7BwLAIit5mlVndremrN+ZPdxoZRdWgnpRMHOvhHYuFem2DF+IRUVicSTzgNcv/53WN0JXm3H9/Oxws+Rg4W4zVphtu6A+uchZpStV3ryRJHGN8ArcHw6/0bylp3TRHG4iKalUhP0fZqUy51m1lS9fk5Bv8TB2koi/9ed6QeoKfaQ2VVJf808J/4zqDvOOqWtsp6adJLbZ2K2vGGxgZnAeTY1WMdeaNWcIgFaX2KXK+8PvV1Ppr7Ubt3vza1nXjC7d7ZPU5a4ujic9LCMen+C9/8LeVLpnYxt9je3lhZ4SyCK3jShaaqdod0Gf93b3fsGN1B5mjLqPUKrgEmDKtsDIFJo5TBiwfH1WwiV38XszfPpri8uM1FelpwGMuFhiJnyZlwOKFNdyauj67e5vXqrVng1xGBbcXurj51hMpNyxxjcQSKiE6WXq8zM0quzStWz6VszujolNvFUrwNPvwTlndv/LuIQyi3a73CzISZjg+nQALJL8ln2e5ljv+pUPKL5LWaIqsZWJo1dvTiUVKymxuoZcfR+VinE0knGLpkqIPdkQtHmq3019RpTaG+GpMljk48VRldtTraszvB6aF3Iou4uMWzZzOV6xfh2bcV966NEfXLFM4KOxMO/PgX5Ycz66s+L/nD0mLClXtXOiTir7AauIQjCSzasch/KC5+ZVvYfGSzY0TXKKSozMQOqamtYf2B9WgVeDwkjeq2HN3C2v1rmbV5ljPlWKM5Te29GpMljhCeqhwPFn/8DDWJZ52FeyHcGleXKq6EU49zJ5z1GHElXDvCaFTkyH3pTLfGv50qRu1UUXmR0+hqKq9ckPuTevoT1k3w78bNb219rTMtViOmZyc868glw7oa63hKsi2l5qby+bLPHd9dWp1+Ojl+Z411FjtLHO0gp2hvUkk1lJc5RlfP3i3Ofju3xO0ppy7VVWYB3NbVSNXTHZLkbqwsN/jvTug2cncHbCWjZggpQNMPB/8QOQDUiETrFuQIMB6T3+38n3/y5840WY2Q4mXUEYiX5JSDSteHLlzvuEjMin9fY4Hyd7RtiaMdhNw7N1I88AVKpw5r56rucapixSxKRr7XPYQNkLJ8wQRKJ3wacMRuRgIBGZqlBlJDJ9fu8ZZEaMnZyc5aCq2nkF3m4PmDTkwQjTxinbx4Hfk02tCf4pZo9tWnCz91Jh+4errw1MQw5nGYAbLEEWZAbXYWge6AgJz6bT261VlDIf284ovP3TqXZbuWsfPkzrirgpw7zkiYwbxt88zf1nmOzDKcf3fQd9l4aCNSC8UqKR6JjOF++bQdmOThWOq2qyVZ4rhanqSth0UgBATUaz947qAzG0i/8bz4rq1qaU3FgXMHnEWPcg0Sr9EI25K/Ox+3xNGdn56V3SJgEbAIxAABSxwxAN0WaRGwCFgEujMClji689OzslsELAIWgRggYIkjBqDbIi0CFgGLQHdGwBJHd356VnaLgEXAIhADBCxxxAB0W6RFwCIQHwjU11UxY7aL/3fKCJKLy+JDqBZSbFpzB/9rzJtsTooP9yoSzxJHi4dkdy0CFoHOI5CZsp37+rpwjZvU+UyieGd9nYexE1y4vviIS4Xx6Yp/9WIXrk8fYO3F1Cgi035Rljjax8eetQhYBEJAIDt9Lz2GuXBNnx3CXbG7VMQxbqIL16h+XCqMzxg6a5a4cH32COssccTuRbElWwQsApFDwBJH+LG1xBF+TG2OFgGLQBwhkJO+l1edEcecOJKqPVEamDTZhWv0p6SXV7V3YczObVz+/+Aa9Ec2p+TETIaWBVtVVUtE7L5FwCIQHALeRurqqqiqqaa6ppqaujqSE7fxkohj6jQaFWzLd66qporqhuCyjeRV2bv+AdebLly9fH/yXtvf99c74PjbLlyr95FfE0lpWsk7sTeu1wPkkJz9XE4ER0UUvCz3uy5c0yZxOEbaNUscrTw7e8giYBEIAoGKs8yf7sL1rAvXy76/t3yNsBo5/zH9/tHFL45WB5FpZC8pOT+BwUu/YNTKUXy58ktGLh/OfUNkQ7iZPgsGM3rll865L5YNZdzRS5TVRVaeK3LPXcXAJSMcGSTjmNXjeH6kC9cn/8ELM/oxZtVoc27554zetYNk9xU5ROWAJY6owGwLsQhchQjUFpN4cTPrD21yogpuPrKF+Ru+4A+fydj8HtuObXGOK+LgxgNr2JMf74bHZQAAGvpJREFUB0OOlo/BW89ER1X1MamlMWqFW8rUYn/Dsv+Ga9DjbEqOnzC0ljhaPCS7axGwCHQegfzMA7w23IVrxrzOZxLFO+2sqs6BbYmjc7jZuywCFoFWELCzqloBpYuH7KyqLgJob7cIWATiG4HuSBxfjnPh+rwXF+N0AeDKhbIb3cHqCylx8/DtiCNuHoUVxCLQ/RHISt3FE5+4cE1sHgEvXmvW2FDLnn0TmbRrM/mV8Rna9fTxOUzetoIzeYVxA6Mljrh5FFYQi0D3R8BdmceJ87vYmZTc/Stja9AmApY42oTGnrAIWAQsAhaB1hCwxNEaKvaYRcAiYBGwCLSJgCWONqGxJywCFgGLgEWgNQQscbSGij1mEbAIWAQsAm0iYImjTWjsCYuARcAiYBFoDQFLHK2hYo9ZBCwCFgGLQJsIWOJoExp7wiJgEbAIWARaQ8ASR2uo2GMWAYuARcAi0CYCljjahMaesAhYBCwCFoHWELDE0Roq9phFwCJgEbAItImAJY42obEnLAIWAYuARaA1BCxxtIaKPWYRsAhYBCwCbSJgiaNNaOyJaxWBmho4cgTy869VBGJb72PHIDU1tjLY0ttHwBJH+/jYs9cgAsXF8Ccu2LnzGqx8HFT5F7+AKZPjQBArQpsIWOJoE5r4OdHQAAMHwksvwYrlMHQILFgQGfnmzoVnnoHJk2HGDOjdO3zlKL9nn4WpU2HatPDmHT4poaQEfvhD2LWra7kOGwYvvABz58BX4+Dzz7uWX3t3C9PnnoNpU2HqlMhge+kSvPMOvN4TNm00ZZw7155UnTt3113m/ejc3U13jRhh8J8zG8aPBz2PSKQtW0w5Iz6HRYsMLhUV4S8pKQnefRdeew0SNplyzp4NfznB5GiJIxClSaXwo1y4sZ2/v8mBMzWBd0V0u6AAXC744gtQT1i/2pcqJZypshLeew++/k+gl37tWlOOGvuuJuX3xhvws59CeTmsWmXynjWrqzlH5v6yMvjxj2HPns7lX1oKd95piF55iYz1zIRpuJOwffVVuOkmg+2KFaYslRnOpMZRdTh4EHJy4M//HF580WyHsxzldffdptPS2XyF//33w3PPgvCfP9/IrvcunEkqzfFfmbyl1ty/32yLsKqrw1kSbNtm8j5wAHJz4S//0nQUsrPDW06wuVniCERqjwfG5MPYfBjXxt+IPMisC7wrYttVVebl+MlPzMtSUgyvv25eoHAW2lAPc+aYfA8dgsZGmDzJ7Iu4upLq600joEbn2HHQvnp/2hcRxkMSzsnJRq+elgYnT4LUJYsXQ3q6OZ6SAnl5oNFfe6m21owsVD/do7w1QtR+XZhfG2GpkYbylsz1dTBunNlXgxmuJAxUxujRoPpduGD2w0FOetfUk5ZNQ38ZGXDvvWZ0oGfhP56VFRx+dbVNnSvlK/yHDzPyqqEPV/J6YetWk6+/Q7B8udk/fTpcpZh8MjNMvqNGgepw8aLZj2XHyxJHeJ9xWHPbuNG8IMOHm2xlNPzaP8Brr4a1GOfj/Pv/DX/4A+iDUI/td7fC739ntrtSmj7ev/1r0wNXPiKLW34Lt99ueshdyTtc9/o/RDWO/r9vfatp239Mz0Ejs/bS8WPmvgceMFelp8HPr4f77zOk2d69oZ6T6uiv/gLuvtPcWVgIv/0N3HF7x3KGUpbUi//1T0GdCiU/OW1OCCWX1q91u6/E+Uc/uvLY889BMJ2YEyea4y8i+sUNcN89wRFP61JeeVQjve9/D375nyDclR58AH76E0hOuvL6rhx56UVTJ402lCZOMPtSF8YqWeIIRH6XG2aXwbzytv9mlEVlxKGe7cSJ5gVR46sG3T/k9r9AgaJv2gQbNjQd0bB5YZB2kH37TDnr1pn7jx4x++pRqtyupN27TV5+2Q4dNPsLF3Yl1/Deq15pYqL5E9ZSA37nO8aOpH2dUyMtFU17Iw5htWaNqZ/qreRX8fh7pYGSHz4Ms2ebI7k5MH06jBtrRiqB17W1vWOHKUsdDCW9FyI56dnDlaRyUZ5vvWXUPmropQa6+66mBrMrZWnE4cdevxr5/fa3MHiwGYn4sdeop6MRm/DXOyx5/fYpv4pn9ermUipfjaD8KTPTEOKXX8LpU/6jbf/qvVA5emYa+el+7YdbTaURhvKVpkEdOo8HHnkEbr8tOCJtuwZdO2OJIxC/qaXgSu3gLwVOh1mBGSiDb1u6y1deMS+NDunF/MEPzL4aOhmXlaRb3bvXHJf9Qx+2SOOWm8395qq2/weqVqQaULr1VpOfDG9dGQ6r0ZFBUi++VA1KN99s9i9eaKqDVEAf9jKjkHnzzHVqKN5+C267DdauMcei9V9qHqkHhWsoSff162vqpx6pPvJf/tLsSy89YYLJTdepkb/vXnjsMaMaXLkSRo401376acel6h0Y4lOBidCU1OAKazWKU6YYkvtipGlk/JMpVHb/fmZ0OWF8x+X4yUgNqpLkVBl9+hg1nlRkSjJA33oL9O8PebnmmEZnwkPvYyjpnns6Z+OQ/UzlSz7VU+/fr35l9vU9TZpksFbHQPLrOiWNZA7sN2qgB+6HDz7oWFp9f7pfnS6l9983++rASYWl8kV0+ibVyOu9FkkqSYX54gvBEa9GeSpH74aSCFD7klFtwvHj5rjyv+UW6NcP1AlRmjHdaA00QhQ24UyWOMKJZhjzUk/jK5/hTTNZpN8cNMi8NB9+eKUq4pvfMNf4RZDBtGdP/17bv+qlbd9u8n36afNCqpHRy6nZVWqElNSQP/mEOe7vqakXruG5rm1N3628/XpgqTskt15wXa8ZQPqARFz+j08zuXROx/zGf80mU0MSzaRZVVKX+EcNwZat0Yhfzy3SFwGosVKdXn7Z2KkC89KMNWGsBlaNgJJmXmnmTEdJjVBCgg/LZ6FP7yY7lbBVfjLuL11qeu+SQQ3pju0mZz8BdFSOGsD//t/hm9+Et982dh9hc8PPzSQH1XnfXkOSUkOqHM20UkfBP/ry9/47Kst/vrOzqiSLv17C++OPDYE6+L/U3JDvf07+MvWrTtfDD5lRRODx1rbPnDF1veduePPNpgb9oQeb3l1N5166pMnGJfzVGfN/18Go3tTg/8s/mz+1AxpNXn89XP8zU1fVef8+I7veW9VVZcgOtWC+6ZzpmEZI4UyWOMKJZpjzUsO6ZLH5QIuKQKoNNdDS27ZM3/jX5sTR45XgiEP5qHHQjBM16uqZSV0gY7l6k2r8NRSXyuXI4aaPQMd1TGotNYBqTFpLeplXrTR5q2csIlLeMiAqD39SQ6eGyU92ahgdsnrS9Kz910Xj198AShUUatLoSVOmhaWemT5iPTN9yC2TRll//GPzo9LlHz3a/Fhbe5JTDaXK0ohGRC5s1agpnT9vfvXeqPEQISvpOXw2EO67z+x39F84qAzlozrpXZFKKNDeoxGWRobf+54xaCtPjbhUbqgErFGa1LSdSfnCf4WRV7YHkZimQ7fEf8kSI5u/DI3g1IFSo6zRiPbbSzLCr1trylGjLPw16tLoyq9S809V1vMUDiIOJb8dJhji0PUiIOGv0Yfw16hDqs9A/LWtZ/Ld74I0B3oXlPQ9//s3zTdtjoTnvyWO8OAY81y6QhwdCa9ejf8lX7Ua/vmfzR1quJSkp/cbg82R0P6LmESSvXqZF1/qN5UpklHPUQ2c3wAZWs6du1qNhnrz/lFA53Lp+K6WxKGe+TEfaaSmdHx/sFdo1LHGp+P3E7JsCGrMWuuEBJtv4HXqfPinAqtRU6dAZNIZ4tAoVYQbydSSOPxliQT+/u+aGl7/8a78anQTOBXYTyT+b6orefvvFf7+0ZZGev5OmcrSLEY/mfmv7+qvJY6uIhgn9//TP4JfDy2RQhlxBFsFNTpSHamR9yc18FqQFI6PQD3iH/+oeY9bvTQ1PqeCMFj6ZQrHr//DC0debeUh1Z1/xKGZXdqXKkJTbP22g7buDfa4Rm1qiJX8v9pWQ/LQQ9CZUZXJrfX/Ig+pVPUs1QvuDHHoPYt0WrbMyKZyCvLNokkZn5U0mzBcz1+djy2bTb5bt5hfzY4ULuH4ZkyOTf81GvnsM2Ov0TP22yhFIP4RZ9PVnd+yxNF57OLiTr0MehFvvNGs6pWaSUPkxx+HJ58Mr25Thj/1BPVRLV9mqi9VmobGauA3rA8dEqkzXn4RDvqmGmr2iBqcV15qIotXe4SebzzfoRGWnpHUUiIOzTiTTUSL+KQq6du3/dlbwdZNDdOjj0Lfj8xiRKky3n27iUCkMw9Hki79k49NTlL3+EleahU1kIGEFY7yupKHSEnvq+xPX/tHo/7RCPfpp+D5542RW7aOcCTV/9FHmuOvfKXOEi7+CSNdLUudDU14UJJay9/peOxR6P0hvNHTEIg6eeFKljjCheRVno9eyF//2pDRv/+7afikzlHv7PHHzGwpkVaoSZMA1MPWrBGNmKTe0IcrQ7lmpPgXPYWar73eGOa1+FAz2wYMMNjOnmWmjGqCg+wx4UhqCFXGmDFmZbnyVIdG74x6v1LVhKsxDoe80cpDM9s08y0Qf6l3/aMC2QjDkTTzzY+/fwabOnlSR+r4J5802Z3CUZ7ysMQRLiSv4nzUQxZJSHetXqt0qH47gI7pT+dtsghYBK4NBCxxXBvP2dbSImARsAiEDQFLHGGD0mZkEbAIWASuDQQscVwbz9nW0iJgEbAIhA0BSxxhg9JmZBGwCFgErg0ELHFcG8/Z1tIiYBGwCIQNAUscYYPSZmQRsAhYBK4NBCxxXBvP2dbSImARsAiEDQFLHGGD0mZkEbAIWASuDQQscVwbz9nW0iJgEbAIhA0BSxxhg9JmZBGwCFgErg0ELHF01+fs8UKfQng6B1a54aNCWFURmdqMKoE/ZsO0MviqFPoVRaacbR54SsEiimBhBbxbCCVh9MwWGambch1QDE/mGNmHFBu8ms6Gb0vYPJINY0pgehm8VwiR8Ch7tBpezIX3C2Cl2zyPjLrw1SPSOQ0tgSdyQOGehdVnvjgA4S53s8eUM6QI5vve2/IIvLeJtdAzD17IhQ0e8zzORD4aaWtwWeJoDZV4P5ZWZ8LbziqBEi/0lxvSFDjji9QTLvlLG+DBbHg0GyqBJQqwkALLtRPGVOuF8apDGuQ3wBH5Uk+HzwuhKiDaUxiLDGtW+fVG9iGFUOaFrxSKLQkO1YS1GCob4cN8g40HSHCb92Cazx94uEoTCS1SGOU0UGOVqPctA/rkQUkkGCpcgvvyUWfj91mmga3wwoJycCXD2jC5vfWLW+OF0YXmeRQ1wkG9t2kwqgh0LpwpQd9eKhzyQH4juDLhxWzIiQBBBSG3JY4gQArrJWok1fBnKsK97y+jHnLroT6Il83thV9lwiOZoJc1rwEezoDbWgkL2BXBJedYNebJcKnOfAgjC8y+O8wv6w4FbkiB1b4Rk0ZOaniPhflDbw0PVaW155FTH9zHL2J7Ixf+KtV8xKWN8F6Owam18jp7THI6jXkK7PWFp5vuI6isMHcYTlSZ5zG7BPRK7tZ+Imwq66z0od3X2vPIqg+uE6H3dqQa8yRI8d0zTGSbDDVhJD3hslnvaTKs8723y0RQSXBarB7GlC7iToEvC0F9kQvaT4RZERr5ByG6JY4gQArrJWqQfpMLv8+G23x/v86CEcVQHsSLvajMvKxSUSjtUnzOVBhUElYx0RBYvaf7fb63JfcvsuCeXKgOguCClaaqEf4jE27Igrx6c9eDefCjTLgY5gaxNZk8jfDbPLgtq+l5/CYLBhSa0U9r9wQe2+YjvQG+j/h0DXwzHR4vCLyq69tZdfD36XBbDqhxdDead+jmbCgIM5H/LAu+mwEXfSOmdwrhr9LgUJTUIv7ncbvv+7g5C97MhzTf+9Eemg7ppcFDvvdWqrXrM+G+PKgL43tb0QDfzoQbs6DQJ9d9ufDTTEgO83v7Qh78SRoc9HUYxqsNSIFNUehYtYG1JY42gInYYTUArmz4djZ8x/f311kwOAji0Ps5KM/0arIbQPsTNSpIhHMBL+vZWhhcABOKIClAJ53ggVVBqjUS1HtKhG2+l3On1CJJsDLMvc60WlPO5CKQqLkNhhiH5AfXw+zqg5L6R8/jW1lNz+PvsuCDQjOaay9/tdczWuC/VCqeREPo/ntT62BkEXxR2KROTKkzI7pJxWbk6b+2rd8j6iAkwgof/idF7Ekwozi89g11XlSO8JcdrdxrOiZvZJvttuQL53FXTvPn8XWpnYIgDvHCWjWqibDb1+vfKmJPgjXlzSVUp2RYIYwtNN9Idr1RMX1eACcDvqXmdzXtJdWYcmYWm+9QWgONPkbmh7djJa4WSfTMNmpQaRwezoLb06EwiI5mk8Rh3bLEEVY4g8hML7f0n+o1Bv6pN9RRhyi1Hh7LMh+yijqv3m2GGRmo5760wqhd1Ott0AefDvOKoKwR9tXA/5cBn+V3LGSlFwZquJ8MhXVGzhulfkmBtBqY4Gu89LH1KoQbM2G7rzekBvGNfNMTOxyEjn+2b3i/w/dhy/CucleXwU4PFPl60yrrlXxI8vV6Kxrh4yJQb3RUkGTYVs07+zykJpSaSvIqaVT2Y9/zqWyAiWVQ2ACHq40a8pfZhvg1YltQAWNV9xSY2oHRVhB86VNLXfTh/DuVmwJHPcYYrzZEajJhclMWLPbZoYSbjNu/yYS5QUye2OxTSy3yyTTFN8JVB+VUDaT4GtWyBmOcPRTQ65Wt5/UCOOeTsS28Ozre2vPQt9JROynS6+9Tp5bWg0aTwlwjcqnz1FNXkirsuP8byYBnc82+vsEHc+D93I4khKnCJQn2+jDVRA69BxvLYYsbhI9kHl4C0ijMKgf/wDCpFp7Ig4KATl1bJR4UQSXDCN93u8o3wn0/D6TCOu77HiR7v2JYH9Cxm1Ju1Nqa3KI2IIzJEkcYwYx4Vmpw1BPUi/ReMUwoh94agWTAiFLTQ5QQIiAZtmVAkwHVn/QCDwlChaJ3bL0atWR4Lh8+KYEZPmPpy4UgfbM+io0eWOeB57PhugzT81rnNjM+7s2Cp7P9Jbf9q56fypFa4u0iWKeGKxkeyGtSjVysg7n6UFPhku9D2eLrUW6SnjmtY9JtW4LOn1EbOq3YNCBvaERRagz6Iuw3i0AE7E8iuluzTSMvMvQT4guF8FUQz2SfRhzJ8GieefbqJAiPpwuMSk9FCRPNsOutdyTFNLQHfHiNL4b/HYQdrEAjjhT4RaZ5Hmt99o7f54JmvendSK+H1WrAUmG/j6BkQF+kdyYVznSROPyYhfqrhnmVj+heLICBJTBFhJsGPQqbG5KFl4jmHzKbjOZ6RiKO6S1GJ63JcdbXoN+VY3BaoxF5CjycD0d9HaadVWYiyXCRSgpUN8K5OpggmVKDIw6N+P4tDb6WDu8UwxI3XJ8OP/PNppTWQQZylaUy/BqF07WwqML33aY0dbhaq0snjlni6ARoMb1FDa3UIZplUdwIB9ywsKS5Pl4fwHp92OkgVYgaeSXpY4MhDl2rnvLqcmOQ1ZBY+u4FJWaUo/MiMfVmleZVwD3ZhjjU61QaVwavBdFz04SAjZWwqMTM4JG+fn4xHPA0ya380vWhpjcRh46phz+0AO4KYhTlCBWBf+r1SX2kBkvPQzp2PQ+pp/xJKp/tbvheBnxa0NzoflseXAhCNSKVmoywMpCLuNVr1vOQykqNuf402lParEYs02zr0UvG13PgnSCNqeps6HnIzqU6LSkBTWAInOGm6aZ6Hn7iUGk56gSkx444JINm5fnfW00e0ahcOLW0l0nlk1AJf5IOo4vMbDGpt0SYmrmmZ9ZeUg9/g++9lU1Do8/5JXDQY1Suuve877k6swSzDHHo+Al1AtKCIw5dr8kJeh5HqszzWFcGGyqad0x0nbDXSF3J/07pG/33HEgJYvRv7gzqvyWOoGDqphftdsOjWSB7iFIoxBFslfV9SRVyLuDF1LHH8yCcc/714utj84841FDKXvSFVFsilICGOljZ//92zuclyiCM4/9Ff0WXutZ/0EVvFSQUWSReIrKuHSKi8lBB6k2iQ56KRDp08NAvCCWCiChp1W1f991dt13L0ohvfH1mcPLgbLtTbvQd0B1f55133s8w8515nmf2b5fjJLanALx34nqvCcx9MyGhGKRKDAdm0AQTq/2wBgyVgb2Lcb9Nq21Ypk1/i3AsdoFwtNp+X46TcS8DM9wYoSluVwHgLjdVYrTVg8BMSPPi7whHK+3geAiFw98zs2o7HApdwiThSAizK6riymq0YStQ2tnpJPdpX9FW6P7vFJ/Tn4G3zhzy2JkoGFa7EKy2UjxnQzjmgXfuWb5OjveTRTOP+Wvd9PlxHRhpANwFMvFAGhMnrDM14O4KMNb4NYjBSrT3+9VX4IUTDQZD+MR5cHcBmGlhd+Pv2e6TPgROVM+DMz30I/Da6x0yVW3X3vB/FFL2yYbfhL7Aopl9ad5l4hmQVPMsx8Ejx8j3x+wfEA62d6tw8P3Gnf+PfjZveQhZtJmXcLQJrmtvo+31cAkYyIEbdYDzBFedL9eAngXgdMls1ClegJNfXwU4XwOO5xYx9OQLcLQCnKsBg5V0O4E3jCIK7Od87uSKDfALOfAj1UhPASaog7uuYxlwomzOS/YHD9VRQA7MA/sLwEieZqJivQdz649DufmgTlWBZ6tW/6ALUQ2a13Y2Y3RgAZgOVtLcPbGPuKLu5kROfZkFWwwvA3PrwMAS0L8EnK3GzVStvlv+HejNbSwcyYEpx+Wp8w9xh5Yq0XTM/phwYflcp/SUgaEa0F8BxpubzvkEz5RwJID4X1ZBm/tIDbiW2c9o2Q4k3nLXrmbA7UoaNHRi0h59OQMeNm0SvPPJDkTxK1C8ryXN0/7NWrhYHqtbXwwvARdLNgFyxXm9Ctysb+56On1DTlKMeGN/3G+Y74M+A66seW2qmXR122lzd+x+ftUJx4HvD+46efJ+smGcfKh7pw3kToJ+FLKfqGPjGwYYKHHFPftSZtGQnT4nuF/CEcBQVgREQAREIE5AwhFnpBIiIAIiIAIBAQlHAENZERABERCBOAEJR5yRSoiACIiACAQEJBwBDGVFQAREQATiBCQccUYqIQIiIAIiEBCQcAQwlBUBERABEYgTkHDEGamECIiACIhAQEDCEcBQVgREQAREIE5AwhFnpBIiIAIiIAIBAQlHAENZERABERCBOAEJR5yRSoiACIiACAQEfgKiLn5CKI0+lAAAAABJRU5ErkJggg==)"
      ]
    },
    {
      "cell_type": "markdown",
      "metadata": {
        "id": "ljLN4XVUmjZY"
      },
      "source": [
        "\r\n",
        "#**Inverse**\r\n",
        "อินเวอร์สของการคูณของเมตริกซ์ ซึ่งเมตริกซ์ที่จะหาอินเวอร์สได้นั้นจะต้องมีค่ากำหนดไม่เท่ากับศูนย์ อินเวอร์สของเมตริกซ์ A"
      ]
    },
    {
      "cell_type": "markdown",
      "metadata": {
        "id": "kLS4u1iPmory"
      },
      "source": [
        "![in1.png](data:image/png;base64,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)"
      ]
    },
    {
      "cell_type": "markdown",
      "metadata": {
        "id": "FJ1YNTT4mqy2"
      },
      "source": [
        "![in2.png](data:image/png;base64,iVBORw0KGgoAAAANSUhEUgAAAbUAAACaCAYAAAAuJ9aKAAAgAElEQVR4Ae2bPY8USdZG31+LiwnmuLhYK1xM8HCxRou0Di4meGg8TMx+dUoc9HAn6rOb7srmSakmMiPu54nIe6ua3f+76VUCJVACJVACj4TA/z2SPJpGCZRACZRACdy0qfUQlEAJlEAJPBoCbWqPZiubSAmUQAmUQJtaz0AJlEAJlMCjIdCm9mi2somUQAmUQAm0qfUMlEAJlEAJPBoCbWqPZiubSAmUQAmUQJtaz0AJlEAJlMCjIdCm9mi2somUQAmUQAm0qfUMlEAJlEAJPBoCbWqPZiubSAmUQAmUQJtaz8AmCbx69erm+fPnN9++fdtk/A26BErg9xBoU/s9XA9a/f79+82LFy92H+57nUbg3bt3N0+ePNl9aGq9SqAESmASeHRNzYZh8aMQXstFIb7GuO6az+/aA5vax48ffwmZZ7nu+/V2igxG+eWHDe2d0zyND92nT5/efP78+Zc4+1ACJfD7CTyqpjaLqYXpWhobBfKxF7v73oNsVu73bGynyPiq5R6pd8r5oYGxt+jLYMahj44lUAK/j8Cjamq/D9P9WPabPsW0178JZOP49+rdz9zGXzbHu4+sFkugBPYRuKip+Q129c3Ywuza/GUy15Fjzvn8dmtRcU6Zle35ZyNlbBC57hxQKD7IOpfFKHW0xzqX38addyRGr5W+uazWsKH9uc68PmU69wF97RuDI/qs82952OGSZ+aeMSCjD+NKvQ8fPuzsGc/OaOhgy89K37WMSfvYfP/+/e7Xj/EZL6NnI31PPtiSIz6Id+ZnzKvR3Kd/c5Gp69owjpmX6x1LoAR+H4Gzm5ovusXbF3hVTOeahWj1slsgKDraZsQfxQ3dvKbtXPMemxY9fWM/Y9WvhSl1tOM4c3fekXixn7byWbk5ajdje/v27c3Xr193TY518njz5s2yiWgvCzh88jLPjCfjlSfrKWNs6HNph/nXr1/ffPr06ZeYjCEZZxzpk3nlPRP6IwbmyBlbnAHmjGPKEb85zD3HDnESr3raydjyfsbJWtonroxH3ZmP8x1LoATuh8DZTc2ixgvNi8+1KgCGrzzFxIKinjKOc90isq8ApW1sZONa+dNeFtxpg2eLonE5at8CbAGThevYWPnSjqO+GbnSt0yZ0+6qqSlnTmlDP47KwoZrPq/m3BPsmq/5r+waK/Lzkgm8+BhHxqy+667N5ontGY/23b9VflNnxpjPK9mMT+ap4/3Kt2sdS6AEfh+Bs5uaL3UWrUMvMHIWKOUsaoxpxwKKnAUKGYvUxJC2WfNZf9rThzazGKmzKrDTn7lb1DMf7nP9n3/++eV/RTfzUBb/6PLhfuZqzMzPwm7RxbY5ZT7GxxyXz+Y6n1cyyVB//vIhJu791YI95YnJj7yw7zqyXqu8WZOR+lMu44FTskI385MLv/hgJS9j2DdOn8hpi3HfZeyHZPbpdr4ESuByAmc3tSwUul3NuWYBsJA6PwsQ81nw0MPuPn3k5xrP2RS0xzyXPrOgHbOxU/zxHwuVRXbmPddTd8aiLP6JixG7GT/6yrFGEU+ZWdSRz3zMl+aC/xnvfEZ/zmXc2oPfy5cvd7HxJz3u8YHuvDIe45s5IjPnVrFMuZm/8WnL2ImPOGHJ/blNLc+LNm3YPK8u923FZCXfuRIogbsh8CBNzeJDYbAAkU4WDAoY1yyKmfZcm0VPe9rSL0Xqy5cvu+JmcVJGm8xnwdIW8+c2tdTVj0VPe/6PGJIHuSqHnvErM4v6ipf6xOwvKvOygRED95n7jMu4kcO/tnjWDmNeaU+fzBm/squ5VS4pZ17E6Wf+D1fkQyMj/9z3bFTGIV/X9IFfLu2xTj7koax7LIOMVfsdS6AEfj+BB2lqFgcLJ8WEy8JgoWCO4oCcRTGRzDWfLXKOzHNZtJjHB/9DDIodzxYjC1nOoWtsWZAt5vpxtOkZa8plHsaLPEwY035y0jajMvvWkUk/xs68LIgt9f/zn//8ZIGcDYL71Fvl4hyj12SNLy78G7+yqzlt6t9R3cwJbn4pQE6ZzM89cS7PmHEwuq6/5MU987I1RmV8zhjSdu9LoAR+P4Gzm9rvD6keSqAESqAESuAyAm1ql3GrVgmUQAmUwBUSaFO7wk1pSCVQAiVQApcRaFO7jFu1SqAESqAErpBAm9oVbkpDKoESKIESuIxAm9pl3KpVAiVQAiVwhQTa1K5wUxpSCZRACZTAZQTa1C7jVq0SKIESKIErJNCmdoWb0pBKoARKoAQuI9Cmdhm3apVACZRACVwhgTa1K9yUhlQCJVACJXAZgTa1y7hVqwRKoARK4AoJtKld4aY0pBIogRIogcsItKldxq1aJVACJVACV0igTe0KN6UhlUAJlEAJXEagTe0ybtUqgRIogRK4QgJtale4KQ2pBEqgBErgMgJtapdxq1YJlEAJlMAVEmhTu8JNaUglUAIlUAKXEWhTu4xbtUqgBEqgBK6QQJvaFW5KQyqBEiiBEriMQJvaZdyqVQIlUAIlcIUE2tSucFMaUgmUQAmUwGUE2tQu41atKyPw/fv3m1evXt18+/btyiJrOFsi8PHjx5t3795tKeTGOgi0qQ0gfdwmgTa1be7btUXdpnZtO3J+PG1q5zOrxj0T4JvzkydPdh+Kzuo61tSOra9sdq4E7oMAf13grwyc0fu4HnvjPrupZYHZ8s90NtZC+eLFi3s7UPPQcqCfP3++i+Uh45hx3eaZl5Nc5LuvEZ3qgxf+6dOnN58/f/5FhWfm8fPmzZt//fnxnHX2YP7pMvVX678Es+EH+N52jw6lP88D/rzwm8/OO+b7cVfnSds5Wg/cZ573vY/UPT/EdKwOco7++uuvX86X/tB///793qY2898XE7mkzSkHY3yRH/6OxZxstnZ/VlNjc16/fn3z6dOn3Wdu1FaSz2Lli3LoxfqdeRnLQ/n/Hbn5Asl21ZBu63e+7L6wNqZL1rMQrPRz/bbxX4s+hfCSs4cOuqdcyOrDBpdF9ZAt1lL2FH+XyPgeemaNd2WLs8E6H75MHTsX2M5aOX3hc2VjsvJ5FdvKpnLwMy/H+2C6Yncfc2c1NaECBmCrjbiPoP80HxxAD+iflrv5kv+fzkAWdzXyPr98+fJfv4BPtc9+UAvOLZDzPFOQiYN48sp6Y83J9Ye6Jy6+3BMzv3qO1cHZ1G4TN18kjvm7jf3HoHtWUzNhD5vf1PyWkN/IVxvpS8AB9Wc+Nue34nxJUseD7Rxj6qd/bCA/fSFP3K4x6i/jMDfm+JZFPlzI5qEyd+2ph6ycXDuUMzLoTnvMZ17mrrwx6/eQz10CkX/GM/PSj4zR5T6f0fHPGcajD9aY85PMtM1axmDsyPIN2LXMUbtpzzljk2FyY+7Zs2c7vspPG/msDYoWcWjb/E4d0aMAYoN8M6a0oT9i45LFMb/ocT7xIetjOvpFN5vJpbbwh29j1/5qzL10fb5jzudIbO6f89oy79w/ZIzLeZ6JUbYZc875Lk37mR+2sPvhw4df6gEy2NUnccgVe6t15lLe/FYjse2TNd+Vf86dnBiRfazXRU1tHkI2TWhufG4k8ObG5TMvJPJcbJov/rThJrh5s+ilHja5PKxuIjZdY51n9PCbh1j5mWvGjW3kkOFizZh4zrx4RtYDiaw+dsqL/yDDATQvYmTu7du3P78hfv36deeTNa5DPnWBrAdcPewaG3LEhkzmw5wxI88a+vq06Exm+mWcfvKZe+PiHl80t/w1oYxM2D/W+ZO4f+JxT7GFPBdzxjdtzLjUp2ARA4xho62dwRP/g/5kmJzTzIxxn9zUgYWxGbv7mrLzHh33kzV1L7GFPrbUnb54Zo09WeV1THeeKd/rzDPzQR7u6U8f6uYaun5k4rkmdvx45jI35jMfc0xZuHo2V+vMpY20n/fGjfy8iMN5c+dZneQ0dR/b8500NaFwGDwQuZGsM88h2reujTy8bAQ6fnJjsG+RchPzIGmPkc3Vb857z5oHQnkPWcYz19R3nDk775jr8iC3LHrIkAfz81CaJ/L+2WM2NX05pk/nGOdhx5c5K4eujJkjZjlOZmkvczAPbZq3djI+9cjvy5cvP5tmymAn94S4ORfIZKwz3rkuS89U5s/cZMG6MZvLKSM6qbeynXbwA7N9ZzlluZ955T5M2flMXPjzutQWduY+a3M1JmvXJyfnHXPPmSNWG4UyyXbuLzIzX+WRZY1xFRu60//Kp3NTdsbKOmcc/1z7fGrP8VQ55M1VX+yPn3m2tf9YxntranNj57NA3QQ33Pm5oehTxPiG7jd5N1Idx6mLHBvMyDX1Un4e0FzTvqMxMXIxUpwsUDzPF9EihF0uRuJx3j9vJI9klPfHfGLXnLWv3VVeM5/U595YYWmc5rFL5sc33Nm0k8GKSXIwp9RxT4idF5TnGSt6Ge9cn9wyf+2Sk+ck183tlFFOymob/qvLuCbHlSxzk9/c1316zM/YzrWFPnxOjdVY5l4wjw3s7bvcc3S5jBWevF+cA/Yrz5pr6sx83Qv09L1vn90XdPLSRu7nvliZ55q29vmcfjK3XFvdk4855ZmYvle6W5+7t6Y2D62H0o0W5D7o8/CgT1OjoWGbax5abeahQY+XwGK10kt54qGg+mLkmvYdjUlZ4sHPoaY2/WPfw4gdXlb858vEvEV+8jrkM2XzoBPDKq9VPsZmnPrzfwXGfF4Zq360wfNcVxcZbU0Z9wSf2pqxYoe1fevJwrj8Bqs/fg2zf8ybXxYvYz00Zh7IzXM8dZHnXM9fnVPOZ2MlH665r8qtxhnbObbQzTO5sr9vbvpBDnt89l3uObpcPrNHvF8UfP/9kzU+zGWMM1/3ghqi3Oo90N+0x7w28lwYm7HOfGds+3zuEv3xbp7T0NBLnnkmvPfd0sdjGi9uakDOxpAgAcparidkZOdGC3VuuJtgcfHwoO83NOfmodVmHhr0ZsGYespTyMzDgseac74I5s58Hr5jOZsDeh4y7dsIfU5fyW7yOuYTe+SCHqN29UMszPExT+NL26yj7y807WHHC3l0z2GSutrKfFnHF009v2zkvuaZ0T/xuu/JnXXilAu62kdHH7lujKeM2lZWbp5Z5xlZk9Wp/iYbc8fWsQsfxOd1ji33Fn75wea8JoPpF/kpM22wJ1lzzNPzR77JT/nkMH2wxpmgqbkfK+7MkaPvZMaGDfPXl+cHnlzJlXvsqGNM1pe0zT3rnom5tnpO++6FrIjPe9dWNrY+d1FTI2lgszGMXs4Bz3vh8ZyyudHqM87D6CbgS1vIuXkeJOawnzLaZc5Do56HyjH1uNef98ZufKxP38wpZzzad8wDaiz5ssw5/enLZ+05uo5/5xzTZ/KUCbGmXWyZt7o+m59x+qxd5LyMRRmZ5DN2/NU59Yyf0TiQMdaMHzs2LdfRIx6f5Ux+rM1n7ZlL+sSO68Z5ykiuyQTfKzvGxMhlDMlq5W/yU087Kx3n0M2Cfhtb2lyNxuR+zvzZH788rPSdgwU2ZMLoHiJDzu6Ze65Px7kXzOfcap+ZQ27Gjc/0g/981iejcSHDs3H7fMz2ypZccmQPsa19uaQ+95lz6j+G+4ub2mNIvjmUwJ9MgGZDU6MQPuRFYV8V9YeMqb63S6BNbbt718hL4NYEaCj+8rm1sQsN4J84epXAXRBoU7sLirVRAhsm8JBN5Rqa6oa3rqEvCLSpLaB0qgRKoARKYJsE2tS2uW+NugRKoARKYEGgTW0BpVMlUAIlUALbJNCmts19a9QlUAIlUAILAm1qCyidKoESKIES2CaBNrVt7lujLoESKIESWBBoU1tA6VQJlEAJlMA2CbSpbXPfGnUJlEAJlMCCQJvaAkqnSqAESqAEtkmgTW2b+9aoS6AESqAEFgTa1BZQOlUCJVACJbBNAm1q29y3Rl0CJVACJbAg0Ka2gNKpEiiBEiiBbRJoU9vmvjXqEiiBEiiBBYE2tQWUTpVACZRACWyTQJvaNvetUZdACZRACSwItKktoHSqBEqgBEpgmwTa1La5b426BEqgBEpgQaBNbQGlUyVQAiVQAtsk0Ka2zX1r1CVQAiVQAgsCbWoLKJ0qgRIogRLYJoE2tW3uW6MugRIogRJYEGhTW0Dp1GEC7969u3n+/PnNx48fb/7666+bb9++HVZ4oFXiIs4nT57cvHjx4ub79+8PFEndlkAJ3BeBWzW1V69e7QrbfQV7136In4LHh0L9UNfnz59vnj59uouDmA5dFGYKtHHfVezZAGgEhxqVsr+jUdAoze229uV6jOkh3qu13APOjc/Efsq1em+YO8Yd2/iQS94f8nuq3CEb7vm+HInfuA7ZObbGnp3yRWnF8Jjtrv8ZBC5uahwqis++Q37t+ChGFk/Hh8oFv8RwSmNFBvZ3fb1+/Xq3l1++fNnZPyWWu47BJuR+MP6OXO8ibs8/MfKFhNhPudjrmRMNg4bA59gZZP0umscq1kONizWaDZ+Zq+f31LjIfzJYxXNoTmaMvUogCZzd1Dz4HvBjL2E66/3lBCgCNjSL/qlF5BSvFqZT99VYTrH9kDLkdcovoPuIkV90L1++/FdTkCXjsT0ln2Myl+biu716p1njbLx58+aXL1/mRF6nxnUXTY0c4cWnVwkkgYuaGt/mz/2TC059aSzK+W1tfkv3xZo66P79998//61EOUbW8sXCvr5ynlhyLb9pG8ec44UmFnUzdl4s/cwCqj3XU2+u6dNc1GGcduVi/rvAfrzoqZfr6Y95njMvbDCfrPSTMTiHbN6jrw9zce7Zs2c/i7k6FEh87fNnHuaQnNM+Plhj7v3797tRHXjLfBUba1kYD/k4pG9OxKxv5uCLnhwo/rw7XvkeIZeckHEdu+QnM+bxk+zIRWY5n3LeE4ey5Jx+MgfjNBf4Zg7EzHPGhQ5+tM9oPMmXeI2H801+//3vf3+eSdbz3COb+64usfcqAQmc3dRU9CXgYJ1yKW8ByWfuOcC8OFzIeJi5Zy2vLCCuEUe+PDzrS3mfGTNunvVn4cKW8sxl8cenflnjT3dc5uQafrlnnmvGwZo+dgKL/yBDLManiL4yD+4tHvrLooovbPFBduaFDjLGz7N/lnz79u1unnXm0NUHsRkH8xSeyc9inQy0gz99Tv87Jz+KZDLAn8/pk/w/fPiw4zB/VcgyCyNz+ORKm6vnQ/rmRd7mwtzk75p5zT3IeJDhWR19uMfE6z05eK+ezynHvftvjvLQPjLzMpdPnz798msTv370R07uN3bcH+1mTjOeFQ/kV7EZEzq9SkAC99bUPJT5QvEy+MIaEGMebNbR4WMRUzZfZF8OXyxlHLGD/OpavRzIG1vGg36uTXv7clLOdZuSuWXc5iKrVXzqWyiMK3OcMqyln5kXNowv4yUOv4njDz2LlvuacRhL8lN+5RNd40JHJrnfxMW8csnEPOXl/jhvbM6bm3HK7JAPZc1JGzyrzxz3qxjVT9nVHLGad+aov7QvN+TwaZ7Ipq5y8Ej7Uw4dfKcd/aY9YuCDPX6lsacZlzqOh/ZhxjPPhzGxt5O9a6t49d3xzyNwb00NtBz8PJjzWfxZNJ3zxUDHyxfJb49fv3795Zuxcoz41bcvg0UwX1h1Un6+aLmmvKMxES8Xz1mMeTYOdYzHl5N15IyL+fzGj5481GFOPUZ8+osFW6mj/5kXMqv4mMfPqljP2HeOBu/cT31ij18I2CROC7n65mfsskCfaz6rp33WtSEj8ubDGiPrjKf6OKZPDNhacWItfZkDebNX80PMqxxzH7z/559//nU+Ulc58s17Y/BsoXNKU4Mxzcz3DruZN3Zln3nhm0uO3M94cv92wj+YzvPBmj60q3zHP5vAvTW11QHkReCAz4uD7Tf7XJtFAX1eSIoIOvkipx73+SKh58vGC7HSS/n5ouXa9JMvt0UCXxa6Vc6TTebpS2/h0d/UYV7b6OPTX1fMu24cPM+8lEF/XtpmPnmZ4ywsySj3U13/7Ytixf2qaK04kPeMIWOVF3KTEfYoxjAwvnN8HNMnDjjJ2FzJnyt98Zyx7gR+/MfYpv7UUR85fOYepK5y8Mh77KUc96c0NezAkc/qbOGD82c8q30gx5kPz/NMenaoB+rsFH/Evi9eZTr+eQTuramtXpgslIneg2wxYJz/ToM8+rw8vlj5gqY97i0U6ll4eF7pKc+IDz6+VM75bxHa4AVLuVNytgCgZxHQvoWe5/SFPwsFeuaCPvf+QsM/z/JhVBYbcKVZIucl0+mPefNPXuZoHPrkmY9Fxy8pxm2MxMzHXI1r7veMPWMwdkYZ4EdfzHHJFVur52M+juljUxt8oZCBzFmT4YxtF9CP/+T5R159dXzOXPWLDFfqpVzeI5cc3Ut5/QhnN6QcE/gjP2XTf96vZIlNDjOePJPmi71VbDOmjLf3fy6BO21qhw7Z6lByWD3cuQX5UjPPM0VuVWizGB7yny8Sfi04jtM28r603qO3Lx7zUwe5nNMPY+bMS81c5jHnJo9dEFFYLHJy0n4WBXRWeafffbkZT+aQvLRLHPwpDJvIMi+DlCe+fMZ+xmEeKYMt85Tt/PW6ipM4mOfC77SBX2xzHfNxTF8b5o497t0P8uLXDfvC/fxCsQsivrAYF/rYgYe/vrFBXpmPcsjmfMrlPf7mO6MNfRvTlJvxJzvPHXHwYQ27fLiIwRj/97///RKrdjlH5DDzyDMxczHWjn82gYub2p+NrdmXwPkEKPY0NQr3XVx/elGnSc7mexdca2PbBNrUtr1/jf4CAv6S4FcA/2MH/y8ZF5g6W4VG5C+Ws5WHwp/c1PjlyP4x9iqBJNCmljR6/8cQoBj6Z9K7ajKnwsMfDek2Fzb8095t7GxV9y4YbjX3xn2YQJvaYT5dLYESKIES2BCBNrUNbVZDLYESKIESOEygTe0wn66WQAmUQAlsiECb2oY2q6GWQAmUQAkcJtCmdphPV0ugBEqgBDZEoE1tQ5vVUEugBEqgBA4TaFM7zKerJVACJVACGyLQprahzWqoJVACJVAChwm0qR3m09USKIESKIENEWhT29BmNdQSKIESKIHDBNrUDvPpagmUQAmUwIYItKltaLMaagmUQAmUwGECbWqH+XS1BEqgBEpgQwTa1Da0WQ21BEqgBErgMIE2tcN8uloCJVACJbAhAm1qG9qshloCJVACJXCYQJvaYT5dLYESKIES2BCBNrUNbVZDLYESKIESOEygTe0wn66WQAmUQAlsiECb2oY2q6GWQAmUQAkcJtCmdphPV0ugBEqgBDZEoE1tQ5vVUEugBEqgBA4TaFM7zKerCwLv3r27ef78+c3Hjx9v/vrrr5tv374tpDpVAiVQAvdP4OymRgGjoD158mT3efHixc3379/vP/I78Pjq1aufeVCoH+r6/PnzzdOnT3exENOhC9Ywlz/jXcSe+8r+HmpUyt7H3uvrGJd9zJLtsbz22eh8CZTAdgic1dQsqBZRny8tOA+JiRyyMXDPL4+HuPB7anMi7t/B+/Xr17v8v3z5srPvHj8Ej/R5m6ambu7zfTTijL/3JVAC90vgrKa2Co2C3EKxInO3czQyG5pF+i6521j5cyKfYw3eWO42y1orgRIogdsRuNemNr855y+O/DNR/mqaOqz9/fffP/8EavG1KGehx/6+BpBr/OkP/1zGMefy347Qzdgp8PqZf+LSnuupN9f0aS7qME67cjF/j0HGgl6upz/mec68sMF8MtRPxuCctn023kM57tPJWA/lkGvJhFyePXt28j7KQubu/YpH5o7cvhjIG9nMn3vktZ8x5pp/9UBfeX0hd2z9mP1dADc3u9jwwSdzn3uYMajbsQS2QOBWTc0X7ZQXYMrmM/e8uLxYXNizYHHPWl75ArpGseRFtSDzbFzK+8xocZ3+LHZZXGbxx6d+WeNPd1zm5Bp+uWeea8bBmjHtBBb/QYZY5KGIvjIP7s1ffxRpYuTCF7b4IDvzUsb4efbPkm/fvt3lgg3mtGkc5pHP3GOLvLVtHsinn53AnqZqDodYs5YNg2eK9r59PLae8Uxm+/Z7tVfMyWbGmGtyw1fuoZyOrRPvIfusz/OBbX3lniKXDU8WHUtgCwRu1dTypTiWrAXdgoq8L+zU5eX0G7OFAj0LovLpnxdxFgTlGLOA5Dz3xGbhdA15PlwZD8+5przjvpzmehapGbe5yGoVn/rIes0cp0zyQmfmxdyMn2fiePPmza4A4i+L513v67EczHXGmjGlTO7VKt9j69iaHNP+5DXjyHwOrWkTvjYa5qb9Q+vH7BNLnrUVD3yuzpvxdSyBaydwcVPj5ZpN5liy8wWdz+rPl5N5Cws6XtxTAD59+nTz8uXLm69fv/6rOSmbxWsW4tVLnPLz5c817TsaE/Fy8ZyFhGf08zIemHKxjpxxMT+brjzUST308fnhw4cdH2xxqaP/mRcyq/iYx4/F1rjQX+nss3HKvpr7vhx2Dn/8Bz/GtLKNGHYO5btvPefllqyNI2NgbsaBHWSOrWkvOTM3WR5aP+Rb/35ZXD0bwzyPzncsgS0QuKip8aKd29BWhWG+sAKbL6fzWSCYQ5+XlMKGziy26jFmkUKPos+HIrHSS3lsZzHItfRhTBZai8OxpjbZZJ4WsVOamjzRx6e/rpifsfE881IG/Xlpm/nkNWM/ZOOUfdXPvhwyLmRlfci2+azyZW217t7Bf5WjcWQMzM04sI3MsTXtud/45JLHKeuHfK9srXggl7nrt2MJbIXA2U2Nl/TchgaM1YsyX1ihzZeT5/nvI8iiT/G2aGSx1ZZjFi/kLYasr/SUZ8QHH+65nMt/dzC/lHOOQuU1c2ZN+8ppX848py9sWWjRNRcLor/Q8M+afGbeq6KGDDanv4w7eZ2So7mfsq/HctAWY+aTZ8R9QoZ7P3I+dV37cnR/9sXAvDm+f//+55mV5YyROIjJfUbf/C9tavjCZuas/bm3xJNf1vA/ZTLX3pfAFgic1ZipA6wAAAHkSURBVNQsYBYHR1+aLHYzeXWzMPACZYFRx8LAyGUxsDgoh76+mTvk35ccOV9c42ecti04xOs9elyreMwPW+aYc+krc0aWtcxjzk0euyAiD5uacWnfxmfcq7zT777cjCdzkJc5mjM28GMMxqrt1f+YQ1vK8Kz+zCHt4cfcmUeHGNXNOeJzXR7H1vWNzfRzKAb3AHn+LE4uydgYGOXqus/JOfM5tp75rOwbm7x53tfU9uWbufe+BK6RwFlN7RoTaEwlUAIlUAIlIIE2NUl0LIESKIES2DyBNrXNb2ETKIESKIESkECbmiQ6lkAJlEAJbJ5Am9rmt7AJlEAJlEAJSKBNTRIdS6AESqAENk+gTW3zW9gESqAESqAEJNCmJomOJVACJVACmyfQprb5LWwCJVACJVACEmhTk0THEiiBEiiBzRNoU9v8FjaBEiiBEigBCbSpSaJjCZRACZTA5gm0qW1+C5tACZRACZSABNrUJNGxBEqgBEpg8wTa1Da/hU2gBEqgBEpAAm1qkuhYAiVQAiWweQJtapvfwiZQAiVQAiUggTY1SXQsgRIogRLYPIE2tc1vYRMogRIogRKQQJuaJDqWQAmUQAlsnkCb2ua3sAmUQAmUQAlIoE1NEh1LoARKoAQ2T+D/AUNxAN6NXctiAAAAAElFTkSuQmCC)"
      ]
    },
    {
      "cell_type": "markdown",
      "metadata": {
        "id": "FzrZtnfXmsSL"
      },
      "source": [
        "Adjoint Matrix"
      ]
    },
    {
      "cell_type": "markdown",
      "metadata": {
        "id": "m7rRCNu4muJt"
      },
      "source": [
        "![am1.png](data:image/png;base64,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)"
      ]
    },
    {
      "cell_type": "markdown",
      "metadata": {
        "id": "ExW_0LOTmwAl"
      },
      "source": [
        "การหาอินเวอร์สโดยใช้การดำเนินงานแบบแถว"
      ]
    },
    {
      "cell_type": "markdown",
      "metadata": {
        "id": "_ijQv3Irmx7S"
      },
      "source": [
        "![am2.png](data:image/png;base64,iVBORw0KGgoAAAANSUhEUgAAAZgAAAL0CAYAAAAx5SHpAAAgAElEQVR4Aey9d1RcWX7v2x4/Py+/dd96/uOtd699fcNbvmNf32vfsT1jv5m2Z8bdMz3jSe3u6Znu6axOUrdCq6UWyjmDhJAAgcgIJIIAgYhCJIkscs45QxWhoKh86vvWLtjoUKpMVUHB76wFJ+3w25/fPvt79j67znkBtBABIkAEiAARcAGBF1yQJiVJBIgAESACRAAkMFQJiAARIAJEwCUESGBcgpUSJQJEgAgQARIYqgNEgAgQASLgEgIkMC7BSokSASJABIgACQzVASJABIgAEXAJARIYl2ClRIkAESACRIAEhuoAESACRIAIuIQACYxLsFKiRIAIEAEiQAJDdYAIEAEiQARcQoAExiVYKVEiQASIABEggaE6QASIABEgAi4hQALjEqyUKBEgAkSACJDAUB0gAkSACBABlxAggXEJVkqUCBABIkAESGCoDhABIkAEiIBLCGwpgcnIyAD7o4UIEAEiQARcT2DdBUapVMLb2xvbt29HaGgo+L4rhIAExvUVinIgAkSACHAC6y4wzBAmLExg2N/evXvR19fH7XPqmgTGqTgpMSJABIiARQIbQmAsWkgniQARIAJEwCMJrJvAsN4E67GUlZUZhsjEPZfa2tqVHg3v2bBjbJmdncXhw4fNnjcOw/Lhw248D543T5sfF3tQnA8LTwsRIAJEgAjYR2BdBIYPiTHRiI2NRVtb23MiIy4GC29KBHgY4/NiAWHnjAWGx2Nrfo6JFhMVvogFxvgcD0NrIkAEiAARME/A7QLDG272YJ817nzhosB7Kvw4W/NzvCfBntEwwWE9EBae/bFtfp6H52lxETEnUmLBE+fL45HAiKnQNhEgAkTANgLrKjCs58IafSY2SUlJq0RCbD4XDC4gXBCMBYYd5wsPw0SGC4U1gamsrFyZ0SaORwLDqdKaCBABImA7AbcLDG/sWaPt7+9vmDHGhsnYtrgXIi6CKYERiwXvwXCB4eEd6cHw3hGzb2xszCA4JDBib9A2ESACRMA2Am4XGGYWEwAmEOJeCxcFthYvvCciFh92zFUCw+1j+TH7WO+KBEbsEdomAkSACNhGYN0EhjXg7I/3MqwJjPiZjVh0eDpsbdyDEZ9j22JREuPh6XFb2Dl+jMUTHxfHo20iQASIABEwT2BdBMa8OXSGCBABIkAENgsBEpjN4kkqBxEgAkRggxEggdlgDiFziAARIAKbhQAJzGbxJJWDCBABIrDBCJDAbDCHkDlEgAgQgc1CgARms3iSykEEiAAR2GAESGA2mEPIHCJABIjAZiFAArNZPEnlIAJEgAhsMAIkMBvMIWQOESACRGCzECCB2SyepHIQASJABDYYARKYDeYQMocIEAEisFkIkMBsFk9SOYgAESACG4wACcwGcwiZQwSIABHYLARIYDaLJ6kcRIAIEIENRoAEZoM5hMwhAkSACGwWAiQwm8WTVA4iQASIwAYjQAKzwRxC5hABIkAENgsBEpjN4kkqBxEgAkRggxEggdlgDiFziMDzBPTQaTVQqVRLf0olVGoNtIL++aB0ZIMT0EPQaqBWKaHk/mS+1G1OX5LAbPDqSOYRAa12Cg3lmYgKvonAwEAEBgQgLCkXTaNyqAXi40kEBNUiBhoeIyniOvwDAhEYGISImCzUtE1Aodl8IkMC40m1k2zdkgRk89UI8T+ELz7+GidOnsDxY0dx2u82irtmodRtViTsTl+JhYVFyBcVUGk3R+Orkc+i5XEaAs4ewtHjJ3DixEF8sfsQAsIrMClRbTpnksBsOpdSgTYXAQEyeTNSUkoxNKgwUzQd1Eo55hdVcMpIi16AVjGPmWkppNMyKFTOVTGtch7TEgkkMzIotWaKJCgw0Z4Ob99wBEekoKR9HqskRq+BSiHHokoDZ3TitEo55lh5pQtwVkdC0Koxz9KcscRQhYHBWuRlNkAyYc6/Zhh5wGESGA9wEpm4lQkwgWlCYnw22lulz4MQNJBL21GQfhthqU8xoVmrGOignBtBc340zh35Aru+vIbMgnbMO2ksTqubRkN+JPZ/9B7eP3oNGVVT0DxfKgiaGXSk7sBfvvQGXt12FFGFEiyVTA9BPY+JvqfISktAdnUv5taoMIJmAS1FybhycCc+2xGBmsEZrPXxll5QYbi1BLf2foH9hwORU9YFuYlemE4vQVNLETJS6yGZVJog4dmHSGA8239k/aYnsCQw9xJyTAqMXjGC4rgj+N43v4GffH0XnQrN6jt9u/jooVFJ0Vmfh5TYO0i+F4Kzxz7Hr96/gryaoTWky41QYbi7ADdPhuHO7Tvw+eKH+NE/nkajqRt3rRqywQaU1dShuqkVQ9PLXR29Fguj9Ui++hb+r//2GnySyzFmSqF4ljash2qTcfa4N0IjbiPs4l58dioRw1PKNZV3bqIdsWc/gtepYEQG3cBFn0AUNIwsi+Qzo0hgnrGgLSJABNxOwIrAqKfR1ZSJS8c+x9dnk9CtXIPA6AUoZRL0tDajb3wBgAajvdk48uEBxGbUQr5qjMp+EHrtIsa7mlHfMG+I3JN8Ch+9sw9PZkwlLEC9OI2R0QmMTUgwt7jcM9ProJobQFVBNI4dPozQ9GqMmxtms8FEAaN4EHAQBwOKMC0AupkiHP/dawgtGoPKlFk2pKnHPHrrY7Hro+so71VDUI4g//YhXAp5hMGloq+kQgKzgoI2iAARcD8BywLD7NFjCkWpfjh6OG5tPRg9oFProFEtdwnYc5COQsT4BSO7rA9KBxvcFWY61oID0Cow2ZiOCyf24KvYNiyaSFevnUdfsTd++Isd+GD3JSRVzIietQhYkHUg/c5VhKY8XVMPRjdWCP+D+xCcWQeZFhBUPYjc9xI+vtmGeQeFS1gYRU3MDmw/m4JOqQC9RoLKrBs4dCoBNYOru1skMCu1gzaIABFwPwHrAiOgB+l3zsPryBoFxqhwGoUETU/uI+bOI7QOmRrHMopg4656qhsZV9/EX3/nH7EtoAWy1W2uIRW9WoaBogAcPesD7xtRyG2YEwmMGtOTTxETdBEh99cmMPLGVJz7cCfCHzYZJhwIyl5EHPwZXjlSjDkHi6ySDOLhyR/ic9909MqYaElQnn4Du/eEo7yd9QyfLSQwz1jQFhEgAm4nYIvA9CLjzgXnCoygwkR/LR4kJ+Fx/YD52V4O8NApZBjuq0VO0Cf4m2/+DHeqTLTkgg7quUmMTUxiQiLFwqrxKiYwVbgTvHaBUbRn4tJnuxGa0wgF68EoehBx4Kd4/dxTyBycNayeHkLB5Vex3ScN3bPLApNxHXv3R6Gya3EVMRKYVThohwgQAfcSsEVg+pEdfwmHjyWs7RnMSsH0kEuG8TQvA7nlzZgyzCXWQ1jjbK2V5Jc3tF1ReO/V/4mPI0eNTy3v6yHodBAEwWhWlwYzklrEhXojLK1qTc9gdJJK3DrqBf+MaiwIgLDYiMAv/hXHEvvBH/uYMc7sYf3iBBqTDuLjM4lomxYgqCZQfP8yTl5NRcvk6ll+JDBmMdIJIkAEXE/AusDotO1IDj+OPV9FoGlOvabZTxB0kE8NoCb3ARLuF6N1YAqzU73o7R/BpExYW9oQoFPJIZMtYFG5gLHqKOzffRCR1Sam5+pVmB6oRFZ2PvIKy9EypFjJWw8FJkdKEOZ3AjfiSzC4ulNgl0v0whSKYq7gzK00tA1LMdgYB6/PjiK/ZQYOPoKBXreIwYZ0nPC6guy6QYz11iEh6Bwi02ogNeoVkcDY5S4KTASIgHMJWBYYvSBDb2sqzux7B6+/4YWEykHMqU08NbfRKPW8FPXZETi3fyeO+cYgMSkF90Kv425uJXrW+IMTvSDHWFMBEhOTkfrgLgJ9ryI8tRqjRo0uM1Wvm0N39tf44//1Bn7+/nHcKZ1efgYjQCUfQlXhLez95G18dT4aTzokWHRUDQDMDtYiLvgWQkKi4X/qBG6lPcUcGy9bw6KQjeJJSjAunQtEWMAtRESno21YtiKSPOklgXlMv4PhQGhNBIiAOwlYERjdHAbbnyI3KwvZD3NR1jiIGYene+mhWphBZ80TPMrORHZ2FjLS05GZVYSGnjHDENJaSq4XFjHeVoy0tDQ8SE3Fo5IGjMhWDxmtpK9TYrqrHHlFxSgur0bnGO+Z6aCSj6O97jGyMrKQV1SGpl4J5CYmCqykZXVDg4nuBhRlpyMjuwrDcyYUz2oaxgG0mJf0ojw3HVk5JWjrk8KU7j/rwdTRDy2NEdI+ESACriZgWWDAhp00aijZG5ZVSqg0WqPnFfbZpxcEaNUqQ3pKxSIW5XIsKlROetuvHoJGCblcbvhTWnnrgF7QQqvTQseew4g6ZXpBB82yjewN02qt8TMa+8psCC1ooWLldebL3dgrd5QsTTXYDG1Ti04/haaWQmSkN0Iy5QxhM5XL+h2jX/KvH3vKmQjYQMCawNiQBAXZsAR0qhE01uYiM68bkhkzvbkNa711w0hgrDOiEERgHQmQwKwjfJdnrZUPofFpDjKL+iGZFXXTXJ6zezIggXEPZ8qFCDhIgATGQXAeEU27OITGKhIYj3AWGUkENh8BEpjN59NnJSKBecaCtogAEXA7ARIYtyN3Y4YkMG6EvRWyUowPo6uzB1L12ubZbwVW7i2jHrKJMfT19mNGqRK998p5VugF/XO/g7CeOgmMdUaeG4IExkN855Qv+a0qqw4qxTympVLMyhSQyXXQOZyJHmqFHLLZSVSl3cLVWwmoGrdzSqKgg1arhkbQ2dn4qTA/Nw2JdBqyhTX9WGAVnfXe0ShmMTklwcycAlozU0BtslEQDL6Zm+hBSeYd3LydgaZJmcmPYNmUnigQ+93HUHsFctLSkJ1fg6eVDbDX7WwaMvvgmLnvwYiyo00PJEAC4yFO6120s8G2Ui5hfhRt5dlISkxEWsZjZD6sQkufBCoHRMbw6+jH6UgI98f1696IKazHkF0zRtSYHWlGYVoGyjtHYM+bMRSj9cjPSkJcQiLSssoxOMN/sGYFwAY+rVeMoqEoGdF3E5By/xHqO6cc/naHfHoc9U8ykRDuB//gQCQVN2N4VrPqdxeOoNDrFZB0FuO230G8/9rP8KvXPsXhy6Gol9ubGgmMvcQ8KTwJjId4q0gy6zRL1VMdKI6/jIsXryI8IgrREeEIuxmMuAdlGJYu2jnMocfkcAPi/I7Ba58XbiXVQ6qw74dheiygvzkVR3+1BzEFDTD6ZpGJcrP59HrI2rMQfuEo/ANCERMdgbDAQCTld0Ip/tWaidgb+ZAw34oc//047HUNiYlxiAgKQHRSAXqm1A6YrcRwbxXiAy/g5IkLiMtoxsS0es3iAp0C/fX3cePsRYRHxiLhThhOf/iv2Hs5DHWr39Zug81bVWD0ELRKLC4sQLEoh1Kz+abwMueTwNhwCWyEICWj004yQ8BUeyH8d/0Eb+86hYCgUIT4+SDg/Elcv3gFqU/7MG3qnQ9mc9dBOlqPWJ/DOHslHIWNcrtfosde7jc2UIqwK2F49LQP1vpqesjB/prTLuDdf34Vpy4EIjw0BDcvnMC1i9eQP6K2c5jNbOHcfmKhJxVe3/4D/PzdK4i7E4UgX29cO3UaCY8bMWFnG8S4jvRWIu7mZfiFJKOsdQYKJ4wi6lTTeBzphTfe2osbN8MQFRqCoONv4+C1EDzsttNIO4bIdCoF5ucXoVrLkCH3qKDGwvQIejrb0dk9CKlM8dznfnlQR9e6xQl0NrVgwMSQpF4nx2BVGLwOX8CFK+F4WC/+HoweKvk0hnt6MDw+B7VTfp+oh2pxHjKFBg4MUphEIKiVmBrsRk//GObNvJqZBMYkuo13sHjYWQIDyOck6GluRENDI5pb29HyNB8tTxKQGXcLCaU9mDT1CT6LSNQYbK1GfVM/Zh18ti+oFyGZmMC0TGGDOLC7eRUkQ0Po6+5AS2Mt6ptaUFsQixtnDyK6QeW0i8hisV1wUjk3hfbaOjQ0NaKprQOtDY+RHuGNyNxqDDkgDlrlHIY6mtDaNQqZlZZZUGqhUSth7SmYoNVgqq8LPd0daOvoQGtTDfITT+KgTzhym+01cqkHkxifg/ZWqVmievUoitNCERBRhL55nZ29bKNkBS3mhlvxKMYXly9dhN+tZFS2jKz9i5aibBZHS5AQfh77va4ipbgZxuMPgnYW3Zn78KffeROvbjuJ+LLZ5Xqvh3x2BCWZt3H1xCUEhaSgtm0MjvRfuTl6jQxDzVnwO/Y1wgq7MOeE3pKglaO3OQ+BZ8/D53wQMgsaTL4jjgSGe2GDr/OHuMAIkElnoDS8/EeLhakuVFbUonNwdunBrV6ATjEP2fw8FOwLrsoFjPb2YHBoEmMDXegfmoBi+Y5IuzCFgfYaVJTmo6I4E5kZmSisGYBMuXSLqFPPo7+5CqXFJXha1wXJwnJE9srzGQmkMwuYm5rC+PjUcq9FhamxCUjndNDIFyFfnF+6MAQ9lLI5yNWq5btEAUrFFAYHRjE6OoPBrm5MzLBeCV+0WJgdQFNdAzoGpqHSLp1RyhawsCCHTjQENtXThZFZLebHO9He1oyOvgFMyvSAXoXZoSYUl9RjQLL8wSc9oJXPQaZQGF7MNzvYjOrKKnQNSQ12atQKyOcXDTbqtLMY6qhBcXExyqsbMTA+v0q0dKoZjPS2oLG5D9J5lcF2nVqFhYVFCDoFZie6UFfdiO6xGahE9urlM5iRL3HQYxE9dbUYmgemWsvR2DWzBEAPCJpZ9DU+RnF5EdIfpCCnrBszore+a5UL6G+qRGlxMWqaeiBd/myiXqfF4tw0pqfnMDslgUQ6t/QlQ7Uc05MSzCyoV5WDE2drSUcdsjNz0Dg2b8PdvApDrfWoqihHVX0TOgeHMTQyCRkbHtXNob+jGo+LnqC0ogadQzKYb9OYwLQi+V4+Ott4HRdbxbZ1GGtIxfEPXsKru+6ieUYrqivGYa3vazXT6G4sRFpKLsrqmtDS1ouJ6QW7e97mclroKMPts5/hQvw9FDb0YnRi+vleueGDY1JIp2cwMzuHxeVRA41KhqbS+/A5ewOxiY/w4E4ggqMeoNX4Y/fmMjdxXJD1oDD+BF7+334PX9yuxpRmrV1APWbGWhHu9SWuhGXjUeZ9BFz0Q07l86MPOsUwWmrzkPNkANK5Z1e4CTM98tCm+SV//tBS46OWdyDGNxGd7FmJchpN2cG4dNYbN4Li0cHaVYUMA4XxSM3PQ5dagcH6dEREROH2vULc8b8JH59glPVNQCvI0d9YgsTIKERERCIyMgKh4beRVtSFGcOXiTQY6ahA6t0IBN3wxfED53Aj4AGG5tXQq9kHhhJx81o0/M9exiWfOPTJteh5EooLlyJQOiBDV0k+8sqfYkIvQLUgQVlKKsp7Bg0P8BULAygvSkDY3UzEx+Yi5NQ5BN3PR+/80t2vIJ9Cb3UmQn19cONWGrrG5qDHHEqzspCZ0wDZIhMMPSY6ihATGYzo1BIkh4bg/JdHkTM8Z2gctTMDKE+6iuPHfRAcmYZxFkOQozUrEZmldRicn0Vp4i34nDyMiwHxqOgdRXtTOR4X1WJychAdFVm4Fx2G0JCb8Pa+hoDwTLT0TMOgdYIas8PNyE8Kw1WfMDyq7cWCTovhzgbkPaxAR1sDakvTDK9GvxGfi75FNi14qWvXmx6KxLIeyPRq9NUk4npwOBKy65Fy4ajh2yH5c4anS+ipfoTIGyGIjo1GeFgEEnObMS5bugb1WiVGOktxLzoU/teu4dThSwi5nYMB6QIUCxMoz7qPIN9QXL90HaG389A1PID64iQEBiahZnDW5N0wE7uOPD+8//YO+N5vN/lmXN4CaDVSNJWlIfbObURGhuLioTPwD8kA++qwVjmGhif3cSciDJGRYbjq7YNzl+LR0DFlpmeqw+xCJaKj76KliXnp+UU524PHD0Jw5Iud8DoevzaB0WsgG6lGov9pXA4tRNeEvT2u5+0THxHUbcg69Qu8+Pfv43JBCbonTHzN0hBh6SZrqG8AI0OjkBpu3tiNWzsyoi7h+p1CDOvVmBwuQvAVXyQ/7gS7b3Jk0WsXMTlShCu7fotTCXWYsmsI/Pkc9fo59NaG4Yvd11Heuwjd4jAK4k/ifEgu+pbrKI+lne9DbVECkjPaMTm9VmHjqW6c9aYRmIKheeghxdx4Gj75lTeqxhYhyMdRFnEY+776EvsOXUDJAqCdnULR+e3wibyJYmkrkm/HIDjgNo69sx0HvS7D5/Jp+CVWYEQ6gZaKLPhfCkZUbCbiU56gpqUXU7NKCHo1xtoKcf3gZzhwLR5FVZ2ozkvGhf37EZFdD4m0GQ9Ts5GYlIuEUD8c+PBzHL/kD/8r15CQUopJ5TgKonwRdC8fQ4IW87P1iDh/BWn1PZgX5tDXnI270bEIDz2NbbsO4/jpm7h88gbyawYMd6aayV7UpgXizL6P8fmuk8jvHoEKXbgTdgmXbj7FxGQltPpcJNyORVJmCg699xp+czAFcZc/x2+PZBs+DasbbUHajT3YsesAvLwuo5X1CoRRJF88gYDIh2jtKMGVM2dw8vQFnD16GXdznuJRWrRBiPsH21H9IBy3AsKRllOKypJiJAYFIPZ+FcbZXZhWifGmYty5dgR7Pt+NwMxaTCpn0Fyeips3U1FR8hgFWbdxesfb2HMuDHXTi9CAieQ8sk5sx8XUOoxMFML/ShzyCu7itf/8f+PXfvmIPPQS3jzZAPbspDr7Ds4e8kdkTCoq6roxPa+AytCBVGOquxSXPvkNDl6NwaOnHah6nIErXieQ+KgC/cMtKMx6iIT4dMQE++HYrn04ef4qbly7ifvZVRiXLfW2jC9RuWQIzfmBOLxrG/ZeSEWH1MzAv16LmaEC3Ay7Bt/wCCRnlqC8LAdHPz+IqAdt0CiGUJ4UhIArgUjOqkR9VS2SvT/FqcjH6DXZQdFher4YoaHBaGoYMTYLatkwKvOSkVlehHvhV3HySAwa1tKDETSYGWlGWogPvnz/C+w/F4D89mG7Zi4+Z+TKAR36H97EO9/8ffz6XBCuHX0bH3z4a0Q3Pz/AJehm0Z6+A//nf/wpfvwbL0QXTUMPNWY7CxBx5ihu5zaBDRZLR2sRffUyghNrMGL3BIoVwyCgC7Fnd+CcEwRGkI2iKuwT7LjMPpmsh14tQWXmDRw8Ho/q/tVl1c52ozonAvFJzZgwV6eemelxW5tHYMZU0MkKMT18Hx//2hfVo3L2gW2M1ifh9J4PsH3PeZTM6KGdnUT+qS/ge/UkilrvITw5BSnJjxDnfRahUaFIuHsV53wfoXdkAdL+JmREB+NW4E0EB95EXF4VRhbYI3YthurTcOqTl/HqvmjU98oh6AeQnegP36AM9PSW4FHRUzzpHEdnUzYu7/4I3/vHd3H4cjoGJOyrgOPIDr2EoOQiDDOBmatE6CU/pDf0Yn5hAO1FKUi4X4vcpDB4BwQgKjoM4df88eBhDeYWZJidnkJv2xNEee/Ee298jayOESjRhphbF3AxpA7jVVFQN7yL0LRyFGfeR9TVszhyLgoVeVfwm1+EY1Slg14rRUfRLXzx0Qf49HNftDOB0Q8h/uJp3LyVhbayNJw/G4DjX1/EufPncCenErn3whGdUopx6QzGqh8iNuQmYu4XobWtAU8f3UFUbB76eiVQzsswPtyFwiR/eH32AXzu12BcMY3m8iRc90tGS1cnetsfwe/ge/jsSAhqphTQgDUgM0g78QWupNZgqPgMTiePouthOE6ePodjIfeQF3cc//hncYaLbLq7BveCriHw2nXEZBSil39XRFBivD0bXq/8Bd45HIWnnXIYnk9kBCIkJh2NLSUorqhDeWsfqkvTcOXILvzyl/txJeghBiTsJuX5hfUOezvrUdctxWx7LqICwpFZMWWYbSYa3TNEZL99mWkKw6Ww69h3JggJmVl42tyOtBsX4Bv8BErtIqZKkxB9yxdB4Y/Q2dWA5qfn8OHZdDT0mZq+ocPcQgMS4tLR3ipZZZxeJ0N/Qzlyi7uwAAVqMkJw/kwSOqw8S1qVyHM7euh0WijkCxioL0HEkQ/wlfdtVPYa3Xo/F8/6AUHbjeSTb+K/vnAWFdOzmB1IwO4X/wB/+7NYGH80Wa+Zx1DJTXx58AJOX4lAQesiICgxWpUOn917cTevBWyqimSkHmHnT+Jq2BMMmH9EZdU4QduCiOMf4Ux87Zp7MErJIDKOfhefX01DjwwQVBKUp1/H5ztvoaxtNUetfBANFRnIyOull11a9dI6BiiTaCFoeyAduY8v3glA8/TSnYJeUKEzPx6XDl1GhXypB1N4fjeuh1xFyUQFQkOicePSZQRHBCM5OwcPEgNw0fcheofZr0100GkUmOwpxmDVDYReu4W8+iGwoX7leBsyQ0/CJ64Z0nk2rt6P3PthCIwuwKi8EVGnvsSPvvs+zkQH4cz5m/DzuYewgFCkFvZgQZAgL8oXEZnlmIAeC3PViPQJRG7bMJTCFLpq0xHsdw8R1y8g4HYi7qcmIuxGCHKKa9A3UIaEhGw0jMyiv7oQQWzYq3MYCrTjTqgPbkQ2QzKaBY38OiLjCxB18TRuRF5H0N1HKCsMwAevh2No5Wt9atTcv4njn11aFphh3Lt4GsG3H6Kj/yFOfHYS77+0AwfPnUNcYTUeJUci5n45xiXz6CpIwfn923HqWjQeV5SgPD8BCUlF6O5uRV15JrJr+zE42IfH8TcR9qAG44tSNFekItA/CV1TS7eazWm34R8Qj4ZpJTSYMQhMxqlduPKgFqN9d3DGrxzpvp/hdOhtJD54jOzYU/jn/3p3eTBNgEYjg0T6CF5fnENUYvdK7VNI+5Eb+DV8EisxLNNDoxpCcXYkopPz0dRTgYQbh/D6bz/HsYAAXLwcBD+fWIQHxSCrrA+zJn5kJMz3oiDqFL74+jJuXPDCb/7pB9h/7SEm1MBzI0h6AcrxUgTsew/f/9XHOB3oj/TiRuSE+OyJPYcAACAASURBVMI/ohgL6kX0PgjByX3v48uvw1BRVYqmukB8fi4Dzf2mhovYM5gWJCU+Qkfb6hZ0sacI4cdfxRtf3URI8BXsefun+N7/9ztcTW2DdMGUVK4gsnFDDclAKcKvXseD/GaHv1HPM9PNViLgy/+Ov3szF3rDaJCAnFOv4y9eeBd5M0b2sl3jESOtEpMNOQg6dBB38loNAiMdqUeU93kExFRiyHimAM/YhrWgc57AaGaG8OTK69hxJR09s0sCU5Hhj31esXjaJXpQyFoYxTCaanKR9WQAEnoGY4On1imI1/VssMtvdioZb/y/P8fxgDywEQeNfBQpx36J7/x8N2KeLkCYl+Lx+R3wjYpB7cwkci8ewNfb38Hx4Meoa+3F08dhOOOdjR6DwADSvnok+u/DqS9fxXvvnEN+47BBYNRTXciLuYzgzEHMqwBB24ecxABcDyvEFBuwKs5CcmIqcstScOlcAJISnuBRXCRiUhswo5GiIPogtu3wxeOOSSzI63H9q+047p+O3tlFTPbWIOL4dhw4fA6RD+rR2FyHu343kVHShnl5P4rvXcLZ6DQkJd1H+OmLeNQ1AgV6EH97P/72e+dR0dmBcd000m9excUD/4YdR++irFOK7oowvPdvIRhSLj3vWJysh++2H+K//+1u5I+x15hIkXLxBALvFGAYs6jNe4hY/0jc8L6KpIeVyLsfhZj7pRidmkZ9VgSOfH0Bdx82Y3S4B415sYi59wQDk1MYaMtBWFAAoh5kIO5ONGIz6zAhn0NHVQIOfbQDAQ+q0DvUhuSru/Hyz/cip0UGtX7BMLU669QX8ElrhFQpRdxXn+LUqbfwrlcO+hdlyAz5Gt/5ZsLSA3a9HvKhBiT6/grfevkQbqf2rtQ81cwoHoedwK2sJrCfxygX+1GYfgvhycXon5Oiq6YID+6nICU7GUF+4Ui6m430+Dgk5rZjSmbcqmkwNVCP++FhCA2+jZQHcbjw1Zv45cfeKOlRobDr+V6HsDCKB+ffxG+2X0RaQQ2GZ/qRGuQN//BiyFWzaEnYg48+O4Cw1B5IpUNoLPPGp+cz0dS/uvFZKpD5WWQKyQDKs2NwO/4e4hNCcHj7G/jpKztwK3cYC6aSWiFk+8b8/CgKMtJQWNACxRqfTQiqZsQeeAn/4z/FQL48F7gq6EP8+M/fRLYtc8wFNWQDJYj1OYnw7HosQAfJSAUifH0Qnd1kEHzbS7Y6pCC0Iurkxzh3rwGS5Ukzq0PYvqdfHEdz8gFsO5mENikbIptASZo3jl1JQ8vU6vpFs8hs57quIW8GxKNWCYxV30dITCQCzkejYXEGE8PZOPHRl/j1372IfZdikPOwDkVXdsE7PAbtc+Oo9n0V3912CRm1M9DrxlBZ4I8jF7LQPaww3FHXl2Yg+MRB+J/Yhl3bvVHQOGyY8aIab0d22Gn4pXRDpmAC04vshBu4cvMhxtXPKtHCUCGunb4AH5/7iAqKRGrZMGZHB1BemAB/n0hklzehs6sCacm3EXIrBfWj05gaaELIrtdw2C8d7RItpifqEOVzDcmFLWD3uApJG/LSLuO9d3+Gf/nxATxkv+4faUFJdjQuHfNFdkkjKoamkRtwGK+/9BYiyqeghg79FcH4zY+CMaxk01hn0FEThx0/ex//9q2/wtGADFR2NCE14AyuRz7CpMGbOswMNiHG9wrupj5BTlI4bieXYHhSgno2TTQgDQ0DKsgnupET4o2AsIcYnFRDr5Git/4+fE9/ipe/+xq8H9RgZEKCwcZ83A4OR0xsBFJLk3Hh8F68/cpPsWNfGMo7m9A81YvEox/DO6UZ81oVsrz+FH/6/a+R28vEbwb3/L/EX/+HuKVZbMI0qh+l4tb+Hfjt+ydWCYxCOoRHAV64nlqHccWSwBSkBeJW/GOMKPidsgajPRWIvHoNvlfjEBUWh6yqYcwaNcwa6RBqCjKR39CJGeXSWxCUXZm48PGnuJZSjYsJlTC++RYWhlFway9ORtZjUQBUyl4k3DgPv5AnWFTNoCV+Oz45H47H/XoI0x0oufkv2H46BW0DpuawLwmMqVfF8JKwsTq9bgK5UZfhtT8SddOm0rH98tTr2WuJtFAvzmGkvRSp6Tmo7Zq2YeactTzUaIq/gFd+/09wq1EBQehE8N738f7Xyc9NU2bD2xOdWbgVFIWY2DRUdC3NolTOj+Bxwk34hKahYWgSbRVx8LsahtLmsec6PNasEZ/XqFoQdmQbThmGyJ5dv+IwNm8LSgw35uDIzlN4UDuKseEmw+/gojPqwEdyeVokMJzEBl8fPxaCWg0grYjA4dNH4LU3DM3KWYwMxeG9v/4AX+4/h9ymfMQEeeFHf78TkfFlmJ8dRZnfp9jrn46GST0EYQSVeUE47p2zLDALaCpKxqVd2/DV9jex82QimvqWfvClHO9ATtQFBKT1YJ7NDtL2I//hPaQkNxk+4cpw6XVS5N3ai5e//T/w3/7sV/jMKxiV00oIsi48jLuMPbt9kFbchP6eAoT4ncGp8zGoG5JgaqAOEWfOIyaXja3rIBmrQfRVf9wvagF/04hW2owH/p/iW6/uQ07nCNQjtXgYdwbvvnMUqfn1qOyZQn7QcXyx/x46Zthdtgo9FaF4+5ehywIjRU3eNfz8T9/BwWP+KG3Pg9/xT/DG744i+XHXSmOilY+gOP4k3n37few6FoycqgmodUx42pEaeh2nvPZg15dHcPJCDJ7WD6xMmdYLM2jND4fXq9/BqfRaDE9J0F+ZCJ/Dp+AbGoyEh8H4cttnOHgyEJmPk3Er6DgCfL/CT//yXcSUjECvlyHj+F/gZycqDQ+Y9ZAgLfQAfvJyvGGITK9Toyk7Dqff/AHePR6K3LpnyqCUDiH/1mEEPqgDm6SkUg6iuOg+cnKbIV8W/8XpfuREn8Mb//C/8LfffhcHvGNQPSZdNV1Wo5pCyd3r+ORHv4BXcCaGF5dmVE00J+Krl/4G//N7P8R//OafwSu+BmOi1yvoFoZQEOqF83daDb1dhaIH9wK8cSP0iaEsstEOpNy8hJMHdmL33v345KsbeFzZuzQD77nrzLzAiIOy3mdh7DUcP3IHzXOOT1PWaWQYaMlG4IUj+HLPPhy/HI2cp0OYc9JkMkHfj7hr+/GTP/wNDn/2KY6cDkLl6scShmIJ6hm0J72Lf/enP8ZLv96PyELJkoDotZAONyHu+il88dYOHDrqh8zS1jXZJ2iG8PiBN97857/CX/3gdfg/GoN8jeVVL0pRmXEDX771GXZ9dgg3YnLRK32+t0sCI67FG3i7obnf0Phq5wfRUFOJ2vohsJe6KBdHUF9ajZaucaigxPhgA0pKWjA6oQQ0CkiHujEwLjH8JgZ6JaYnh9A/MIXF5YZoYXIYrfU1eFpVjeaeKchVS/eNglqOqZE+DE3KDS9bZO+emp6WYkaqgn751lLQLGCoox7lxUUoKipHY+fSbBy9Xo7xgWZUV7VhdHoBarUEPa0NaGhmv7HRQLM4h/GhIUzK2J2oHmrlLMaHBjEhEf/+QoWZ8Q40tnVinE2N1s1hpK8eZWWNGJ2UYV4lYGaoA70jc1j6zDj7rc0QWltGoDA8mdZBNt2DyoKn6B5dGp7qb3mK0spOzCyK7oD1asxLe1BTWY6alkFMLz+jYN9LnxnvQ31lMUor6tDRL4HSaGhBI5/EYFcLesZmodBqsDjdh+baOrT3D2Fsqh9NT2vRMTQDDRYw1NOEnpYqlJa0YmqB5S9A0lODrkl+n67GzHg3mprZUyuGRQ/WU2mqLEJN5wSWZ3AvN06LkAz3YnBiAcyNgqDA7KwUszPKFd+oFLMY7KhHZfETlJRWo7V3DAsaUbnZVA7NAkZ7mlDxpBz1rWwolM0c02J2egANFSV48uQJnhQVoqZjHKveI6pVYmakG72jCwbR0OvYNNh+9A9NLz0/EnRYGO9DY+VjPC6tRmOnBEqzDZptAsN+1yQd6UNPzzjmzf+oxuoVzJ5Zzkl6UF9VjuLSMtS2DUHK72qsxrYtgEI2iOqCJyh+UokOcz+QZsNhIy0of1qHmoZWDIlmxukFDaSjXaguLUd9ywDmxPXVNhNWhdILcxjqaTbUheKSEjQPLNWbVYHs3tFDKZ9Ca2UZyiuaMDxheoobCYzdYCkCESACziNgo8A4L0NKyY0ESGDcCJuyIgJEwJgACYwxkc20TwKzmbxJZSECHkeABMbjXGaHwSQwdsCioESACDibAAmMs4lupPRIYDaSN8gWIrDlCJDAbGaXk8BsZu9S2YjAhidAArPhXbQGA0lg1gCPohIBIrBWAiQwayW4keOTwGxk75BtRGDTEyCB2cwuJoHZzN6lshGBDU9gSWCsfdFywxeDDDRJgATGJBY6SASIgHsIMIFZepuy+S9auscS9+YiQKWYxsjImOGLsHNmvmnvXpucnxsTmObqR8h+MkhvU3Y+XkqRCBABywQEzC3UI+7OA7S1TD0XVCufwUB7I+pqa1BTU4u6xmb0jS9gTZ+EgQ6KhTF0tNSjtqEZAxMzq97R9pwRVg7otdPo6+qFRLn6HWnC/ATaa6tRVdeFWaMvFei1CxioDMXhQ2dxwTsUWbWzK+/Hg16HeckQ2mob0NE9vvI5ZStmWDytlA6jvaEOdfVDWHkfqsUYtpzUQSGfwNDIFORmXt+jXWTfg3mAB3ldmJpZ40s2bTHJzWE2zQfH3MyNsiMCbiKghVRWgMBAXzTUDa/OU6/EeOtjhBzbg21vv43fvflr/PK13+HCnSqMLr8zb3UEW/YEKGXDqMi9hZ0fvoF/e/09XAxPR9vkogNvKxaglPbiaX4odv9uD7KHF8BfuaZXTKEhKwA7vv8WXv/lbiQUtMPwTtZlE/WaOfRlH8a7H+/H3iPXkFq5LDCCANnkAArvXseeF9/DkePRqGgatvAuN+tlVs+PoyQpBF6/fQuv/ugCHjaOQGf8JTnryawKodcsQtpbhuTYq/COyET7zOr33PHAWnkXKvMDERNTgvHJ51+GycN56poExlM9R3ZvEQIaSOaycfXaCdTVDKwqs14xip6GYhQ8rUZ1fSMaG7Nx/dQBnAvOw7jWsbthQStHf3M6Lp+5jJCkMhRnxuPi9n2Iyq2B1O4ktZjrTMPx3T/GCy+8gOh+GfgHg8fKY3Dg1X+AX3kTmsqv46P39yO5VPqslyJooZoZRE/fIPqHxjAjX3rpqUY5i/rCe7hyMRApj0qRmxKCoFtJqO8T9XBWUbK2o0VHYSSOnLiFnOJqFCdfwMf7Q9AysuCAoD7Liwlo28OL+Nl3/zM+OBeD2kkurc/CsC2tvANlDy8jLPgRxsaMunGrg3rkHgmMR7qNjN46BLSQzD2Er99p1NUMriq2XjGP+Wkp+JcC1NNPERvkj4SCATj6bTBBM4/O6jgc+fIKsp6OYHKoGhFeBxCSXYtJuwVGD+2iBI0lIfj47/8LovvnDALDPi2QfX0nXv7OJfSxT3WjF35v/QhfnczBxEoJtViY7kZVVT3qG9owyL4cBx3k0lakR1zEjfgSjOsFSEeeIPiKLxIK2+HICJOg6UWy30GciXgCiQ7Qycpx6cNf4FreGJR2l3fFeECnxvxUIzJTTuPAyRjUjZnunWjlnSjLvYKIkHyMsY8XbbKFBGaTOZSKs9kImBcYw3cL+LchoEL7oyhc8Q5B+Yhy6ZMGjqDQazE72oaUG5dx+qgPopOSkJxbh95x+crwlr3JzvQ/wNevfBNRfUsCo5srh/fuV/CPOx8begl6KJCy92W8/Yk/mpbbWEE7h44Hn+Pf/cmP8cqvDyCqYJp9uALSjnyEnTqKmIfNUEKAdKwe0VcvIijxKUZMvxHforma/ke49tU+hGY3gL31X1D1IPLrH+GD682Y590tiymYP8k+ktdSFYTDR6JRN/rse0XiGEs9GB8SGDEU2iYCRMBdBCwIjMgEQdmHjAg/XAvJw5SafbdmDYugRn99HvZ9+w/w//zL5wgraHOod8AtGO1Iwp4f/hdELwuMdjgLXm/9Ef7hyFNDECYw9/f+E1557Twqp5aGwvQaOcaq7iI04i5i4zNQ2bUIvU6JkaoM+Ozei7t5LWDfF5WM1CP8/ElcDXuMgWn+7SCes/W1rOE+Tr+3HWE5DWBfEheUvQg7+HN8f38B5tbYodDpJlH9+BoOHr1NAmPdFRSCCBAB9xOwTWBkPXkI9b2E2IJRaNYwtKPXaTA71o2SvGwkxt9F4Ll9+PTz08hq6FsZirOXgUFg/uWZwOikRTi7/bv4zoHy5aSUuL/vJfx2mx/q+HifXg+tah5zsgXML8ix9K03JSYbH+LWkcO4k9cKNevBjNQj2ucCAu9UYnjOXssAZWcWvL/Yi4iHTSsCE3XwJ3jrUh1kpke1bM7EIDBPSGBsBkYBiQARcDcB6wLDegAtj2Jw7dItVEyo1vRwWqucRlN+MM76ROJJ1xymeupw+9inOBeVja55+3sIjNZUTyr2vfwXuDMkMwyzCWhHiNe7+PYvkw2flNZjEmEfvoLPv0rAoKUs9GrIBssQd+UkQnPqwL7vKh0rR9hVH9zOacKU6efoFh2mm6lAyJH9uJFZA7kA6JT18N/xMo7dH8TiGoSaZaoXJGgo88fRE3fQOGF6vI2ewVh0D50kAkTAtQSYwOTA1+/Ucw/5eb7CQjvSIq7iyq3HmFaZng7Lw1pb69RSND7xxXvbzyK+oBdjXdWIO70bl+IeocehFlePvsa72PHif8Ct1vHlRluFlpSLeOP77+JBlxKKnlhs+8Vr8H8wvPRJaWakoMBYy33cCIhEaNR9FDfLDKarZCMouReCywHxqGztRUNhDPyuRaK0ZfJZXGuFFJ3XQ4byO5fwtU8CGnsm0PkkGO+/fRqVPXPPZrSJwtuzqVaNojT3EvZ6haFyYN7kc7GlZzDeCKeH/PagpbBEgAg4h8BSD+ba9TNmBWa2Mx8Rfhdx98kU1vr4BXoNZiXNSI05jjff+Bi7tr+HQ5dCUNo3Y+ht2FcmPWZGi3Hx+OuGacp/9+lhpHUoDA23Tj6Bghu78K+/OwKvt17C+dsVkMifpS5oZtCe8Dr+9xf+Bv/+x7twq1C61EALOkwPtSH5+gl89JPPcNjLF9mlHVhYwy9LlbN9SAk4jy937MY7f7kd0U86oVjLOCPrvWhm0PE0DL/55Z/g/3jhBzgWXoCu5edLz0oJaBc7UfboKiJCaRaZmAttEwEi4BYCAubktbh7JwWtzc//kp+ZoJ6fxuTYGKblgsm7ZLvN1GuwMDeCrtZGNDS1oH9MAqVD8wb0UC2Oo72tFS2trWhuasHwrG7FRtXMODob2NsHuiCRGfW8BA0Wp/rQ3tOH7oEhTM49O294TjQ+hPb6JnR2j2Je8eyc3WU1RNBjQTKM9qYGNDYOQmZ44ONYSiuxBBVmp3rR2NSM5tYWdPaPmZw0oNONo74+C6lJ1ZiaND3TbCVND9ygacoe6DQyeSsRWHoX2b3EXLj9XWR6PYSVadCOM9fr9WDJsPVzi16Aoz+a1wv6FbF6Ll0HDuj1gsFOB6KaicLK/ezPVCABUjS3FSMzrQESEhhTiOgYESACriPAejDNuHevCAN9fIqV63KjlN1LQI959PSWI5sExr3gKTciQAQYAT1kCw2IDb+Ju9EPUFz8GEWFBSitasagVAWtiU4Bcdu4BPRaFaYGm1FR/AiFRU9Q9CQNUXfDERtfg6mpNc6L3oDFpiGyDegUMokIiAmoFD3IjDyJt777En76rz/FT370Q7y//yoetkw7+GxEnDptu5OAZkGKmqxgfPnbv8UPf/wz/OSnr+CXH59FUn4HZJvwkwQkMO6sXZQXEXCIgACtWgWFQrH8twiFUgmNzrnPIBwyjSLZR4D9gFStglKx+MyfShU0WidN0LDPGpeHJoFxOWLKgAgQASKwNQmQwGxNv1OpiQARIAIuJ0AC43LElAERIAJEYGsSIIHZmn6nUhMBIkAEXE6ABMbliCkDIkAEiMDWJEACszX9TqUmAkSACLicAAmMyxFTBkSACBCBrUmABGZr+p1KTQSIABFwOQESGJcjpgyIABEgAluTAAnM1vQ7lZoIEAEi4HICJDAuR0wZEAEiQAS2JgESmK3pdyo1ESACRMDlBEhgXI6YMiACRIAIbE0CJDBb0+9UaiJABIiAywmQwLgcMWVABIgAEdiaBEhgtqbfqdREgAgQAZcTIIFxOWLKgAgQASKwNQlsWoHJyMjA4cOHUVtbi0OHDqGvr29rephKTQQcIKBUKuHt7Y3Q0FCwa4lts2O0EAF7CGxagZmdnTUIDF0Y9lQHCksEnhFgN2fbt283CMyzo7RFBGwnsGkFxnYEFJIIEAFzBJjIsB4MLUTAEQKbTmB4157fefF9dqE4c2E9JNY76u/vN/SU2HAcO2ZuYfnv3bvXMGR3+vRplw/ZsaENazaZs5UdZ/EZQ87RUlg6Z5kA7wlwf7B9e3vWrJG3VodZXff390dbW5shfVbfrA0Ns/OsPorrLvc9szc/P58ExrJ76awFAptOYFhZ+QXCGkdbLjILfCyeYhd9UlKSIT/WYFhqALjQ8UbGYsJOOLkWgWHl4uLC15bK5gRzN3USrBFn9ZCzZL6xd7FFYFiazE+xsbGGOsnEhsWztBgLjCnfW0vDUvp0bmsT2JQC4y6XsouZNRZMZKwJjLtsony2NgEmGKxOcpGxJg7GArO16VHpnU1gXQSGXQD8bo6txXd0xnd74jtn/uCexxXH42kaH+MXmLXzLB+eLluLexr8HE+brdkxbmtZWZlJgTG+GxSXhTlSfF7c0zIuJy+DcRxmJx9qMY7Dj7M4xufE6bGy8HKJw3Fb2TE+pGftPK+cvLfG7ON5ieOKj3OG4vIbN3piG43PcYbi8orDcN+J/SkuE7PZUvrsPLeR2c3+OC92jufPjovzsBaPnWcLjy+2nx1nebBj7OZFzIadE/M1zpdzZumyNNiaL6byErNi4Y3LZ5wGT4vWRMAWAm4XGHZxsErLLgS28IuFVX7jc+wYv2jF4YzjsX1+cfDw/Bi/wKydZ+F4o8risn1+0fNGiu2z8W3jMWtumzg+2+bxWXrGjRo7L7ZVvM/uPtmFzxZ2nDcwxmkYAogYsrB8YfazMrPFXHrsHAvDw/HGSdzIiPO0dp7nzXmwdDgDczaIG2/uK3GjZ2yj8TkWh+XDGbHw4jCMCTvP/jgfcZmspc/LIo7L/Mb2WT6sXGzh4cQsuTAbAiyz5mXkx0zZz9Jg3NiNCzvP8hLXFTFLlg4Pz2wQL+y4OD9TeYlZsfCMkzgv4zTE6dM2EbBGwO0CY8ogVvFZRTZexJVf3Ljxi904Hgsv/s2L8cVh7bw4f3HevPEwbsh4eH6e28WOG+dtHIZf7LwBNm70eNri48wm1pDyBpOlwRaxrTwes4WnzY+xtTg9ts/sNGbP0uVxjcOzONbO8/xstcHYDuPyiG00PsfiGttoHMaYvXF4S+mztDhz7l8WnrPnZWVrdoyzNFV28XlxPLE9xraaKp84Lts2Li8/b8pOcV6m4rK0LF1DPG1aEwFbCKyLwPCLiDWU7KIzd+EZV3bjcMb7xuGNLzBr51l6zCbWuJrqqZgDysvDGyAWjufN1ixNPozG8mCL8YVuvM/zYsf5HTM/xtYsL36nycrF7pbZMdYYMvtZfvy8OJ5xesw+9idemI2OCIwxX1ONLMvH2AZ2TGwHLw8LZ+0cT0/cWzCOb+wflq44vKW8ef7cb6b22TG2iLnxsjM/MP+zPPh5lj/jy9MU28Nt5fWF+ZP7mq3ZwsrHjrM/tm1cXkMgUR3k+2wtzounxViw43yfBMaAgv45gcC6Cwy7SNhsF+NGzriy8wuPX2TsPLtAxfHYhWbp4rB2nqXHGgP2x2ziFx7LkzcSLF+Wp9gOS7axsCwunwjAGxUWnzfiLE3jC58dYws7bkpgxI0Kj8umlDKeLDzbdrfAMHtZ+Xi5jMu4VCLTZWKcuC/FZWNxLJ3jjMSCYRzf2D+cFwtnLX3jsDw896MhgeV/4rJzG5gfmP8ZE14HmD3sPK+rxnmw8vKwLC73Ja9z7Dw7TgIjpk/bG5HAugiMGAS70NiFwhsX43Pii9C4oWUXtDgev2h5Qyu+CFm61s7zvHmDxBtodmHzRsJUz4aH52HYPm9c+Z0oa0TEd63ixojla9zIcFvYceNy8waG28fz53mxvNkfP8/T4vmI0+Np8caKheG2sUaOlUlcLmvnxfZyBsw+8SIOw48zO/gfz5Pts0Vso9i3zE62GLNjfuY3B+w858PsMRXeUvrcVmaT2B6eN0+PMRWH4TaxPLn4ca6cB0uP/fGwzG62sHDsOF9zG7j9PJ4hsJUhMmaTuB4Y52XMytZrhOdNayJgicC6CwwzzviC4Qbzys7WxhcZC8MvQHF41lCyhpwJAdsWX1wsHUvneTpszS5mHpc3UOxiFTfE4vDMFnae373zvFjZ2MLTYOHYwtY8LNs3vvANgcz0YFia4saMhWXHxLaJ7edp8XxYuXhjxe0Ux+VlYWu+zcvB0uDHzJ1naTP72B/Px5IN7BwvEwvPt1n6bBHbyPzKuLG02XleL3h+fG3Kd/wcW4vLayl9sW2cAVtz29h5sQ28vNzf3A4WjsUx9jk7z+zhabNwnB/Pg6fP0+Z8xOUR58PSYAtPh5/j6YjjsW1+nsXhLJidpq6hpZTpPxGwjcCGEBjbTKVQRIAIEAEi4EkESGA8yVtkKxEgAkTAgwiQwHiQs8hUIkAEiIAnESCB8SRvka1EgAgQAQ8iQALjQc4iU4kAESACnkSABMaTvEW2EgEiQAQ8iAAJjAc5i0wlAkSACHgSARIYT/IW2UoEiAAR8CACJDAe5CwylQgQASLgSQRIYDzJW2QrESACRMCDCJDAeJCzyFQiQASIgCcRIIHxJG+RrUSACBABDyJAAuNBziJTiQARIAKeRIAExpO8RhrSfwAAIABJREFURbYSASJABDyIAAmMBzmLTCUCRIAIeBIBEhhP8hbZSgSIABHwIAIkMB7kLDKVCBABIuBJBEhgPMlbZCsRIAJEwIMIkMB4kLPIVCJABIiAJxEggfEkb5GtRIAIEAEPIkAC40HOIlOJABEgAp5EgATGk7xFthIBIkAEPIgACYwHOYtMJQJEgAh4EgESGE/yFtlKBIgAEfAgAiQwHuQsMpUIEAEi4EkESGA8yVtkKxEgAkTAgwiQwHiQs8hUIkAEiIAnESCB8SRvka1EgAgQAQ8iQALjQc4iU4kAESACnkSABMaTvEW2EgEiQAQ8iAAJjAc5i0wlAkSACHgSARIYT/IW2UoEiAAR8CACJDAe5CwylQgQASLgSQRIYDzJW2QrESACRMCDCJDAeJCzyFQiQASIgCcRIIHxJG+RrUSACBABDyJAAuNBziJTiQARIAKeRIAExpO8RbYSASJABDyIAAmMBzmLTCUCRIAIeBIBEhhP8hbZSgSIABHwIAIkMB7kLDKVCBABIuBJBEhgPMlbZCsRIAJEwIMIkMB4kLPIVCJABIiAJxEggfEkb5GtRIAIEAEPIkAC40HOIlOJABEgAp5EgATGk7xFthIBIkAEPIgACYwHOYtMJQJEgAh4EgESGE/ylofYqsVDfPJH38ALL7yw6u9QmuAhJSAztzqBBzv/eFXd/daHmVsdiUPlJ4FxCBtFskSACcyebVmWgtA5IuAxBKg+O+4qEhjH2VFMMwTogjQDxs2HNX0B+O7v/x6o57g28FSfHedHAuM4O4pphoC1C5I1fC++8D2EdOjNpOCcw5pHO1eGOf787/zQ69rsrBrNG3w2dOiOIRdeflcJjLv8KKAHV3/whwZfOtOPtqZrrT5bdfwWDkACs4Wd76qiW7ogeaP3Ry4WGNb4/Xzb0rg5s4c9E3JHo26OKbNh57eXRI7b46qG35wNzjzuLj8ym9nzkNd9Og3mtwX+0Gl+tDVdS/XZmUw3Y1okMJvRq+tcJmsXJDv/6TdedGkPpjMne1WPhTVMzrz7tRex0NO9yh7WuHmywLDyu8OPxnkY79vrBx7eOB3jfR6Ol5OeKYqJ2L5NAmM7KwppIwF2sVq6IC1dzDZmYXcwdse9nj0YscHusoUPyblKyNzhR8ZKfGPAh7XWWiZ70rVWn8W+pe3VBEhgVvOgPScQsHZBuqNhMi7GRukxMDs2yzMYd/jRuOfJBYYPmRn72dZ9e9K1Vp9tzXMrhiOB2Yped3GZrV2Q7miYeBFZg+T34nbkrfMDfm4PXxs3cPy4J63d4Ud7ehr2sLMnXWv12Z58t1pYEpit5nE3lNfaBemOhokXM33n9136rIfnY++aNXAbZcjOXtt5eHf4kQ3z/eCFz1ZuEJyVpz3pWqvPnAetnydAAvM8EzqyRgLWLkhnNRLWzGS9BPFYPWvUxfvW4rvqPB/mcbUtm+EZDPOBrbO97PWXrelaq8/25ruVwpPAbCVvu6msli5I3ujx18i4qpHlzzp4Pmz970V3wm5CsZINEzexLa4q90qGAHiersjLXX5k5eGCzPiJH/iLy+rItq3pWqrPjuS7leKQwGwlb7uprHRBugk0ZeMWAlSfHcdMAmMHO37HY+6O0NRdszvG2dcrX3Po6II0R4aOeyIBqs+Oe40Exg52bEyfddPNCQxLSjyuy4cR1jql0hYT1ytfU7bRBWmKCh3zVALsOt5/ZelNAp5ahvWymwTGRvKsku3xzTK8E8mcwLAejnhKLGto2StKXC0w65WvOXQkMObI0HFPJEAC47jXSGBsYMca8Ouf+aF7+aV75gSGVUT+/iuWLOtVOPJg2d7ZTs7K1wYUNgUhgbEJEwXyEAIkMI47igTGBnb8txTWnsHwITQ+W8jRGS/2Coyz8rUBhU1BSGBswkSBPIQACYzjjtpyAsNFgouAeG3qgby4sedxTfVg2Dnf7/+T4Ud9rEKKfxxmr3vEeVqL68x8reVl63kSGFtJUThPIEAC47iXtpzA2IvK1AwtJkrGz1VYJfzx3zv+OnYuXmLB49uWekJrzddeHraEJ4GxhRKF8RQCJDCOe4oExg52XARM9WDYMJVYdJgw8R4Rj2fr8xh7ejCW8mVFY409m2hgShTtKLpdQUlg7MJFgTc4ARIYxx1EAmMHOy4UxgLDjvPhMZ4cEwnxR7VYGPEMMx7O1NpWgbEl3w7/64b3OLFGf4ebfslOAmPKq3TMUwmQwDjuORIYO9iZEhgmBnwoi625+Ih7Dqwn42yBsTVfcfH4ZAXxMVdsk8C4giqluV4ESGAcJ08C4zg7u2LaIzB2JWxH4Mwb11d9VdGOqHYFJYGxCxcF3uAESGAcdxAJjOPs7Iq53gJj67CbXYUyE5gExgwYNx9mDeN3f//3VnrVbs5+02RHAuO4K0lgHGdnV8z1FBgmLnzCgV1GOxjYmsAwFld/8IeGoUVLM+QczN5qNN7wsiFNd3KxZBi3iT23c9bCh1H5sK2z0rUlHe5jZ+XN+Lz4wvec+m0fbiOrB5bqIQmMLR43HYYExjQXpx/l050tVWSnZwrA+EeYa7ngbRUqawLDWPAZd8w+dzbyzLad33Z8OrmrfCSeEOKKPNydJq93a6lv3GYulM5mZGs9JIHhnrB/TQJjP7MtHUM8/docCEsCw859+o0XV+5EjffNpems40JP96rnUKw8zmgEHbWPNZ62Tl93NA93x2MNsrX39tlrk7PriXF6xvti+0hgxDTs2yaBsY/Xpg7N7zrFs+LMbVvqdahxEd/5T6dNsmINqrgXx4cp1qORt7VHZrIgTjjIy759+/aVmYjO5MAaRnc/g2FlsuW9ffbisyQA9qbFwttTD9VP3sK//OSRI9ls+TgkMFu+CtgPgDeMYqEQp8Iagz3bssSHVraZiInj8bT4kNlKQBdvsJ7Lej+D4b2X3VnZhtIyNp7+DIZPhed+dZZgOltg7KmH1INx/GIkgXGc3ZaPKR7DFsNwp8DwhsyRnha/w3eWuNlri3Ejx7ixty5shMXesjCbmWByQeHx+f5ay0QCs1aC6xOfBGZ9uHt0rrzxMDdMZklg7BmacAck40beHXnyPIzz5lz5eU9b816hsdg7Q8CdLTD21EPqwTheE0lgHGe36WKyBs+4cTC3b6nRsCgwRm+adnbDYa9TWENjTijtTcve8Cxv8QN+TxcYcfl5WTZqD4aJhviN55bqIQmM2LP2bZPA2Mdry4dmd6nWGmRLAsMAiofWmKhZS89V0J3dCNprJ8+fl5/fVdubjrnwfAjQWY28uXxMHedlc1belgTAVP62HLO1HpLA2ELTdBgSGNNc6KgJArbe7VsTGN74sN6R+IG/iSydfoiVQdwrc1YD6KihjBV/27W4N+NoeuJ4vKzrUUbuY2fkzYWS+80ZaTJO3EZr9ZAERlyr7NsmgbGBl6mxZVOV3FQ4fndqQzYOB1mvfM0ZbE1gzMWj40RgIxIggXHcKyQwVtixyhX6QFgJxe56jF/Nv3LSaPiH33lZel4hjruWbXF33535mrKZBMYUFTrmqQRIYBz3HAmMFXbGv/xmlY1/udI4KhMf8Tdf+PCHqwVmvfI1Lj/fJ4HhJGi9GQiQwDjuRRIYO9mxh9LmBINVxJ9vy1xJkfUqHBlXZ2PnpobgVhI22nBWvkbJOrxLAuMwOoq4AQmQwDjuFBIYO9hZGx4znubr6ANsewXGWfnagcJiUBIYi3jopIcRIIFx3GFbUmCYUPDXxfOZKXxt6aE8q2iWhsf4sxkWTjzH3l732CMwYtFba7722mkuPAmMOTJ03BMJkMA47rUtKTCO4rI2PMbFhzWwbOqpPcNclkTPUk9ILHqO5OsoC0vxSGAs0aFznkaABMZxj5HA2MhO3FMwFcVYfNjzF3FviAuILc9k7OnBWMuXXRzsjbqsh2bu2ZGp8qzlGAnMWuhR3I1GgATGcY+QwNjITtxTMI5iSnyYSBh/IImFE88yM06H79sqMLbky2fBsUaff2iL5+OqNQmMq8hSuutBgATGceokMDayM+4p8GhMDPjzG7bmw2KskeW/0OY9GWcKjD35MlvZRSL+PQ+33xVrEhhXUKU014sACYzj5ElgHGdnd0xbBcbuhK1E4L/050JnJfiaT5PArBkhJbCBCJDAOO4MEhjH2dkdc70EhhnqzrxJYOyuGi6JwBpGd3/R0iUFWedESWAcdwAJjOPs7I7pzkbelHGZN66v+h69qTDOOGbpk8ksfcaBTxO3NEPOGbZYSoM3wMbPyizFcdY5lveLL3wPIR3655I0d/y5gFYO8GFUPmxrJbhTTvPesqlhY0czcGV9seQHbq+6fze+961QvktrOwiQwNgBa61B+cXnzkaV5yl+PrTWcliLb01gmE18Rht7tuWuoTux3Szf9RAWZgNv+E3lz86ZOi62faNus8Za/JyPCQP/bdhabHZVfbHkB7G9JDBiGvZtk8DYx4tC20DAksCw4bNPv/Hiyp278b4Nya85CGtYbJkuvuaMLCRgqdxiPhaS2HCn+IxFbhgTHP7bMH7M3rUxJ+N9e9MzDm9LeiQwxtRs3yeBsZ0VhbSRgCWBYY27uAfHhz/cNYzD89u+ffvK7D935S3GZ6lhc5bAsAZ+PZ/BmJt5KeZgbdvV9cWSH7htJDCchP1rEhj7mVEMKwQsCQxrdEwJDB8ys5L0mk/z3svurGxDWus1VGapYXOawCxPoV8PAXXW8Jir64slP/DKRgLDSdi/JoGxnxnFsELAnQLDeyTih8ribePnO8YNFmtg7H2tj7j49ubP41pq2JwlMDwvR9aOlovn5YzhMZaWsb+4Xc66IbHkB14WEhhOwv41CYz9zCiGFQKWBMbVQx5WTHN5g2Utf37eUsO2EQSG2+nomgmDM0TA1fXFkh942UlgOAn71yQw9jOjGFYIWBQYozdN23KBW8nOrtN8iCxveXYwvyN29zCSpXJ7usAwps6YPcYcy3pC4jeTW+JmV0VYDmxLeiQwjpBdikMC4zg7immGgCWBYVFcNe3UjDmrDnNB4UNnxnfIqwK7cMdSw+YsgVmvh/zOGh7j+F1ZXyz5gedPAsNJ2L8mgbGfGcWwQsCawPBGnj0rET/wt5Ks006zRoW/J249pivzhp8/KxL3ntg5U8cdKTwTT5aWOH1H0rE3jrOGx3i+rqovlvzA82ZrEhgxDfu2SWDs40WhbSDAGvA927JsCElBiMDGJ0D12XEfkcA4zo5imiFAF6QZMHTYIwlQfXbcbSQwjrOjmGYI0AVpBgwd9kgCVJ8ddxsJjOPsKKYZAnRBmgFDhz2SANVnx91GAuM4O4pphgC7IPlDdP7Aej0eNpsxjw4TAasE2Mw1cd3lsw6tRqQAqwiQwKzCQTtEgAgQASLgLAIkMM4iSekQASJABIjAKgIkMKtw0A4RIAJEgAg4iwAJjLNIUjpEgAgQASKwigAJzCoctEMEiAARIALOIkAC4yySlA4RIAJEgAisIkACswoH7RABIkAEiICzCJDAOIskpUMEiAARIAKrCJDArMJBO0SACBABIuAsAiQwziJJ6RABIkAEiMAqAiQwq3DQDhEgAkSACDiLAAmMs0hSOkSACBABIrCKAAnMKhy0QwSIABEgAs4iQALjLJKUDhEgAkSACKwiQAKzCgftEAEiQASIgLMIkMA4iySlQwSIABEgAqsIkMCswkE7RIAIEAEi4CwCJDDOIknpEAEiQASIwCoCJDCrcNAOESACRIAIOIsACYyzSFI6RIAIEAEisIoACcwqHLRDBIgAESACziJAAuMskpTOcwS0eIhP/ugbeOGFF1b9HUoTngtLB4iApxJ4sPOPV9VvVt+/9WGmpxbHqXaTwDgVJyUmJsAEZs+2LPEh2iYCm54A1ftnLiaBecaCtpxMgC40JwOl5DyCANX7Z24igXnGgracTIAuNCcDpeQ8ggDV+2duIoF5xoK2nEyALjQnA3UgOU1fAL77+78Heu7lADwHo1C9fwaOBOYZC9pyMgFrFxpr/F584XsI6dA7OefVyWke7Vx5CPvnf+eHXtdmtzpzoz3e4LvrQTAvu6sExl0+NMK4siugB1d/8IcG/7rSt/bkY63erxi/BTZIYLaAk9eriJYuNN7w/ZGLBYY1gD/ftjSjh9nDZrWt1wwflv/Oby8JHLfFVQ2/O3zuLh/+/+2dza7fttWvd10cBB4coLOMMuoFBG0CnHoXdguc4h1k1lGHNZDYRY1kkkmnGWWQDzhtOkmuoglsp28y6k3kxMjXdTgvbB2sba+t9ZclihQXKUp6DBh/fZCLi8+i+BNJSTtUF3mC64/vPbxI8vU/f1cstinlhNp9qC57PIfA7DGqjdRp7kKT829cOS8+grE4pFNcS2DW8ENHTKWEbI0YKkeJpR216CjDu66p5cy1e/X/CL8IzBGivFId5y60NTonuRP17oBS8ep7EzWETkcZpeq8RgyVt4xYxgRGRzSaLvc3tZy5dp/rz5byIzBbitbGfJ270Gp3Tna6bG2UOrLw7gxr16t2DG39Ujt+mzdlO7WcuXafUvbW0yIwW49gw/7PXWg1OyeZPrl7frv7asUF/mGohh3X8PwW9mvGcMgjdepqmD92P7WcuXYfW+4e0iEwe4hio3WYu9Bqdk6f37leda0nJiTScdWYJovxZWmamjEc+iijwBtnty5vGkr5klrOXLsf1mPP+wjMnqO7ct3mLrRSHcKw2jJSsGsQ0rHb/WH6GvulFqSHvutUXKn61orhsF66n/J0l+ZZ8ptSzly7X1L+VvMgMFuN3Ab8Dl1o2vHphzBLdYC6oK7lyO+L5q63JkYRNutHqTrbOmmZJcqqFUNbn+G2CrVwtQv+w3S5+ynlhNp9rh9by4/AbC1iG/KXC21DwcJVNwIivG+///TdHDejGzWEwGw0cFtwG4HZQpTw0ZsAAtMTRWB6Fmw5E0BgnIFibhMEEJg+TAhMz4ItZwIIjDNQzG2CAALThwmB6VkEt6TR1PgwY9CJjZ1EYDYWMNx1IYDA9BgRmJ7F5JY+iVP6w4yTDmz0BAKz0cAluq1PWJV4Ui3Rlcvka94QIjCXYegQmJ5FcEs6y9ofZgw6tIGTCMwGguTgorxnJI8JtyIwa98QIjB9o0JgehbBLQQmiGf0JAIzimVXB6UzfevD+xd/k6UVgRHAa16vCEzfxBGYnkVwa80GG3Ss4ZMITMPBcXBNpsY+unW3+/bZH/1CYJ5CRWD6xnVYgdF5Y/tmtW6PfR8KgekbTewWAhNLapvp9Ptuei0hME/jiMD07fmwAtMjiNtCYOI42VQIjKWxr21Z51BBKS0wal9vAIe/rd0QIjB9W0dgehbBLQQmiGf0JAIzimUXB8e+8SYdfyt/32bN6xWB6Zs4AtOzCG6t2WCDjjV8EoFpODiOrukIQ0c0jqYXm1rzekVg+rAhMD2LyS1pML/5+c8uv4Tb0oU06XQDJxCY9YOgbbdkm0VgTuOMwPQ8EJieBVvOBOYERjsmmVop+al1qZZc9C18iUHf0ahR54t6P/sTAUcSGBVVXavxqHtKW0Vg+o4EgelZuG3ZxqiNfGwh0q3Ayoakk4ypz5zApPwRp5wqaqe+9pcYpON57ea9i6oIm9evXonimFN38voQSGmrCEzPHIHpWbhtqcDonZN2Jq0sgHpUVC64OZEJCYycs19GGO57+GhtlLZvy5rafvjFg+77J/1ZeQO+9MitL42tpQSGbWe4P7SLwPREEJiehdvWUGDEsL0DciuogCH97IeOvOZ+QyIjF+JbN++PeimjCtu5jjEbzbjw4FynsNBsVrbYkWBOIdLZyfqh3uzk2Dpq3tS2isD0LQWB6Vm4bQ07S+ncZDpkbxe51tMKhYUYEpjh3bvaKjXKa1Fg5KajdJvQ6cHS5di47207ta0iMH0LQGB6Fm5b2lnq3f/ac/9uFZswNDU6Q2AmgD176EDXY6ZTcaYFAgjM8iggMMvZTeZUgdG7xqm7Zzl+55W7J/Pyk0YrnUidIguNOEICI3d5N85udV89W5OYYuRV7dL2U/zUT6yk5CHtegRS2yojmD5WCEzPwm1rKDBieGxRXBriVu9ix+ozBBgSGGWiAiXCFlrPGdpO3W9FYKSeeuMhdZApLLufWq+59NLGWIOZozR/3o7S59oqAtPzRGB6Fm5bYwIjHcmLgzv21kYvsQCkLjFiMCcwykmmEqfWcWJ9CqXTTlanLEt26CE/pJNSH/TXtolQ3qXnWINZSu40X0pbRWB6dghMz6LalnS8fzFiU63gygXNCUxldygOAlUIIDA9ZgSmZ1Fty65zlL6DrVapkYIQmBEoHNo9AQSmDzEC07O4+JyIfnMsZgrIZGVzhAACMwJlR4fs1ONa10sLPgxDisD0RBCYnsXlE13SMe7xvRVT1SqbCEwVzKsUIrHVNcS1rpcWfBiDj8D0VBCYnsXJ48KyILvWYrBxadObCMymwxd0/vF3365+vbTgwxgkBKangsD0LC63Yp+SuszAxigBBGYUy+4OtnC9tOCDBhaBURJdh8D0LC629FHSteaUB+5seheB2XT4opxv4XppwQcLC4HpaSAwPYvLLWkgstivLwFenmAjiQACk4Rrs4lbuF5a8EEDiMAoCUYwPYnBljxKXPLlv0Fxu9xFYHYZ1tFKtXC9tOCDwEFg+ibCCKZncbLV0pzuiWMb2kFgNhSsTFdbuF5a8EEwIjB9Y0JgehaXW/pZCJ4iu0SyaAOBWYRtc5lauF5a8EEDh8AoCabIehJdd/KdKMTlBM2iHQRmEbZNZJLRgn5PTX7XuF5a8GEsWAhMT4URTM+CLWcCCIwzUMxtggAC04cJgelZsOVMAIFxBoq5TRBAYPowITA9C7acCSAwzkAxtwkCCEwfJgSmZ8GWMwEExhko5jZBAIHpw4TA9CzYciaAwDgDXWBOOjv+ouUCcBlZEJgeHgLTs2DLmcCj7t3u1ZfembSqj5bKU0hrvtSqnfDVs2vdJ988mfTX+4SUez5S5tTxJeXrk1Y1n/LST7fUeMqsZhuKjcujH9/srr386ZJw7S4PArO7kLZToTmBkY5IP8cjb2Gv8f03Kbe2sEiEtOMfK1s65rHj7UR22hPphD/97PFlAhGAD6//tphw12pDoXhdVvbZBgLTE0FgehZsORMICYxMn71x5fyy4xnuO7syak46jTX/ouhUnaeOj1aisYPDT+iL4Pzh13dPPu3v5fKQ03Dfqxy1E2sfgVFivGjZk2DLnUBIYKRzt9NiOtVRaypHy7t9+/blC4O1ylbQUx3W1HHNl/IrHfyaazAyQtRRaorfMWlrt6HYuCAwffQYwfQs2HImIBfkWzfvj1odfphQO/xSndHQCR29vHn/wcWpNabKpjqsqePDOsTsSz3XetO+9PRY7TYUG5dQu4+J2Z7SIDB7imZjdQldaN6dgwqUXVi228P1nWH54mvOn8lOLV9CNdVhTR2vHd4ldbI+lpwek3KGMVR/S92kxMZF0k3dWFk+R9hGYI4Q5ZXqGLrQak9vDBHU7pyG5cv+VIc1dXzMRsvHhHGpzl7qXbsNxcYl1O5bjlcJ3xCYElSxeUFg7kKr9QTQWDj0bldHNsPOaiyP97GpDmvq+JLy11qDKT16URY121BsXObavfp+hF8E5ghRXqmOcxeadvIylWUX/Gu5K/7JtJiUX/tpMu34dRrPPmAgi/Jjx5dwWWsNpvToRVnUakOheKkv+jvX7jXdEX4RmCNEeaU6cqGtBJ5iVyVAu+/xIzA9C7acCXChOQPF3CYI0O77MCEwPQu2nAlwoTkDxdwmCNDu+zAhMD0LtpwJcKE5A8XcJgjQ7vswITA9C7acCciFpovoumgtv3ZB27lIzEGgOgF5ks22b9nWpxOrO9NYgQhMYwHBHQhAAAJ7IYDA7CWS1AMCEIBAYwQQmMYCgjsQgAAE9kIAgdlLJKkHBCAAgcYIIDCNBQR3IAABCOyFAAKzl0hSDwhAAAKNEUBgGgsI7kAAAhDYCwEEZi+RpB4QgAAEGiOAwDQWENyBAAQgsBcCCMxeIkk9IAABCDRGAIFpLCC4AwEIQGAvBBCYvUSSekAAAhBojAAC01hAcAcCEIDAXgggMHuJJPWAAAQg0BgBBKaxgOAOBCAAgb0QQGD2EknqAQEIQKAxAghMYwHBHQhAAAJ7IYDA7CWS1AMCEIBAYwQQmMYCgjsQgAAE9kIAgdlLJKkHBCAAgcYIIDCNBQR3IAABCOyFAAKzl0g2Vo//6f7dvXXzfmNe4Q4E5gnQducZxaZAYGJJkS6JABdpEi4SN0SAtusXDATGjyWWDAEuUgNjQ5tf//N33dnZWffLX93tvn9S1vGfvrxzUVat8mJrQ9uNJTWfDoGZZ0SKBQS4SBdAWzmLxOzOK+WFRar50w8fd6/dvHdRYyn39atXupf//HR/ZQwdbdcvAgiMH0ssGQJcpAbGRjZlRPG3fz2u4u3DLx6cjJBk5FRj1BRTOdpuDKW4NAhMHCdSJRLgIk0EtnLyx9133Qc3XriYsnrx7FZ1b0TcGMFUx168QASmOOJjFoDAbDfun935RffJN4UXYAZ4pMxao6dB0c/t0nafQ7L4AAKzGB0ZQwS4SEN0yp+zIxJZRB/+nxstzJ33rIFdj/G0u9QWbXcpuefzITDPM+GIAwEuUgeIK5qotdgvQnj3/Hb3Vd0BU5AsbTeIJ+kkApOEi8SxBLhIY0m1ma7WS7Kf37lefTpujjhtd45Q/HkEJp4VKRMIcJEmwBok/c3Pf7b6ekSNNRh5csyuu9R8im2A/GSXtnuCI2sHgcnCR+YpAnMXqcy7n59dc7t7tWsOaz3u6lUnWS+xHe8UY8/j4rsIm67VeNoesyWL+lqW/srTa6WmylLax1zbHasPx8YJIDDjXDiaSSB0keob3FcdBUY6rD++9/DCa7kzrrlILYWWqFNmCMhuCKS0j1DbNSawRiFKAAAgAElEQVTZjCCAwERAIkk6gUfdu92rL70zmVEu4jeunLuMYIa2hvuTTjifWKtc52rsztwwLsP9YYUf/fhmd+3lT4eH2V9AAIFZAI0s8wTkIg4tFM9d5PMl9Clk9GCnxXQ6pPY0k1edWliD6elufyu1fch04dvvPx0Nb7/269YAgVmX/25Lrykww8+MqMDolFktyF4Cs8YaTC1Ga5ST2j4QGL8oITB+LLFkCGxdYFSkdAF6+Du2xuMlMAYjmw4EEBgHiAtNIDALwZEtTKCmwKROgYQ9X362JYEZCmLO/nIi4zljfBnPuexoavtgBLOM81guBGaMCseyCVQVmB8+7m6YR1zX6ujXKjc7WDs3IIKR0j4QGL8GgcD4scSSIVBTYKTYlMdQjZuum14CwyK/a1gujKW0DwTGjz8C48cSS4ZASGDkArYv9Xk87WXXTOwTZcalopuedZIpJA8mRSu8MeMp7QOB8QsuAuPHEkuGQEhgTDI2IdAcAQTGLyQIjB9LLBkCCIyBweamCCAwfuFCYPxYYskQQGAMjMY27XTe2OPWtdxtxY9hfRGYIZHl+wjMcnbkDBBAYAJwVjwlcdG/9SLbr1+9ssp6Tyt+jIUCgRmjsuwYArOMG7lmCCAwM4BWOv34u2+7780f95Knq9Z4oKAVP8bCgMCMUVl2DIFZxo1cMwQQmBlADZyWFxDXnCJTBK34cekP3yJTFNm/CEw2QgyMEUBgxqi0dUzXQGp/s21IoRU/1C9GMEoi/xeByWeIhRECCMwIlAYPDb/TtZaLrfgh9Udg/FoBAuPHEkuGAAJjYDS82cr0VCt+SKgQGL8Gi8D4scSSIYDAGBiNburb7Wss8lskrfihPiEwSiL/F4HJZ4iFEQIIzAiUBg7JSMF+zXgtcWnFj7GQIDBjVJYdQ2CWcSPXDAEEZgYQp5slgMD4hQaB8WOJJUMAgTEw2NwUAQTGL1wITCRLO6Sf+lqvvLRmpx9ku9Z7BmuWPYYQgRmjwrEtEEBg/KKEwESwlAb32s17Fyml45TPa0wJh/27E5JPPktf6z2DNcseYkRghkTY3woBBMYvUghMBMuHXzw4+bzG1DP78jTM3fPb3VfPPsWhYlRDYNYsewwhAjNGhWNbIIDA+EUJgVnAcuqZfTvSEbMyonjR/Cnf1KKknNinfLzLTvV1mB6BGRJpb7+1x4MtofOza90n35iPptmThbcRGD/ACMwCliIcYx2/jGzsGszUWk1skSkC4112rI9T6RCYKTLtHNc2M9aW1/RS2v1VBGbNELiVjcAkohyOFDS73A1+eP23F3ddkuZGxshFbcYKTImy1YelvwjMUnJ18kkbfevD+90HN14YvVmq48V0KW9cOWcEM41nM2cQmIRQDdc5bFa5YP/w67sXazXSuS79OxtywdtRkN2eGhF5lW3rk7uNwOQSLJdf2vFHt+5233bfITAjmOV6evv9hyNnOJRKAIFJIPb5neuTd1Uy3WAX82UabfikmQqPiIZNO+VC7AhmrmzpUES4ctaDpnycOo7ATJFZ/7i2Y20XrU2RCSFGMOu3Ew8PEJhIitKJ2wvRdv5yoer0mJobm0f+5h8fXTxhJp3vXyKm0GwZanf4G1u2pLNPuA3teO8jMN5EfezZNlVLYLQcOxq328MbMakpAuMT77WtIDAREZDRiL0gZFtHA3LB2nMqQna0MnYB6V1kqHjbGYylSykbgRkjeLxjY21Z2m/MiLomLQSmJu1yZSEw5dgGLd/7+0cn79YEEzucRGAcIO7MhI4s9KaopeohMC1FY7kvCMxydotzzo1MFhsOZERgAnAaOyVff6jR6SMw44FnkX+cy5KjCMwSahl5RFzGpswyTEZlbU1gtHOT6Zmpp+OiKmYSScdQ+gU9Oy3p5bepwsWmMDmywEgcddrZi0NKe0Nghi1y+T4Cs5xdck59sc374olxROfeczvFWIGcW+QXf3TeX7jkiq52/CVf0JOOJ/abdDExIU09AintDYHxiwsC48fyMJbkYp0ThJDAyDk7xz7cXwrSy85U+bHfpJvKz/F1CAzbxXB/6BUCMySyfB+BWc5ulzl1dBXzGxIZuYjfunl/lJGMNuxISqcvcqdD5jqOUWcyDsaO5lKLqLUGk+rXVtOntjcExi/SCIwfy0NZUlGwQmEBhARGpsRsPrWlU2bWTsp2bYGRkVyuKI7VT8S9hN2xso5wLLW9ITB+rQKB8WN5SEt2btsC2LvASCek6zG23my3RwCBWS8mCMx67Dddso46pqbJQgKTOmURC6rWCEbqXvOrCLH1J904gdT2xghmnOOSowjMEmo7zhOz9qJpQlNaQYEZfG3aSxi87MyFN+YrDHM21jivcQv9evsVKivlXI5fIhj26+Zz7QSByaF9mheBOeXB3gyB2IXtkMBIEToCkk7GrsfMFD95WjoFWRzXTqvEGoZMB6p9/dVPBk06tuCE2C7h/wJXdpMlpb0hMH5hR2D8WGLJEJgTGJOUTQg0RQCB8QsHApPAUu+Sx17mG7u7nVqfSCgyOuna5Q8dRWCGRNjfCgEExi9SCEwkS3kSZUxYbHb7RJWKUWidwub12F67fFsHBMbSaGtb26ZMxdW8CRpSaMWPMb/4g2NDKsv2EZgIbrLuMDfXPnyySDpY+auWtQRm7fKHGBGYIZE29iUud17J/8urubVpxY+xejCCGaOy7BgCM8NNFwdv3759ucA7tgArjdK+FyGjiTlRChUtojZWzlQe7/Knyok9jsDEkqqb7vF33578mQhppyntzMvbVvwYqw8CM0Zl2TEEZoabjl7evP/gIuXUVJkc1yeL5Df3yahUgfEufwbL7GkEZhbR6gmkja05RaYAWvHj0p8fPu6YIlMaeb8IzAw/6bitWEjHKVNf9q5PRjn6J5Pl7sc+cz9jfvJ0isCUKH/SscgTCEwkqJWSychl7TUYqXorftgwMIKxNPK2EZgZfkOB0Skzu7YiDfIPv86f1xbbdhRkt63IDV32Kn9oN2cfgcmhVyevtBt5d8i25Toln5bSih/qlfjDCEZp5P0iMDP8ZCRh11JUYOwIRkTIXqRyVzacetCRj4iGTTtVfMoIZq58vYBjy57yKeU4ApNCa720wxuotTxpxQ+pPwLj1woQmBmWKigqGNLx29GEnNfpMTUlaYaPNH/zj4+6r550nXS8fzm7dbGt6cd+YwUmpnxdUJWy9QmisTI9jyEwnjTL2ZJ2pm27XCnzllvxQzxFYObjFZsCgYkgJZ2lrLvICMCOZuSisNNYOqqx6ccu3phvWcUITGr5cuF8+tnjiBrnJ0Fg8hmWtqA3T9puS5c3Zb8VP9Q/BEZJ5P8iMPkMky3c+/tHJ4+KJhtYkKH2YioCsyBIFbJM3ZRUKPqkiFb8OHHq2Q4CM0Zl2TEEZhm3xbliRiaLjc9klDvFWp+ZR2BmgsHpZgkgMH6hQWD8WM5aEnEZmzKbzeiYoNboCYFxDBqmqhJAYPxwIzB+LIOW5CmZsfWaYCankzo9JuXXmm9HYJyCh5nqBBAYP+QIjB9LLBkCj7p3u1dfesccYRMC2yDw6D9/6n7/X19uw9nGvURgGg/QVt1jBLM8cvLyY62R5nIv95uTEYxfbBEYP5ZYMgTmBEYfTZVpO/tekTGRtOltb6rwGuXUmMqUTvT87Fr3yTdPpqq62nF9wsyjXdhKxNYZgbHU8rYRmDx+5J4gMCcwsi6kXzSQ9anchx+87U1U6+LbWZ5+T5VT8rh24MOXgUuWGWtbOnf5Krm0H3n3LLddaLkpdUZglFr+LwKTzxALIwRCAiPn3rhyfnn3PNwfMRc8NMw/3A9mTjg5tDvcTzC1etJWfX/4xYPLd8S8Px8TW2cExq95IjB+LLFkCMjF/NbN++ZIvyl3k3b6Q6edlq47eNvrPT3dqlVOjTWY2M72lEDdPeHtNYIRz2PrjMD4xRmB8WOJJUMgJDDDO1MVGJ16MmaiNr3tTRVaq5waazCxne0UixrHZdpz6U3HmH+xdUZgxugtO4bALONGrhkCCMwMoJVPx3a2OW7qjYMI5tj/0OhEOnn7F2Jz/NC8sXVGYJRY/i8Ck88QCyMEQgLjPdXkbW+kOheHapUzVb7n8djO1rPMFFslPmkUW2cEJiVS4bQITJgPZxcSCArM4K9+xl74U65Ih2D/imiuvbXLmSrf83gpRl4+lnh8OrbOCIxXFLsOgfFjiSVDQC7mqUV+Seb9WLG3PVOVk80a5Rx9kV/WuvSfjBq91mEQGKVa7xeBqcf6UCXNCYydn7dPlC2F5G1vyo8a5ZRe5Jc7dBExXRfx6sCnmKUcFwFXv+TX/v2lFDvDtCl1ZgQzpLd8H4FZzo6cAQJzAhPIyikIrEoAgfHDj8D4scSSIYDAGBhsbooAAuMXLgTGjyWWDAEExsBgc1MEEBi/cCEwfiyxZAggMAYGm5sigMD4hQuB8WOJJUMAgTEw2NwUAQTGL1wIjB9LLBkCCIyBweamCCAwfuFCYPxYYskQQGAMDDY3RQCB8QsXAuPHEkuGAAJjYLC5KQIIjF+4EBg/llgyBB5173avvvSOOcImBLZB4NGPb3bXXv50G8427iUC03iAtuoeArPVyOE3AuPXBhAYP5ZYMgQQGAODzU0RQGD8woXA+LHEkiGAwBgYbG6KAALjFy4Exo8llgwBBMbAYHNTBBAYv3AhMH4ssWQIIDAGBpubIoDA+IULgfFjiSVDAIExMNjcFAEExi9cCIwfSywZAgiMgcHmpgggMH7hQmD8WGLJEEBgDAw2N0UAgfELFwLjxxJLhgBv8hsYbG6KAG3XL1wIjB9LLBkCXKQGBpubIkDb9QsXAuPHEkuGABepgcHmpgjQdv3ChcD4scSSIcBFamCwuSkCtF2/cCEwfiyxZAhwkRoYbG6KAG3XL1wIjB9LLBkCcpG+fvVKd3Z2dvL/b/96bFKxCYH1CXx25xcnbVTa7Mt/vre+YzvwAIHZQRCpAgQgAIEWCSAwLUYFnyAAAQjsgAACs4MgUgUIQAACLRJAYFqMCj5BAAIQ2AEBBGYHQaQKEIAABFokgMC0GBV8ggAEILADAgjMDoJIFSAAAQi0SACBaTEq+AQBCEBgBwQQmB0EkSpAAAIQaJEAAtNiVPAJAhCAwA4IIDA7CCJVgAAEINAiAQSmxajgEwQgAIEdEEBgdhBEqgABCECgRQIITItRwScIQAACOyCAwOwgiFQBAhCAQIsEEJgWo4JPEIAABHZAAIHZQRCpAgQgAIEWCSAwLUYFnyAAAQjsgAACs4MgUgUIQAACLRJAYFqMCj5BAAIQ2AEBBGYHQaQKEIAABFokgMC0GBV8ggAEILADAgjMDoJIFSAAAQi0SACBaTEq+AQBCEBgBwQQmB0EkSpAAAIQaJEAAtNiVPAJAhCAwA4IIDA7CCJVgAAEINAiAQSmxajgEwQgAIEdEEBgdhBEqgABCECgRQIITItRwScIQAACOyCAwOwgiFQBAhCAQIsEEJgWo4JPEIAABHZAAIHZQRCpAgQgAIEWCSAwLUYFnyAAAQjsgAACs4MgUgUIQAACLRJAYFqMCj5BAAIQ2AEBBGYHQaQKEIAABFokgMC0GBV8ggAEILADAgjMDoJIFSAAAQi0SACBaTEq+AQBCEBgBwQQmB0EkSpAAAIQaJEAAtNiVPAJAhCAwA4IIDA7COIaVfif7t/d61evdGdnZyf///avx2u4Q5kQWEzgszu/OGnD0qZf/vO9xfbI2BNAYHoWbCUQEIF56+b9hBwkhcA2CNC2/eKEwPixPJQlLsJDhftQlaVt+4UbgfFjeShLXITthvunL+9cTvn88ld3u++flPd1jTJL1Yq27UcWgfFjeShLXIRthvunHz7uXrv5dP1AYiTrZKXXE9YosyR92rYfXQTGj+WhLHERthnuh188OBmxfP3P33WlRzFrlFmSPm3bjy4C48fyUJa4CLcRbpm6Kj2CGZJYo8yhDzn7tO0ceqd5EZhTHuxFEuAijAS1cjJ5BLf2o+NrlOmJmbbtRxOB8WN5KEtchOXD/bj7rvvgxguXC/bDd47mRiZ2baS8t09LWKNM77rRtv2IIjB+LA9liYuw7XCLON09v919VeEJMiWxRplatucvbduPJgLjx/JQlrgI2w7353eud598U1Fduq5bo8wSUaBt+1FFYPxYHsoSF2E43DJV9Juf/6z6+od4JU+O2XUXWXS3+2HPl51do8xlns7nom3PM4pNgcDEkiLdCYG5i1A62POza6530XZNwvPR2xJ29cXD0h37SVC6rhv7rtaLZ7eKTpWtUeaw3nY/t+3NtW1bFtthAghMmA9nJwiELkLtXK86C4x0ZH987+GFR3LHPLfIPeH6c4dL2X2uIA4UJ+DR9kJtu3gFdlYAArOzgNaqzqPu3e7Vl96ZLE4u0jeunLuNYIb2hvuTjsycGNoZ7s9k53SDBHJj+OjHN7trL3/aYM225xICs72YNeGxXMShrynnXuTDSsqdqZ0W02mt3CmoYnZXXIMZsjvafm7bkym2t99/OlI+Gjvv+iIw3kQPYq+2wAw/eaICo1NmS7GXsqtTNbkCuLReR86HwLQTfQSmnVhsyhMEZlPhOpSzCEw74UZg2onFpjypLTDFprIKTb15BHP45r7Hvodf1kaMTzZ9jW0EpgbluDIQmDhOpBoQqC4wP3zc3TCP2+Z2IlodmW8vYVft81ufQG7bYA3GL2YIjB/LQ1mqLTACt9TjxCXsSie11ouWh2qII5VFYEagrHQIgVkJ/NaLDQmMdq46feK10K0L+2LXPlGWy7KEXRb5c6OyLL9H22MEs4z9WC4EZowKx2YJhARmNjMJINAwAQTGLzgIjB/LQ1lCYA4V7kNVFoHxCzcC48fyUJYQmPXDbaeDvD6bs7RWLfmytA6aD4FREvm/CEw+w0NaQGDWDbvwv/PK3e77J10n269fvVL8i8lTNW7JlykfU44jMCm0wmkRmDAfzk4QQGAmwFQ6/Pi7by/ERYuTJ+G8HqZQm7G/LfkS63MoHQITopN2DoFJ40XqZwQQmHaagjyxtvYUmdJoyRf1KfUXgUklNp0egZlmw5kAAQQmAKfiKRm5yGPbLQhMS77khACByaF3mheBOeXBXiQBBCYSVIVk0iHKS525H/70cLUlX5bWB4FZSu75fAjM80w4EkEAgYmAVDHJ8KvQFYt+rqiWfHnOuYgDCEwEpMgkCEwkKJKdEkBgTnmsvdfS2kdLviyJCwKzhNp4HgRmnAtHZwggMDOAKp7WT92s9RSZrWpLvli/UrYRmBRa4bQITJgPZycIIDATYCodllGCfutNftcUl5Z88cCPwHhQfGoDgfFjeShLCMyhwn2oyiIwfuFGYPxYHsoSAnOocB+qsgiMX7gRmAmW+ky/nYao9a7BmmVP4HjuMALzHBIO7IQAAuMXSAQmwFI6en23QBpdzXcN1iw7gOTyFAJziYKNnRFAYPwCisBMsJSnYe6e3+6+evI0gXSo8kFBFZyJbC6H1yw7tgIITCwp0m2NAALjFzEEZoKlNLLXbt67PCsjihfN34S/PBG5IU/axD7p4112pItJyRCYJFxVE9unujz/8uewEtJOz8+udZ988+wuzCQInTPJmtwU399+/2GTvm3NKQRmImLyNrJdf8m9UFMExrvsiSpmHUZgsvAVy2xvTnTUXWLtUEXs6ojAhM4Vq7ijYQTGDyYCM8JSpqg+vP7bizszaWw3MkYuaj5WYEqUrT54/iIwnjT9bD384sHJZ/xLfrZF2sAbV85HRzChc361LWMJgfHjisCMsJQG9odf5/0xJxGKD268cDIKihkReZQ9UiX3QwiMO9IiBuXGpsQIRpwNiUjoXJGKOhpFYPxgIjAjLOWuzy7my/qLvUilAcoTZSIYNt2IqctDsSOYubJVuHLWgy6dythAYDLgVcwqbTd27S/VrZCIhM6lllM7PQLjRxyBGbC0U1R6SsTBzjXrX/CTi0j/bK2mnfqNEZiYssW+pLNPuE2VWfI4AlOS7lPbejNhR7522970jHkjHaV9UGUsTc6xkIiEzuWUWSMvAuNHGYExLEUE7AWsd35yscgjynLOXtTSED/97LGxML05JzApZSMw05w585RAjTYSEpHQudZjhMD4RQiBWchSph6GgrPQVHK2Gp3HnFPSgbx18/5cMs6vRODzO9dHF9893QmJSOicpw8lbCEwflQRmAyWa3X0a5VrUSEwlsbz29JJyTqdjoKfT1HuiKzj2XLnRs9LPQmJSOjc0vJq5UNg/EgjMJks7/39o5PHQjPNRWXfgsCIj/oUXe47RBaKXPxTL/fZdCnbJXzVKU/b0af4tDStjqztVG+JB0JUQLUcW8/QuaX1ys2n8RB/59ojApNLu8+PwPQsorfsRWwvrGgDmQm1/LkLZUkxciHadaYpG3MjGPFRn7CTO+oYm1Nl6XHtJOwDF3ou57eErzn+kNeXgAiGPuwg7VbWU0PtEYHx44/A+LHcjSXpcEMXoFQ0JDDD6ZHhfg4oT1taD/uyoLf9nLqS14dA6sunCIwPd7GCwPixbN6SjCR0SiPmNyQy0hFPLfLLSMOOrnQKymO05y0ApXyVTmqtNZjmG+LKDs6N0hEYvwAhMH4sd2VJRcEKha1gSGBEyGw+taVTZtZO6ra3wJTyVafzPEQ1lRHpwwRkhB6KCwIT5pdyFoFJoXXAtHZ9wlYfgbE02K5FQG9WpkbgoVG3+CjioesxUz4jMFNk0o8jMOnMDpFDL+SpCzYkMKWmnQS89wimpK+HaCgbqqS06ZgvYCAwfkFFYPxYNm8pdQ0mNKUVFJjBF6g9RcHTlgRMOhP7tWxv+zmNYuouPed4jj8271IfrI3a27EvnyIwfpFBYPxY7sZS7lNkAsJOrYmwTY2EUqGVEIASvkonxSJ/anTLpZc2aNddZORq923JCIylkbeNwOTx211uufBixEA6+qmnyASKTrHJna5d8M8Bpp223j1PdRCpZRTx9dl37bx8TK0T6XsCcgOhbUZ/Qy+fIjA9u9wtBCaX4EHzzwnMQbFQ7R0QQGD8gnhogZG7db2jCd1lj90Bxdzle4RpzbJD/iMwITqc2zIBBMYveocVGGlE+riidJZzn4+w8/SSV+bXQ4vgfiE6Xc+oXfZUPRCYKTL1jmtbkJukWjc8U7VryZcpH2OPS13efv9hbHLSBQgcVmBSPh8xfLxRBamGwKxZdqDdBD8VE8rHOR8C0gb1j91pe1xrvaclXzzoIjAeFJ/aOKzADBGGFrelweloR/LJaCa0SDi0PdwPPcHyXFrnsof2l+5LpxJa5F9ql3xxBPSvqmpqaZNrCUxLviiPnF8EJofeaV4E5hmP0AU6fH8ktF5zind8L0VgvMse9yj9KAKTzqxUjtDNUakyp+y25MuUj3PHEZg5QvHnEZiZz0fIFNWH13978dcBpeHZl/LiMZ+mjBWYEmWferJ8D4FZzs4zp9wYtbAGI3VqyZccxghMDr3TvIcXmOEaxymep296/+HXdy/+qJh0qvIwQOpUhJShf3xLn1qzv1MjImnouWUP6+O1j8B4kcy3I+2k5kMnIY9b8iXkZ+gcAhOik3bu8AIz9/kImaKyi/lyl2af2NELSgTDpguFIXYEM1e2lKGil1J+yLfYcwhMLKk66aStTN2o1PGgL6UlX3qv4rcQmHhWcykPLTByIdjRyLDjt1NUClLS2L+oqAuc0uHqUz2adup3WM5YupiyJd83//io++rJU6H5y9mti+0xe97HEBhvonn2pE3ZG588a3m5W/JlSU0QmCXUxvMcVmB0vthOVdknw+QisedUiOyIwV7Q0ig//ezxOOXB0TmBSS1bzc+NxjSdxy8C40HRx4ZOwWob9bG6zEpLviyrwdNpcd6DWUrvNN9hBeYUQ96eipUVnDyLy3Lf+/tHF2tFy3Kn5UJg0nh5p566CfEuJ8ZeS77E+DuXhhHMHKH48whMPKtgSrlzi/lbE0EjGSfnRkUZpkezIjCjWDi4AwIIjF8QERg/ll3NEYR1W8Sl9ugJgbERYHtPBBAYv2giMJksdXpM1mvWmAOXBxXG1ooyqzWbHYGZRUSCjRJAYPwCh8D4sTyUpUfdu92rL71zqDpT2WMQePSfP3W//68vj1HZwrVEYAoD3qt5RjDhyMpdMH/RMsyo1bOMYPwig8D4sTyUpTmB0cdVZfrO6wXAEjY1aNKpnJ9du/gkkB7L+dUnq0pPm3r7nVPnsbzKwbMdjJVjj+UyQWAszbxtBCaP32FzzwmMrE3plw1kncjjIYQSNiWA2gnaF2i3ENjW/ZaOWr9CLu1l7m8ueTD3YILAeETiqQ0Exo/loSyFBEbOvXHl/HI0MNxfAmpoY7i/xKbN423P2i653bLfKX9zyZNRLhMExi8aCIwfy0NZkot46u/ByF2knRbTqa2c6aISNm3Acjsla0u2pZOqsQbj7fewHp77EkOPkeycT7lMEJg5wvHnEZh4VqQ0BEICM/zYoQqMTpkZM9GbJWzawnM7JWtLtnWqJkdUhzbH9r39HivD65hMcZbmIb7mMkFgvCLedQiMH8tDWUJg2gh3bmcaWwu9SbDvXNntuZGJdNq6HhNb5tJ0uUwQmKXkn8+HwDzPhCMRBEICU2I6q4RNW83cTsnaqrm9Bb9FnGp+RimXCQLj14IRGD+Wh7IUFJjBX/7MveAFrFz09q+Jeti0AfO2Z22X3N6C3zW/8i2sc5kgMH4tFoHxY3koS3IRTy3yC4gSjxSXsKlBy+2U1I7+SifFIn/XydqZXXeRkajdV16ev7mxRGD8ooHA+LE8lKU5gbFz9vaJshxIJWyKPyoGuqbg0QHWWOQv4XdOfIZ55YZAmeqv/ZtLw/Qe+x5MEBiPSDy1gcD4sTyUpTmBORQMKrsrAgiMXzgRGD+Wh7KEwBwq3IeqLALjF24Exo/loSwhMIcK9/4R4QIAABFdSURBVKEqi8D4hRuB8WN5KEsIzKHCfajKIjB+4UZg/FgeyhICc6hwH6qyCIxfuBEYP5aHsoTAHCrch6osAuMXbgTGj+WhLCEwhwr3oSqLwPiFG4HxY3koSwjMocJ9qMoiMH7hRmD8WB7KEgJzqHAfqrIIjF+4ERg/loey9Kh7t3v1pXcOVWcqewwCj358s7v28qfHqGzhWiIwhQHv1TwCs9fIUi8Exq8NIDB+LA9lCYE5VLgPVVkExi/cCIwfy0NZQmAOFe5DVRaB8Qs3AuPH8lCWEJhDhftQlUVg/MKNwPixPJQlBOZQ4T5UZREYv3AjMH4sD2UJgTlUuA9VWQTGL9wIjB/LQ1lCYA4V7kNVFoHxCzcC48fyUJYQmEOF+1CVRWD8wo3A+LE8lCXe5D9UuA9VWdq2X7gRGD+Wh7LERXiocB+qsrRtv3AjMH4sD2WJi/BQ4T5UZWnbfuFGYPxYHsoSF+Ghwn2oytK2/cKNwPixPJQlLsJDhftQlaVt+4UbgfFjeShLchG+fvVKd3Z2dvL/b/96fCgOVHb7BD6784uTNixt+uU/39t+xRqoAQLTQBBwAQIQgMAeCSAwe4wqdYIABCDQAAEEpoEg4AIEIACBPRJAYPYYVeoEAQhAoAECCEwDQcAFCEAAAnskgMDsMarUCQIQgEADBBCYBoKACxCAAAT2SACB2WNUqRMEIACBBgggMA0EARcgAAEI7JEAArPHqBauE2/xFwacYJ630BNgkbQ6AQSmOvLtF8i3mtqNIbFpNzZH9AyBOWLUM+tMJ5YJsGB2YlMQLqaTCSAwycjIUKIT++nLO5cfHPzlr+523z9pg/Pj7rvugxsvdFv5iGeJ2LQRCbzYIgEEZotRW9ln707spx8+7l67+fTrtWJbvtLcytdsv/7n7y6ED4FZudFR/CYJIDCbDNu6TnsLzMMvHpyMWKRTb2EUI8L31of3GcGs29wofcMEEJgNB28t170FZlgPmS5bewQjU2Mf3brbfcsU2TA87EMgmgACE42KhEqgtMDIo7drT0l9fud698k3TzrWYDTq/EIgnQACk87s8DlCAqMd8vAvXer+3MjErsd4gU71SUZQKnCaV/e9fCplJxSbUmViFwJTBBCYKTIcnyRQqhOTzvzu+e3uq5WfIBt7eVEE8o/vPZxk0sqJUrFppX74sS0CCMy24tWEt6U6MZ2WaqKSz5xgBNNSNPBlawQQmK1FrAF/SwiMPDlmp6HsNNWaVUZg1qRP2VsngMBsPYIr+O8tMGNTUi+e3Vp9qkzQIjArNDCK3A0BBGY3oaxXEW+Bqed5+yXJQw7nZ9cunmBb4i2xWUKNPKUIIDClyO7YLp1YmeDq53KuIjBlAGO1OgEEpjry7ReIwJSLobB948r54hGMjIDefr/9p93KEcRySwQQmJaisRFfEJhygUJgyrHFcn0CCEx95psvEYEpF0IEphxbLNcngMDUZ775EhGYciFEYMqxxXJ9AghMfeabLzEkMPpJGM/fHGCeflhbOT6F8iIwITqc2xoBBGZrEWvA35DANODepl1AYDYdPpwfEEBgBkDYnSeAwMwzWpoCgVlKjnwtEkBgWoxK4z4hMGUCJI8Y/+bnP7v809H20zmxJfKYciwp0tUggMDUoLyzMhCYdgOKwLQbmyN6hsAcMeqZdUZgMgEWzI7AFISL6WQCCEwyMjLkCIydBpr742M1SLfmT26dEZhcguT3JIDAeNI8iK2lAiP57rxyt/v+SdfJ9utXr5x8or82vtb88ag/AuNBERteBBAYL5IHsrNUYB5/9+2FuCgq+Uz/koVszZ/725o/ufWR/AiMB0VseBFAYLxIHsjOUoGxiOTLwS1MkalPrfmjfqX+IjCpxEhfkgACU5LuTm3nCoz+gbFWBKY1f3KaDQKTQ4+83gQQGG+iB7CXKzCCSDpCeefjj++18Wn51vxZ2owQmKXkyFeCAAJTgurObXoIjCD6+p+/6375q6eL/i0ga82fJUwQmCXUyFOKAAJTiuyO7XoJTGvrHq35s6QJITBLqJGnFAEEphTZHdv1EJjH3XfdBzdeWPUpMhui1vyxvqVsIzAptEhbmgACU5rwDu0vFRgZIdhP3q/5iLKEpTV/PJoKAuNBERteBBAYL5IHsrNUYA6EaLWqIjCroafgEQIIzAgUDoUJIDBhPmueRWDWpE/ZQwIIzJAI+7MEEJhZRKslQGBWQ0/BIwQQmBEoHAoTQGDCfNY8i8CsSZ+yhwQQmCER9mcJlBAYu+Be+t0Y6YTPz651n3zz5Lm6hs49l7jBAwhMg0E5sEsIzIGDv7Tq3gIjneJrN+9duCO25SvLpT4jo0J2dURgQueWsqqdD4GpTZzyQgQQmBAdzo0S8BaYh188OPnKcuk36sX/N66cj45gQudGYTR2EIFpLCAHdweBOXgDWFJ9b4EZ+iAjiVIjGCkrJCKhc0M/W9xHYFqMynF9QmBWjr10CPLRxxfPbnX/7r7rPrrVzre5ptCUFpjSfycmJCKhc1M8WjqOwLQUDXxBYBpoA3LHLm+1f37n+ui0TQMunrjwqHu3e/Wld06O6Y5+csW+sW+350Ym0kHqeoza9P4NiUjonLcfJew9+s+fut//15clTGMTAskEEJhkZL4ZdAQjnfDan06JrZl0wm/dvB+bPDqdiNPd89vdV88/3BVtIyZhSERC52Jsr52GEczaEaB8SwCBsTTYjiJQSmBqjeBCIhI6FwVn5UQIzMoBoPgTAgjMCQ52YgiUEBh5csyO4HTaMMaf1DQhEQmdSy1njfQIzBrUKXOKAAIzRYbjkwS8BUb/ZLFdq5GHHkpMldkpyeG0ZOjcJIzGTiAwjQXk4O4gMJkNQDpbeTFQX9yTC3zqLXFb1NJ81kbKtowIvN6Q9xaYlHocNa3ETwU4FEcE5qgtpM16IzCZcVGhiLn4bVFL81kbsq1PbYXu+KXT+b+v33V7BBqBGUah7L7ET5+s03Yz9TQeAlM2FlhPI4DApPFqLrV0KDf+z63u9ev/62QNY+ioCJHXOzYIzJBu2f2ULx0gMGVjgfU0AghMGq/L1Dpy0JHLH997eHlON3RtQc/JQrakt3eftrOeO6927a/kEfvya+0Oy0ZgLLVtb8t0mY21rQ0CY2mwvTYBBGZhBLRjl+wqNvYpKDmunbx2Biogdg59TGCmzg9dlXI/vP7bi5czL0YygYXxkMDY+X0VTPkd1kfLtz7rMX7rEZB2NRUbBKZeHChpngACM8/ouRTaWX/933+9HJFIJ60jFZth2Blr3u+fvUyYet7aljJ17UXsyMMGYx2PFRBNb+2kbg99Ts1/5PQS/w9uvHC5YG8FfTi6HeMkAqLrMVPn337/+dH0WFqOQaA0AQRmAWHpYO+8crdTgZFO+/P//uuFwEgHoqMKMT3sjD0FRu5kdXQkZQ33F1QtKsuwTjbTsMP02Lf2c7eX+pNbrkd+aTtzXzpgBONBGhteBBCYBSRVYGQUItNeMqUlYqMjGCsyw87YS2DEroxYhh3mkhGKHeFYe2OjIcE1rNMChGRZQCDmSwcIzAKwZClGAIFZgFYF5oO//u/LEcRwikyERKZC3rz/4OS7XSow/++Hf1x8RVk7dO3M586ru3Z6TI+p6KgtPe79i8B4E523JzcyNq4Sf7uvFhAYJcFvCwQQmAVRGOvIhwKjZofTVio8OuoZExgRpqnz1q6OmPSY/OqIStd47DmvbQTGi2ScHWlD2k70d2qkisDEMSVVHQIITB3OuyoFgWk3nAhMu7E5omcIzBGjnllnBCYTYMHsCExBuJhOJoDAJCMjQ47ASAcof8FTpnrsE3BrUW3Nn1wOCEwuQfJ7EkBgPGkexNZSgZF88ni3rA/J9tR7O7UwtuaPR70RGA+K2PAigMB4kTyQnaUC8/i7by/ERVHJ4vXYk1B6vvRva/541BeB8aCIDS8CCIwXyQPZWSowFpE8ddfCFJn61Jo/6lfqLwKTSoz0JQkgMCXp7tR2rsDoY7etCExr/uQ0GwQmhx55vQkgMN5ED2AvV2AEkXSEstg/9i7PGghb82cpAwRmKTnylSCAwJSgunObHgIjiGq8FJoSitb8SfFd0yIwSoLfFgggMC1EYWM+eAlMa+serfmzpFkgMEuokacUAQSmFNkd2/UQGP1kzppPkdkQteaP9S1lG4FJoUXa0gQQmNKEd2h/qcDICEG/pSW/a4tLa/54NBUExoMiNrwIIDBeJA9kZ6nAHAjRalVFYFZDT8EjBBCYESgcChNAYMJ81jyLwKxJn7KHBBCYIRH2ZwkgMLOIVkuAwKyGnoJHCCAwI1A4FCaAwIT5rHkWgVmTPmUPCSAwQyLszxLIFRjpBM/PrnWffPNktqy1EtgHAOSPv5X8A262jrlsEBhLk+21CSAwa0dgg+XnCIx23FcbFhjppF+7ee8iMlJX+epzjc/aeLBBYDZ4Qe3YZQRmx8EtVbUcgRGfJP8bV86bHcE8/OLByYil5hv+uWwQmFKtHrtLCCAwS6gdPM/eBWYYXhlZ1BjBSLkIzJA++1smgMBsOXor+X40gan5d2sQmJUaNcUWIYDAFMG6b6NbExj9DIz9ioDdDo1O7HpMjagiMDUoU0YtAghMLdI7KmdrArMUvQjT3fPb3VcVH3ZDYJZGi3wtEkBgWoxK4z4dRWA+v3O9+oMICEzjjR/3kgggMEm4SCwEjiAw8uSY/RinLPTb/VItAYEpRRa7axBAYNagvvEycwRG1jTkL1nqGkiNTjsVt/4JZfVRfl88u1V8qsyDDY8pp0ab9CUJIDAl6e7Udo7A7BRJM9VCYJoJBY50XYfA0AySCSAwyciqZUBgqqGmoAgCCEwEJJKcEkBgTnm0tIfAtBQNfEFgaAPJBBCYZGTVMiAw1VBTUAQBBCYCEklOCSAwpzxa2kNgWooGviAwtIFkAghMMrJqGRCYaqgpKIIAAhMBiSSnBBCYUx4t7SEwLUUDXxAY2kAyAQQmGVm1DAhMNdQUFEEAgYmARJJTAgjMKY+W9hCYlqKBLwgMbSCZAAKTjKxaBgSmGmoKiiCAwERAIskpgUfdu92rL71zepC9Jgg8+vHN7trLnzbhC05AAIGhDSQTQGCSkVXLgMBUQ01BEQQQmAhIJDklgMCc8mhpD4FpKRr4gsDQBpIJIDDJyKplQGCqoaagCAIITAQkkpwSQGBOebS0h8C0FA18QWBoA8kEEJhkZNUyIDDVUFNQBAEEJgISSU4JIDCnPFraQ2Baiga+IDC0gWQCCEwysmoZEJhqqCkoggACEwGJJKcEEJhTHi3tITAtRQNfEBjaQDIB3uRPRlYtA7GphpqCIgggMBGQSHJKgE7slEdLe8SmpWjgCwJDG0gmQCeWjKxaBmJTDTUFRRBAYCIgkeSUAJ3YKY+W9ohNS9HAFwSGNpBMgE4sGVm1DMSmGmoKiiCAwERAIskpAenEXr96pTs7Ozv5/7d/PT5NyF5xAp/d+cVJDCQmL//5XvFyKQACMQQQmBhKpIEABCAAgWQCCEwyMjJAAAIQgEAMAQQmhhJpIAABCEAgmQACk4yMDBCAAAQgEEMAgYmhRBoIQAACEEgmgMAkIyMDBCAAAQjEEEBgYiiRBgIQgAAEkgkgMMnIyAABCEAAAjEEEJgYSqSBAAQgAIFkAghMMjIyQAACEIBADAEEJoYSaSAAAQhAIJkAApOMjAwQgAAEIBBDAIGJoUQaCEAAAhBIJoDAJCMjAwQgAAEIxBBAYGIokQYCEIAABJIJIDDJyMgAAQhAAAIxBBCYGEqkgQAEIACBZAIITDIyMkAAAhCAQAwBBCaGEmkgAAEIQCCZAAKTjIwMEIAABCAQQwCBiaFEGghAAAIQSCaAwCQjIwMEIAABCMQQQGBiKJEGAhCAAASSCSAwycjIAAEIQAACMQQQmBhKpIEABCAAgWQC/x/qd8tLrfQ+ngAAAABJRU5ErkJggg==)"
      ]
    },
    {
      "cell_type": "markdown",
      "metadata": {
        "id": "ho-5KKmWmzhB"
      },
      "source": [
        "###**การบวก list VS การบวก Numpy array**"
      ]
    },
    {
      "cell_type": "code",
      "metadata": {
        "id": "lc43WeXnbaKy",
        "outputId": "8a0d7475-c312-49d7-fdb9-b13209c6bf85",
        "colab": {
          "base_uri": "https://localhost:8080/"
        }
      },
      "source": [
        "list_ex1=[[5.2,3.0,4.5],[9.1,0.1,0.3]]\r\n",
        "list_ex2=[[2, 3.7,5.9],[91 ,1.5 ,7.3]]\r\n",
        "print(list_ex1)\r\n",
        "print(list_ex2)"
      ],
      "execution_count": 1,
      "outputs": [
        {
          "output_type": "stream",
          "text": [
            "[[5.2, 3.0, 4.5], [9.1, 0.1, 0.3]]\n",
            "[[2, 3.7, 5.9], [91, 1.5, 7.3]]\n"
          ],
          "name": "stdout"
        }
      ]
    },
    {
      "cell_type": "code",
      "metadata": {
        "id": "greBUkdmbe17",
        "outputId": "cef6c3b2-897f-4876-b2f9-8bbb9d442617",
        "colab": {
          "base_uri": "https://localhost:8080/"
        }
      },
      "source": [
        "list_ex1+list_ex2"
      ],
      "execution_count": 2,
      "outputs": [
        {
          "output_type": "execute_result",
          "data": {
            "text/plain": [
              "[[5.2, 3.0, 4.5], [9.1, 0.1, 0.3], [2, 3.7, 5.9], [91, 1.5, 7.3]]"
            ]
          },
          "metadata": {
            "tags": []
          },
          "execution_count": 2
        }
      ]
    },
    {
      "cell_type": "markdown",
      "metadata": {
        "id": "j6XY7gjGb0tA"
      },
      "source": [
        "###**Matrix ที่สำคัญ**\r\n",
        "- identity matrix\r\n",
        "- all ones\r\n",
        "- all zeros"
      ]
    },
    {
      "cell_type": "markdown",
      "metadata": {
        "id": "TTtyB27wb-u-"
      },
      "source": [
        "###**Identity matrix**\r\n",
        "- square matrix ( จำนวนแถว = จำนวนหลัก )\r\n",
        "- มีเลข 1 อยู่ตรงตำแหน่ง(i,i) (แทยงมุม ซ้ายไปขวา)\r\n",
        "- ตำแหน่งอื่นๆ มีค่าเป็นเลข 0"
      ]
    },
    {
      "cell_type": "code",
      "metadata": {
        "id": "OgnWkMpwbl35"
      },
      "source": [
        "import numpy as np # as ใช้เพื่อเปลี่ยนชื่อ"
      ],
      "execution_count": 3,
      "outputs": []
    },
    {
      "cell_type": "code",
      "metadata": {
        "id": "Iw1DApvrcHTr",
        "outputId": "5d9b135f-b95e-4cd7-fc24-8b2550ef575f",
        "colab": {
          "base_uri": "https://localhost:8080/"
        }
      },
      "source": [
        "iden3 = np.identity(3)\r\n",
        "print(iden3)\r\n"
      ],
      "execution_count": 4,
      "outputs": [
        {
          "output_type": "stream",
          "text": [
            "[[1. 0. 0.]\n",
            " [0. 1. 0.]\n",
            " [0. 0. 1.]]\n"
          ],
          "name": "stdout"
        }
      ]
    },
    {
      "cell_type": "markdown",
      "metadata": {
        "id": "BMRGjrmrcMnW"
      },
      "source": [
        "###**all zeros คือ matrix ที่ทุกๆค่าเป็น 0**\r\n",
        "ใช้สำหรับ สร้าง matrix ว่าง ขึ้นมา คล้ายกับ ... = list()"
      ]
    },
    {
      "cell_type": "code",
      "metadata": {
        "id": "vjGlYzTacKEd",
        "outputId": "3a5d01c8-f5f9-4446-f894-a9984664a855",
        "colab": {
          "base_uri": "https://localhost:8080/"
        }
      },
      "source": [
        "test_zeros = np.zeros([5,7])\r\n",
        "print(test_zeros)"
      ],
      "execution_count": 5,
      "outputs": [
        {
          "output_type": "stream",
          "text": [
            "[[0. 0. 0. 0. 0. 0. 0.]\n",
            " [0. 0. 0. 0. 0. 0. 0.]\n",
            " [0. 0. 0. 0. 0. 0. 0.]\n",
            " [0. 0. 0. 0. 0. 0. 0.]\n",
            " [0. 0. 0. 0. 0. 0. 0.]]\n"
          ],
          "name": "stdout"
        }
      ]
    },
    {
      "cell_type": "markdown",
      "metadata": {
        "id": "D6gMYP_ncXy_"
      },
      "source": [
        "###**all ones (คือ matrix ที่ทุกๆค่ามีค่าเป็น 1)**"
      ]
    },
    {
      "cell_type": "code",
      "metadata": {
        "id": "lx1sRssIcTgm",
        "outputId": "6e6d3df0-9776-47e7-a7c9-8299881b2576",
        "colab": {
          "base_uri": "https://localhost:8080/"
        }
      },
      "source": [
        "test_ones = np.ones([5,7])\r\n",
        "print(test_ones)"
      ],
      "execution_count": 6,
      "outputs": [
        {
          "output_type": "stream",
          "text": [
            "[[1. 1. 1. 1. 1. 1. 1.]\n",
            " [1. 1. 1. 1. 1. 1. 1.]\n",
            " [1. 1. 1. 1. 1. 1. 1.]\n",
            " [1. 1. 1. 1. 1. 1. 1.]\n",
            " [1. 1. 1. 1. 1. 1. 1.]]\n"
          ],
          "name": "stdout"
        }
      ]
    },
    {
      "cell_type": "markdown",
      "metadata": {
        "id": "mXpv6bUvchLw"
      },
      "source": [
        "เวลาเราจะสร้าง matrix ที่ทุกๆค่าเป็นค่า x (ค่าอื่นๆ) เราจะสร้างโดยใช้\r\n",
        "\r\n",
        "คุณสมบัติ scalar mutiplication (การเอาค่าคงที่มาคูณกับ matrix คือเอาค่าคงที่ไปคูณกับทุกตัวใน matrix )\r\n",
        "\r\n",
        "scalar (ปริมาณที่มีขนาดเพียงอย่างเดียว) (ค่าคงที่ , ตัวเลข 1 ตัว)"
      ]
    },
    {
      "cell_type": "code",
      "metadata": {
        "id": "_2NrR2FLcb-U",
        "outputId": "5b8b77a8-afbb-4a11-81a8-4ff4f3b60d2c",
        "colab": {
          "base_uri": "https://localhost:8080/"
        }
      },
      "source": [
        "15 * test_ones"
      ],
      "execution_count": 7,
      "outputs": [
        {
          "output_type": "execute_result",
          "data": {
            "text/plain": [
              "array([[15., 15., 15., 15., 15., 15., 15.],\n",
              "       [15., 15., 15., 15., 15., 15., 15.],\n",
              "       [15., 15., 15., 15., 15., 15., 15.],\n",
              "       [15., 15., 15., 15., 15., 15., 15.],\n",
              "       [15., 15., 15., 15., 15., 15., 15.]])"
            ]
          },
          "metadata": {
            "tags": []
          },
          "execution_count": 7
        }
      ]
    },
    {
      "cell_type": "markdown",
      "metadata": {
        "id": "S9BjXhSKcmAL"
      },
      "source": [
        "~pandas~"
      ]
    }
  ]
}