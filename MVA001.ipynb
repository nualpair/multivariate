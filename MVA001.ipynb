{
  "nbformat": 4,
  "nbformat_minor": 0,
  "metadata": {
    "colab": {
      "name": "MVA001.ipynb",
      "provenance": [],
      "authorship_tag": "ABX9TyP8gnGJzIMPagAzBcMIExm/",
      "include_colab_link": true
    },
    "kernelspec": {
      "name": "python3",
      "display_name": "Python 3"
    }
  },
  "cells": [
    {
      "cell_type": "markdown",
      "metadata": {
        "id": "view-in-github",
        "colab_type": "text"
      },
      "source": [
        "<a href=\"https://colab.research.google.com/github/nualpair/multivariate/blob/main/MVA001.ipynb\" target=\"_parent\"><img src=\"https://colab.research.google.com/assets/colab-badge.svg\" alt=\"Open In Colab\"/></a>"
      ]
    },
    {
      "cell_type": "markdown",
      "metadata": {
        "id": "JuFl4j7YICws"
      },
      "source": [
        "##**Scalar, Vector, Matrix**"
      ]
    },
    {
      "cell_type": "code",
      "metadata": {
        "id": "Uwy3VOXxIHj0"
      },
      "source": [
        "import numpy as np"
      ],
      "execution_count": 32,
      "outputs": []
    },
    {
      "cell_type": "code",
      "metadata": {
        "colab": {
          "base_uri": "https://localhost:8080/"
        },
        "id": "-97h8Ij_IH_W",
        "outputId": "970305f3-600c-4fc9-db0b-d9402ac2c067"
      },
      "source": [
        "scalar_a=10 #scalar\r\n",
        "print(scalar_a)"
      ],
      "execution_count": 34,
      "outputs": [
        {
          "output_type": "stream",
          "text": [
            "10\n"
          ],
          "name": "stdout"
        }
      ]
    },
    {
      "cell_type": "markdown",
      "metadata": {
        "id": "BKQdDnEKIbx9"
      },
      "source": [
        "## **Vector**"
      ]
    },
    {
      "cell_type": "code",
      "metadata": {
        "colab": {
          "base_uri": "https://localhost:8080/"
        },
        "id": "NHdwwsMgIJgz",
        "outputId": "bd461f4b-7487-4ddb-d65c-457fc3a130f1"
      },
      "source": [
        "vector_b = np.zeros ([2,1]) #vector\r\n",
        "vector_b[0,0] = 1\r\n",
        "vector_b[1,0] = 3\r\n",
        "print(vector_b)\r\n",
        "print(vector_b.shape)"
      ],
      "execution_count": 8,
      "outputs": [
        {
          "output_type": "stream",
          "text": [
            "[[1.]\n",
            " [3.]]\n",
            "(2, 1)\n"
          ],
          "name": "stdout"
        }
      ]
    },
    {
      "cell_type": "code",
      "metadata": {
        "colab": {
          "base_uri": "https://localhost:8080/"
        },
        "id": "lW-720c6IhRS",
        "outputId": "241e42ae-250f-4738-a566-0ab9c9138c0d"
      },
      "source": [
        "vector_c = np.array([[1],[3]])\r\n",
        "print(vector_c)\r\n",
        "print(vector_c.shape)"
      ],
      "execution_count": 9,
      "outputs": [
        {
          "output_type": "stream",
          "text": [
            "[[1]\n",
            " [3]]\n",
            "(2, 1)\n"
          ],
          "name": "stdout"
        }
      ]
    },
    {
      "cell_type": "code",
      "metadata": {
        "id": "w__4rq2-I5jn"
      },
      "source": [
        "from matplotlib import  pyplot as plt"
      ],
      "execution_count": 17,
      "outputs": []
    },
    {
      "cell_type": "code",
      "metadata": {
        "colab": {
          "base_uri": "https://localhost:8080/",
          "height": 282
        },
        "id": "zmfcn-eVI6Lt",
        "outputId": "4f9b35ca-85b3-4c7b-b2e3-7350338a1d7a"
      },
      "source": [
        "plt.plot(vector_b[0,0],vector_b[1,0], 'or')"
      ],
      "execution_count": 18,
      "outputs": [
        {
          "output_type": "execute_result",
          "data": {
            "text/plain": [
              "[<matplotlib.lines.Line2D at 0x7f6093907588>]"
            ]
          },
          "metadata": {
            "tags": []
          },
          "execution_count": 18
        },
        {
          "output_type": "display_data",
          "data": {
            "image/png": "[encoded data removed]",
            "text/plain": [
              "<Figure size 432x288 with 1 Axes>"
            ]
          },
          "metadata": {
            "tags": [],
            "needs_background": "light"
          }
        }
      ]
    },
    {
      "cell_type": "markdown",
      "metadata": {
        "id": "C1sDWfc2JDgC"
      },
      "source": [
        "ขนาดของ vector คำนวณได้โดย พิธากอรัส"
      ]
    },
    {
      "cell_type": "code",
      "metadata": {
        "colab": {
          "base_uri": "https://localhost:8080/"
        },
        "id": "WFff7lk0I7wv",
        "outputId": "4970d41e-8e18-4f1a-c0b1-5a3f6b1249d7"
      },
      "source": [
        "vector_b_size = ((vector_b[0,0]**2) + (vector_b[1,0]**2))**0.5\r\n",
        "print(vector_b_size)"
      ],
      "execution_count": 19,
      "outputs": [
        {
          "output_type": "stream",
          "text": [
            "3.1622776601683795\n"
          ],
          "name": "stdout"
        }
      ]
    },
    {
      "cell_type": "code",
      "metadata": {
        "colab": {
          "base_uri": "https://localhost:8080/",
          "height": 282
        },
        "id": "7Q57TkbWI_oF",
        "outputId": "d28490a3-a90b-45d5-e18e-e798c731ef76"
      },
      "source": [
        "plt.quiver(0,0,vector_b[0,0],vector_b[1,0])"
      ],
      "execution_count": 20,
      "outputs": [
        {
          "output_type": "execute_result",
          "data": {
            "text/plain": [
              "<matplotlib.quiver.Quiver at 0x7f6093879320>"
            ]
          },
          "metadata": {
            "tags": []
          },
          "execution_count": 20
        },
        {
          "output_type": "display_data",
          "data": {
            "image/png": "[encoded data removed]",
            "text/plain": [
              "<Figure size 432x288 with 1 Axes>"
            ]
          },
          "metadata": {
            "tags": [],
            "needs_background": "light"
          }
        }
      ]
    },
    {
      "cell_type": "markdown",
      "metadata": {
        "id": "iwJgvPx8JIVd"
      },
      "source": [
        "## **Matrix**"
      ]
    },
    {
      "cell_type": "code",
      "metadata": {
        "colab": {
          "base_uri": "https://localhost:8080/"
        },
        "id": "N4pb-WAVJGIK",
        "outputId": "f78b741b-e353-4ac3-9619-21facf4ca0db"
      },
      "source": [
        "matrix_b=np.array([[2,3],[1,4],[-1,1]])\r\n",
        "print(matrix_b)"
      ],
      "execution_count": 21,
      "outputs": [
        {
          "output_type": "stream",
          "text": [
            "[[ 2  3]\n",
            " [ 1  4]\n",
            " [-1  1]]\n"
          ],
          "name": "stdout"
        }
      ]
    },
    {
      "cell_type": "code",
      "metadata": {
        "colab": {
          "base_uri": "https://localhost:8080/"
        },
        "id": "Z5fjjxClJLb2",
        "outputId": "fb54a29f-cd7b-4dbd-96d0-a98166539efd"
      },
      "source": [
        "matrix_b=matrix_b.T\r\n",
        "print(matrix_b)"
      ],
      "execution_count": 25,
      "outputs": [
        {
          "output_type": "stream",
          "text": [
            "[[ 2  1 -1]\n",
            " [ 3  4  1]]\n"
          ],
          "name": "stdout"
        }
      ]
    },
    {
      "cell_type": "code",
      "metadata": {
        "colab": {
          "base_uri": "https://localhost:8080/"
        },
        "id": "0sZr4h7lJO1g",
        "outputId": "df460694-9bae-45b3-f040-86b27fa3a517"
      },
      "source": [
        "matrix_b[0,:]"
      ],
      "execution_count": 26,
      "outputs": [
        {
          "output_type": "execute_result",
          "data": {
            "text/plain": [
              "array([ 2,  1, -1])"
            ]
          },
          "metadata": {
            "tags": []
          },
          "execution_count": 26
        }
      ]
    },
    {
      "cell_type": "code",
      "metadata": {
        "colab": {
          "base_uri": "https://localhost:8080/",
          "height": 282
        },
        "id": "i4CsSR0zJPZV",
        "outputId": "ffb6b258-db4d-4152-811e-55f47d0d73a8"
      },
      "source": [
        "plt.plot(matrix_b[0,:],matrix_b[1,:],'or') #plot(ค่าx, ค่าy,หน้าตาของจุด)\r\n",
        "plt.plot(0,0,'.b') #plot(ค่าx,ค่าy,หน้าตาของจุด)\r\n",
        "plt.plot([0,0],[-1,5],'*:k')\r\n",
        "plt.plot([-1.5,2.5],[0,0],':k')"
      ],
      "execution_count": 27,
      "outputs": [
        {
          "output_type": "execute_result",
          "data": {
            "text/plain": [
              "[<matplotlib.lines.Line2D at 0x7f608ab74550>]"
            ]
          },
          "metadata": {
            "tags": []
          },
          "execution_count": 27
        },
        {
          "output_type": "display_data",
          "data": {
            "image/png": "[encoded data removed]",
            "text/plain": [
              "<Figure size 432x288 with 1 Axes>"
            ]
          },
          "metadata": {
            "tags": [],
            "needs_background": "light"
          }
        }
      ]
    },
    {
      "cell_type": "markdown",
      "metadata": {
        "id": "vrrl6Z3oJgyN"
      },
      "source": [
        "##**Transpose**"
      ]
    },
    {
      "cell_type": "code",
      "metadata": {
        "colab": {
          "base_uri": "https://localhost:8080/"
        },
        "id": "J0cxzkvvJkmX",
        "outputId": "648b5725-7079-4ccf-fbb9-1daae2cbc5f2"
      },
      "source": [
        "A=np.array([[3,-1,2],[1,5,4]])\r\n",
        "print(A)"
      ],
      "execution_count": 28,
      "outputs": [
        {
          "output_type": "stream",
          "text": [
            "[[ 3 -1  2]\n",
            " [ 1  5  4]]\n"
          ],
          "name": "stdout"
        }
      ]
    },
    {
      "cell_type": "code",
      "metadata": {
        "colab": {
          "base_uri": "https://localhost:8080/"
        },
        "id": "-W2yfxCIJk5Y",
        "outputId": "d90c03d7-a135-4b1b-ff10-24d51d3dc9c5"
      },
      "source": [
        "A.T"
      ],
      "execution_count": 29,
      "outputs": [
        {
          "output_type": "execute_result",
          "data": {
            "text/plain": [
              "array([[ 3,  1],\n",
              "       [-1,  5],\n",
              "       [ 2,  4]])"
            ]
          },
          "metadata": {
            "tags": []
          },
          "execution_count": 29
        }
      ]
    },
    {
      "cell_type": "markdown",
      "metadata": {
        "id": "ldr16aSAJpFE"
      },
      "source": [
        "##**Matrix Multiply**\r\n",
        "\r\n",
        "##**B= A*A'**"
      ]
    },
    {
      "cell_type": "code",
      "metadata": {
        "colab": {
          "base_uri": "https://localhost:8080/"
        },
        "id": "vVR7ZycsJmez",
        "outputId": "8ca94e8c-95a0-40cf-d80b-efb1bfb8afd7"
      },
      "source": [
        "B= np.dot(A,A.T)\r\n",
        "print(B)"
      ],
      "execution_count": 30,
      "outputs": [
        {
          "output_type": "stream",
          "text": [
            "[[14  6]\n",
            " [ 6 42]]\n"
          ],
          "name": "stdout"
        }
      ]
    },
    {
      "cell_type": "markdown",
      "metadata": {
        "id": "IwN9SWpPJ1Cn"
      },
      "source": [
        "##**Determinant**\r\n",
        "###**Det(B)**"
      ]
    },
    {
      "cell_type": "code",
      "metadata": {
        "colab": {
          "base_uri": "https://localhost:8080/"
        },
        "id": "U8kpvyn2JxIS",
        "outputId": "8a7b8107-fed4-40d5-8ad4-4d0f6be46c48"
      },
      "source": [
        "np.linalg.det(B)"
      ],
      "execution_count": 31,
      "outputs": [
        {
          "output_type": "execute_result",
          "data": {
            "text/plain": [
              "551.9999999999998"
            ]
          },
          "metadata": {
            "tags": []
          },
          "execution_count": 31
        }
      ]
    },
    {
      "cell_type": "code",
      "metadata": {
        "id": "NIefLB-JJzbY"
      },
      "source": [
        ""
      ],
      "execution_count": null,
      "outputs": []
    }
  ]
}