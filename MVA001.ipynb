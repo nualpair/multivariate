{
  "nbformat": 4,
  "nbformat_minor": 0,
  "metadata": {
    "colab": {
      "name": "MVA001.ipynb",
      "provenance": [],
      "authorship_tag": "ABX9TyPpdi4q4YzhD29OzfQU2TJl",
      "include_colab_link": true
    },
    "kernelspec": {
      "name": "python3",
      "display_name": "Python 3"
    }
  },
  "cells": [
    {
      "cell_type": "markdown",
      "metadata": {
        "id": "view-in-github",
        "colab_type": "text"
      },
      "source": [
        "<a href=\"https://colab.research.google.com/github/nualpair/multivariate/blob/main/MVA001.ipynb\" target=\"_parent\"><img src=\"https://colab.research.google.com/assets/colab-badge.svg\" alt=\"Open In Colab\"/></a>"
      ]
    },
    {
      "cell_type": "markdown",
      "metadata": {
        "id": "JuFl4j7YICws"
      },
      "source": [
        "##**Scalar, Vector, Matrix**"
      ]
    },
    {
      "cell_type": "code",
      "metadata": {
        "id": "Uwy3VOXxIHj0"
      },
      "source": [
        "import numpy as np"
      ],
      "execution_count": 1,
      "outputs": []
    },
    {
      "cell_type": "code",
      "metadata": {
        "colab": {
          "base_uri": "https://localhost:8080/"
        },
        "id": "-97h8Ij_IH_W",
        "outputId": "4f17050f-9a96-472b-b5f6-50aad4a43603"
      },
      "source": [
        "scalar_a=10 #scalar\r\n",
        "print(scalar_a)"
      ],
      "execution_count": 2,
      "outputs": [
        {
          "output_type": "stream",
          "text": [
            "10\n"
          ],
          "name": "stdout"
        }
      ]
    },
    {
      "cell_type": "markdown",
      "metadata": {
        "id": "BKQdDnEKIbx9"
      },
      "source": [
        "## **Vector**"
      ]
    },
    {
      "cell_type": "code",
      "metadata": {
        "colab": {
          "base_uri": "https://localhost:8080/"
        },
        "id": "NHdwwsMgIJgz",
        "outputId": "5a974c53-4585-429c-bc70-d5d0e090e205"
      },
      "source": [
        "vector_b = np.zeros ([2,1]) #vector\r\n",
        "vector_b[0,0] = 1\r\n",
        "vector_b[1,0] = 3\r\n",
        "print(vector_b)\r\n",
        "print(vector_b.shape)"
      ],
      "execution_count": 3,
      "outputs": [
        {
          "output_type": "stream",
          "text": [
            "[[1.]\n",
            " [3.]]\n",
            "(2, 1)\n"
          ],
          "name": "stdout"
        }
      ]
    },
    {
      "cell_type": "code",
      "metadata": {
        "colab": {
          "base_uri": "https://localhost:8080/"
        },
        "id": "lW-720c6IhRS",
        "outputId": "b61e0b68-2448-46d7-87c7-e1d8564aa73f"
      },
      "source": [
        "vector_c = np.array([[1],[3]])\r\n",
        "print(vector_c)\r\n",
        "print(vector_c.shape)"
      ],
      "execution_count": 4,
      "outputs": [
        {
          "output_type": "stream",
          "text": [
            "[[1]\n",
            " [3]]\n",
            "(2, 1)\n"
          ],
          "name": "stdout"
        }
      ]
    },
    {
      "cell_type": "code",
      "metadata": {
        "id": "w__4rq2-I5jn"
      },
      "source": [
        "from matplotlib import  pyplot as plt"
      ],
      "execution_count": 5,
      "outputs": []
    },
    {
      "cell_type": "code",
      "metadata": {
        "colab": {
          "base_uri": "https://localhost:8080/",
          "height": 282
        },
        "id": "zmfcn-eVI6Lt",
        "outputId": "ec54c4bd-0981-4ee8-f826-a1f99e105d2f"
      },
      "source": [
        "plt.plot(vector_b[0,0],vector_b[1,0], 'or')"
      ],
      "execution_count": 6,
      "outputs": [
        {
          "output_type": "execute_result",
          "data": {
            "text/plain": [
              "[<matplotlib.lines.Line2D at 0x7fab6504ca58>]"
            ]
          },
          "metadata": {
            "tags": []
          },
          "execution_count": 6
        },
        {
          "output_type": "display_data",
          "data": {
            "image/png": "[encoded data removed]",
            "text/plain": [
              "<Figure size 432x288 with 1 Axes>"
            ]
          },
          "metadata": {
            "tags": [],
            "needs_background": "light"
          }
        }
      ]
    },
    {
      "cell_type": "markdown",
      "metadata": {
        "id": "C1sDWfc2JDgC"
      },
      "source": [
        "ขนาดของ vector คำนวณได้โดย พิธากอรัส"
      ]
    },
    {
      "cell_type": "code",
      "metadata": {
        "colab": {
          "base_uri": "https://localhost:8080/"
        },
        "id": "WFff7lk0I7wv",
        "outputId": "f9f76d41-67ca-4afe-d69c-fd20d93dc95d"
      },
      "source": [
        "vector_b_size = ((vector_b[0,0]**2) + (vector_b[1,0]**2))**0.5\r\n",
        "print(vector_b_size)"
      ],
      "execution_count": 7,
      "outputs": [
        {
          "output_type": "stream",
          "text": [
            "3.1622776601683795\n"
          ],
          "name": "stdout"
        }
      ]
    },
    {
      "cell_type": "code",
      "metadata": {
        "colab": {
          "base_uri": "https://localhost:8080/",
          "height": 282
        },
        "id": "7Q57TkbWI_oF",
        "outputId": "e9d5ef0c-5a4b-4c8c-8b64-8ea6db61701b"
      },
      "source": [
        "plt.quiver(0,0,vector_b[0,0],vector_b[1,0])"
      ],
      "execution_count": 8,
      "outputs": [
        {
          "output_type": "execute_result",
          "data": {
            "text/plain": [
              "<matplotlib.quiver.Quiver at 0x7fab64ba2128>"
            ]
          },
          "metadata": {
            "tags": []
          },
          "execution_count": 8
        },
        {
          "output_type": "display_data",
          "data": {
            "image/png": "[encoded data removed]",
            "text/plain": [
              "<Figure size 432x288 with 1 Axes>"
            ]
          },
          "metadata": {
            "tags": [],
            "needs_background": "light"
          }
        }
      ]
    },
    {
      "cell_type": "markdown",
      "metadata": {
        "id": "iwJgvPx8JIVd"
      },
      "source": [
        "## **Matrix**"
      ]
    },
    {
      "cell_type": "code",
      "metadata": {
        "colab": {
          "base_uri": "https://localhost:8080/"
        },
        "id": "N4pb-WAVJGIK",
        "outputId": "26331be8-6a16-4825-a5a5-cebde12b0d07"
      },
      "source": [
        "matrix_b=np.array([[2,3],[1,4],[-1,1]])\r\n",
        "print(matrix_b)"
      ],
      "execution_count": 9,
      "outputs": [
        {
          "output_type": "stream",
          "text": [
            "[[ 2  3]\n",
            " [ 1  4]\n",
            " [-1  1]]\n"
          ],
          "name": "stdout"
        }
      ]
    },
    {
      "cell_type": "code",
      "metadata": {
        "colab": {
          "base_uri": "https://localhost:8080/"
        },
        "id": "Z5fjjxClJLb2",
        "outputId": "2ea40640-b045-4643-a115-0176a0409c82"
      },
      "source": [
        "matrix_b=matrix_b.T\r\n",
        "print(matrix_b)"
      ],
      "execution_count": 10,
      "outputs": [
        {
          "output_type": "stream",
          "text": [
            "[[ 2  1 -1]\n",
            " [ 3  4  1]]\n"
          ],
          "name": "stdout"
        }
      ]
    },
    {
      "cell_type": "code",
      "metadata": {
        "colab": {
          "base_uri": "https://localhost:8080/"
        },
        "id": "0sZr4h7lJO1g",
        "outputId": "b376552e-2096-461f-a9fb-3c38acfcaab8"
      },
      "source": [
        "matrix_b[0,:]"
      ],
      "execution_count": 11,
      "outputs": [
        {
          "output_type": "execute_result",
          "data": {
            "text/plain": [
              "array([ 2,  1, -1])"
            ]
          },
          "metadata": {
            "tags": []
          },
          "execution_count": 11
        }
      ]
    },
    {
      "cell_type": "code",
      "metadata": {
        "colab": {
          "base_uri": "https://localhost:8080/",
          "height": 282
        },
        "id": "i4CsSR0zJPZV",
        "outputId": "eca7d7bf-88c8-408f-8a26-019e88e9a2aa"
      },
      "source": [
        "plt.plot(matrix_b[0,:],matrix_b[1,:],'or') #plot(ค่าx, ค่าy,หน้าตาของจุด)\r\n",
        "plt.plot(0,0,'.b') #plot(ค่าx,ค่าy,หน้าตาของจุด)\r\n",
        "plt.plot([0,0],[-1,5],'*:k')\r\n",
        "plt.plot([-1.5,2.5],[0,0],':k')"
      ],
      "execution_count": 12,
      "outputs": [
        {
          "output_type": "execute_result",
          "data": {
            "text/plain": [
              "[<matplotlib.lines.Line2D at 0x7fab5c30d828>]"
            ]
          },
          "metadata": {
            "tags": []
          },
          "execution_count": 12
        },
        {
          "output_type": "display_data",
          "data": {
            "image/png": "[encoded data removed]",
            "text/plain": [
              "<Figure size 432x288 with 1 Axes>"
            ]
          },
          "metadata": {
            "tags": [],
            "needs_background": "light"
          }
        }
      ]
    },
    {
      "cell_type": "markdown",
      "metadata": {
        "id": "vrrl6Z3oJgyN"
      },
      "source": [
        "##**Transpose**"
      ]
    },
    {
      "cell_type": "code",
      "metadata": {
        "colab": {
          "base_uri": "https://localhost:8080/"
        },
        "id": "J0cxzkvvJkmX",
        "outputId": "d722a769-ae23-47c3-e4d4-a81aa7649d25"
      },
      "source": [
        "A=np.array([[3,-1,2],[1,5,4]])\r\n",
        "print(A)"
      ],
      "execution_count": 13,
      "outputs": [
        {
          "output_type": "stream",
          "text": [
            "[[ 3 -1  2]\n",
            " [ 1  5  4]]\n"
          ],
          "name": "stdout"
        }
      ]
    },
    {
      "cell_type": "code",
      "metadata": {
        "colab": {
          "base_uri": "https://localhost:8080/"
        },
        "id": "-W2yfxCIJk5Y",
        "outputId": "af16c5a5-23e1-47ef-fc92-d586571d9c91"
      },
      "source": [
        "A.T"
      ],
      "execution_count": 14,
      "outputs": [
        {
          "output_type": "execute_result",
          "data": {
            "text/plain": [
              "array([[ 3,  1],\n",
              "       [-1,  5],\n",
              "       [ 2,  4]])"
            ]
          },
          "metadata": {
            "tags": []
          },
          "execution_count": 14
        }
      ]
    },
    {
      "cell_type": "markdown",
      "metadata": {
        "id": "ldr16aSAJpFE"
      },
      "source": [
        "##**Matrix Multiply**\r\n",
        "\r\n",
        "##**B= A*A'**"
      ]
    },
    {
      "cell_type": "code",
      "metadata": {
        "colab": {
          "base_uri": "https://localhost:8080/"
        },
        "id": "vVR7ZycsJmez",
        "outputId": "ea3420b7-b859-4de8-973e-e2d920de68ae"
      },
      "source": [
        "B= np.dot(A,A.T)\r\n",
        "print(B)"
      ],
      "execution_count": 15,
      "outputs": [
        {
          "output_type": "stream",
          "text": [
            "[[14  6]\n",
            " [ 6 42]]\n"
          ],
          "name": "stdout"
        }
      ]
    },
    {
      "cell_type": "markdown",
      "metadata": {
        "id": "IwN9SWpPJ1Cn"
      },
      "source": [
        "##**Determinant**\r\n",
        "###**Det(B)**"
      ]
    },
    {
      "cell_type": "code",
      "metadata": {
        "colab": {
          "base_uri": "https://localhost:8080/"
        },
        "id": "U8kpvyn2JxIS",
        "outputId": "0e6e37cb-64fa-4c14-a36e-945a9d0fc41b"
      },
      "source": [
        "np.linalg.det(B)"
      ],
      "execution_count": 16,
      "outputs": [
        {
          "output_type": "execute_result",
          "data": {
            "text/plain": [
              "551.9999999999998"
            ]
          },
          "metadata": {
            "tags": []
          },
          "execution_count": 16
        }
      ]
    },
    {
      "cell_type": "markdown",
      "metadata": {
        "id": "PG11WcB-lMv1"
      },
      "source": [
        "linalg = linear algebra\r\n",
        "\r\n",
        "matrix algebra เพิ่มเติม"
      ]
    },
    {
      "cell_type": "code",
      "metadata": {
        "id": "NIefLB-JJzbY",
        "outputId": "3027fa3a-a23d-4443-d691-b38fccb5d17f",
        "colab": {
          "base_uri": "https://localhost:8080/",
          "height": 282
        }
      },
      "source": [
        "plt.plot([0,1],[0,1],'-r') #vector Bv\r\n",
        "plt.plot(0,0,'.b') \r\n",
        "plt.plot([0,0],[-1,5],':k')\r\n",
        "plt.plot([-1.5,2.5],[0,0],':k')"
      ],
      "execution_count": 17,
      "outputs": [
        {
          "output_type": "execute_result",
          "data": {
            "text/plain": [
              "[<matplotlib.lines.Line2D at 0x7fab5c2853c8>]"
            ]
          },
          "metadata": {
            "tags": []
          },
          "execution_count": 17
        },
        {
          "output_type": "display_data",
          "data": {
            "image/png": "[encoded data removed]",
            "text/plain": [
              "<Figure size 432x288 with 1 Axes>"
            ]
          },
          "metadata": {
            "tags": [],
            "needs_background": "light"
          }
        }
      ]
    },
    {
      "cell_type": "code",
      "metadata": {
        "id": "QYvga39clQ-J",
        "outputId": "b17a3a30-b100-4f20-b84a-593ad24923a2",
        "colab": {
          "base_uri": "https://localhost:8080/"
        }
      },
      "source": [
        "B = np.array([[1,2],[3,4]])\r\n",
        "B"
      ],
      "execution_count": 18,
      "outputs": [
        {
          "output_type": "execute_result",
          "data": {
            "text/plain": [
              "array([[1, 2],\n",
              "       [3, 4]])"
            ]
          },
          "metadata": {
            "tags": []
          },
          "execution_count": 18
        }
      ]
    },
    {
      "cell_type": "markdown",
      "metadata": {
        "id": "DNrbttPklWGF"
      },
      "source": [
        "การคูณ Matrix ( B.v ) คือการทำ linear transformation"
      ]
    },
    {
      "cell_type": "code",
      "metadata": {
        "id": "wnKudzg-lTtd",
        "outputId": "a751ab4a-209f-4a76-b66a-adc6dc39eaa7",
        "colab": {
          "base_uri": "https://localhost:8080/"
        }
      },
      "source": [
        "Bv = np.dot(B,np.array([ [1] , [1] ]))\r\n",
        "Bv"
      ],
      "execution_count": 19,
      "outputs": [
        {
          "output_type": "execute_result",
          "data": {
            "text/plain": [
              "array([[3],\n",
              "       [7]])"
            ]
          },
          "metadata": {
            "tags": []
          },
          "execution_count": 19
        }
      ]
    },
    {
      "cell_type": "code",
      "metadata": {
        "id": "QWtf1VFZlX8W",
        "outputId": "b34769ec-56c9-4702-8aff-8665a31ec6c8",
        "colab": {
          "base_uri": "https://localhost:8080/",
          "height": 282
        }
      },
      "source": [
        "plt.plot([0,Bv[0,0]],[0,Bv[1,0]],'-g') ## vector Bv\r\n",
        "plt.plot([0,1],[0,1],'-r') #vector\r\n",
        "plt.plot(0,0,'.b') \r\n",
        "plt.plot([0,0],[-1,5],'^:k')\r\n",
        "plt.plot([-1.5,2.5],[0,0],'>:k')"
      ],
      "execution_count": 20,
      "outputs": [
        {
          "output_type": "execute_result",
          "data": {
            "text/plain": [
              "[<matplotlib.lines.Line2D at 0x7fab5c200630>]"
            ]
          },
          "metadata": {
            "tags": []
          },
          "execution_count": 20
        },
        {
          "output_type": "display_data",
          "data": {
            "image/png": "[encoded data removed]",
            "text/plain": [
              "<Figure size 432x288 with 1 Axes>"
            ]
          },
          "metadata": {
            "tags": [],
            "needs_background": "light"
          }
        }
      ]
    },
    {
      "cell_type": "markdown",
      "metadata": {
        "id": "LNdd1Ba8ldZ7"
      },
      "source": [
        "**Determinant ของ Matrix (Det(B)) คือ พื้อที่ของ unit vector ที่ถูกเปลี่ยนไป โดย Matrix นั้นๆ**"
      ]
    },
    {
      "cell_type": "code",
      "metadata": {
        "id": "J9d2mmRzlZye",
        "outputId": "32b6e41e-05dd-4be3-df64-948dddd988e8",
        "colab": {
          "base_uri": "https://localhost:8080/",
          "height": 282
        }
      },
      "source": [
        "plt.plot([0,Bv[0,0]],[0,Bv[1,0]],'-g') ## vector Bv\r\n",
        "plt.plot([1,1],[1,0], ':r') ##วาดจุดไข่ปลา พื้นที่ของ v\r\n",
        "plt.plot([1,0],[1,1], ':r') ##วาดจุดไข่ปลา พื้นที่ของ v\r\n",
        "plt.plot([3,3],[7,0], ':g') ##วาดจุดไข่ปลา พื้นที่ของ Bv\r\n",
        "plt.plot([3,0],[7,7], ':g') ##วาดจุดไข่ปลา พื้นที่ของ Bv\r\n",
        "plt.plot([0,1],[0,1],'-r') #vector v ([1,1])\r\n",
        "plt.plot(0,0,'.b') \r\n",
        "plt.plot([0,0],[-1,5],'^:k')\r\n",
        "plt.plot([-1.5,3.5],[0,0],'>:k')"
      ],
      "execution_count": 21,
      "outputs": [
        {
          "output_type": "execute_result",
          "data": {
            "text/plain": [
              "[<matplotlib.lines.Line2D at 0x7fab5c176f98>]"
            ]
          },
          "metadata": {
            "tags": []
          },
          "execution_count": 21
        },
        {
          "output_type": "display_data",
          "data": {
            "image/png": "[encoded data removed]",
            "text/plain": [
              "<Figure size 432x288 with 1 Axes>"
            ]
          },
          "metadata": {
            "tags": [],
            "needs_background": "light"
          }
        }
      ]
    },
    {
      "cell_type": "markdown",
      "metadata": {
        "id": "KqrBAL_yliwV"
      },
      "source": [
        "Identity matrix ($I$)\r\n",
        "\r\n",
        "$BI = B=IB$"
      ]
    },
    {
      "cell_type": "code",
      "metadata": {
        "id": "Y-x_p0C7llwL",
        "outputId": "48b12f10-4334-4c15-be2d-83539b601bb5",
        "colab": {
          "base_uri": "https://localhost:8080/"
        }
      },
      "source": [
        "iden2 = np.identity(2)\r\n",
        "B"
      ],
      "execution_count": 24,
      "outputs": [
        {
          "output_type": "execute_result",
          "data": {
            "text/plain": [
              "array([[1, 2],\n",
              "       [3, 4]])"
            ]
          },
          "metadata": {
            "tags": []
          },
          "execution_count": 24
        }
      ]
    },
    {
      "cell_type": "code",
      "metadata": {
        "id": "2sl1ioWWlrk4",
        "outputId": "cc732747-eb73-407d-ffff-84b8445db276",
        "colab": {
          "base_uri": "https://localhost:8080/"
        }
      },
      "source": [
        "np.dot(B,iden2)"
      ],
      "execution_count": 25,
      "outputs": [
        {
          "output_type": "execute_result",
          "data": {
            "text/plain": [
              "array([[1., 2.],\n",
              "       [3., 4.]])"
            ]
          },
          "metadata": {
            "tags": []
          },
          "execution_count": 25
        }
      ]
    },
    {
      "cell_type": "code",
      "metadata": {
        "id": "poMB6KIHlv7q",
        "outputId": "8aa9b40c-f5f1-45fb-86fb-51c2e65e3ada",
        "colab": {
          "base_uri": "https://localhost:8080/"
        }
      },
      "source": [
        "np.dot(iden2,B)"
      ],
      "execution_count": 26,
      "outputs": [
        {
          "output_type": "execute_result",
          "data": {
            "text/plain": [
              "array([[1., 2.],\n",
              "       [3., 4.]])"
            ]
          },
          "metadata": {
            "tags": []
          },
          "execution_count": 26
        }
      ]
    },
    {
      "cell_type": "code",
      "metadata": {
        "id": "-1R7zq_Ml2td",
        "outputId": "279cbbcb-8adc-45b7-a7bf-f0bf5506dd2e",
        "colab": {
          "base_uri": "https://localhost:8080/"
        }
      },
      "source": [
        "C = np.array([[-1,2],[2,4]])\r\n",
        "C"
      ],
      "execution_count": 27,
      "outputs": [
        {
          "output_type": "execute_result",
          "data": {
            "text/plain": [
              "array([[-1,  2],\n",
              "       [ 2,  4]])"
            ]
          },
          "metadata": {
            "tags": []
          },
          "execution_count": 27
        }
      ]
    },
    {
      "cell_type": "code",
      "metadata": {
        "id": "T1f2xTJJl6RM",
        "outputId": "3281f52d-984b-4dd6-9fd4-d9bb98ea0e42",
        "colab": {
          "base_uri": "https://localhost:8080/"
        }
      },
      "source": [
        "np.dot(B,C)"
      ],
      "execution_count": 28,
      "outputs": [
        {
          "output_type": "execute_result",
          "data": {
            "text/plain": [
              "array([[ 3, 10],\n",
              "       [ 5, 22]])"
            ]
          },
          "metadata": {
            "tags": []
          },
          "execution_count": 28
        }
      ]
    },
    {
      "cell_type": "code",
      "metadata": {
        "id": "KSQ5XhmUl8Hz",
        "outputId": "c37105da-3d0c-4c2f-b6f2-0095ca047858",
        "colab": {
          "base_uri": "https://localhost:8080/"
        }
      },
      "source": [
        "np.dot(C,B)"
      ],
      "execution_count": 29,
      "outputs": [
        {
          "output_type": "execute_result",
          "data": {
            "text/plain": [
              "array([[ 5,  6],\n",
              "       [14, 20]])"
            ]
          },
          "metadata": {
            "tags": []
          },
          "execution_count": 29
        }
      ]
    },
    {
      "cell_type": "markdown",
      "metadata": {
        "id": "X13tnxbkl_rY"
      },
      "source": [
        "#**การบ้านในห้อง (Quiz 1 commit quiz1)**"
      ]
    },
    {
      "cell_type": "markdown",
      "metadata": {
        "id": "6PMrvEo9mDGJ"
      },
      "source": [
        "![2021-02-01 (2).png](data:image/png;base64,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)"
      ]
    },
    {
      "cell_type": "code",
      "metadata": {
        "id": "soC-E2Z_l9zt",
        "outputId": "db523142-8811-4905-edf7-f545c3e8356e",
        "colab": {
          "base_uri": "https://localhost:8080/"
        }
      },
      "source": [
        "Ex=np.array ([[3,1,6],[7,4,5],[2,-7,1]])\r\n",
        "Ex"
      ],
      "execution_count": 30,
      "outputs": [
        {
          "output_type": "execute_result",
          "data": {
            "text/plain": [
              "array([[ 3,  1,  6],\n",
              "       [ 7,  4,  5],\n",
              "       [ 2, -7,  1]])"
            ]
          },
          "metadata": {
            "tags": []
          },
          "execution_count": 30
        }
      ]
    },
    {
      "cell_type": "code",
      "metadata": {
        "id": "_c3G8REZmHSL",
        "outputId": "7650fda3-b20e-44e9-c1cc-975853147325",
        "colab": {
          "base_uri": "https://localhost:8080/"
        }
      },
      "source": [
        "np.linalg.det(Ex)"
      ],
      "execution_count": 31,
      "outputs": [
        {
          "output_type": "execute_result",
          "data": {
            "text/plain": [
              "-221.99999999999997"
            ]
          },
          "metadata": {
            "tags": []
          },
          "execution_count": 31
        }
      ]
    },
    {
      "cell_type": "markdown",
      "metadata": {
        "id": "KxX0K9JBmLMF"
      },
      "source": [
        "Eigen value กับ Eigen vector\r\n",
        "\r\n",
        "- Eigen value ($\\lambda$)->$|A-\\lambda I| = 0$ ## $latex$\r\n",
        "- Eigen vector ($x$) -> $Ax=\\lambda x$"
      ]
    },
    {
      "cell_type": "markdown",
      "metadata": {
        "id": "CZUosZKDmQaQ"
      },
      "source": [
        "##**HW5 หา Eigen value กับ Eigen vector**"
      ]
    },
    {
      "cell_type": "markdown",
      "metadata": {
        "id": "VlkKoOMbmTWh"
      },
      "source": [
        "![2021-02-01 (4).png](data:image/png;base64,iVBORw0KGgoAAAANSUhEUgAAATMAAAEdCAYAAABg/oAYAAAAAXNSR0IArs4c6QAAAARnQU1BAACxjwv8YQUAAAAJcEhZcwAAEnQAABJ0Ad5mH3gAAAAhdEVYdENyZWF0aW9uIFRpbWUAMjAyMTowMjowMSAxMjowODo0NLlpXSQAABUxSURBVHhe7d0JeBTl4cfx3x5ZQrgC1ESx3HKEG2JBEMpfsEpVFKlFLQLWCxAPWrFaK1Qr9cQDlVNuUFEBRbEYRUGp0ILIIYhAOBUwKEeAhIQ95r9JJiFAICGGOvvu9/M8+7Czm6DZ3fkyk3lnXpcVJgCIcG77TwCIaMQMgBGIGQAjEDMARiBmAIxAzAAYgZgBMAIxA2AEYgbACMQMgBGIGQAjEDMARiBmAIxAzAAYgZgBMAIxA2AEYgbACMQMgBGIGQAjEDMARiBmAIxAzAAYgZgBMAIxA2AEYgbACMQMgBGIGQAjEDMARiBmAIxAzAAYgZgBMAIxA2AEYgbACMQMgBGIGQAjEDMARiBmAIxAzAAYgZgBMAIxA2AEYgbACMQMgBGIGQAjEDMARiBmAIxAzAAYgZgBMAIxA2AEYgbACMQMgBGIGQAjEDMARiBmAIxAzAAYgZgBMAIxA2AEYgbACMQMgBGIGQAjEDMARiBmAIxAzAAYgZgBMAIxA2AEYgbACMQMgBGIGQAjEDMARiBmAIxAzAAYgZgBMAIxA2AEYgbACMQMgBGIGQAjEDMARiBmAIxAzAAYgZgBMAIxA2AEYgbACMQMgBGIGQAjuKww+z4MlfXOACXf/7GO2sslE6MOj3yqqb3PsZdxalmad3c7/fmDTJ3RyhTTVn/7eLpuPo9tirJAzKJA5vQeqtZ3rrLt5ZLxqevL27Rg0Hn2Mk4tU69fl6jesw+fWcx8nfX8pk80uBYxKwu8ilHDo1r9P9Ch7Gxll+iWoZSBhKxk4nT9G/t1tMjXsYjb4c/050Ze+3tRVohZNHF7FePzyVeim1cePh0l5vZ45S3ydSziFuNhxTsLeE0BGIGYATACMcNPEtizTK8+O0GL94XsRyJZSAc2LtLMMU9r+PBnNHr6+1q1J2A/B6cjZiiVwPdLNen+7mrWsIP6/HWSluyL7IPiwV2f6MnrW6pe0y7q9/A4vTVnip64q4eS612gS++frc1ndigYPwNihjNydPcSTbjvSjVt1Em3jZinDenBMxuO4ECZa8aqV8cr9NCsb1X/zln6eudmrf5ynbZvX64xV3m1+Nnr1b7bP7U03f4GOBIxQ8kEt2nuX7urQ7d7NXXJJv2QGYr4iOUIffuWBva8R29v9Svxmhc067meqh+b95w7vpXumDRd97Xw6sdPH9F1fV/RBvY6HYuYoWQ856hFnxe1aPVyLV66RvOHNFeMy34uUoW+1YzBd2vGZr9ULlmDHr1JtT32c/ni2mlweHe6uiugXfPuV/8X1omeORMxQwlVUN0mdVUx936sWnVpr8QI//QcSnlMw+amKSSXYi/uo75NixrI6lbC1b3123PCP2woXYufelgzdppwsMM8xAyl4omvpvhI/vQEt2rqszO1I5iz4FWLSy/T+af6eSr9Wpe2rxhOXrhne9/XyHGr2TpzIGKG0oktp3L23UgUWD9DUz+zz6X0JKhlmzo6cQ/zmCpq165JOHlhll9rZ07TUo5uOg4xQ6m4PJ7cLZXIFFTqe//S6oB9CMPTQE2SYvLuF8mj2o0bqIq9tgS2pui9lWd2DRKcfcQM0Se0V4sXr1F+y9yVfqlaCadfFbx166pm/qZbcLP+8/nOcBLhJMQM0cf/lVZ9nV0wtMSdeL5qFLMmuBMSVC1/U9QKaMPatfLbi3AGYoboc3CzNn9/7Iikq3qCEou5Io+7SlVVKRiLEtKBbVv0Awc1HYWYIeoEdu8Kh+jYkF935fjij8y6fSpX6Ndq1o97lEbMHIWYIeqE0tN1sKBlLsVWqCifvXRqMYopNErYOnJYmcTMUYgZoo51NFv+QjHz+mJKsCIEFCg0uMwKhpePbdzBAYgZoo/n+Cu9ulwlGGQSCsgfPFYvl6+8YiN3bIqRiBmijieuouIKQmTlXru/2D3G0FH5Cx2+dMVVUBxrj6PwdiDquBMTVL3QJ78kMQsdTNfBgi0zl9wJ5xU7nAP/W7wdiDruxLqqXTn/o28pdGCv9hZTM2v//uMOGlSrWUsFfwUcgbcD0SemhVo0PnYmZihtl3YVc+Z4IC1NP+YHzxWjpFYtS3AEFP9LxAzRx/NLXdy+ft6J42HB73doRzGnWmZ9+6325MfMc4Hatj2HlcdheD8QhXxqc8VvVNuumZXxtdZ8c7pNs4BSU7cVDOfw1rtcV7Viu8xpiBmiUrkON+n3jWLyrvwR2KIVK348zUGA/Vr1ZWreNczCu5iNf3eD2tEyxyFmKB3rhBGjxR0OdBpfsvoP6pJ3WR/riP6b8mE4WaeQsVT/XpmVe2K6q3JXDeqfXLCLCucgZigVyx8odLVVv45G3CUkPKrzx0d0Z4vY8NaZpYOL5ui9QiefF7Y/5S2l5JyI6YpV67sf1c21WW2ciHcFpRLcv1cH8td9K1379kXg1b1iL9KDLw1WqziXQgfma+TLXyjLfqpA1nK98MQcfR9yq3K7BzTqgbayJ2+CwxAznLnMjZo1cb6+y49ZcJvmTZit1Ex7OYJU6vioXhvZQzW9fq0e0U+DZqYWBC2YtlgjbuilJ1dkqVLLOzR55lBdlDejCxyImKGEAvpqZE+1TqqnxMSm6vPqlmMnWlt+pU7rraSERNVNSlbfSdvtJyKBT41vm6lFr/9Znapv1uTebdS47WXq/tuLlZTUVX+Zn6U2t4/TxwtHqedJ89DBSYgZSsir5vfO0cr1W5R2yK+QZck67haS/3Catq5foWm31La/J1L4VO93I7Twm7X68JUH1Sv5l6p2bnP1+Mt4Lfh6k5aOu00XVmVVcTreIcDmrtRQl97ykJ4eM0lTJ4/V0w/erC712a+MFMRMh7T8vQX2/IkAIlXUxyy4bZoe6nuPXl7GRIhAJIvymB3VinFj9Wn6Bk0fNe/UgyYBOF50x2z/PL00db38Vkhpc0drxlYz9zWzVqwKZzuotGXr7Efwswps1RffBcL/lq7XMmZFKTNRHLOgtkwfpXe+zwuYlbFY419ZEV7pzeNr0kje8FtdvVl9lbMfw8/IV1+ta3qlmLpqXvgqkfhJoveVzF6ucWMXK6PQWKn108Zofrq9bBB3+fLhN9olbxxj152hnCr4XLmnR5XnJM8yE7Ux2/fuS5q2wV8wq3WO4K45Gv3ajog7ZxpAtMYsuFlTR889eRJX65AWjp+g1cVcdRSA80RlzLL/M0bj/p153FZZHkv+r6ZoVMohexlApIi+mIX26p2Xpmtz5QZqmFDEuXbBnZo95g3tZF8TiChRF7Ng6mSNem+/6t08VhP+2EiFZty3hZT+0VhNXMu+JhBJoixmWVoy5hUttS7S7f1/rQ633aoO5U+elto6ukqTRy9Uhr0MwPmiKmahPXP04owtir9ygPpd4JGnXh/dcUX1Il6EoHa8OUpvneLKowCcJ4piFtTGKaP1/oE6unFQD52T85O7z1GPAb1U1GWqQgdSNHbS+vB3lY2sd/opweeV11tGN98Funsh55MC+aInZpmLNfqV/8q68BYN6BRnPyjFde6vfq18ebP0FGZlacWkMfq0rK6eWq6SfpGQoIQyu1VT5ZyBlwDyWFEhaH0/7Vqruqeq1WPK7vBSYUFrx9huVuWcWS1yxmYUvrmrWz2np53w9ZEnY9o1Vjl5rFoDF9iP4Gfl/9J6uEWMJV9n6/ntkf7pco7o2DILfqNJo+crveb1uvO6c0/YHHWr5vX91eO8ovY192n+2CnayLXOAMeLiphlLhqlCV+E1PKPA3VJBfvBwuJ/qwG9GxYxTMPSkf9O1LjPT5qzB4DDmB+z0Pd68+XXtU01Vcf1b70yZozGnHSbpC99dZVQ1KsRSNVro+dqr70IwJlcOfua9n0jBdYOV4cLH9X6yucqvpjr31hH9mrX3iO5vzArzFWhs55d9bH+dEFkzs6TOb2HqvWdp8SBKdo+uqv9KH42gZUamtxOw7/poOc3faLBtaLjtz1nm+ExO6yPBjTXFW801Zh17+q2Gqf/0AS+elQXJT+qFf4TXhJXjJKGfKqVT7cv9fXAAuve0OMzViqzrF5td1W1v3WIrqlffGCJmcMQs7MjJ2amCu6aaHWP91o1+r1jHbAfO63AFuuFS+IsV/7RzEI397m9rbf22V9XCkfm9LaquU/+e0t989Sx7vw4y/7bT4+jmQ7D0cyzwuAts6C+fqKj2gzbpzsXrtFzHUuyTRVS2pSeanzrXB04cfC/q6K6vviVUu6qo9LsbAa3fqxpKRuVVVavtruSmnX/gzoVs7WZgy0zh2HL7OzITZqJMhZadzfwWt4Gg63Psu3HSuLAbOumc93HbwXl3lxWTKth1pd+++siCFtmDsOW2Vlh6D8JIW2f8Yymbw7K16S1Wvnsh0uiSjf17n5+EVtfOdc6m6iR85jDCXAiI2MWSpurYY+n5O4qhrKzdWajxOLUqctFqljUmULBXXrz8Ze0ysRZT4AIZ1zMAjs/0iM39NeruVOUW8r+bKyeWpB2BieMZ2vblu9OEUBLR74YoTuGfqI9XFADcBSDYpahBX/rpAsad9PwRT8omPObrjAr80s9d3ld1Wj0K3W55gG9vbvoCu1PGa4+vXrosl81Uvuh/1G2/f0nsQ5p+TPdlJTURffP3cPkJ4BDGD9oFhzNdByOZp4VvIoAjEDM8JME9izTq89O0OJ9Eb7DHTqkrUve0eQXn9bwRx7VP58br7cWbdB+rpgSOXIHaMBoe++tnXtWQ7nkkdaZDLk7Hf/uJdbEIVdZjap4LFdMe+vJTQH7mUjjt3Z88JjVs2lVy3viNe1cbqtSg+7W3/+1I/xVZejIa9YlFXP+GwnWjcsicOCiQ7FlFgVCR7Jz185AVt6fP8XR3Us04b4r1bRRJ902Yp42pAd/8t/58zmqbyb/QZ2vHqY56/YrcOIPYoV0aNN7+se1l2rA27vK7mBPKFtH/Dl3wn8yCViZIWYomeA2zf1rd3Xodq+mLtmkHzJDERyxPOmfDdWNd83WnvM669Z/jNcb7y/S4kXzNP2ZQbqsXoWCS6lb2Rs15a4hmsV4HEcjZigZzzlq0edFLVq9XIuXrtH8Ic2LuJhlBMlaqqfuGa+Mq0br87ULNWHo7ep1RWd17HylbhrysuYvn6+hHeMLVpDg7rc1avrWMpvgBmWPmKGEKqhuk7qqmHs/Vq26tFdixH56Qto540nNrvmk5r3aXy3zfqjjuKt10rCJw9Q5/1QQK1urln0R3jGEUxEzlIonvpriI/jTE9duiGZOvF0NvfYDRfBccKN6XRxbsLsZ9AciftfaZMQMpRNbrtQXqvz5uVW1eSe1LvI66YW4q6pu7fxJor1q2LxZBP/M5iNmKBWXx3PyXKPGsXTU78/dGnPFtdUNNzQLJw1ORcyAUwlu1Zq1+xRy+dT4jsc0MCky54CIFsQMOIXsFTP05qqg4tv/TZMfu0SV7MfhTMQMKMqhpXr8nlHa3uxuzZj1sNoVccQTzkLMgBNkpc7RkG5X65/LLdVv01CVQgzTjwTELArEJrdQTPitTrywif0IThLK0LdfzNULA7soqeV1enbJjwqGDurLiXepS4sOGvDaxrIbY+ato+TzPVJMY7WN3MF6jsMrGQXc5cuH32iXvHGx9iM4XrYWPtBRF3btpfvGLdS24yY3tRTct0Ljb/6N+pbZGQA+lc85fcIVq/IcHi0zxAxQOV3yzEqlpR9Rxu7Vmjf2YfW+qIbKFRp7Yvl3aNbguzRxGyc0ORUxAwq4FZvYQlf2f0wzln6tZVPuUHKh0xxC+z7UyLFfiPlsnImYAUWqohZ9x+j9abeoQcEZ9QFt+mi+NnA8wJGIGXBKbiVe+Zj+fvUvClaU4NZN2kjMHImYAafjPlfX3nqNatiD/62sI8rismaORMyAYsR1+LUuLJ+3q+mqUjWirxZiMt4WoDix5yoxt2AueRs2VZOYvIfhLMQMKE7woA5mWOGWxajlby5XLc43dyRihtI5ce5og3+PlLXsUy07FJI7/jL175ckWuZMxAylYvkDOnZQz6+jubMNGSi4WZOfelVbQ/Hq9NAT6lOTVcapeGdQKsH9e3Ugf2vMSte+fRE0Mj60Rwv+foWa1Wug1l376bHZ6479LIUFd+n9+67Xgx9mqH7vMZryp2by2U/BeYgZzlzmRs2aOF/f5QcguE3zJsxWaqa97HQZH+jlER9o3dZUrfpkmob9vrUatb1RQ8e/q8+/StWWDau0aObTuuP/fqWeo7aryT2vK2XCDarD/qWjETOUUEBfjeyp1kn1lJjYVH1e3XJs0lzLr9RpvZWUkKi6ScnqO2m7/YRDVbhct9zcRBXyB/aH///3rJip4f2vUccWDVS/cWt16fuEPo3roecWrNbi569VXTbJHM+VM625fR+GypzeQ9X6zlPiwBRtHN2VSTlyHdbmT2br7YUrtWnnXh3OlmJiKyg+sabqN2mjDl06K7lGnP21ZezoEt3forNGbL1Yz2/6RINrsU1RFohZFCBmDkPMzgpeRQBGIGYAjEDMABiBmAEwAjEDYARiBsAIxAyAEYgZACMQMwBG4AyAKJB3BsC7Uo1malOnkgpNB3kaPl143yyN7FndXsapZWvBw1fqkYVHVKKVycrQjtVr9F3g15wBUIaIWRTIi9nc8Cp3Jnzq+vI2LRh0nr2MU8vU69clqvfswyWLWT5fZ2JWhohZFAgd2qXUXYfObEULb79VTKyv8+O57k1JHNqdqt0Hg2f2GrvilFivpuK99jJ+EmIGwAhs3wIwAjEDYARiBsAIxAyAEYgZACMQMwBGIGYAjEDMABiBmAEwAjEDYARiBsAIxAyAEYgZACMQMwBGIGYAjEDMABiBmAEwAjEDYARiBsAIxAyAEYgZACMQMwBGIGYAjEDMABiBmAEwAjEDYARiBsAIxAyAEYgZACMQMwBGIGYAjEDMABiBmAEwAjEDYARiBsAIxAyAEYgZACMQMwBGIGYAjEDMABiBmAEwAjEDYARiBsAIxAyAEYgZACMQMwBGIGYAjEDMABiBmAEwAjEDYARiBsAIxAyAEYgZACMQMwBGIGYAjEDMABiBmAEwAjEDYARiBsAIxAyAEYgZACMQMwBGIGYAjEDMABiBmAEwAjEDYARiBsAIxAyAEYgZACMQMwBGIGYAjEDMABiBmAEwAjEDYARiBsAIxAyAEYgZACMQMwBGIGYAjEDMABiBmAEwAjEDYARiBsAIxAyAEYgZACMQMwBGIGYAjEDMABiBmAEwAjEDYARiBsAIxAyAAaT/B6WxU1kkAupGAAAAAElFTkSuQmCC)"
      ]
    },
    {
      "cell_type": "code",
      "metadata": {
        "id": "WyiClBWdmNZI",
        "outputId": "09e0336c-1aaa-4f29-aa9b-b636c88c9e2a",
        "colab": {
          "base_uri": "https://localhost:8080/"
        }
      },
      "source": [
        "HW5=np.array([[1,0],[1,3]])\r\n",
        "HW5"
      ],
      "execution_count": 32,
      "outputs": [
        {
          "output_type": "execute_result",
          "data": {
            "text/plain": [
              "array([[1, 0],\n",
              "       [1, 3]])"
            ]
          },
          "metadata": {
            "tags": []
          },
          "execution_count": 32
        }
      ]
    },
    {
      "cell_type": "markdown",
      "metadata": {
        "id": "y_TcAB1emc_2"
      },
      "source": [
        "**Eigen vactor**"
      ]
    },
    {
      "cell_type": "code",
      "metadata": {
        "id": "yDdhuDptmXC_",
        "outputId": "0cd8e843-111b-497b-d7dd-96827cba44a1",
        "colab": {
          "base_uri": "https://localhost:8080/"
        }
      },
      "source": [
        "HWv=np.array([[1,0],[1,3]])\r\n",
        "w,v=np.linalg.eig(HWv)\r\n",
        "w;v"
      ],
      "execution_count": 34,
      "outputs": [
        {
          "output_type": "execute_result",
          "data": {
            "text/plain": [
              "array([[ 0.        ,  0.89442719],\n",
              "       [ 1.        , -0.4472136 ]])"
            ]
          },
          "metadata": {
            "tags": []
          },
          "execution_count": 34
        }
      ]
    },
    {
      "cell_type": "markdown",
      "metadata": {
        "id": "YPFCNL3Rmf6_"
      },
      "source": [
        "**Eigen value**"
      ]
    },
    {
      "cell_type": "code",
      "metadata": {
        "id": "XdrkAjPGmZ03",
        "outputId": "590ca41d-6418-4630-c246-e915ee2ef893",
        "colab": {
          "base_uri": "https://localhost:8080/"
        }
      },
      "source": [
        "HWx=np.array([[1,0],[1,3]])\r\n",
        "np.linalg.eigvals(HWx)"
      ],
      "execution_count": 35,
      "outputs": [
        {
          "output_type": "execute_result",
          "data": {
            "text/plain": [
              "array([3., 1.])"
            ]
          },
          "metadata": {
            "tags": []
          },
          "execution_count": 35
        }
      ]
    }
  ]
}