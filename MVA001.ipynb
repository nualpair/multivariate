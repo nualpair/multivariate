{
  "nbformat": 4,
  "nbformat_minor": 0,
  "metadata": {
    "colab": {
      "name": "MVA001.ipynb",
      "provenance": [],
      "toc_visible": true,
      "authorship_tag": "ABX9TyP8cB5ul/wD+b1HP/7qwrMk",
      "include_colab_link": true
    },
    "kernelspec": {
      "name": "python3",
      "display_name": "Python 3"
    }
  },
  "cells": [
    {
      "cell_type": "markdown",
      "metadata": {
        "id": "view-in-github",
        "colab_type": "text"
      },
      "source": [
        "<a href=\"https://colab.research.google.com/github/nualpair/multivariate/blob/main/MVA001.ipynb\" target=\"_parent\"><img src=\"https://colab.research.google.com/assets/colab-badge.svg\" alt=\"Open In Colab\"/></a>"
      ]
    },
    {
      "cell_type": "markdown",
      "metadata": {
        "id": "JuFl4j7YICws"
      },
      "source": [
        "##**Scalar, Vector, Matrix**"
      ]
    },
    {
      "cell_type": "code",
      "metadata": {
        "id": "Uwy3VOXxIHj0"
      },
      "source": [
        "import numpy as np"
      ],
      "execution_count": 1,
      "outputs": []
    },
    {
      "cell_type": "code",
      "metadata": {
        "colab": {
          "base_uri": "https://localhost:8080/"
        },
        "id": "-97h8Ij_IH_W",
        "outputId": "90c4bfbf-8a0f-4150-8ba8-4f0b0889212f"
      },
      "source": [
        "scalar_a=10 #scalar\r\n",
        "print(scalar_a)"
      ],
      "execution_count": 2,
      "outputs": [
        {
          "output_type": "stream",
          "text": [
            "10\n"
          ],
          "name": "stdout"
        }
      ]
    },
    {
      "cell_type": "markdown",
      "metadata": {
        "id": "BKQdDnEKIbx9"
      },
      "source": [
        "## **Vector**"
      ]
    },
    {
      "cell_type": "code",
      "metadata": {
        "colab": {
          "base_uri": "https://localhost:8080/"
        },
        "id": "NHdwwsMgIJgz",
        "outputId": "05ce74e3-d9fb-4003-966b-24f90f5e16db"
      },
      "source": [
        "vector_b = np.zeros ([2,1]) #vector\r\n",
        "vector_b[0,0] = 1\r\n",
        "vector_b[1,0] = 3\r\n",
        "print(vector_b)\r\n",
        "print(vector_b.shape)"
      ],
      "execution_count": 3,
      "outputs": [
        {
          "output_type": "stream",
          "text": [
            "[[1.]\n",
            " [3.]]\n",
            "(2, 1)\n"
          ],
          "name": "stdout"
        }
      ]
    },
    {
      "cell_type": "code",
      "metadata": {
        "colab": {
          "base_uri": "https://localhost:8080/"
        },
        "id": "lW-720c6IhRS",
        "outputId": "622e4639-761a-4449-cd80-77d141ec1949"
      },
      "source": [
        "vector_c = np.array([[1],[3]])\r\n",
        "print(vector_c)\r\n",
        "print(vector_c.shape)"
      ],
      "execution_count": 4,
      "outputs": [
        {
          "output_type": "stream",
          "text": [
            "[[1]\n",
            " [3]]\n",
            "(2, 1)\n"
          ],
          "name": "stdout"
        }
      ]
    },
    {
      "cell_type": "code",
      "metadata": {
        "id": "w__4rq2-I5jn"
      },
      "source": [
        "from matplotlib import  pyplot as plt"
      ],
      "execution_count": 5,
      "outputs": []
    },
    {
      "cell_type": "code",
      "metadata": {
        "colab": {
          "base_uri": "https://localhost:8080/",
          "height": 282
        },
        "id": "zmfcn-eVI6Lt",
        "outputId": "ae45d109-d4ba-43b1-ddeb-6ba24a515f03"
      },
      "source": [
        "plt.plot(vector_b[0,0],vector_b[1,0], 'or')"
      ],
      "execution_count": 6,
      "outputs": [
        {
          "output_type": "execute_result",
          "data": {
            "text/plain": [
              "[<matplotlib.lines.Line2D at 0x7fcefbe0f8d0>]"
            ]
          },
          "metadata": {
            "tags": []
          },
          "execution_count": 6
        },
        {
          "output_type": "display_data",
          "data": {
            "image/png": "[encoded data removed]",
            "text/plain": [
              "<Figure size 432x288 with 1 Axes>"
            ]
          },
          "metadata": {
            "tags": [],
            "needs_background": "light"
          }
        }
      ]
    },
    {
      "cell_type": "markdown",
      "metadata": {
        "id": "C1sDWfc2JDgC"
      },
      "source": [
        "ขนาดของ vector คำนวณได้โดย พิธากอรัส"
      ]
    },
    {
      "cell_type": "code",
      "metadata": {
        "colab": {
          "base_uri": "https://localhost:8080/"
        },
        "id": "WFff7lk0I7wv",
        "outputId": "c16a4acb-da17-4078-8893-eacd0c0fadcb"
      },
      "source": [
        "vector_b_size = ((vector_b[0,0]**2) + (vector_b[1,0]**2))**0.5\r\n",
        "print(vector_b_size)"
      ],
      "execution_count": 7,
      "outputs": [
        {
          "output_type": "stream",
          "text": [
            "3.1622776601683795\n"
          ],
          "name": "stdout"
        }
      ]
    },
    {
      "cell_type": "code",
      "metadata": {
        "colab": {
          "base_uri": "https://localhost:8080/",
          "height": 282
        },
        "id": "7Q57TkbWI_oF",
        "outputId": "da4085d8-f6d9-4730-bfd5-d02fda3d4a62"
      },
      "source": [
        "plt.quiver(0,0,vector_b[0,0],vector_b[1,0])"
      ],
      "execution_count": 8,
      "outputs": [
        {
          "output_type": "execute_result",
          "data": {
            "text/plain": [
              "<matplotlib.quiver.Quiver at 0x7fcefbdac0f0>"
            ]
          },
          "metadata": {
            "tags": []
          },
          "execution_count": 8
        },
        {
          "output_type": "display_data",
          "data": {
            "image/png": "[encoded data removed]",
            "text/plain": [
              "<Figure size 432x288 with 1 Axes>"
            ]
          },
          "metadata": {
            "tags": [],
            "needs_background": "light"
          }
        }
      ]
    },
    {
      "cell_type": "markdown",
      "metadata": {
        "id": "iwJgvPx8JIVd"
      },
      "source": [
        "## **Matrix**"
      ]
    },
    {
      "cell_type": "code",
      "metadata": {
        "colab": {
          "base_uri": "https://localhost:8080/"
        },
        "id": "N4pb-WAVJGIK",
        "outputId": "767ae853-d777-46eb-94b0-d9bbc6ead5e5"
      },
      "source": [
        "matrix_b=np.array([[2,3],[1,4],[-1,1]])\r\n",
        "print(matrix_b)"
      ],
      "execution_count": 9,
      "outputs": [
        {
          "output_type": "stream",
          "text": [
            "[[ 2  3]\n",
            " [ 1  4]\n",
            " [-1  1]]\n"
          ],
          "name": "stdout"
        }
      ]
    },
    {
      "cell_type": "code",
      "metadata": {
        "colab": {
          "base_uri": "https://localhost:8080/"
        },
        "id": "Z5fjjxClJLb2",
        "outputId": "54eeb9aa-47a9-4e81-d8f4-666935440c81"
      },
      "source": [
        "matrix_b=matrix_b.T\r\n",
        "print(matrix_b)"
      ],
      "execution_count": 10,
      "outputs": [
        {
          "output_type": "stream",
          "text": [
            "[[ 2  1 -1]\n",
            " [ 3  4  1]]\n"
          ],
          "name": "stdout"
        }
      ]
    },
    {
      "cell_type": "code",
      "metadata": {
        "colab": {
          "base_uri": "https://localhost:8080/"
        },
        "id": "0sZr4h7lJO1g",
        "outputId": "c28b8c0d-4b12-451f-c7db-bc2f234683d5"
      },
      "source": [
        "matrix_b[0,:]"
      ],
      "execution_count": 11,
      "outputs": [
        {
          "output_type": "execute_result",
          "data": {
            "text/plain": [
              "array([ 2,  1, -1])"
            ]
          },
          "metadata": {
            "tags": []
          },
          "execution_count": 11
        }
      ]
    },
    {
      "cell_type": "code",
      "metadata": {
        "colab": {
          "base_uri": "https://localhost:8080/",
          "height": 282
        },
        "id": "i4CsSR0zJPZV",
        "outputId": "226d7866-4c2b-47de-b5fd-bfe7fc5b968b"
      },
      "source": [
        "plt.plot(matrix_b[0,:],matrix_b[1,:],'or') #plot(ค่าx, ค่าy,หน้าตาของจุด)\r\n",
        "plt.plot(0,0,'.b') #plot(ค่าx,ค่าy,หน้าตาของจุด)\r\n",
        "plt.plot([0,0],[-1,5],'*:k')\r\n",
        "plt.plot([-1.5,2.5],[0,0],':k')"
      ],
      "execution_count": 12,
      "outputs": [
        {
          "output_type": "execute_result",
          "data": {
            "text/plain": [
              "[<matplotlib.lines.Line2D at 0x7fcef30ce7f0>]"
            ]
          },
          "metadata": {
            "tags": []
          },
          "execution_count": 12
        },
        {
          "output_type": "display_data",
          "data": {
            "image/png": "[encoded data removed]",
            "text/plain": [
              "<Figure size 432x288 with 1 Axes>"
            ]
          },
          "metadata": {
            "tags": [],
            "needs_background": "light"
          }
        }
      ]
    },
    {
      "cell_type": "markdown",
      "metadata": {
        "id": "vrrl6Z3oJgyN"
      },
      "source": [
        "##**Transpose**"
      ]
    },
    {
      "cell_type": "code",
      "metadata": {
        "colab": {
          "base_uri": "https://localhost:8080/"
        },
        "id": "J0cxzkvvJkmX",
        "outputId": "acc29ade-7e50-499a-ac32-4d9b710ed543"
      },
      "source": [
        "A=np.array([[3,-1,2],[1,5,4]])\r\n",
        "print(A)"
      ],
      "execution_count": 13,
      "outputs": [
        {
          "output_type": "stream",
          "text": [
            "[[ 3 -1  2]\n",
            " [ 1  5  4]]\n"
          ],
          "name": "stdout"
        }
      ]
    },
    {
      "cell_type": "code",
      "metadata": {
        "colab": {
          "base_uri": "https://localhost:8080/"
        },
        "id": "-W2yfxCIJk5Y",
        "outputId": "3fe328a1-e701-4da7-f1b9-1e1ec939e8fc"
      },
      "source": [
        "A.T"
      ],
      "execution_count": 14,
      "outputs": [
        {
          "output_type": "execute_result",
          "data": {
            "text/plain": [
              "array([[ 3,  1],\n",
              "       [-1,  5],\n",
              "       [ 2,  4]])"
            ]
          },
          "metadata": {
            "tags": []
          },
          "execution_count": 14
        }
      ]
    },
    {
      "cell_type": "markdown",
      "metadata": {
        "id": "ldr16aSAJpFE"
      },
      "source": [
        "##**Matrix Multiply**\r\n",
        "\r\n",
        "##**B= A*A'**"
      ]
    },
    {
      "cell_type": "code",
      "metadata": {
        "colab": {
          "base_uri": "https://localhost:8080/"
        },
        "id": "vVR7ZycsJmez",
        "outputId": "76434001-1bb1-4632-84d2-5234e9da3827"
      },
      "source": [
        "B= np.dot(A,A.T)\r\n",
        "print(B)"
      ],
      "execution_count": 15,
      "outputs": [
        {
          "output_type": "stream",
          "text": [
            "[[14  6]\n",
            " [ 6 42]]\n"
          ],
          "name": "stdout"
        }
      ]
    },
    {
      "cell_type": "markdown",
      "metadata": {
        "id": "IwN9SWpPJ1Cn"
      },
      "source": [
        "##**Determinant**\r\n",
        "###**Det(B)**"
      ]
    },
    {
      "cell_type": "code",
      "metadata": {
        "colab": {
          "base_uri": "https://localhost:8080/"
        },
        "id": "U8kpvyn2JxIS",
        "outputId": "2fdc948d-39eb-4a7d-a871-4c7443851a6d"
      },
      "source": [
        "np.linalg.det(B)"
      ],
      "execution_count": 16,
      "outputs": [
        {
          "output_type": "execute_result",
          "data": {
            "text/plain": [
              "551.9999999999998"
            ]
          },
          "metadata": {
            "tags": []
          },
          "execution_count": 16
        }
      ]
    },
    {
      "cell_type": "markdown",
      "metadata": {
        "id": "PG11WcB-lMv1"
      },
      "source": [
        "linalg = linear algebra\r\n",
        "\r\n",
        "matrix algebra เพิ่มเติม"
      ]
    },
    {
      "cell_type": "code",
      "metadata": {
        "id": "NIefLB-JJzbY",
        "colab": {
          "base_uri": "https://localhost:8080/",
          "height": 0
        },
        "outputId": "72a6da5b-d4b5-499a-b94a-a241c302471b"
      },
      "source": [
        "plt.plot([0,1],[0,1],'-r') #vector Bv\r\n",
        "plt.plot(0,0,'.b') \r\n",
        "plt.plot([0,0],[-1,5],':k')\r\n",
        "plt.plot([-1.5,2.5],[0,0],':k')"
      ],
      "execution_count": 17,
      "outputs": [
        {
          "output_type": "execute_result",
          "data": {
            "text/plain": [
              "[<matplotlib.lines.Line2D at 0x7fcef304f358>]"
            ]
          },
          "metadata": {
            "tags": []
          },
          "execution_count": 17
        },
        {
          "output_type": "display_data",
          "data": {
            "image/png": "[encoded data removed]",
            "text/plain": [
              "<Figure size 432x288 with 1 Axes>"
            ]
          },
          "metadata": {
            "tags": [],
            "needs_background": "light"
          }
        }
      ]
    },
    {
      "cell_type": "code",
      "metadata": {
        "id": "QYvga39clQ-J",
        "colab": {
          "base_uri": "https://localhost:8080/"
        },
        "outputId": "63497238-98ad-4b1d-b50e-b634fd1a83a4"
      },
      "source": [
        "B = np.array([[1,2],[3,4]])\r\n",
        "B"
      ],
      "execution_count": 18,
      "outputs": [
        {
          "output_type": "execute_result",
          "data": {
            "text/plain": [
              "array([[1, 2],\n",
              "       [3, 4]])"
            ]
          },
          "metadata": {
            "tags": []
          },
          "execution_count": 18
        }
      ]
    },
    {
      "cell_type": "markdown",
      "metadata": {
        "id": "DNrbttPklWGF"
      },
      "source": [
        "การคูณ Matrix ( B.v ) คือการทำ linear transformation"
      ]
    },
    {
      "cell_type": "code",
      "metadata": {
        "id": "wnKudzg-lTtd",
        "colab": {
          "base_uri": "https://localhost:8080/"
        },
        "outputId": "e91ae319-3228-42ab-ec49-bcd157a68dac"
      },
      "source": [
        "Bv = np.dot(B,np.array([ [1] , [1] ]))\r\n",
        "Bv"
      ],
      "execution_count": 19,
      "outputs": [
        {
          "output_type": "execute_result",
          "data": {
            "text/plain": [
              "array([[3],\n",
              "       [7]])"
            ]
          },
          "metadata": {
            "tags": []
          },
          "execution_count": 19
        }
      ]
    },
    {
      "cell_type": "code",
      "metadata": {
        "id": "QWtf1VFZlX8W",
        "colab": {
          "base_uri": "https://localhost:8080/",
          "height": 0
        },
        "outputId": "cb7d6016-e9d7-4243-9193-556b9864d4f5"
      },
      "source": [
        "plt.plot([0,Bv[0,0]],[0,Bv[1,0]],'-g') ## vector Bv\r\n",
        "plt.plot([0,1],[0,1],'-r') #vector\r\n",
        "plt.plot(0,0,'.b') \r\n",
        "plt.plot([0,0],[-1,5],'^:k')\r\n",
        "plt.plot([-1.5,2.5],[0,0],'>:k')"
      ],
      "execution_count": 20,
      "outputs": [
        {
          "output_type": "execute_result",
          "data": {
            "text/plain": [
              "[<matplotlib.lines.Line2D at 0x7fcef2fc45c0>]"
            ]
          },
          "metadata": {
            "tags": []
          },
          "execution_count": 20
        },
        {
          "output_type": "display_data",
          "data": {
            "image/png": "[encoded data removed]",
            "text/plain": [
              "<Figure size 432x288 with 1 Axes>"
            ]
          },
          "metadata": {
            "tags": [],
            "needs_background": "light"
          }
        }
      ]
    },
    {
      "cell_type": "markdown",
      "metadata": {
        "id": "LNdd1Ba8ldZ7"
      },
      "source": [
        "**Determinant ของ Matrix (Det(B)) คือ พื้อที่ของ unit vector ที่ถูกเปลี่ยนไป โดย Matrix นั้นๆ**"
      ]
    },
    {
      "cell_type": "code",
      "metadata": {
        "id": "J9d2mmRzlZye",
        "colab": {
          "base_uri": "https://localhost:8080/",
          "height": 0
        },
        "outputId": "6da2081f-e2e8-471b-e78f-169d84274c21"
      },
      "source": [
        "plt.plot([0,Bv[0,0]],[0,Bv[1,0]],'-g') ## vector Bv\r\n",
        "plt.plot([1,1],[1,0], ':r') ##วาดจุดไข่ปลา พื้นที่ของ v\r\n",
        "plt.plot([1,0],[1,1], ':r') ##วาดจุดไข่ปลา พื้นที่ของ v\r\n",
        "plt.plot([3,3],[7,0], ':g') ##วาดจุดไข่ปลา พื้นที่ของ Bv\r\n",
        "plt.plot([3,0],[7,7], ':g') ##วาดจุดไข่ปลา พื้นที่ของ Bv\r\n",
        "plt.plot([0,1],[0,1],'-r') #vector v ([1,1])\r\n",
        "plt.plot(0,0,'.b') \r\n",
        "plt.plot([0,0],[-1,5],'^:k')\r\n",
        "plt.plot([-1.5,3.5],[0,0],'>:k')"
      ],
      "execution_count": 21,
      "outputs": [
        {
          "output_type": "execute_result",
          "data": {
            "text/plain": [
              "[<matplotlib.lines.Line2D at 0x7fcef2f3cf28>]"
            ]
          },
          "metadata": {
            "tags": []
          },
          "execution_count": 21
        },
        {
          "output_type": "display_data",
          "data": {
            "image/png": "[encoded data removed]",
            "text/plain": [
              "<Figure size 432x288 with 1 Axes>"
            ]
          },
          "metadata": {
            "tags": [],
            "needs_background": "light"
          }
        }
      ]
    },
    {
      "cell_type": "markdown",
      "metadata": {
        "id": "KqrBAL_yliwV"
      },
      "source": [
        "Identity matrix ($I$)\r\n",
        "\r\n",
        "$BI = B=IB$"
      ]
    },
    {
      "cell_type": "code",
      "metadata": {
        "id": "Y-x_p0C7llwL",
        "colab": {
          "base_uri": "https://localhost:8080/"
        },
        "outputId": "a5b6e541-7271-42dd-a73b-373fc56d3ef1"
      },
      "source": [
        "iden2 = np.identity(2)\r\n",
        "B"
      ],
      "execution_count": 22,
      "outputs": [
        {
          "output_type": "execute_result",
          "data": {
            "text/plain": [
              "array([[1, 2],\n",
              "       [3, 4]])"
            ]
          },
          "metadata": {
            "tags": []
          },
          "execution_count": 22
        }
      ]
    },
    {
      "cell_type": "code",
      "metadata": {
        "id": "2sl1ioWWlrk4",
        "colab": {
          "base_uri": "https://localhost:8080/"
        },
        "outputId": "eb7c9fa4-7966-40d7-f5f2-4bc9a1924da1"
      },
      "source": [
        "np.dot(B,iden2)"
      ],
      "execution_count": 23,
      "outputs": [
        {
          "output_type": "execute_result",
          "data": {
            "text/plain": [
              "array([[1., 2.],\n",
              "       [3., 4.]])"
            ]
          },
          "metadata": {
            "tags": []
          },
          "execution_count": 23
        }
      ]
    },
    {
      "cell_type": "code",
      "metadata": {
        "id": "poMB6KIHlv7q",
        "colab": {
          "base_uri": "https://localhost:8080/"
        },
        "outputId": "86e3acd5-b296-4af1-840a-84940ce77c19"
      },
      "source": [
        "np.dot(iden2,B)"
      ],
      "execution_count": 24,
      "outputs": [
        {
          "output_type": "execute_result",
          "data": {
            "text/plain": [
              "array([[1., 2.],\n",
              "       [3., 4.]])"
            ]
          },
          "metadata": {
            "tags": []
          },
          "execution_count": 24
        }
      ]
    },
    {
      "cell_type": "code",
      "metadata": {
        "id": "-1R7zq_Ml2td",
        "colab": {
          "base_uri": "https://localhost:8080/"
        },
        "outputId": "1e93f499-1c0f-4a52-f3e5-b28ae22f94a0"
      },
      "source": [
        "C = np.array([[-1,2],[2,4]])\r\n",
        "C"
      ],
      "execution_count": 25,
      "outputs": [
        {
          "output_type": "execute_result",
          "data": {
            "text/plain": [
              "array([[-1,  2],\n",
              "       [ 2,  4]])"
            ]
          },
          "metadata": {
            "tags": []
          },
          "execution_count": 25
        }
      ]
    },
    {
      "cell_type": "code",
      "metadata": {
        "id": "T1f2xTJJl6RM",
        "colab": {
          "base_uri": "https://localhost:8080/"
        },
        "outputId": "d38f49d8-64a5-4e4b-bcbb-9639f10459b3"
      },
      "source": [
        "np.dot(B,C)"
      ],
      "execution_count": 26,
      "outputs": [
        {
          "output_type": "execute_result",
          "data": {
            "text/plain": [
              "array([[ 3, 10],\n",
              "       [ 5, 22]])"
            ]
          },
          "metadata": {
            "tags": []
          },
          "execution_count": 26
        }
      ]
    },
    {
      "cell_type": "code",
      "metadata": {
        "id": "KSQ5XhmUl8Hz",
        "colab": {
          "base_uri": "https://localhost:8080/"
        },
        "outputId": "d7d861d5-dd8d-4a47-acf0-923a3428c598"
      },
      "source": [
        "np.dot(C,B)"
      ],
      "execution_count": 27,
      "outputs": [
        {
          "output_type": "execute_result",
          "data": {
            "text/plain": [
              "array([[ 5,  6],\n",
              "       [14, 20]])"
            ]
          },
          "metadata": {
            "tags": []
          },
          "execution_count": 27
        }
      ]
    },
    {
      "cell_type": "markdown",
      "metadata": {
        "id": "X13tnxbkl_rY"
      },
      "source": [
        "#**การบ้านในห้อง (Quiz 1 commit quiz1)**"
      ]
    },
    {
      "cell_type": "markdown",
      "metadata": {
        "id": "6PMrvEo9mDGJ"
      },
      "source": [
        "![2021-02-01 (2).png](data:image/png;base64,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)"
      ]
    },
    {
      "cell_type": "code",
      "metadata": {
        "id": "soC-E2Z_l9zt",
        "colab": {
          "base_uri": "https://localhost:8080/"
        },
        "outputId": "8b9e5930-a756-46b4-da03-8dd77b306329"
      },
      "source": [
        "Ex=np.array ([[3,1,6],[7,4,5],[2,-7,1]])\r\n",
        "Ex"
      ],
      "execution_count": 28,
      "outputs": [
        {
          "output_type": "execute_result",
          "data": {
            "text/plain": [
              "array([[ 3,  1,  6],\n",
              "       [ 7,  4,  5],\n",
              "       [ 2, -7,  1]])"
            ]
          },
          "metadata": {
            "tags": []
          },
          "execution_count": 28
        }
      ]
    },
    {
      "cell_type": "code",
      "metadata": {
        "id": "_c3G8REZmHSL",
        "colab": {
          "base_uri": "https://localhost:8080/"
        },
        "outputId": "5d63b0c8-1b9d-4374-f3f8-c91dd2f4975f"
      },
      "source": [
        "np.linalg.det(Ex)"
      ],
      "execution_count": 29,
      "outputs": [
        {
          "output_type": "execute_result",
          "data": {
            "text/plain": [
              "-221.99999999999997"
            ]
          },
          "metadata": {
            "tags": []
          },
          "execution_count": 29
        }
      ]
    },
    {
      "cell_type": "markdown",
      "metadata": {
        "id": "KxX0K9JBmLMF"
      },
      "source": [
        "Eigen value กับ Eigen vector\r\n",
        "\r\n",
        "- Eigen value ($\\lambda$)->$|A-\\lambda I| = 0$ ## $latex$\r\n",
        "- Eigen vector ($x$) -> $Ax=\\lambda x$"
      ]
    },
    {
      "cell_type": "markdown",
      "metadata": {
        "id": "CZUosZKDmQaQ"
      },
      "source": [
        "##**HW5 หา Eigen value กับ Eigen vector**"
      ]
    },
    {
      "cell_type": "markdown",
      "metadata": {
        "id": "VlkKoOMbmTWh"
      },
      "source": [
        "![2021-02-01 (4).png](data:image/png;base64,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)"
      ]
    },
    {
      "cell_type": "code",
      "metadata": {
        "id": "WyiClBWdmNZI",
        "colab": {
          "base_uri": "https://localhost:8080/"
        },
        "outputId": "30556601-bcf2-4bd7-efe2-771f72ee3368"
      },
      "source": [
        "HW5=np.array([[1,0],[1,3]])\r\n",
        "HW5"
      ],
      "execution_count": 30,
      "outputs": [
        {
          "output_type": "execute_result",
          "data": {
            "text/plain": [
              "array([[1, 0],\n",
              "       [1, 3]])"
            ]
          },
          "metadata": {
            "tags": []
          },
          "execution_count": 30
        }
      ]
    },
    {
      "cell_type": "markdown",
      "metadata": {
        "id": "y_TcAB1emc_2"
      },
      "source": [
        "**Eigen vactor**"
      ]
    },
    {
      "cell_type": "code",
      "metadata": {
        "id": "yDdhuDptmXC_",
        "colab": {
          "base_uri": "https://localhost:8080/"
        },
        "outputId": "2a65c135-9db9-4b9d-b2e6-8f653f7f7984"
      },
      "source": [
        "HWv=np.array([[1,0],[1,3]])\r\n",
        "w,v=np.linalg.eig(HWv)\r\n",
        "w;v"
      ],
      "execution_count": 31,
      "outputs": [
        {
          "output_type": "execute_result",
          "data": {
            "text/plain": [
              "array([[ 0.        ,  0.89442719],\n",
              "       [ 1.        , -0.4472136 ]])"
            ]
          },
          "metadata": {
            "tags": []
          },
          "execution_count": 31
        }
      ]
    },
    {
      "cell_type": "markdown",
      "metadata": {
        "id": "YPFCNL3Rmf6_"
      },
      "source": [
        "**Eigen value**"
      ]
    },
    {
      "cell_type": "code",
      "metadata": {
        "id": "XdrkAjPGmZ03",
        "colab": {
          "base_uri": "https://localhost:8080/"
        },
        "outputId": "25e55f90-b8fb-4843-d04b-4a6ff43f4d45"
      },
      "source": [
        "HWx=np.array([[1,0],[1,3]])\r\n",
        "np.linalg.eigvals(HWx)"
      ],
      "execution_count": 32,
      "outputs": [
        {
          "output_type": "execute_result",
          "data": {
            "text/plain": [
              "array([3., 1.])"
            ]
          },
          "metadata": {
            "tags": []
          },
          "execution_count": 32
        }
      ]
    },
    {
      "cell_type": "markdown",
      "metadata": {
        "id": "IDfrrAp1ysFu"
      },
      "source": [
        "##**ใหม่**"
      ]
    },
    {
      "cell_type": "code",
      "metadata": {
        "id": "WRSUCfUmyt-e",
        "outputId": "0e891ea6-515b-4ace-8bf9-04f093971b81",
        "colab": {
          "base_uri": "https://localhost:8080/"
        }
      },
      "source": [
        "X=np.array([[1,2,-3,4],[4,5,-3,2]])\r\n",
        "print(f'data X=\\n {X}')\r\n",
        "C_X = np.cov(X)\r\n",
        "print(C_X)"
      ],
      "execution_count": 33,
      "outputs": [
        {
          "output_type": "stream",
          "text": [
            "data X=\n",
            " [[ 1  2 -3  4]\n",
            " [ 4  5 -3  2]]\n",
            "[[ 8.66666667  7.66666667]\n",
            " [ 7.66666667 12.66666667]]\n"
          ],
          "name": "stdout"
        }
      ]
    },
    {
      "cell_type": "code",
      "metadata": {
        "id": "tMMOrLoiyw6T",
        "outputId": "8b470aba-3a4a-4e79-e1c4-eb0ca29391eb",
        "colab": {
          "base_uri": "https://localhost:8080/"
        }
      },
      "source": [
        "W,V=np.linalg.eig(C_X)\r\n",
        "print(W[1])\r\n",
        "print(V[:,1])"
      ],
      "execution_count": 34,
      "outputs": [
        {
          "output_type": "stream",
          "text": [
            "18.589909549336475\n",
            "[-0.6113829  -0.79133492]\n"
          ],
          "name": "stdout"
        }
      ]
    },
    {
      "cell_type": "code",
      "metadata": {
        "id": "eetweSroyzAU",
        "outputId": "d886ea81-7f6b-4ea8-bd43-a97850ebbd1b",
        "colab": {
          "base_uri": "https://localhost:8080/",
          "height": 282
        }
      },
      "source": [
        "plt.plot(X[0,:],X[1,:], 'or')\r\n",
        "plt.plot([0,3*V[0,1]],[0,3*V[1,1]],'<-b')"
      ],
      "execution_count": 35,
      "outputs": [
        {
          "output_type": "execute_result",
          "data": {
            "text/plain": [
              "[<matplotlib.lines.Line2D at 0x7fcef2f0d6a0>]"
            ]
          },
          "metadata": {
            "tags": []
          },
          "execution_count": 35
        },
        {
          "output_type": "display_data",
          "data": {
            "image/png": "[encoded data removed]",
            "text/plain": [
              "<Figure size 432x288 with 1 Axes>"
            ]
          },
          "metadata": {
            "tags": [],
            "needs_background": "light"
          }
        }
      ]
    },
    {
      "cell_type": "markdown",
      "metadata": {
        "id": "bZpntfeqy6uc"
      },
      "source": [
        "##**Inverse Matrix**\r\n",
        "inverse ของ $A$ เขียน $A^-1$ นิยม $A*A^-1=I= A^-1*A$"
      ]
    },
    {
      "cell_type": "code",
      "metadata": {
        "id": "B6ic00Fgy1ap",
        "outputId": "7d7d5227-5633-4f5e-cdab-6da0638f69f1",
        "colab": {
          "base_uri": "https://localhost:8080/"
        }
      },
      "source": [
        "C_X"
      ],
      "execution_count": 36,
      "outputs": [
        {
          "output_type": "execute_result",
          "data": {
            "text/plain": [
              "array([[ 8.66666667,  7.66666667],\n",
              "       [ 7.66666667, 12.66666667]])"
            ]
          },
          "metadata": {
            "tags": []
          },
          "execution_count": 36
        }
      ]
    },
    {
      "cell_type": "code",
      "metadata": {
        "id": "dyivmQmpy_dT",
        "outputId": "72a1d326-960a-4105-e060-5fffe78f543d",
        "colab": {
          "base_uri": "https://localhost:8080/"
        }
      },
      "source": [
        "inv_C_X = np.linalg.inv(C_X)\r\n",
        "print(inv_C_X)\r\n"
      ],
      "execution_count": 37,
      "outputs": [
        {
          "output_type": "stream",
          "text": [
            "[[ 0.24836601 -0.1503268 ]\n",
            " [-0.1503268   0.16993464]]\n"
          ],
          "name": "stdout"
        }
      ]
    },
    {
      "cell_type": "markdown",
      "metadata": {
        "id": "5OHZv3cxzEPd"
      },
      "source": [
        "**ตรวจสอบ**"
      ]
    },
    {
      "cell_type": "code",
      "metadata": {
        "id": "0iDkCZZtzCmm",
        "outputId": "8160c33e-654f-4b2d-c886-af89cce9e313",
        "colab": {
          "base_uri": "https://localhost:8080/"
        }
      },
      "source": [
        "np.dot(C_X , inv_C_X)"
      ],
      "execution_count": 38,
      "outputs": [
        {
          "output_type": "execute_result",
          "data": {
            "text/plain": [
              "array([[1.00000000e+00, 2.23193529e-16],\n",
              "       [1.26018779e-16, 1.00000000e+00]])"
            ]
          },
          "metadata": {
            "tags": []
          },
          "execution_count": 38
        }
      ]
    },
    {
      "cell_type": "code",
      "metadata": {
        "id": "kymKeP6MzIQf",
        "outputId": "0b017a98-0e04-4d90-f9a1-d32c0c942f46",
        "colab": {
          "base_uri": "https://localhost:8080/"
        }
      },
      "source": [
        "np.dot(inv_C_X,C_X)"
      ],
      "execution_count": 39,
      "outputs": [
        {
          "output_type": "execute_result",
          "data": {
            "text/plain": [
              "array([[1.00000000e+00, 1.26018779e-16],\n",
              "       [2.23193529e-16, 1.00000000e+00]])"
            ]
          },
          "metadata": {
            "tags": []
          },
          "execution_count": 39
        }
      ]
    },
    {
      "cell_type": "code",
      "metadata": {
        "id": "-N5wUaJszJk1",
        "outputId": "e3868ee2-67c7-4102-cd71-4f967e412048",
        "colab": {
          "base_uri": "https://localhost:8080/"
        }
      },
      "source": [
        "np.linalg.inv(inv_C_X)"
      ],
      "execution_count": 40,
      "outputs": [
        {
          "output_type": "execute_result",
          "data": {
            "text/plain": [
              "array([[ 8.66666667,  7.66666667],\n",
              "       [ 7.66666667, 12.66666667]])"
            ]
          },
          "metadata": {
            "tags": []
          },
          "execution_count": 40
        }
      ]
    },
    {
      "cell_type": "markdown",
      "metadata": {
        "id": "4g3455rXzP_R"
      },
      "source": [
        "\r\n",
        "##**การ load data**"
      ]
    },
    {
      "cell_type": "code",
      "metadata": {
        "id": "9IpAXfvSzK4U"
      },
      "source": [
        "import pandas as pd"
      ],
      "execution_count": 41,
      "outputs": []
    },
    {
      "cell_type": "code",
      "metadata": {
        "id": "KW4Am8m5zTgK",
        "outputId": "5ff0c6ea-88aa-4304-9eec-c42ddfee8f31",
        "colab": {
          "base_uri": "https://localhost:8080/",
          "height": 1000
        }
      },
      "source": [
        "pollution_data =  pd.read_csv('/content/pollution.txt',sep='\\t+') # \\t+ คือใช้ tab แบ่งข้อมูล\r\n",
        "pollution_data"
      ],
      "execution_count": 42,
      "outputs": [
        {
          "output_type": "stream",
          "text": [
            "/usr/local/lib/python3.6/dist-packages/ipykernel_launcher.py:1: ParserWarning: Falling back to the 'python' engine because the 'c' engine does not support regex separators (separators > 1 char and different from '\\s+' are interpreted as regex); you can avoid this warning by specifying engine='python'.\n",
            "  \"\"\"Entry point for launching an IPython kernel.\n"
          ],
          "name": "stderr"
        },
        {
          "output_type": "execute_result",
          "data": {
            "text/html": [
              "<div>\n",
              "<style scoped>\n",
              "    .dataframe tbody tr th:only-of-type {\n",
              "        vertical-align: middle;\n",
              "    }\n",
              "\n",
              "    .dataframe tbody tr th {\n",
              "        vertical-align: top;\n",
              "    }\n",
              "\n",
              "    .dataframe thead th {\n",
              "        text-align: right;\n",
              "    }\n",
              "</style>\n",
              "<table border=\"1\" class=\"dataframe\">\n",
              "  <thead>\n",
              "    <tr style=\"text-align: right;\">\n",
              "      <th></th>\n",
              "      <th>City</th>\n",
              "      <th>SO2</th>\n",
              "      <th>Temp</th>\n",
              "      <th>Man</th>\n",
              "      <th>Pop</th>\n",
              "      <th>Wind</th>\n",
              "      <th>Rain</th>\n",
              "      <th>RainDays</th>\n",
              "    </tr>\n",
              "  </thead>\n",
              "  <tbody>\n",
              "    <tr>\n",
              "      <th>0</th>\n",
              "      <td>Phoenix</td>\n",
              "      <td>10</td>\n",
              "      <td>70.3</td>\n",
              "      <td>213</td>\n",
              "      <td>582</td>\n",
              "      <td>6.0</td>\n",
              "      <td>7.05</td>\n",
              "      <td>36</td>\n",
              "    </tr>\n",
              "    <tr>\n",
              "      <th>1</th>\n",
              "      <td>Little Rock</td>\n",
              "      <td>13</td>\n",
              "      <td>61.0</td>\n",
              "      <td>91</td>\n",
              "      <td>132</td>\n",
              "      <td>8.2</td>\n",
              "      <td>48.52</td>\n",
              "      <td>100</td>\n",
              "    </tr>\n",
              "    <tr>\n",
              "      <th>2</th>\n",
              "      <td>San Francisco</td>\n",
              "      <td>12</td>\n",
              "      <td>56.7</td>\n",
              "      <td>453</td>\n",
              "      <td>716</td>\n",
              "      <td>8.7</td>\n",
              "      <td>20.66</td>\n",
              "      <td>67</td>\n",
              "    </tr>\n",
              "    <tr>\n",
              "      <th>3</th>\n",
              "      <td>Denver</td>\n",
              "      <td>17</td>\n",
              "      <td>51.9</td>\n",
              "      <td>454</td>\n",
              "      <td>515</td>\n",
              "      <td>9.0</td>\n",
              "      <td>12.95</td>\n",
              "      <td>86</td>\n",
              "    </tr>\n",
              "    <tr>\n",
              "      <th>4</th>\n",
              "      <td>Hartford</td>\n",
              "      <td>56</td>\n",
              "      <td>49.1</td>\n",
              "      <td>412</td>\n",
              "      <td>158</td>\n",
              "      <td>9.0</td>\n",
              "      <td>43.37</td>\n",
              "      <td>127</td>\n",
              "    </tr>\n",
              "    <tr>\n",
              "      <th>5</th>\n",
              "      <td>Wilmington</td>\n",
              "      <td>36</td>\n",
              "      <td>54.0</td>\n",
              "      <td>80</td>\n",
              "      <td>80</td>\n",
              "      <td>9.0</td>\n",
              "      <td>40.25</td>\n",
              "      <td>114</td>\n",
              "    </tr>\n",
              "    <tr>\n",
              "      <th>6</th>\n",
              "      <td>Washington</td>\n",
              "      <td>29</td>\n",
              "      <td>57.3</td>\n",
              "      <td>434</td>\n",
              "      <td>757</td>\n",
              "      <td>9.3</td>\n",
              "      <td>38.89</td>\n",
              "      <td>111</td>\n",
              "    </tr>\n",
              "    <tr>\n",
              "      <th>7</th>\n",
              "      <td>Jacksonville</td>\n",
              "      <td>14</td>\n",
              "      <td>68.4</td>\n",
              "      <td>136</td>\n",
              "      <td>529</td>\n",
              "      <td>8.8</td>\n",
              "      <td>54.47</td>\n",
              "      <td>116</td>\n",
              "    </tr>\n",
              "    <tr>\n",
              "      <th>8</th>\n",
              "      <td>Miami</td>\n",
              "      <td>10</td>\n",
              "      <td>75.5</td>\n",
              "      <td>207</td>\n",
              "      <td>335</td>\n",
              "      <td>9.0</td>\n",
              "      <td>59.80</td>\n",
              "      <td>128</td>\n",
              "    </tr>\n",
              "    <tr>\n",
              "      <th>9</th>\n",
              "      <td>Atlanta</td>\n",
              "      <td>24</td>\n",
              "      <td>61.5</td>\n",
              "      <td>368</td>\n",
              "      <td>497</td>\n",
              "      <td>9.1</td>\n",
              "      <td>48.34</td>\n",
              "      <td>115</td>\n",
              "    </tr>\n",
              "    <tr>\n",
              "      <th>10</th>\n",
              "      <td>Chicago</td>\n",
              "      <td>110</td>\n",
              "      <td>50.6</td>\n",
              "      <td>3344</td>\n",
              "      <td>3369</td>\n",
              "      <td>10.4</td>\n",
              "      <td>34.44</td>\n",
              "      <td>122</td>\n",
              "    </tr>\n",
              "    <tr>\n",
              "      <th>11</th>\n",
              "      <td>Indianapolis</td>\n",
              "      <td>28</td>\n",
              "      <td>52.3</td>\n",
              "      <td>361</td>\n",
              "      <td>746</td>\n",
              "      <td>9.7</td>\n",
              "      <td>38.74</td>\n",
              "      <td>121</td>\n",
              "    </tr>\n",
              "    <tr>\n",
              "      <th>12</th>\n",
              "      <td>Des Moines</td>\n",
              "      <td>17</td>\n",
              "      <td>49.0</td>\n",
              "      <td>104</td>\n",
              "      <td>201</td>\n",
              "      <td>11.2</td>\n",
              "      <td>30.85</td>\n",
              "      <td>103</td>\n",
              "    </tr>\n",
              "    <tr>\n",
              "      <th>13</th>\n",
              "      <td>Wichita</td>\n",
              "      <td>8</td>\n",
              "      <td>56.6</td>\n",
              "      <td>125</td>\n",
              "      <td>277</td>\n",
              "      <td>12.7</td>\n",
              "      <td>30.58</td>\n",
              "      <td>82</td>\n",
              "    </tr>\n",
              "    <tr>\n",
              "      <th>14</th>\n",
              "      <td>Louisville</td>\n",
              "      <td>30</td>\n",
              "      <td>55.6</td>\n",
              "      <td>291</td>\n",
              "      <td>593</td>\n",
              "      <td>8.3</td>\n",
              "      <td>43.11</td>\n",
              "      <td>123</td>\n",
              "    </tr>\n",
              "    <tr>\n",
              "      <th>15</th>\n",
              "      <td>New Orleans</td>\n",
              "      <td>9</td>\n",
              "      <td>68.3</td>\n",
              "      <td>204</td>\n",
              "      <td>361</td>\n",
              "      <td>8.4</td>\n",
              "      <td>56.77</td>\n",
              "      <td>113</td>\n",
              "    </tr>\n",
              "    <tr>\n",
              "      <th>16</th>\n",
              "      <td>Baltimore</td>\n",
              "      <td>47</td>\n",
              "      <td>55.0</td>\n",
              "      <td>625</td>\n",
              "      <td>905</td>\n",
              "      <td>9.6</td>\n",
              "      <td>41.31</td>\n",
              "      <td>111</td>\n",
              "    </tr>\n",
              "    <tr>\n",
              "      <th>17</th>\n",
              "      <td>Detroit</td>\n",
              "      <td>35</td>\n",
              "      <td>49.9</td>\n",
              "      <td>1064</td>\n",
              "      <td>1513</td>\n",
              "      <td>10.1</td>\n",
              "      <td>30.96</td>\n",
              "      <td>129</td>\n",
              "    </tr>\n",
              "    <tr>\n",
              "      <th>18</th>\n",
              "      <td>Minn-St. Paul</td>\n",
              "      <td>29</td>\n",
              "      <td>43.5</td>\n",
              "      <td>699</td>\n",
              "      <td>744</td>\n",
              "      <td>10.6</td>\n",
              "      <td>25.94</td>\n",
              "      <td>137</td>\n",
              "    </tr>\n",
              "    <tr>\n",
              "      <th>19</th>\n",
              "      <td>Kansas City</td>\n",
              "      <td>14</td>\n",
              "      <td>54.5</td>\n",
              "      <td>381</td>\n",
              "      <td>507</td>\n",
              "      <td>10.0</td>\n",
              "      <td>37.00</td>\n",
              "      <td>99</td>\n",
              "    </tr>\n",
              "    <tr>\n",
              "      <th>20</th>\n",
              "      <td>St. Louis</td>\n",
              "      <td>56</td>\n",
              "      <td>55.9</td>\n",
              "      <td>775</td>\n",
              "      <td>622</td>\n",
              "      <td>9.5</td>\n",
              "      <td>35.89</td>\n",
              "      <td>105</td>\n",
              "    </tr>\n",
              "    <tr>\n",
              "      <th>21</th>\n",
              "      <td>Omaha</td>\n",
              "      <td>14</td>\n",
              "      <td>51.5</td>\n",
              "      <td>181</td>\n",
              "      <td>347</td>\n",
              "      <td>10.9</td>\n",
              "      <td>30.18</td>\n",
              "      <td>98</td>\n",
              "    </tr>\n",
              "    <tr>\n",
              "      <th>22</th>\n",
              "      <td>Albuquerque</td>\n",
              "      <td>11</td>\n",
              "      <td>56.8</td>\n",
              "      <td>46</td>\n",
              "      <td>244</td>\n",
              "      <td>8.9</td>\n",
              "      <td>7.77</td>\n",
              "      <td>58</td>\n",
              "    </tr>\n",
              "    <tr>\n",
              "      <th>23</th>\n",
              "      <td>Albany</td>\n",
              "      <td>46</td>\n",
              "      <td>47.6</td>\n",
              "      <td>44</td>\n",
              "      <td>116</td>\n",
              "      <td>8.8</td>\n",
              "      <td>33.36</td>\n",
              "      <td>135</td>\n",
              "    </tr>\n",
              "    <tr>\n",
              "      <th>24</th>\n",
              "      <td>Buffalo</td>\n",
              "      <td>11</td>\n",
              "      <td>47.1</td>\n",
              "      <td>391</td>\n",
              "      <td>463</td>\n",
              "      <td>12.4</td>\n",
              "      <td>36.11</td>\n",
              "      <td>166</td>\n",
              "    </tr>\n",
              "    <tr>\n",
              "      <th>25</th>\n",
              "      <td>Cincinnati</td>\n",
              "      <td>23</td>\n",
              "      <td>54.0</td>\n",
              "      <td>462</td>\n",
              "      <td>453</td>\n",
              "      <td>7.1</td>\n",
              "      <td>39.04</td>\n",
              "      <td>132</td>\n",
              "    </tr>\n",
              "    <tr>\n",
              "      <th>26</th>\n",
              "      <td>Cleveland</td>\n",
              "      <td>65</td>\n",
              "      <td>49.7</td>\n",
              "      <td>1007</td>\n",
              "      <td>751</td>\n",
              "      <td>10.9</td>\n",
              "      <td>34.99</td>\n",
              "      <td>155</td>\n",
              "    </tr>\n",
              "    <tr>\n",
              "      <th>27</th>\n",
              "      <td>Columbus</td>\n",
              "      <td>26</td>\n",
              "      <td>51.5</td>\n",
              "      <td>266</td>\n",
              "      <td>540</td>\n",
              "      <td>8.6</td>\n",
              "      <td>37.01</td>\n",
              "      <td>134</td>\n",
              "    </tr>\n",
              "    <tr>\n",
              "      <th>28</th>\n",
              "      <td>Philadelphia</td>\n",
              "      <td>69</td>\n",
              "      <td>54.6</td>\n",
              "      <td>1692</td>\n",
              "      <td>1950</td>\n",
              "      <td>9.6</td>\n",
              "      <td>39.93</td>\n",
              "      <td>115</td>\n",
              "    </tr>\n",
              "    <tr>\n",
              "      <th>29</th>\n",
              "      <td>Pittsburgh</td>\n",
              "      <td>61</td>\n",
              "      <td>50.4</td>\n",
              "      <td>347</td>\n",
              "      <td>520</td>\n",
              "      <td>9.4</td>\n",
              "      <td>36.22</td>\n",
              "      <td>147</td>\n",
              "    </tr>\n",
              "    <tr>\n",
              "      <th>30</th>\n",
              "      <td>Providence</td>\n",
              "      <td>94</td>\n",
              "      <td>50.0</td>\n",
              "      <td>343</td>\n",
              "      <td>179</td>\n",
              "      <td>10.6</td>\n",
              "      <td>42.75</td>\n",
              "      <td>125</td>\n",
              "    </tr>\n",
              "    <tr>\n",
              "      <th>31</th>\n",
              "      <td>Memphis</td>\n",
              "      <td>10</td>\n",
              "      <td>61.6</td>\n",
              "      <td>337</td>\n",
              "      <td>624</td>\n",
              "      <td>9.2</td>\n",
              "      <td>49.10</td>\n",
              "      <td>105</td>\n",
              "    </tr>\n",
              "    <tr>\n",
              "      <th>32</th>\n",
              "      <td>Nashville</td>\n",
              "      <td>18</td>\n",
              "      <td>59.4</td>\n",
              "      <td>275</td>\n",
              "      <td>448</td>\n",
              "      <td>7.9</td>\n",
              "      <td>46.00</td>\n",
              "      <td>119</td>\n",
              "    </tr>\n",
              "    <tr>\n",
              "      <th>33</th>\n",
              "      <td>Dallas</td>\n",
              "      <td>9</td>\n",
              "      <td>66.2</td>\n",
              "      <td>641</td>\n",
              "      <td>844</td>\n",
              "      <td>10.9</td>\n",
              "      <td>35.94</td>\n",
              "      <td>78</td>\n",
              "    </tr>\n",
              "    <tr>\n",
              "      <th>34</th>\n",
              "      <td>Houston</td>\n",
              "      <td>10</td>\n",
              "      <td>68.9</td>\n",
              "      <td>721</td>\n",
              "      <td>1233</td>\n",
              "      <td>10.8</td>\n",
              "      <td>48.19</td>\n",
              "      <td>103</td>\n",
              "    </tr>\n",
              "    <tr>\n",
              "      <th>35</th>\n",
              "      <td>Salt Lake City</td>\n",
              "      <td>28</td>\n",
              "      <td>51.0</td>\n",
              "      <td>137</td>\n",
              "      <td>176</td>\n",
              "      <td>8.7</td>\n",
              "      <td>15.17</td>\n",
              "      <td>89</td>\n",
              "    </tr>\n",
              "    <tr>\n",
              "      <th>36</th>\n",
              "      <td>Norfolk</td>\n",
              "      <td>31</td>\n",
              "      <td>59.3</td>\n",
              "      <td>96</td>\n",
              "      <td>308</td>\n",
              "      <td>10.6</td>\n",
              "      <td>44.68</td>\n",
              "      <td>116</td>\n",
              "    </tr>\n",
              "    <tr>\n",
              "      <th>37</th>\n",
              "      <td>Richmond</td>\n",
              "      <td>26</td>\n",
              "      <td>57.8</td>\n",
              "      <td>197</td>\n",
              "      <td>299</td>\n",
              "      <td>7.6</td>\n",
              "      <td>42.59</td>\n",
              "      <td>115</td>\n",
              "    </tr>\n",
              "    <tr>\n",
              "      <th>38</th>\n",
              "      <td>Seattle</td>\n",
              "      <td>29</td>\n",
              "      <td>51.1</td>\n",
              "      <td>379</td>\n",
              "      <td>531</td>\n",
              "      <td>9.4</td>\n",
              "      <td>38.79</td>\n",
              "      <td>164</td>\n",
              "    </tr>\n",
              "    <tr>\n",
              "      <th>39</th>\n",
              "      <td>Charleston</td>\n",
              "      <td>31</td>\n",
              "      <td>55.2</td>\n",
              "      <td>35</td>\n",
              "      <td>71</td>\n",
              "      <td>6.5</td>\n",
              "      <td>40.75</td>\n",
              "      <td>148</td>\n",
              "    </tr>\n",
              "    <tr>\n",
              "      <th>40</th>\n",
              "      <td>Milwaukee</td>\n",
              "      <td>16</td>\n",
              "      <td>45.7</td>\n",
              "      <td>569</td>\n",
              "      <td>717</td>\n",
              "      <td>11.8</td>\n",
              "      <td>29.07</td>\n",
              "      <td>123</td>\n",
              "    </tr>\n",
              "  </tbody>\n",
              "</table>\n",
              "</div>"
            ],
            "text/plain": [
              "              City  SO2  Temp   Man   Pop  Wind   Rain  RainDays\n",
              "0          Phoenix   10  70.3   213   582   6.0   7.05        36\n",
              "1      Little Rock   13  61.0    91   132   8.2  48.52       100\n",
              "2    San Francisco   12  56.7   453   716   8.7  20.66        67\n",
              "3           Denver   17  51.9   454   515   9.0  12.95        86\n",
              "4         Hartford   56  49.1   412   158   9.0  43.37       127\n",
              "5       Wilmington   36  54.0    80    80   9.0  40.25       114\n",
              "6       Washington   29  57.3   434   757   9.3  38.89       111\n",
              "7     Jacksonville   14  68.4   136   529   8.8  54.47       116\n",
              "8            Miami   10  75.5   207   335   9.0  59.80       128\n",
              "9          Atlanta   24  61.5   368   497   9.1  48.34       115\n",
              "10         Chicago  110  50.6  3344  3369  10.4  34.44       122\n",
              "11    Indianapolis   28  52.3   361   746   9.7  38.74       121\n",
              "12      Des Moines   17  49.0   104   201  11.2  30.85       103\n",
              "13         Wichita    8  56.6   125   277  12.7  30.58        82\n",
              "14      Louisville   30  55.6   291   593   8.3  43.11       123\n",
              "15     New Orleans    9  68.3   204   361   8.4  56.77       113\n",
              "16       Baltimore   47  55.0   625   905   9.6  41.31       111\n",
              "17         Detroit   35  49.9  1064  1513  10.1  30.96       129\n",
              "18   Minn-St. Paul   29  43.5   699   744  10.6  25.94       137\n",
              "19     Kansas City   14  54.5   381   507  10.0  37.00        99\n",
              "20       St. Louis   56  55.9   775   622   9.5  35.89       105\n",
              "21           Omaha   14  51.5   181   347  10.9  30.18        98\n",
              "22     Albuquerque   11  56.8    46   244   8.9   7.77        58\n",
              "23          Albany   46  47.6    44   116   8.8  33.36       135\n",
              "24         Buffalo   11  47.1   391   463  12.4  36.11       166\n",
              "25      Cincinnati   23  54.0   462   453   7.1  39.04       132\n",
              "26       Cleveland   65  49.7  1007   751  10.9  34.99       155\n",
              "27        Columbus   26  51.5   266   540   8.6  37.01       134\n",
              "28    Philadelphia   69  54.6  1692  1950   9.6  39.93       115\n",
              "29      Pittsburgh   61  50.4   347   520   9.4  36.22       147\n",
              "30      Providence   94  50.0   343   179  10.6  42.75       125\n",
              "31         Memphis   10  61.6   337   624   9.2  49.10       105\n",
              "32       Nashville   18  59.4   275   448   7.9  46.00       119\n",
              "33          Dallas    9  66.2   641   844  10.9  35.94        78\n",
              "34         Houston   10  68.9   721  1233  10.8  48.19       103\n",
              "35  Salt Lake City   28  51.0   137   176   8.7  15.17        89\n",
              "36         Norfolk   31  59.3    96   308  10.6  44.68       116\n",
              "37        Richmond   26  57.8   197   299   7.6  42.59       115\n",
              "38         Seattle   29  51.1   379   531   9.4  38.79       164\n",
              "39      Charleston   31  55.2    35    71   6.5  40.75       148\n",
              "40       Milwaukee   16  45.7   569   717  11.8  29.07       123"
            ]
          },
          "metadata": {
            "tags": []
          },
          "execution_count": 42
        }
      ]
    }
  ]
}